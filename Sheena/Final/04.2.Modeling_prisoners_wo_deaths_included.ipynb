{
 "cells": [
  {
   "cell_type": "markdown",
   "metadata": {
    "toc": true
   },
   "source": [
    "<h1>Table of Contents<span class=\"tocSkip\"></span></h1>\n",
    "<div class=\"toc\"><ul class=\"toc-item\"><li><span><a href=\"#Imports-&amp;-Load-Data\" data-toc-modified-id=\"Imports-&amp;-Load-Data-1\"><span class=\"toc-item-num\">1&nbsp;&nbsp;</span>Imports &amp; Load Data</a></span></li><li><span><a href=\"#Data-Cleaning\" data-toc-modified-id=\"Data-Cleaning-2\"><span class=\"toc-item-num\">2&nbsp;&nbsp;</span>Data Cleaning</a></span></li><li><span><a href=\"#Feature-Engineering\" data-toc-modified-id=\"Feature-Engineering-3\"><span class=\"toc-item-num\">3&nbsp;&nbsp;</span>Feature Engineering</a></span></li><li><span><a href=\"#Set-X,-y\" data-toc-modified-id=\"Set-X,-y-4\"><span class=\"toc-item-num\">4&nbsp;&nbsp;</span>Set X, y</a></span></li><li><span><a href=\"#Scale-Features-before-Modeling\" data-toc-modified-id=\"Scale-Features-before-Modeling-5\"><span class=\"toc-item-num\">5&nbsp;&nbsp;</span>Scale Features before Modeling</a></span></li><li><span><a href=\"#Models,-models,-models...\" data-toc-modified-id=\"Models,-models,-models...-6\"><span class=\"toc-item-num\">6&nbsp;&nbsp;</span>Models, models, models...</a></span><ul class=\"toc-item\"><li><span><a href=\"#Linear-Regression\" data-toc-modified-id=\"Linear-Regression-6.1\"><span class=\"toc-item-num\">6.1&nbsp;&nbsp;</span>Linear Regression</a></span><ul class=\"toc-item\"><li><span><a href=\"#Summary-of-Linear-Regression-Model:\" data-toc-modified-id=\"Summary-of-Linear-Regression-Model:-6.1.1\"><span class=\"toc-item-num\">6.1.1&nbsp;&nbsp;</span>Summary of Linear Regression Model:</a></span></li></ul></li><li><span><a href=\"#Lasso\" data-toc-modified-id=\"Lasso-6.2\"><span class=\"toc-item-num\">6.2&nbsp;&nbsp;</span>Lasso</a></span><ul class=\"toc-item\"><li><span><a href=\"#Summary-of-Lasso-Model:\" data-toc-modified-id=\"Summary-of-Lasso-Model:-6.2.1\"><span class=\"toc-item-num\">6.2.1&nbsp;&nbsp;</span>Summary of Lasso Model:</a></span></li></ul></li><li><span><a href=\"#Ridge\" data-toc-modified-id=\"Ridge-6.3\"><span class=\"toc-item-num\">6.3&nbsp;&nbsp;</span>Ridge</a></span><ul class=\"toc-item\"><li><span><a href=\"#Summary-of-Ridge-Model:\" data-toc-modified-id=\"Summary-of-Ridge-Model:-6.3.1\"><span class=\"toc-item-num\">6.3.1&nbsp;&nbsp;</span>Summary of Ridge Model:</a></span></li></ul></li><li><span><a href=\"#Random-Forrest\" data-toc-modified-id=\"Random-Forrest-6.4\"><span class=\"toc-item-num\">6.4&nbsp;&nbsp;</span>Random Forrest</a></span><ul class=\"toc-item\"><li><span><a href=\"#Summary-of-Random-Forest:\" data-toc-modified-id=\"Summary-of-Random-Forest:-6.4.1\"><span class=\"toc-item-num\">6.4.1&nbsp;&nbsp;</span>Summary of Random Forest:</a></span></li><li><span><a href=\"#RF-Gridsearch\" data-toc-modified-id=\"RF-Gridsearch-6.4.2\"><span class=\"toc-item-num\">6.4.2&nbsp;&nbsp;</span>RF Gridsearch</a></span></li><li><span><a href=\"#Summary-of-RF-Gridsearch-Model:\" data-toc-modified-id=\"Summary-of-RF-Gridsearch-Model:-6.4.3\"><span class=\"toc-item-num\">6.4.3&nbsp;&nbsp;</span>Summary of RF Gridsearch Model:</a></span></li></ul></li><li><span><a href=\"#Bagged-Decision-Trees\" data-toc-modified-id=\"Bagged-Decision-Trees-6.5\"><span class=\"toc-item-num\">6.5&nbsp;&nbsp;</span>Bagged Decision Trees</a></span><ul class=\"toc-item\"><li><span><a href=\"#Summary-of-Bagged-Decision-Tree-Model:\" data-toc-modified-id=\"Summary-of-Bagged-Decision-Tree-Model:-6.5.1\"><span class=\"toc-item-num\">6.5.1&nbsp;&nbsp;</span>Summary of Bagged Decision Tree Model:</a></span></li></ul></li><li><span><a href=\"#KNN-Gridsearch\" data-toc-modified-id=\"KNN-Gridsearch-6.6\"><span class=\"toc-item-num\">6.6&nbsp;&nbsp;</span>KNN Gridsearch</a></span><ul class=\"toc-item\"><li><span><a href=\"#Summary-of-KNN-Model:\" data-toc-modified-id=\"Summary-of-KNN-Model:-6.6.1\"><span class=\"toc-item-num\">6.6.1&nbsp;&nbsp;</span>Summary of KNN Model:</a></span></li></ul></li><li><span><a href=\"#Regularized-Neural-Nets\" data-toc-modified-id=\"Regularized-Neural-Nets-6.7\"><span class=\"toc-item-num\">6.7&nbsp;&nbsp;</span>Regularized Neural Nets</a></span><ul class=\"toc-item\"><li><span><a href=\"#Summary-of-Neural-Net-Model:\" data-toc-modified-id=\"Summary-of-Neural-Net-Model:-6.7.1\"><span class=\"toc-item-num\">6.7.1&nbsp;&nbsp;</span>Summary of Neural Net Model:</a></span></li></ul></li></ul></li><li><span><a href=\"#Summary-of-Models\" data-toc-modified-id=\"Summary-of-Models-7\"><span class=\"toc-item-num\">7&nbsp;&nbsp;</span>Summary of Models</a></span><ul class=\"toc-item\"><li><span><a href=\"#COVID-Prisoner-Cases-with-deaths-included:\" data-toc-modified-id=\"COVID-Prisoner-Cases-with-deaths-included:-7.1\"><span class=\"toc-item-num\">7.1&nbsp;&nbsp;</span>COVID Prisoner Cases with deaths included:</a></span></li></ul></li></ul></div>"
   ]
  },
  {
   "cell_type": "markdown",
   "metadata": {},
   "source": [
    "## Imports & Load Data"
   ]
  },
  {
   "cell_type": "code",
   "execution_count": 1,
   "metadata": {},
   "outputs": [],
   "source": [
    "import pandas as pd\n",
    "import numpy as np\n",
    "import matplotlib.pyplot as plt\n",
    "import seaborn as sns\n",
    "%matplotlib inline\n",
    "\n",
    "#Scaling Features \n",
    "from sklearn.preprocessing import StandardScaler\n",
    "\n",
    "\n",
    "#Imports for modeling Linear Regression, Lasso, Ridge, KNN, GridSearch\n",
    "\n",
    "from sklearn.linear_model import LinearRegression\n",
    "from sklearn import metrics\n",
    "from sklearn.model_selection import cross_val_score, GridSearchCV\n",
    "from sklearn.linear_model import Ridge, RidgeCV\n",
    "from sklearn.linear_model import Lasso, LassoCV\n",
    "from sklearn.neighbors import KNeighborsRegressor\n",
    "from sklearn.ensemble import RandomForestRegressor\n",
    "from sklearn.ensemble import BaggingRegressor\n",
    "\n",
    "\n",
    "#Tensor Flow for Neural Nets \n",
    "\n",
    "from tensorflow.keras.models import Sequential\n",
    "from tensorflow.keras.layers import Dense\n",
    "from tensorflow.keras.utils import to_categorical\n",
    "from keras.wrappers.scikit_learn import KerasRegressor\n",
    "from sklearn.datasets import make_classification, make_regression\n",
    "from tensorflow.keras.regularizers import l2\n",
    "from tensorflow.keras.callbacks import EarlyStopping\n",
    "from tensorflow.keras.optimizers import Adam, SGD"
   ]
  },
  {
   "cell_type": "code",
   "execution_count": 2,
   "metadata": {},
   "outputs": [],
   "source": [
    "df = pd.read_csv('./data/data_clean_complete_updated.csv')"
   ]
  },
  {
   "cell_type": "markdown",
   "metadata": {},
   "source": [
    "## Data Cleaning"
   ]
  },
  {
   "cell_type": "code",
   "execution_count": 3,
   "metadata": {},
   "outputs": [
    {
     "data": {
      "text/html": [
       "<div>\n",
       "<style scoped>\n",
       "    .dataframe tbody tr th:only-of-type {\n",
       "        vertical-align: middle;\n",
       "    }\n",
       "\n",
       "    .dataframe tbody tr th {\n",
       "        vertical-align: top;\n",
       "    }\n",
       "\n",
       "    .dataframe thead th {\n",
       "        text-align: right;\n",
       "    }\n",
       "</style>\n",
       "<table border=\"1\" class=\"dataframe\">\n",
       "  <thead>\n",
       "    <tr style=\"text-align: right;\">\n",
       "      <th></th>\n",
       "      <th>name</th>\n",
       "      <th>state</th>\n",
       "      <th>staff_tests</th>\n",
       "      <th>total_staff_cases</th>\n",
       "      <th>staff_recovered</th>\n",
       "      <th>total_staff_deaths</th>\n",
       "      <th>prisoner_tests</th>\n",
       "      <th>total_prisoner_cases</th>\n",
       "      <th>prisoners_recovered</th>\n",
       "      <th>total_prisoner_deaths</th>\n",
       "      <th>...</th>\n",
       "      <th>Inmates participating in one or more work programs</th>\n",
       "      <th>Prison industries</th>\n",
       "      <th>Support services</th>\n",
       "      <th>Farming</th>\n",
       "      <th>Public works</th>\n",
       "      <th>Other work programs</th>\n",
       "      <th>No work programs</th>\n",
       "      <th>phone_rate_avg</th>\n",
       "      <th>Latitude</th>\n",
       "      <th>Longitude</th>\n",
       "    </tr>\n",
       "  </thead>\n",
       "  <tbody>\n",
       "    <tr>\n",
       "      <th>0</th>\n",
       "      <td>Alabama</td>\n",
       "      <td>AL</td>\n",
       "      <td>0.0</td>\n",
       "      <td>11.0</td>\n",
       "      <td>0.0</td>\n",
       "      <td>0.0</td>\n",
       "      <td>61.0</td>\n",
       "      <td>4.0</td>\n",
       "      <td>0.0</td>\n",
       "      <td>1.0</td>\n",
       "      <td>...</td>\n",
       "      <td>28.0</td>\n",
       "      <td>7.0</td>\n",
       "      <td>10.0</td>\n",
       "      <td>6.0</td>\n",
       "      <td>9.0</td>\n",
       "      <td>5.0</td>\n",
       "      <td>7.0</td>\n",
       "      <td>4.5</td>\n",
       "      <td>32.75</td>\n",
       "      <td>-86.75</td>\n",
       "    </tr>\n",
       "    <tr>\n",
       "      <th>1</th>\n",
       "      <td>Alabama</td>\n",
       "      <td>AL</td>\n",
       "      <td>0.0</td>\n",
       "      <td>42.0</td>\n",
       "      <td>0.0</td>\n",
       "      <td>0.0</td>\n",
       "      <td>74.0</td>\n",
       "      <td>7.0</td>\n",
       "      <td>0.0</td>\n",
       "      <td>0.0</td>\n",
       "      <td>...</td>\n",
       "      <td>28.0</td>\n",
       "      <td>7.0</td>\n",
       "      <td>10.0</td>\n",
       "      <td>6.0</td>\n",
       "      <td>9.0</td>\n",
       "      <td>5.0</td>\n",
       "      <td>7.0</td>\n",
       "      <td>4.5</td>\n",
       "      <td>32.75</td>\n",
       "      <td>-86.75</td>\n",
       "    </tr>\n",
       "    <tr>\n",
       "      <th>2</th>\n",
       "      <td>Alabama</td>\n",
       "      <td>AL</td>\n",
       "      <td>0.0</td>\n",
       "      <td>111.0</td>\n",
       "      <td>74.0</td>\n",
       "      <td>1.0</td>\n",
       "      <td>177.0</td>\n",
       "      <td>57.0</td>\n",
       "      <td>10.0</td>\n",
       "      <td>6.0</td>\n",
       "      <td>...</td>\n",
       "      <td>28.0</td>\n",
       "      <td>7.0</td>\n",
       "      <td>10.0</td>\n",
       "      <td>6.0</td>\n",
       "      <td>9.0</td>\n",
       "      <td>5.0</td>\n",
       "      <td>7.0</td>\n",
       "      <td>4.5</td>\n",
       "      <td>32.75</td>\n",
       "      <td>-86.75</td>\n",
       "    </tr>\n",
       "    <tr>\n",
       "      <th>3</th>\n",
       "      <td>Alabama</td>\n",
       "      <td>AL</td>\n",
       "      <td>0.0</td>\n",
       "      <td>125.0</td>\n",
       "      <td>82.0</td>\n",
       "      <td>1.0</td>\n",
       "      <td>407.0</td>\n",
       "      <td>131.0</td>\n",
       "      <td>96.0</td>\n",
       "      <td>8.0</td>\n",
       "      <td>...</td>\n",
       "      <td>28.0</td>\n",
       "      <td>7.0</td>\n",
       "      <td>10.0</td>\n",
       "      <td>6.0</td>\n",
       "      <td>9.0</td>\n",
       "      <td>5.0</td>\n",
       "      <td>7.0</td>\n",
       "      <td>4.5</td>\n",
       "      <td>32.75</td>\n",
       "      <td>-86.75</td>\n",
       "    </tr>\n",
       "    <tr>\n",
       "      <th>4</th>\n",
       "      <td>Alabama</td>\n",
       "      <td>AL</td>\n",
       "      <td>0.0</td>\n",
       "      <td>62.0</td>\n",
       "      <td>110.0</td>\n",
       "      <td>0.0</td>\n",
       "      <td>990.0</td>\n",
       "      <td>137.0</td>\n",
       "      <td>190.0</td>\n",
       "      <td>4.0</td>\n",
       "      <td>...</td>\n",
       "      <td>28.0</td>\n",
       "      <td>7.0</td>\n",
       "      <td>10.0</td>\n",
       "      <td>6.0</td>\n",
       "      <td>9.0</td>\n",
       "      <td>5.0</td>\n",
       "      <td>7.0</td>\n",
       "      <td>4.5</td>\n",
       "      <td>32.75</td>\n",
       "      <td>-86.75</td>\n",
       "    </tr>\n",
       "  </tbody>\n",
       "</table>\n",
       "<p>5 rows × 44 columns</p>\n",
       "</div>"
      ],
      "text/plain": [
       "      name state  staff_tests  total_staff_cases  staff_recovered  \\\n",
       "0  Alabama    AL          0.0               11.0              0.0   \n",
       "1  Alabama    AL          0.0               42.0              0.0   \n",
       "2  Alabama    AL          0.0              111.0             74.0   \n",
       "3  Alabama    AL          0.0              125.0             82.0   \n",
       "4  Alabama    AL          0.0               62.0            110.0   \n",
       "\n",
       "   total_staff_deaths  prisoner_tests  total_prisoner_cases  \\\n",
       "0                 0.0            61.0                   4.0   \n",
       "1                 0.0            74.0                   7.0   \n",
       "2                 1.0           177.0                  57.0   \n",
       "3                 1.0           407.0                 131.0   \n",
       "4                 0.0           990.0                 137.0   \n",
       "\n",
       "   prisoners_recovered  total_prisoner_deaths  ...  \\\n",
       "0                  0.0                    1.0  ...   \n",
       "1                  0.0                    0.0  ...   \n",
       "2                 10.0                    6.0  ...   \n",
       "3                 96.0                    8.0  ...   \n",
       "4                190.0                    4.0  ...   \n",
       "\n",
       "  Inmates participating in one or more work programs  Prison industries  \\\n",
       "0                                               28.0                7.0   \n",
       "1                                               28.0                7.0   \n",
       "2                                               28.0                7.0   \n",
       "3                                               28.0                7.0   \n",
       "4                                               28.0                7.0   \n",
       "\n",
       "   Support services Farming   Public works  Other work programs   \\\n",
       "0              10.0      6.0           9.0                   5.0   \n",
       "1              10.0      6.0           9.0                   5.0   \n",
       "2              10.0      6.0           9.0                   5.0   \n",
       "3              10.0      6.0           9.0                   5.0   \n",
       "4              10.0      6.0           9.0                   5.0   \n",
       "\n",
       "   No work programs  phone_rate_avg  Latitude  Longitude  \n",
       "0               7.0             4.5     32.75     -86.75  \n",
       "1               7.0             4.5     32.75     -86.75  \n",
       "2               7.0             4.5     32.75     -86.75  \n",
       "3               7.0             4.5     32.75     -86.75  \n",
       "4               7.0             4.5     32.75     -86.75  \n",
       "\n",
       "[5 rows x 44 columns]"
      ]
     },
     "execution_count": 3,
     "metadata": {},
     "output_type": "execute_result"
    }
   ],
   "source": [
    "df.head()"
   ]
  },
  {
   "cell_type": "code",
   "execution_count": 4,
   "metadata": {},
   "outputs": [
    {
     "name": "stdout",
     "output_type": "stream",
     "text": [
      "<class 'pandas.core.frame.DataFrame'>\n",
      "RangeIndex: 510 entries, 0 to 509\n",
      "Data columns (total 44 columns):\n",
      " #   Column                                              Non-Null Count  Dtype  \n",
      "---  ------                                              --------------  -----  \n",
      " 0   name                                                510 non-null    object \n",
      " 1   state                                               510 non-null    object \n",
      " 2   staff_tests                                         340 non-null    float64\n",
      " 3   total_staff_cases                                   510 non-null    float64\n",
      " 4   staff_recovered                                     500 non-null    float64\n",
      " 5   total_staff_deaths                                  510 non-null    float64\n",
      " 6   prisoner_tests                                      500 non-null    float64\n",
      " 7   total_prisoner_cases                                510 non-null    float64\n",
      " 8   prisoners_recovered                                 500 non-null    float64\n",
      " 9   total_prisoner_deaths                               510 non-null    float64\n",
      " 10  as_of_date                                          510 non-null    object \n",
      " 11  year                                                510 non-null    float64\n",
      " 12  month                                               510 non-null    float64\n",
      " 13  region                                              510 non-null    object \n",
      " 14  civ_death                                           510 non-null    int64  \n",
      " 15  civ_cases                                           510 non-null    int64  \n",
      " 16  civ_hosp                                            510 non-null    int64  \n",
      " 17  civ_tests                                           510 non-null    int64  \n",
      " 18  Design capacity 2000/a                              500 non-null    float64\n",
      " 19  Design capacity 2005/a                              500 non-null    float64\n",
      " 20  Percent of design capacity occupied 2000            500 non-null    float64\n",
      " 21  Percent of design capacity occupied 2005            500 non-null    float64\n",
      " 22  Rated capacity 2000                                 500 non-null    float64\n",
      " 23  Rated capacity 2005                                 500 non-null    float64\n",
      " 24  Percent of rated capacity occupied 2000             500 non-null    float64\n",
      " 25  Percent of rated capacity occupied 2005             500 non-null    float64\n",
      " 26  Total_18                                            500 non-null    float64\n",
      " 27  Male_18                                             500 non-null    float64\n",
      " 28  Female_18                                           500 non-null    float64\n",
      " 29  Total_19                                            500 non-null    float64\n",
      " 30  Male_19                                             500 non-null    float64\n",
      " 31  Female_19                                           500 non-null    float64\n",
      " 32  Total number of facilities                          500 non-null    float64\n",
      " 33  Facilities operating one or more work programs      500 non-null    float64\n",
      " 34  Inmates participating in one or more work programs  500 non-null    float64\n",
      " 35  Prison industries                                   500 non-null    float64\n",
      " 36  Support services                                    500 non-null    float64\n",
      " 37  Farming                                             500 non-null    float64\n",
      " 38  Public works                                        500 non-null    float64\n",
      " 39  Other work programs                                 500 non-null    float64\n",
      " 40  No work programs                                    500 non-null    float64\n",
      " 41  phone_rate_avg                                      500 non-null    float64\n",
      " 42  Latitude                                            500 non-null    float64\n",
      " 43  Longitude                                           500 non-null    float64\n",
      "dtypes: float64(36), int64(4), object(4)\n",
      "memory usage: 175.4+ KB\n"
     ]
    }
   ],
   "source": [
    "df.info()"
   ]
  },
  {
   "cell_type": "code",
   "execution_count": 5,
   "metadata": {},
   "outputs": [
    {
     "data": {
      "text/plain": [
       "(510, 44)"
      ]
     },
     "execution_count": 5,
     "metadata": {},
     "output_type": "execute_result"
    }
   ],
   "source": [
    "df.shape"
   ]
  },
  {
   "cell_type": "code",
   "execution_count": 6,
   "metadata": {},
   "outputs": [
    {
     "data": {
      "text/plain": [
       "name                                                    0\n",
       "state                                                   0\n",
       "staff_tests                                           170\n",
       "total_staff_cases                                       0\n",
       "staff_recovered                                        10\n",
       "total_staff_deaths                                      0\n",
       "prisoner_tests                                         10\n",
       "total_prisoner_cases                                    0\n",
       "prisoners_recovered                                    10\n",
       "total_prisoner_deaths                                   0\n",
       "as_of_date                                              0\n",
       "year                                                    0\n",
       "month                                                   0\n",
       "region                                                  0\n",
       "civ_death                                               0\n",
       "civ_cases                                               0\n",
       "civ_hosp                                                0\n",
       "civ_tests                                               0\n",
       "Design capacity 2000/a                                 10\n",
       "Design capacity 2005/a                                 10\n",
       "Percent of design capacity occupied 2000               10\n",
       "Percent of design capacity occupied 2005               10\n",
       "Rated capacity 2000                                    10\n",
       "Rated capacity 2005                                    10\n",
       "Percent of rated capacity occupied 2000                10\n",
       "Percent of rated capacity occupied 2005                10\n",
       "Total_18                                               10\n",
       "Male_18                                                10\n",
       "Female_18                                              10\n",
       "Total_19                                               10\n",
       "Male_19                                                10\n",
       "Female_19                                              10\n",
       "Total number of facilities                             10\n",
       "Facilities operating one or more work programs         10\n",
       "Inmates participating in one or more work programs     10\n",
       "Prison industries                                      10\n",
       "Support services                                       10\n",
       "Farming                                                10\n",
       "Public works                                           10\n",
       "Other work programs                                    10\n",
       "No work programs                                       10\n",
       "phone_rate_avg                                         10\n",
       "Latitude                                               10\n",
       "Longitude                                              10\n",
       "dtype: int64"
      ]
     },
     "execution_count": 6,
     "metadata": {},
     "output_type": "execute_result"
    }
   ],
   "source": [
    "df.isnull().sum()"
   ]
  },
  {
   "cell_type": "markdown",
   "metadata": {},
   "source": [
    "Removing State column as it is a duplicate, using name which is equal to state."
   ]
  },
  {
   "cell_type": "code",
   "execution_count": 7,
   "metadata": {},
   "outputs": [],
   "source": [
    "df.drop(columns=['state'], inplace= True)"
   ]
  },
  {
   "cell_type": "markdown",
   "metadata": {},
   "source": [
    "Removing Federal column as it is not granular description useful for modeling."
   ]
  },
  {
   "cell_type": "code",
   "execution_count": 8,
   "metadata": {},
   "outputs": [],
   "source": [
    "df.drop(df.loc[df['name']== 'Federal'].index, inplace=True)"
   ]
  },
  {
   "cell_type": "code",
   "execution_count": 9,
   "metadata": {},
   "outputs": [
    {
     "data": {
      "text/plain": [
       "name                                                    0\n",
       "staff_tests                                           160\n",
       "total_staff_cases                                       0\n",
       "staff_recovered                                        10\n",
       "total_staff_deaths                                      0\n",
       "prisoner_tests                                         10\n",
       "total_prisoner_cases                                    0\n",
       "prisoners_recovered                                    10\n",
       "total_prisoner_deaths                                   0\n",
       "as_of_date                                              0\n",
       "year                                                    0\n",
       "month                                                   0\n",
       "region                                                  0\n",
       "civ_death                                               0\n",
       "civ_cases                                               0\n",
       "civ_hosp                                                0\n",
       "civ_tests                                               0\n",
       "Design capacity 2000/a                                  0\n",
       "Design capacity 2005/a                                  0\n",
       "Percent of design capacity occupied 2000                0\n",
       "Percent of design capacity occupied 2005                0\n",
       "Rated capacity 2000                                     0\n",
       "Rated capacity 2005                                     0\n",
       "Percent of rated capacity occupied 2000                 0\n",
       "Percent of rated capacity occupied 2005                 0\n",
       "Total_18                                                0\n",
       "Male_18                                                 0\n",
       "Female_18                                               0\n",
       "Total_19                                                0\n",
       "Male_19                                                 0\n",
       "Female_19                                               0\n",
       "Total number of facilities                              0\n",
       "Facilities operating one or more work programs          0\n",
       "Inmates participating in one or more work programs      0\n",
       "Prison industries                                       0\n",
       "Support services                                        0\n",
       "Farming                                                 0\n",
       "Public works                                            0\n",
       "Other work programs                                     0\n",
       "No work programs                                        0\n",
       "phone_rate_avg                                          0\n",
       "Latitude                                                0\n",
       "Longitude                                               0\n",
       "dtype: int64"
      ]
     },
     "execution_count": 9,
     "metadata": {},
     "output_type": "execute_result"
    }
   ],
   "source": [
    "df.isnull().sum()"
   ]
  },
  {
   "cell_type": "markdown",
   "metadata": {},
   "source": [
    "Dropping remaining null values."
   ]
  },
  {
   "cell_type": "code",
   "execution_count": 10,
   "metadata": {},
   "outputs": [],
   "source": [
    "df.drop(columns=['staff_tests', 'staff_recovered', 'prisoner_tests', 'prisoners_recovered'], inplace= True)"
   ]
  },
  {
   "cell_type": "markdown",
   "metadata": {},
   "source": [
    "## Feature Engineering"
   ]
  },
  {
   "cell_type": "markdown",
   "metadata": {},
   "source": [
    "Transposing categorical features such as Region and State to numerical outputs to use for modeling."
   ]
  },
  {
   "cell_type": "code",
   "execution_count": 11,
   "metadata": {},
   "outputs": [],
   "source": [
    "df = pd.get_dummies(data = df, columns= ['region', 'name'], drop_first=True)"
   ]
  },
  {
   "cell_type": "markdown",
   "metadata": {},
   "source": [
    "Dropped as of date, as month will be used for modeling."
   ]
  },
  {
   "cell_type": "code",
   "execution_count": 12,
   "metadata": {},
   "outputs": [],
   "source": [
    "df.drop(columns=['as_of_date'], inplace= True)"
   ]
  },
  {
   "cell_type": "markdown",
   "metadata": {},
   "source": [
    "Confirming no nulls before modeling."
   ]
  },
  {
   "cell_type": "code",
   "execution_count": 13,
   "metadata": {},
   "outputs": [
    {
     "data": {
      "text/plain": [
       "0"
      ]
     },
     "execution_count": 13,
     "metadata": {},
     "output_type": "execute_result"
    }
   ],
   "source": [
    "df.isnull().sum().sum()"
   ]
  },
  {
   "cell_type": "markdown",
   "metadata": {},
   "source": [
    "Sorting all observations by chronological order"
   ]
  },
  {
   "cell_type": "code",
   "execution_count": 14,
   "metadata": {},
   "outputs": [],
   "source": [
    "df.sort_values('month', ascending = True, inplace = True)"
   ]
  },
  {
   "cell_type": "code",
   "execution_count": 15,
   "metadata": {},
   "outputs": [
    {
     "data": {
      "text/html": [
       "<div>\n",
       "<style scoped>\n",
       "    .dataframe tbody tr th:only-of-type {\n",
       "        vertical-align: middle;\n",
       "    }\n",
       "\n",
       "    .dataframe tbody tr th {\n",
       "        vertical-align: top;\n",
       "    }\n",
       "\n",
       "    .dataframe thead th {\n",
       "        text-align: right;\n",
       "    }\n",
       "</style>\n",
       "<table border=\"1\" class=\"dataframe\">\n",
       "  <thead>\n",
       "    <tr style=\"text-align: right;\">\n",
       "      <th></th>\n",
       "      <th>total_staff_cases</th>\n",
       "      <th>total_staff_deaths</th>\n",
       "      <th>total_prisoner_cases</th>\n",
       "      <th>total_prisoner_deaths</th>\n",
       "      <th>year</th>\n",
       "      <th>month</th>\n",
       "      <th>civ_death</th>\n",
       "      <th>civ_cases</th>\n",
       "      <th>civ_hosp</th>\n",
       "      <th>civ_tests</th>\n",
       "      <th>...</th>\n",
       "      <th>name_South Dakota</th>\n",
       "      <th>name_Tennessee</th>\n",
       "      <th>name_Texas</th>\n",
       "      <th>name_Utah</th>\n",
       "      <th>name_Vermont</th>\n",
       "      <th>name_Virginia</th>\n",
       "      <th>name_Washington</th>\n",
       "      <th>name_West Virginia</th>\n",
       "      <th>name_Wisconsin</th>\n",
       "      <th>name_Wyoming</th>\n",
       "    </tr>\n",
       "  </thead>\n",
       "  <tbody>\n",
       "    <tr>\n",
       "      <th>259</th>\n",
       "      <td>232.0</td>\n",
       "      <td>0.0</td>\n",
       "      <td>217.0</td>\n",
       "      <td>2.0</td>\n",
       "      <td>2021.0</td>\n",
       "      <td>1.0</td>\n",
       "      <td>1229</td>\n",
       "      <td>66249</td>\n",
       "      <td>0</td>\n",
       "      <td>518554</td>\n",
       "      <td>...</td>\n",
       "      <td>0</td>\n",
       "      <td>0</td>\n",
       "      <td>0</td>\n",
       "      <td>0</td>\n",
       "      <td>0</td>\n",
       "      <td>0</td>\n",
       "      <td>0</td>\n",
       "      <td>0</td>\n",
       "      <td>0</td>\n",
       "      <td>0</td>\n",
       "    </tr>\n",
       "    <tr>\n",
       "      <th>269</th>\n",
       "      <td>25.0</td>\n",
       "      <td>0.0</td>\n",
       "      <td>3.0</td>\n",
       "      <td>0.0</td>\n",
       "      <td>2021.0</td>\n",
       "      <td>1.0</td>\n",
       "      <td>272</td>\n",
       "      <td>12394</td>\n",
       "      <td>677</td>\n",
       "      <td>162660</td>\n",
       "      <td>...</td>\n",
       "      <td>0</td>\n",
       "      <td>0</td>\n",
       "      <td>0</td>\n",
       "      <td>0</td>\n",
       "      <td>0</td>\n",
       "      <td>0</td>\n",
       "      <td>0</td>\n",
       "      <td>0</td>\n",
       "      <td>0</td>\n",
       "      <td>0</td>\n",
       "    </tr>\n",
       "    <tr>\n",
       "      <th>249</th>\n",
       "      <td>1.0</td>\n",
       "      <td>0.0</td>\n",
       "      <td>68.0</td>\n",
       "      <td>12.0</td>\n",
       "      <td>2021.0</td>\n",
       "      <td>1.0</td>\n",
       "      <td>1258</td>\n",
       "      <td>59190</td>\n",
       "      <td>502</td>\n",
       "      <td>196032</td>\n",
       "      <td>...</td>\n",
       "      <td>0</td>\n",
       "      <td>0</td>\n",
       "      <td>0</td>\n",
       "      <td>0</td>\n",
       "      <td>0</td>\n",
       "      <td>0</td>\n",
       "      <td>0</td>\n",
       "      <td>0</td>\n",
       "      <td>0</td>\n",
       "      <td>0</td>\n",
       "    </tr>\n",
       "    <tr>\n",
       "      <th>239</th>\n",
       "      <td>49.0</td>\n",
       "      <td>0.0</td>\n",
       "      <td>243.0</td>\n",
       "      <td>2.0</td>\n",
       "      <td>2021.0</td>\n",
       "      <td>1.0</td>\n",
       "      <td>877</td>\n",
       "      <td>46505</td>\n",
       "      <td>2444</td>\n",
       "      <td>0</td>\n",
       "      <td>...</td>\n",
       "      <td>0</td>\n",
       "      <td>0</td>\n",
       "      <td>0</td>\n",
       "      <td>0</td>\n",
       "      <td>0</td>\n",
       "      <td>0</td>\n",
       "      <td>0</td>\n",
       "      <td>0</td>\n",
       "      <td>0</td>\n",
       "      <td>0</td>\n",
       "    </tr>\n",
       "    <tr>\n",
       "      <th>229</th>\n",
       "      <td>478.0</td>\n",
       "      <td>0.0</td>\n",
       "      <td>2498.0</td>\n",
       "      <td>16.0</td>\n",
       "      <td>2021.0</td>\n",
       "      <td>1.0</td>\n",
       "      <td>2507</td>\n",
       "      <td>81517</td>\n",
       "      <td>0</td>\n",
       "      <td>1262392</td>\n",
       "      <td>...</td>\n",
       "      <td>0</td>\n",
       "      <td>0</td>\n",
       "      <td>0</td>\n",
       "      <td>0</td>\n",
       "      <td>0</td>\n",
       "      <td>0</td>\n",
       "      <td>0</td>\n",
       "      <td>0</td>\n",
       "      <td>0</td>\n",
       "      <td>0</td>\n",
       "    </tr>\n",
       "  </tbody>\n",
       "</table>\n",
       "<p>5 rows × 88 columns</p>\n",
       "</div>"
      ],
      "text/plain": [
       "     total_staff_cases  total_staff_deaths  total_prisoner_cases  \\\n",
       "259              232.0                 0.0                 217.0   \n",
       "269               25.0                 0.0                   3.0   \n",
       "249                1.0                 0.0                  68.0   \n",
       "239               49.0                 0.0                 243.0   \n",
       "229              478.0                 0.0                2498.0   \n",
       "\n",
       "     total_prisoner_deaths    year  month  civ_death  civ_cases  civ_hosp  \\\n",
       "259                    2.0  2021.0    1.0       1229      66249         0   \n",
       "269                    0.0  2021.0    1.0        272      12394       677   \n",
       "249                   12.0  2021.0    1.0       1258      59190       502   \n",
       "239                    2.0  2021.0    1.0        877      46505      2444   \n",
       "229                   16.0  2021.0    1.0       2507      81517         0   \n",
       "\n",
       "     civ_tests  ...  name_South Dakota  name_Tennessee  name_Texas  name_Utah  \\\n",
       "259     518554  ...                  0               0           0          0   \n",
       "269     162660  ...                  0               0           0          0   \n",
       "249     196032  ...                  0               0           0          0   \n",
       "239          0  ...                  0               0           0          0   \n",
       "229    1262392  ...                  0               0           0          0   \n",
       "\n",
       "     name_Vermont  name_Virginia  name_Washington  name_West Virginia  \\\n",
       "259             0              0                0                   0   \n",
       "269             0              0                0                   0   \n",
       "249             0              0                0                   0   \n",
       "239             0              0                0                   0   \n",
       "229             0              0                0                   0   \n",
       "\n",
       "     name_Wisconsin  name_Wyoming  \n",
       "259               0             0  \n",
       "269               0             0  \n",
       "249               0             0  \n",
       "239               0             0  \n",
       "229               0             0  \n",
       "\n",
       "[5 rows x 88 columns]"
      ]
     },
     "execution_count": 15,
     "metadata": {},
     "output_type": "execute_result"
    }
   ],
   "source": [
    "df.head()"
   ]
  },
  {
   "cell_type": "markdown",
   "metadata": {},
   "source": [
    "## Set X, y"
   ]
  },
  {
   "cell_type": "markdown",
   "metadata": {},
   "source": [
    "Customizing train test split, to ensure training captures 2020 data and test captures 2021 data for model to predict future observations."
   ]
  },
  {
   "cell_type": "code",
   "execution_count": 16,
   "metadata": {},
   "outputs": [],
   "source": [
    "df_train = df[df[\"year\"] == 2020]\n",
    "df_test = df[df[\"year\"] == 2021]"
   ]
  },
  {
   "cell_type": "code",
   "execution_count": 17,
   "metadata": {},
   "outputs": [
    {
     "data": {
      "text/plain": [
       "(450, 88)"
      ]
     },
     "execution_count": 17,
     "metadata": {},
     "output_type": "execute_result"
    }
   ],
   "source": [
    "df_train.shape"
   ]
  },
  {
   "cell_type": "markdown",
   "metadata": {},
   "source": [
    "Setting X_train to include the following features:\n",
    "\n",
    "- Staff Cases\n",
    "- Staff Deaths\n",
    "- Civilian Cases\n",
    "- Civilian Hospitalizations\n",
    "- Civilian Tests\n",
    "- States Regions \n",
    "- Months \n",
    "\n",
    "Setting y_train to include the following features:\n",
    "\n",
    "- Total prisoner cases"
   ]
  },
  {
   "cell_type": "code",
   "execution_count": 18,
   "metadata": {},
   "outputs": [],
   "source": [
    "X_train = df_train.drop(columns = ['Design capacity 2000/a',\n",
    "       'Design capacity 2005/a', 'Percent of design capacity occupied 2000',\n",
    "       'Percent of design capacity occupied 2005', 'Rated capacity 2000',\n",
    "       'Rated capacity 2005', 'Percent of rated capacity occupied 2000',\n",
    "       'Percent of rated capacity occupied 2005', 'Total_18', 'Male_18',\n",
    "       'Female_18', 'Total_19', 'Male_19', 'Female_19',\n",
    "       'Total number of facilities',\n",
    "       'Facilities operating one or more work programs',\n",
    "       'Inmates participating in one or more work programs',\n",
    "       'Prison industries', 'Support services', 'Farming ', 'Public works',\n",
    "       'Other work programs ', 'No work programs', 'phone_rate_avg',\n",
    "       'Latitude', 'Longitude', 'total_prisoner_cases', 'total_prisoner_deaths'])\n"
   ]
  },
  {
   "cell_type": "code",
   "execution_count": 19,
   "metadata": {},
   "outputs": [],
   "source": [
    "y_train = df_train['total_prisoner_cases']"
   ]
  },
  {
   "cell_type": "code",
   "execution_count": 20,
   "metadata": {},
   "outputs": [
    {
     "data": {
      "text/plain": [
       "((450, 60), (450,))"
      ]
     },
     "execution_count": 20,
     "metadata": {},
     "output_type": "execute_result"
    }
   ],
   "source": [
    "X_train.shape, y_train.shape"
   ]
  },
  {
   "cell_type": "markdown",
   "metadata": {},
   "source": [
    "Setting X_test to include the following features:\n",
    "\n",
    "- Staff Cases\n",
    "- Staff Deaths\n",
    "- Civilian Cases\n",
    "- Civilian Hospitalizations\n",
    "- Civilian Tests\n",
    "- States Regions\n",
    "- Months\n",
    "\n",
    "Setting y_test to include the following features:\n",
    "\n",
    "- Total prisoner cases"
   ]
  },
  {
   "cell_type": "code",
   "execution_count": 21,
   "metadata": {},
   "outputs": [],
   "source": [
    "X_test = df_test.drop(columns = ['Design capacity 2000/a',\n",
    "       'Design capacity 2005/a', 'Percent of design capacity occupied 2000',\n",
    "       'Percent of design capacity occupied 2005', 'Rated capacity 2000',\n",
    "       'Rated capacity 2005', 'Percent of rated capacity occupied 2000',\n",
    "       'Percent of rated capacity occupied 2005', 'Total_18', 'Male_18',\n",
    "       'Female_18', 'Total_19', 'Male_19', 'Female_19',\n",
    "       'Total number of facilities',\n",
    "       'Facilities operating one or more work programs',\n",
    "       'Inmates participating in one or more work programs',\n",
    "       'Prison industries', 'Support services', 'Farming ', 'Public works',\n",
    "       'Other work programs ', 'No work programs', 'phone_rate_avg',\n",
    "       'Latitude', 'Longitude', 'total_prisoner_cases', 'total_prisoner_deaths'])"
   ]
  },
  {
   "cell_type": "code",
   "execution_count": 22,
   "metadata": {},
   "outputs": [],
   "source": [
    "y_test = df_test['total_prisoner_cases']"
   ]
  },
  {
   "cell_type": "markdown",
   "metadata": {},
   "source": [
    "Check X_test and y_test are the same shape, and ensure X_test is equal to 2021 data and X_train is equal to 2020 data."
   ]
  },
  {
   "cell_type": "code",
   "execution_count": 23,
   "metadata": {},
   "outputs": [
    {
     "data": {
      "text/plain": [
       "((50, 60), (50,))"
      ]
     },
     "execution_count": 23,
     "metadata": {},
     "output_type": "execute_result"
    }
   ],
   "source": [
    "X_test.shape, y_test.shape"
   ]
  },
  {
   "cell_type": "code",
   "execution_count": 24,
   "metadata": {},
   "outputs": [
    {
     "data": {
      "text/plain": [
       "(2021.0    50\n",
       " Name: year, dtype: int64,\n",
       " 2020.0    450\n",
       " Name: year, dtype: int64)"
      ]
     },
     "execution_count": 24,
     "metadata": {},
     "output_type": "execute_result"
    }
   ],
   "source": [
    "X_test.year.value_counts(), X_train.year.value_counts()"
   ]
  },
  {
   "cell_type": "markdown",
   "metadata": {},
   "source": [
    "## Scale Features before Modeling"
   ]
  },
  {
   "cell_type": "code",
   "execution_count": 25,
   "metadata": {},
   "outputs": [],
   "source": [
    "#Initiate standard scaler\n",
    "ss = StandardScaler()\n",
    "\n",
    "#finding the mean of standard deviation for each column\n",
    "Xs_train = ss.fit_transform(X_train)\n",
    "Xs_test = ss.transform(X_test)"
   ]
  },
  {
   "cell_type": "markdown",
   "metadata": {},
   "source": [
    "## Models, models, models..."
   ]
  },
  {
   "cell_type": "markdown",
   "metadata": {},
   "source": [
    "### Linear Regression"
   ]
  },
  {
   "cell_type": "code",
   "execution_count": 26,
   "metadata": {},
   "outputs": [
    {
     "name": "stdout",
     "output_type": "stream",
     "text": [
      "R2 score on training set:0.8180795312955935\n",
      "R2 score on testing set:-5.8170565151838986e+23\n",
      "Cross val scores: -0.047126328690507945\n",
      "RMSE score: 1.1533495610911874e+30\n"
     ]
    }
   ],
   "source": [
    "# Step 2: Instantiate the model\n",
    "lr = LinearRegression()\n",
    "\n",
    "# Step 3: Fit the model\n",
    "lr.fit(Xs_train, y_train)\n",
    "\n",
    "lr_preds = lr.predict(Xs_test)\n",
    "\n",
    "print(f'R2 score on training set:{lr.score(Xs_train, y_train)}') \n",
    "print(f'R2 score on testing set:{lr.score(Xs_test, y_test)}')\n",
    "print(f'Cross val scores: {cross_val_score(lr, Xs_train, y_train, cv = 5).mean()}')\n",
    "print(f'RMSE score: {metrics.mean_squared_error(y_test, lr_preds)}')"
   ]
  },
  {
   "cell_type": "markdown",
   "metadata": {},
   "source": [
    "#### Summary of Linear Regression Model: \n",
    "\n",
    "There is an incredibly large variance between the training and testing R2 scores. This indicates our model is overfit. As the model performs well on the training data but unable to perform on data it has not seen before. The model is only able to explain 81% of the variance in the training data. Will attempt other models for a better fit."
   ]
  },
  {
   "cell_type": "markdown",
   "metadata": {},
   "source": [
    "### Lasso"
   ]
  },
  {
   "cell_type": "code",
   "execution_count": 27,
   "metadata": {},
   "outputs": [
    {
     "name": "stdout",
     "output_type": "stream",
     "text": [
      "Score on training set:0.7609503373684571\n",
      "Score on training set:0.6983903238794658\n",
      "Cross val scores: 0.23494058823838443\n"
     ]
    }
   ],
   "source": [
    "from sklearn.model_selection import cross_val_score, GridSearchCV\n",
    "from sklearn.linear_model import Lasso, LassoCV\n",
    "\n",
    "# Set up a list of Lasso alphas to check.\n",
    "l_alphas = np.logspace(0.001, 100, 500)\n",
    "\n",
    "# Cross-validate over our list of Lasso alphas.\n",
    "lasso_cv = LassoCV(alphas= l_alphas, cv = 50, max_iter= 5000)\n",
    "\n",
    "# Fit model using best alpha\n",
    "lasso_cv.fit(Xs_train, y_train)\n",
    "\n",
    "# Here is the optimal value of alpha\n",
    "lasso_cv.alpha_\n",
    "\n",
    "print(f'Score on training set:{lasso_cv.score(Xs_train, y_train)}')\n",
    "print(f'Score on training set:{lasso_cv.score(Xs_test, y_test)}')\n",
    "print(f'Cross val scores: {cross_val_score(lasso_cv, Xs_train, y_train, cv = 5).mean()}')"
   ]
  },
  {
   "cell_type": "markdown",
   "metadata": {},
   "source": [
    "#### Summary of Lasso Model: \n",
    "\n",
    "There is a slighlty large variance between the training and testing R2 scores. This indicates our model is overfit. As the model performs well on the training data but unable to perform on data it has not seen before. The model is only able to explain 69% of the variance in the data. Will attempt other models for a better fit."
   ]
  },
  {
   "cell_type": "markdown",
   "metadata": {},
   "source": [
    "### Ridge"
   ]
  },
  {
   "cell_type": "code",
   "execution_count": 28,
   "metadata": {},
   "outputs": [
    {
     "name": "stdout",
     "output_type": "stream",
     "text": [
      "Score on training set:0.6603936754472475\n",
      "Score on training set:0.7184349979221196\n"
     ]
    }
   ],
   "source": [
    "from sklearn.linear_model import Ridge\n",
    "from sklearn.linear_model import RidgeCV\n",
    "\n",
    "\n",
    "r_alphas = np.logspace(0,5,100) #alphase from 1 to 10ˆ5\n",
    "# Cross-validate over our list of ridge alphas.\n",
    "\n",
    "ridge_cv = RidgeCV(alphas= r_alphas,\n",
    "  scoring= 'r2',\n",
    "  cv = 5)\n",
    "\n",
    "\n",
    "ridge_cv.fit(Xs_train, y_train)\n",
    "\n",
    "ridge_cv.alpha_# Here is the optimal value of alpha\n",
    "\n",
    "\n",
    "\n",
    "# Instantiate.\n",
    "ridge_model = Ridge(alpha = ridge_cv.alpha_)\n",
    "\n",
    "# Fit.\n",
    "ridge_model.fit(Xs_train, y_train)\n",
    "\n",
    "\n",
    "print(f'Score on training set:{ridge_model.score(Xs_train, y_train)}')\n",
    "print(f'Score on training set:{ridge_model.score(Xs_test, y_test)}')\n"
   ]
  },
  {
   "cell_type": "markdown",
   "metadata": {},
   "source": [
    "#### Summary of Ridge Model: \n",
    "\n",
    "There is a slight variance between the training and testing R2 scores. This indicates our model is fairly good. There is evidence of little variance between train/test, meaning our model is able to explain 71% of the variance in the dataset. Ridge is a supervised learning model which aims to reduce overfitting between train test split which we can see above, and adds just enough bias to make estimates reasonably reliable. "
   ]
  },
  {
   "cell_type": "markdown",
   "metadata": {},
   "source": [
    "### Random Forrest"
   ]
  },
  {
   "cell_type": "code",
   "execution_count": 29,
   "metadata": {},
   "outputs": [],
   "source": [
    "from sklearn.ensemble import RandomForestRegressor"
   ]
  },
  {
   "cell_type": "code",
   "execution_count": 30,
   "metadata": {},
   "outputs": [
    {
     "name": "stdout",
     "output_type": "stream",
     "text": [
      "Score on training set: 0.9189652173379805\n",
      "Score on testing set: 0.6859160741131458\n",
      "Cross val scores: -0.011877182333943548\n"
     ]
    }
   ],
   "source": [
    "rf = RandomForestRegressor( n_estimators= 750,\n",
    "                           random_state = 42)\n",
    "rf.fit(Xs_train, y_train)\n",
    "\n",
    "rf_pred = rf.predict(Xs_test) \n",
    "print(f'Score on training set: {rf.score(Xs_train, y_train)}')\n",
    "print(f'Score on testing set: {rf.score(Xs_test, y_test)}')\n",
    "print(f'Cross val scores: {cross_val_score(rf, Xs_train, y_train, cv = 5).mean()}')"
   ]
  },
  {
   "cell_type": "markdown",
   "metadata": {},
   "source": [
    "#### Summary of Random Forest: \n",
    "\n",
    "There is large variance between the training and testing R2 scores. This indicates our model is overfit, as Random Forest is known to do. This large variance between train and test indicates our model does not do well predicting observations it has not seen before. Some of the most important hyperparameters in Random Forests are:\n",
    "\n",
    "- n_estimators:\n",
    "    -Indicates number of trees, generally more trees  \n",
    "\n",
    "- max_features: \n",
    "    -maximum number of features random forest considers to split a node\n",
    "\n",
    "- min_sample_leaf:\n",
    "    -minimum number of leafs required to split an internal node.\n",
    "\n",
    "After tuning the hyperparameters stated above I am certain we can get a model that is less overfit. However considering the bias variance tradeoff in order to reduce the variance of the model it comes at the expense of increasing the bias."
   ]
  },
  {
   "cell_type": "markdown",
   "metadata": {},
   "source": [
    "#### RF Gridsearch"
   ]
  },
  {
   "cell_type": "code",
   "execution_count": 31,
   "metadata": {},
   "outputs": [
    {
     "name": "stdout",
     "output_type": "stream",
     "text": [
      "Fitting 5 folds for each of 108 candidates, totalling 540 fits\n"
     ]
    },
    {
     "name": "stderr",
     "output_type": "stream",
     "text": [
      "[Parallel(n_jobs=1)]: Using backend SequentialBackend with 1 concurrent workers.\n"
     ]
    },
    {
     "name": "stdout",
     "output_type": "stream",
     "text": [
      "0.30620890096513076\n"
     ]
    },
    {
     "name": "stderr",
     "output_type": "stream",
     "text": [
      "[Parallel(n_jobs=1)]: Done 540 out of 540 | elapsed:  3.5min finished\n"
     ]
    },
    {
     "data": {
      "text/plain": [
       "{'max_depth': 10,\n",
       " 'max_features': 'log2',\n",
       " 'min_samples_leaf': 3,\n",
       " 'min_samples_split': 2,\n",
       " 'n_estimators': 200}"
      ]
     },
     "execution_count": 31,
     "metadata": {},
     "output_type": "execute_result"
    }
   ],
   "source": [
    "rf_params = {\n",
    "    'n_estimators': [200, 300, 500],\n",
    "    'max_depth': [5, 7, 10],\n",
    "    'min_samples_split': [2, 3, 5],\n",
    "    'min_samples_leaf': [2, 3],\n",
    "    'max_features': ['auto', 'log2']\n",
    "}\n",
    "gs_rf = GridSearchCV(rf, param_grid=rf_params, cv=5, n_jobs = 1, verbose = True)\n",
    "gs_rf.fit(Xs_train, y_train)\n",
    "print(gs_rf.best_score_)\n",
    "gs_rf.best_params_"
   ]
  },
  {
   "cell_type": "code",
   "execution_count": 32,
   "metadata": {},
   "outputs": [],
   "source": [
    "gs_rf_pred = gs_rf.predict(Xs_test)"
   ]
  },
  {
   "cell_type": "code",
   "execution_count": 33,
   "metadata": {},
   "outputs": [],
   "source": [
    "rf_best = RandomForestRegressor(max_depth = 10,\n",
    " max_features = 'log2',\n",
    " min_samples_leaf = 3,\n",
    " min_samples_split = 2,\n",
    " n_estimators = 200, random_state= 1)"
   ]
  },
  {
   "cell_type": "code",
   "execution_count": 34,
   "metadata": {},
   "outputs": [
    {
     "name": "stdout",
     "output_type": "stream",
     "text": [
      "Score on training set: 0.5654878518466864\n",
      "Score on testing set: 0.6501270473152659\n",
      "Cross val scores: -0.011877182333943548\n",
      "RMSE score: 693694.1653623574\n"
     ]
    }
   ],
   "source": [
    "rf_best.fit(Xs_train, y_train)\n",
    "rf_pred = rf_best.predict(Xs_test) \n",
    "print(f'Score on training set: {rf_best.score(Xs_train, y_train)}')\n",
    "print(f'Score on testing set: {rf_best.score(Xs_test, y_test)}')\n",
    "print(f'Cross val scores: {cross_val_score(rf, Xs_train, y_train, cv = 5).mean()}')\n",
    "print(f'RMSE score: {metrics.mean_squared_error(y_test, rf_pred)}')"
   ]
  },
  {
   "cell_type": "markdown",
   "metadata": {},
   "source": [
    "#### Summary of RF Gridsearch Model: \n",
    "After tuning the hyperparameters of Random Forest, we can see the variance is slightly less between the models, however it does come at the expense of more bias. This model is now only able to explain 65% of the variance in our dataset. The testing data also scored slightly better than our training data indicating it does a little better on unseen data.\n"
   ]
  },
  {
   "cell_type": "markdown",
   "metadata": {},
   "source": [
    "### Bagged Decision Trees"
   ]
  },
  {
   "cell_type": "code",
   "execution_count": 35,
   "metadata": {},
   "outputs": [
    {
     "name": "stdout",
     "output_type": "stream",
     "text": [
      "Score on training set: 0.8896484936885555\n",
      "Score on testing set: 0.677287997288826\n",
      "Cross val scores: -0.15723513496811026\n",
      "RMSE score: 639842.0674\n"
     ]
    }
   ],
   "source": [
    "#Instantiate the model\n",
    "\n",
    "bg = BaggingRegressor()\n",
    "bg.fit(Xs_train, y_train)\n",
    "\n",
    "bg_pred = bg.predict(Xs_test)\n",
    "\n",
    "print(f'Score on training set: {bg.score(Xs_train, y_train)}')\n",
    "print(f'Score on testing set: {bg.score(Xs_test, y_test)}')\n",
    "print(f'Cross val scores: {cross_val_score(bg, Xs_train, y_train, cv = 5).mean()}')\n",
    "print(f'RMSE score: {metrics.mean_squared_error(y_test, bg_pred)}')"
   ]
  },
  {
   "cell_type": "markdown",
   "metadata": {},
   "source": [
    "#### Summary of Bagged Decision Tree Model: \n",
    "\n",
    "Decision trees suffer from high variance and the Bagged Decision tree is no exception. Bagged decision trees create multiple trees with replacement, which are then combined to yield a single prediction for our observation. The model above is incredibly overfit, and is underfitting the training data due to a simple model. Can look to add additional features or use another model. \n"
   ]
  },
  {
   "cell_type": "markdown",
   "metadata": {},
   "source": [
    "### KNN Gridsearch"
   ]
  },
  {
   "cell_type": "code",
   "execution_count": 36,
   "metadata": {},
   "outputs": [
    {
     "name": "stdout",
     "output_type": "stream",
     "text": [
      "Score on training set: 0.55898124810199\n",
      "Score on testing set: 0.5411328935981178\n",
      "Cross val scores: 0.1465203529623706\n"
     ]
    }
   ],
   "source": [
    "knn = KNeighborsRegressor()\n",
    "knn.fit(Xs_train, y_train)\n",
    "knn_pred = knn.predict(Xs_test)\n",
    "\n",
    "print(f'Score on training set: {knn.score(Xs_train, y_train)}')\n",
    "print(f'Score on testing set: {knn.score(Xs_test, y_test)}')\n",
    "print(f'Cross val scores: {cross_val_score(knn, Xs_train, y_train, cv = 5).mean()}')"
   ]
  },
  {
   "cell_type": "markdown",
   "metadata": {},
   "source": [
    "#### Summary of KNN Model: \n",
    "\n",
    "The results of KNN informs us that there is little variance between the models, and our test can predict variance in the data 54% of the time. "
   ]
  },
  {
   "cell_type": "markdown",
   "metadata": {},
   "source": [
    "### Regularized Neural Nets"
   ]
  },
  {
   "cell_type": "code",
   "execution_count": 37,
   "metadata": {},
   "outputs": [
    {
     "name": "stdout",
     "output_type": "stream",
     "text": [
      "Epoch 1/100\n",
      "15/15 [==============================] - 1s 38ms/step - loss: 44.4206 - acc: 0.0461 - val_loss: -3188.9966 - val_acc: 0.0200\n",
      "Epoch 2/100\n",
      "15/15 [==============================] - 0s 3ms/step - loss: -1817.6132 - acc: 0.0280 - val_loss: -7402.9951 - val_acc: 0.0200\n",
      "Epoch 3/100\n",
      "15/15 [==============================] - 0s 3ms/step - loss: -3829.7850 - acc: 0.0389 - val_loss: -12579.4180 - val_acc: 0.0200\n",
      "Epoch 4/100\n",
      "15/15 [==============================] - 0s 3ms/step - loss: -7718.4956 - acc: 0.0422 - val_loss: -20372.8047 - val_acc: 0.0200\n",
      "Epoch 5/100\n",
      "15/15 [==============================] - 0s 3ms/step - loss: -9534.5460 - acc: 0.0321 - val_loss: -31440.0605 - val_acc: 0.0200\n",
      "Epoch 6/100\n",
      "15/15 [==============================] - 0s 3ms/step - loss: -24585.3690 - acc: 0.0398 - val_loss: -49133.1406 - val_acc: 0.0200\n",
      "Epoch 7/100\n",
      "15/15 [==============================] - 0s 3ms/step - loss: -33482.3381 - acc: 0.0432 - val_loss: -74231.2812 - val_acc: 0.0200\n",
      "Epoch 8/100\n",
      "15/15 [==============================] - 0s 3ms/step - loss: -43106.6682 - acc: 0.0414 - val_loss: -108727.1797 - val_acc: 0.0200\n",
      "Epoch 9/100\n",
      "15/15 [==============================] - 0s 3ms/step - loss: -74960.2966 - acc: 0.0362 - val_loss: -159991.5156 - val_acc: 0.0200\n",
      "Epoch 10/100\n",
      "15/15 [==============================] - 0s 3ms/step - loss: -83497.0591 - acc: 0.0423 - val_loss: -226728.3594 - val_acc: 0.0200\n",
      "Epoch 11/100\n",
      "15/15 [==============================] - 0s 3ms/step - loss: -102167.6245 - acc: 0.0334 - val_loss: -309781.9062 - val_acc: 0.0200\n",
      "Epoch 12/100\n",
      "15/15 [==============================] - 0s 3ms/step - loss: -205478.2275 - acc: 0.0358 - val_loss: -428414.2500 - val_acc: 0.0200\n",
      "Epoch 13/100\n",
      "15/15 [==============================] - 0s 3ms/step - loss: -167394.4458 - acc: 0.0290 - val_loss: -544198.7500 - val_acc: 0.0200\n",
      "Epoch 14/100\n",
      "15/15 [==============================] - 0s 3ms/step - loss: -260626.5283 - acc: 0.0316 - val_loss: -712682.8125 - val_acc: 0.0200\n",
      "Epoch 15/100\n",
      "15/15 [==============================] - 0s 3ms/step - loss: -562527.8789 - acc: 0.0279 - val_loss: -914433.8125 - val_acc: 0.0200\n",
      "Epoch 16/100\n",
      "15/15 [==============================] - 0s 3ms/step - loss: -394875.5273 - acc: 0.0419 - val_loss: -1109384.0000 - val_acc: 0.0200\n",
      "Epoch 17/100\n",
      "15/15 [==============================] - 0s 3ms/step - loss: -696825.2266 - acc: 0.0365 - val_loss: -1358053.5000 - val_acc: 0.0200\n",
      "Epoch 18/100\n",
      "15/15 [==============================] - 0s 3ms/step - loss: -696216.6953 - acc: 0.0424 - val_loss: -1616635.2500 - val_acc: 0.0200\n",
      "Epoch 19/100\n",
      "15/15 [==============================] - 0s 3ms/step - loss: -1022022.3555 - acc: 0.0303 - val_loss: -1947915.3750 - val_acc: 0.0200\n",
      "Epoch 20/100\n",
      "15/15 [==============================] - 0s 3ms/step - loss: -1110294.8984 - acc: 0.0419 - val_loss: -2312149.5000 - val_acc: 0.0200\n",
      "Epoch 21/100\n",
      "15/15 [==============================] - 0s 3ms/step - loss: -912081.0820 - acc: 0.0431 - val_loss: -2683410.2500 - val_acc: 0.0200\n",
      "Epoch 22/100\n",
      "15/15 [==============================] - 0s 3ms/step - loss: -1749516.4531 - acc: 0.0288 - val_loss: -3174304.2500 - val_acc: 0.0200\n",
      "Epoch 23/100\n",
      "15/15 [==============================] - 0s 3ms/step - loss: -1495736.1133 - acc: 0.0504 - val_loss: -3633655.2500 - val_acc: 0.0200\n",
      "Epoch 24/100\n",
      "15/15 [==============================] - 0s 3ms/step - loss: -2665882.0312 - acc: 0.0352 - val_loss: -4161673.5000 - val_acc: 0.0200\n",
      "Epoch 25/100\n",
      "15/15 [==============================] - 0s 3ms/step - loss: -1989379.8281 - acc: 0.0405 - val_loss: -4722938.5000 - val_acc: 0.0200\n",
      "Epoch 26/100\n",
      "15/15 [==============================] - 0s 3ms/step - loss: -3024323.7656 - acc: 0.0266 - val_loss: -5366972.0000 - val_acc: 0.0200\n",
      "Epoch 27/100\n",
      "15/15 [==============================] - 0s 3ms/step - loss: -2144041.4375 - acc: 0.0418 - val_loss: -5978260.0000 - val_acc: 0.0200\n",
      "Epoch 28/100\n",
      "15/15 [==============================] - 0s 3ms/step - loss: -2261178.0000 - acc: 0.0318 - val_loss: -6698734.5000 - val_acc: 0.0200\n",
      "Epoch 29/100\n",
      "15/15 [==============================] - 0s 3ms/step - loss: -3167173.8906 - acc: 0.0364 - val_loss: -7542068.5000 - val_acc: 0.0200\n",
      "Epoch 30/100\n",
      "15/15 [==============================] - 0s 3ms/step - loss: -3536468.3828 - acc: 0.0323 - val_loss: -8391515.0000 - val_acc: 0.0200\n",
      "Epoch 31/100\n",
      "15/15 [==============================] - 0s 3ms/step - loss: -3328393.3203 - acc: 0.0437 - val_loss: -9262385.0000 - val_acc: 0.0200\n",
      "Epoch 32/100\n",
      "15/15 [==============================] - 0s 3ms/step - loss: -3374125.5039 - acc: 0.0290 - val_loss: -10221748.0000 - val_acc: 0.0200\n",
      "Epoch 33/100\n",
      "15/15 [==============================] - 0s 3ms/step - loss: -4481394.5625 - acc: 0.0340 - val_loss: -11283919.0000 - val_acc: 0.0200\n",
      "Epoch 34/100\n",
      "15/15 [==============================] - 0s 3ms/step - loss: -6848328.4062 - acc: 0.0427 - val_loss: -12500046.0000 - val_acc: 0.0200\n",
      "Epoch 35/100\n",
      "15/15 [==============================] - 0s 2ms/step - loss: -5078934.0781 - acc: 0.0377 - val_loss: -13557117.0000 - val_acc: 0.0200\n",
      "Epoch 36/100\n",
      "15/15 [==============================] - 0s 3ms/step - loss: -10135115.5938 - acc: 0.0323 - val_loss: -14867763.0000 - val_acc: 0.0200\n",
      "Epoch 37/100\n",
      "15/15 [==============================] - 0s 2ms/step - loss: -7153373.7188 - acc: 0.0315 - val_loss: -16096358.0000 - val_acc: 0.0200\n",
      "Epoch 38/100\n",
      "15/15 [==============================] - 0s 2ms/step - loss: -9511923.6719 - acc: 0.0380 - val_loss: -17512436.0000 - val_acc: 0.0200\n",
      "Epoch 39/100\n",
      "15/15 [==============================] - 0s 3ms/step - loss: -7023479.3906 - acc: 0.0423 - val_loss: -18830556.0000 - val_acc: 0.0200\n",
      "Epoch 40/100\n",
      "15/15 [==============================] - 0s 3ms/step - loss: -8754388.5625 - acc: 0.0233 - val_loss: -20332052.0000 - val_acc: 0.0200\n",
      "Epoch 41/100\n",
      "15/15 [==============================] - 0s 3ms/step - loss: -8006595.2344 - acc: 0.0322 - val_loss: -21873654.0000 - val_acc: 0.0200\n",
      "Epoch 42/100\n",
      "15/15 [==============================] - 0s 2ms/step - loss: -11901611.3125 - acc: 0.0408 - val_loss: -23585286.0000 - val_acc: 0.0200\n",
      "Epoch 43/100\n",
      "15/15 [==============================] - 0s 3ms/step - loss: -12477687.3750 - acc: 0.0463 - val_loss: -25286436.0000 - val_acc: 0.0200\n",
      "Epoch 44/100\n",
      "15/15 [==============================] - 0s 2ms/step - loss: -10621456.6250 - acc: 0.0326 - val_loss: -26901474.0000 - val_acc: 0.0200\n",
      "Epoch 45/100\n",
      "15/15 [==============================] - 0s 3ms/step - loss: -12122046.2500 - acc: 0.0266 - val_loss: -28802626.0000 - val_acc: 0.0200\n",
      "Epoch 46/100\n",
      "15/15 [==============================] - 0s 2ms/step - loss: -11681166.5781 - acc: 0.0393 - val_loss: -31010214.0000 - val_acc: 0.0200\n",
      "Epoch 47/100\n",
      "15/15 [==============================] - 0s 3ms/step - loss: -17237890.4375 - acc: 0.0317 - val_loss: -33176880.0000 - val_acc: 0.0200\n",
      "Epoch 48/100\n",
      "15/15 [==============================] - 0s 3ms/step - loss: -14375712.8125 - acc: 0.0410 - val_loss: -35122648.0000 - val_acc: 0.0200\n",
      "Epoch 49/100\n",
      "15/15 [==============================] - 0s 3ms/step - loss: -12443900.3125 - acc: 0.0354 - val_loss: -37123016.0000 - val_acc: 0.0200\n",
      "Epoch 50/100\n",
      "15/15 [==============================] - 0s 3ms/step - loss: -14058203.2188 - acc: 0.0429 - val_loss: -39374952.0000 - val_acc: 0.0200\n",
      "Epoch 51/100\n",
      "15/15 [==============================] - 0s 3ms/step - loss: -18390899.2500 - acc: 0.0261 - val_loss: -41874056.0000 - val_acc: 0.0200\n",
      "Epoch 52/100\n",
      "15/15 [==============================] - 0s 2ms/step - loss: -23531172.3750 - acc: 0.0282 - val_loss: -44843124.0000 - val_acc: 0.0200\n",
      "Epoch 53/100\n",
      "15/15 [==============================] - 0s 3ms/step - loss: -19444333.4375 - acc: 0.0381 - val_loss: -47349040.0000 - val_acc: 0.0200\n",
      "Epoch 54/100\n",
      "15/15 [==============================] - 0s 3ms/step - loss: -18901560.6875 - acc: 0.0428 - val_loss: -49812136.0000 - val_acc: 0.0200\n",
      "Epoch 55/100\n",
      "15/15 [==============================] - 0s 2ms/step - loss: -26902157.1250 - acc: 0.0325 - val_loss: -52618516.0000 - val_acc: 0.0200\n",
      "Epoch 56/100\n",
      "15/15 [==============================] - 0s 3ms/step - loss: -32152756.9375 - acc: 0.0342 - val_loss: -55469264.0000 - val_acc: 0.0200\n",
      "Epoch 57/100\n",
      "15/15 [==============================] - 0s 3ms/step - loss: -24570469.6875 - acc: 0.0300 - val_loss: -58165100.0000 - val_acc: 0.0200\n",
      "Epoch 58/100\n",
      "15/15 [==============================] - 0s 3ms/step - loss: -31118638.5000 - acc: 0.0257 - val_loss: -61221876.0000 - val_acc: 0.0200\n",
      "Epoch 59/100\n",
      "15/15 [==============================] - 0s 3ms/step - loss: -25140124.5000 - acc: 0.0415 - val_loss: -63779328.0000 - val_acc: 0.0200\n",
      "Epoch 60/100\n",
      "15/15 [==============================] - 0s 3ms/step - loss: -34778199.8750 - acc: 0.0357 - val_loss: -67237304.0000 - val_acc: 0.0200\n",
      "Epoch 61/100\n",
      "15/15 [==============================] - 0s 3ms/step - loss: -34780370.6250 - acc: 0.0436 - val_loss: -70414400.0000 - val_acc: 0.0200\n",
      "Epoch 62/100\n",
      "15/15 [==============================] - 0s 3ms/step - loss: -30983408.1250 - acc: 0.0329 - val_loss: -73500128.0000 - val_acc: 0.0200\n",
      "Epoch 63/100\n",
      "15/15 [==============================] - 0s 3ms/step - loss: -36690041.0000 - acc: 0.0444 - val_loss: -77199248.0000 - val_acc: 0.0200\n",
      "Epoch 64/100\n",
      "15/15 [==============================] - 0s 3ms/step - loss: -33681312.6250 - acc: 0.0251 - val_loss: -80511024.0000 - val_acc: 0.0200\n",
      "Epoch 65/100\n",
      "15/15 [==============================] - 0s 3ms/step - loss: -39673276.8750 - acc: 0.0397 - val_loss: -84227320.0000 - val_acc: 0.0200\n",
      "Epoch 66/100\n",
      "15/15 [==============================] - 0s 3ms/step - loss: -41424237.6250 - acc: 0.0413 - val_loss: -87929696.0000 - val_acc: 0.0200\n",
      "Epoch 67/100\n",
      "15/15 [==============================] - 0s 3ms/step - loss: -33821953.0000 - acc: 0.0387 - val_loss: -91568760.0000 - val_acc: 0.0200\n",
      "Epoch 68/100\n",
      "15/15 [==============================] - 0s 3ms/step - loss: -35951243.1875 - acc: 0.0402 - val_loss: -96245072.0000 - val_acc: 0.0200\n",
      "Epoch 69/100\n",
      "15/15 [==============================] - 0s 3ms/step - loss: -38396148.0625 - acc: 0.0269 - val_loss: -100532848.0000 - val_acc: 0.0200\n",
      "Epoch 70/100\n",
      "15/15 [==============================] - 0s 3ms/step - loss: -45394934.8750 - acc: 0.0395 - val_loss: -104705720.0000 - val_acc: 0.0200\n",
      "Epoch 71/100\n",
      "15/15 [==============================] - 0s 3ms/step - loss: -54159089.7500 - acc: 0.0377 - val_loss: -109100328.0000 - val_acc: 0.0200\n",
      "Epoch 72/100\n",
      "15/15 [==============================] - 0s 3ms/step - loss: -48923440.6250 - acc: 0.0247 - val_loss: -113329880.0000 - val_acc: 0.0200\n",
      "Epoch 73/100\n",
      "15/15 [==============================] - 0s 3ms/step - loss: -41983426.7500 - acc: 0.0380 - val_loss: -117341048.0000 - val_acc: 0.0200\n",
      "Epoch 74/100\n",
      "15/15 [==============================] - 0s 3ms/step - loss: -66551540.0000 - acc: 0.0449 - val_loss: -122514768.0000 - val_acc: 0.0200\n",
      "Epoch 75/100\n",
      "15/15 [==============================] - 0s 3ms/step - loss: -55915130.3750 - acc: 0.0317 - val_loss: -127249120.0000 - val_acc: 0.0200\n",
      "Epoch 76/100\n",
      "15/15 [==============================] - 0s 3ms/step - loss: -58398483.2500 - acc: 0.0398 - val_loss: -132037984.0000 - val_acc: 0.0200\n",
      "Epoch 77/100\n",
      "15/15 [==============================] - 0s 3ms/step - loss: -89281645.7500 - acc: 0.0349 - val_loss: -137046976.0000 - val_acc: 0.0200\n",
      "Epoch 78/100\n",
      "15/15 [==============================] - 0s 3ms/step - loss: -68096492.0000 - acc: 0.0278 - val_loss: -141859392.0000 - val_acc: 0.0200\n",
      "Epoch 79/100\n",
      "15/15 [==============================] - 0s 3ms/step - loss: -87539293.2500 - acc: 0.0331 - val_loss: -147465232.0000 - val_acc: 0.0200\n",
      "Epoch 80/100\n",
      "15/15 [==============================] - 0s 3ms/step - loss: -95824421.0000 - acc: 0.0446 - val_loss: -152516208.0000 - val_acc: 0.0200\n",
      "Epoch 81/100\n",
      "15/15 [==============================] - 0s 2ms/step - loss: -83532732.7500 - acc: 0.0304 - val_loss: -157681520.0000 - val_acc: 0.0200\n",
      "Epoch 82/100\n",
      "15/15 [==============================] - 0s 2ms/step - loss: -65767141.7500 - acc: 0.0330 - val_loss: -163041584.0000 - val_acc: 0.0200\n",
      "Epoch 83/100\n",
      "15/15 [==============================] - 0s 3ms/step - loss: -87075017.2500 - acc: 0.0287 - val_loss: -169171280.0000 - val_acc: 0.0200\n",
      "Epoch 84/100\n",
      "15/15 [==============================] - 0s 3ms/step - loss: -91405161.0000 - acc: 0.0274 - val_loss: -175168368.0000 - val_acc: 0.0200\n",
      "Epoch 85/100\n",
      "15/15 [==============================] - 0s 2ms/step - loss: -63610968.0000 - acc: 0.0453 - val_loss: -180828944.0000 - val_acc: 0.0200\n",
      "Epoch 86/100\n",
      "15/15 [==============================] - 0s 2ms/step - loss: -88716542.0000 - acc: 0.0480 - val_loss: -187648096.0000 - val_acc: 0.0200\n",
      "Epoch 87/100\n",
      "15/15 [==============================] - 0s 2ms/step - loss: -84465383.0000 - acc: 0.0278 - val_loss: -193892064.0000 - val_acc: 0.0200\n",
      "Epoch 88/100\n",
      "15/15 [==============================] - 0s 3ms/step - loss: -74629204.2500 - acc: 0.0172 - val_loss: -199821040.0000 - val_acc: 0.0200\n",
      "Epoch 89/100\n",
      "15/15 [==============================] - 0s 3ms/step - loss: -90898508.7500 - acc: 0.0364 - val_loss: -206356032.0000 - val_acc: 0.0200\n",
      "Epoch 90/100\n",
      "15/15 [==============================] - 0s 2ms/step - loss: -123919723.5000 - acc: 0.0292 - val_loss: -213275008.0000 - val_acc: 0.0200\n",
      "Epoch 91/100\n",
      "15/15 [==============================] - 0s 3ms/step - loss: -95072225.5000 - acc: 0.0364 - val_loss: -219726976.0000 - val_acc: 0.0200\n",
      "Epoch 92/100\n",
      "15/15 [==============================] - 0s 2ms/step - loss: -79873876.2500 - acc: 0.0250 - val_loss: -226020000.0000 - val_acc: 0.0200\n",
      "Epoch 93/100\n",
      "15/15 [==============================] - 0s 2ms/step - loss: -150308827.0000 - acc: 0.0260 - val_loss: -233578784.0000 - val_acc: 0.0200\n",
      "Epoch 94/100\n",
      "15/15 [==============================] - 0s 2ms/step - loss: -85036335.7500 - acc: 0.0223 - val_loss: -239551488.0000 - val_acc: 0.0200\n",
      "Epoch 95/100\n",
      "15/15 [==============================] - 0s 2ms/step - loss: -100886853.7500 - acc: 0.0412 - val_loss: -247229392.0000 - val_acc: 0.0200\n",
      "Epoch 96/100\n",
      "15/15 [==============================] - 0s 2ms/step - loss: -98639765.2500 - acc: 0.0463 - val_loss: -254763648.0000 - val_acc: 0.0200\n",
      "Epoch 97/100\n",
      "15/15 [==============================] - 0s 3ms/step - loss: -146972644.5000 - acc: 0.0358 - val_loss: -264063872.0000 - val_acc: 0.0200\n",
      "Epoch 98/100\n",
      "15/15 [==============================] - 0s 2ms/step - loss: -84376969.6250 - acc: 0.0362 - val_loss: -270321376.0000 - val_acc: 0.0200\n",
      "Epoch 99/100\n",
      "15/15 [==============================] - 0s 2ms/step - loss: -125930459.5000 - acc: 0.0351 - val_loss: -278710304.0000 - val_acc: 0.0200\n",
      "Epoch 100/100\n",
      "15/15 [==============================] - 0s 2ms/step - loss: -131232648.5000 - acc: 0.0324 - val_loss: -286314176.0000 - val_acc: 0.0200\n"
     ]
    }
   ],
   "source": [
    "# Model\n",
    "model_es = Sequential()\n",
    "\n",
    "# Compile it\n",
    "model_es.add(Dense(128,\n",
    "                  input_shape = Xs_train[0].shape,\n",
    "                  activation = 'relu',\n",
    "                  kernel_regularizer = l2(.001)\n",
    "))\n",
    "model_es.add(Dense(40,\n",
    "                  activation='relu',\n",
    "                  kernel_regularizer = l2(.001)\n",
    "))\n",
    "model_es.add(Dense(1,\n",
    "                  activation='softmax',\n",
    "                  kernel_regularizer= l2(.001)\n",
    "))\n",
    "model_es.compile(\n",
    "        loss='bce',\n",
    "        optimizer='adam',\n",
    "        metrics = ['acc']\n",
    ")\n",
    "\n",
    "early_stop = EarlyStopping(monitor='val_loss', min_delta=0, patience=5, verbose=1, mode='auto')\n",
    "\n",
    "# Fit it\n",
    "history_es = model_es.fit(\n",
    "    Xs_train,\n",
    "    y_train,\n",
    "    epochs = 100,\n",
    "    batch_size=None,\n",
    "    validation_data=(Xs_test, y_test),\n",
    "    callbacks = [early_stop]\n",
    ")"
   ]
  },
  {
   "cell_type": "code",
   "execution_count": 38,
   "metadata": {},
   "outputs": [
    {
     "data": {
      "image/png": "[encoded data removed]",
      "text/plain": [
       "<Figure size 432x288 with 1 Axes>"
      ]
     },
     "metadata": {
      "needs_background": "light"
     },
     "output_type": "display_data"
    }
   ],
   "source": [
    "plt.plot(history_es.history['loss'], label='Train loss')\n",
    "plt.plot(history_es.history['val_loss'], label='Val Loss')\n",
    "plt.legend();"
   ]
  },
  {
   "cell_type": "code",
   "execution_count": 39,
   "metadata": {},
   "outputs": [
    {
     "data": {
      "text/plain": [
       "(0.035555556416511536, 0.019999999552965164)"
      ]
     },
     "execution_count": 39,
     "metadata": {},
     "output_type": "execute_result"
    }
   ],
   "source": [
    "history_es.history['acc'][-1], history_es.history['val_acc'][-1]"
   ]
  },
  {
   "cell_type": "markdown",
   "metadata": {},
   "source": [
    "#### Summary of Neural Net Model: "
   ]
  },
  {
   "cell_type": "code",
   "execution_count": null,
   "metadata": {},
   "outputs": [],
   "source": []
  },
  {
   "cell_type": "markdown",
   "metadata": {},
   "source": [
    "## Summary of Models\n",
    "\n",
    "### COVID Prisoner Cases with deaths included: \n",
    "\n",
    "COVID Prisoner Cases without deaths included: \n",
    "\n",
    "__Linear Regression__\n",
    "\n",
    "-  Score on training set:0.8180795312955935\n",
    "-  Score on testing set:-5.8170565151838986e+23\n",
    "\n",
    "__Lasso__\n",
    "-  Score on training set:0.7609503373684571\n",
    "-  Score on training set:0.6983903238794658\n",
    "\n",
    "\n",
    "__Ridge__ \n",
    "-  Score on training set: 0.8094963426706153\n",
    "-  Score on training set: 0.7124276546436211\n",
    "\n",
    "__Random Forest__\n",
    "-  Score on training set: 0.9189652173379805\n",
    "-  Score on testing set: 0.6859160741131458\n",
    "\n",
    "__Random Forest Gridsearch__\n",
    "-  Score on training set: 0.5654878518466864\n",
    "-  Score on testing set: 0.6501270473152659\n",
    "\n",
    "__Bagged Decision Trees__ \n",
    "-  Score on training set: 0.8763100002510398\n",
    "-  Score on testing set: 0.4376169566600929\n",
    "\n",
    "__KNN__\n",
    "-  Score on training set: 0.55898124810199\n",
    "-  Score on testing set: 0.5411328935981178"
   ]
  }
 ],
 "metadata": {
  "kernelspec": {
   "display_name": "Python 3",
   "language": "python",
   "name": "python3"
  },
  "language_info": {
   "codemirror_mode": {
    "name": "ipython",
    "version": 3
   },
   "file_extension": ".py",
   "mimetype": "text/x-python",
   "name": "python",
   "nbconvert_exporter": "python",
   "pygments_lexer": "ipython3",
   "version": "3.8.3"
  },
  "toc": {
   "base_numbering": 1,
   "nav_menu": {},
   "number_sections": true,
   "sideBar": true,
   "skip_h1_title": false,
   "title_cell": "Table of Contents",
   "title_sidebar": "Contents",
   "toc_cell": true,
   "toc_position": {},
   "toc_section_display": true,
   "toc_window_display": true
  }
 },
 "nbformat": 4,
 "nbformat_minor": 4
}
