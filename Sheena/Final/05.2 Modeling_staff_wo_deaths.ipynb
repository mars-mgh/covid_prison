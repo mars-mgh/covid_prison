{
 "cells": [
  {
   "cell_type": "markdown",
   "metadata": {
    "toc": true
   },
   "source": [
    "<h1>Table of Contents<span class=\"tocSkip\"></span></h1>\n",
    "<div class=\"toc\"><ul class=\"toc-item\"><li><span><a href=\"#Imports-&amp;-Load-Data\" data-toc-modified-id=\"Imports-&amp;-Load-Data-1\"><span class=\"toc-item-num\">1&nbsp;&nbsp;</span>Imports &amp; Load Data</a></span></li><li><span><a href=\"#Data-Cleaning\" data-toc-modified-id=\"Data-Cleaning-2\"><span class=\"toc-item-num\">2&nbsp;&nbsp;</span>Data Cleaning</a></span></li><li><span><a href=\"#Feature-Engineering\" data-toc-modified-id=\"Feature-Engineering-3\"><span class=\"toc-item-num\">3&nbsp;&nbsp;</span>Feature Engineering</a></span></li><li><span><a href=\"#Set-X,-y\" data-toc-modified-id=\"Set-X,-y-4\"><span class=\"toc-item-num\">4&nbsp;&nbsp;</span>Set X, y</a></span></li><li><span><a href=\"#Scale-Features-before-Modeling\" data-toc-modified-id=\"Scale-Features-before-Modeling-5\"><span class=\"toc-item-num\">5&nbsp;&nbsp;</span>Scale Features before Modeling</a></span></li><li><span><a href=\"#Models,-models,-models...\" data-toc-modified-id=\"Models,-models,-models...-6\"><span class=\"toc-item-num\">6&nbsp;&nbsp;</span>Models, models, models...</a></span><ul class=\"toc-item\"><li><span><a href=\"#Linear-Regression\" data-toc-modified-id=\"Linear-Regression-6.1\"><span class=\"toc-item-num\">6.1&nbsp;&nbsp;</span>Linear Regression</a></span><ul class=\"toc-item\"><li><span><a href=\"#Summary-of-Linear-Regression-Model:\" data-toc-modified-id=\"Summary-of-Linear-Regression-Model:-6.1.1\"><span class=\"toc-item-num\">6.1.1&nbsp;&nbsp;</span>Summary of Linear Regression Model:</a></span></li></ul></li><li><span><a href=\"#Lasso\" data-toc-modified-id=\"Lasso-6.2\"><span class=\"toc-item-num\">6.2&nbsp;&nbsp;</span>Lasso</a></span><ul class=\"toc-item\"><li><span><a href=\"#Summary-of-Lasso-Model:\" data-toc-modified-id=\"Summary-of-Lasso-Model:-6.2.1\"><span class=\"toc-item-num\">6.2.1&nbsp;&nbsp;</span>Summary of Lasso Model:</a></span></li></ul></li><li><span><a href=\"#Ridge\" data-toc-modified-id=\"Ridge-6.3\"><span class=\"toc-item-num\">6.3&nbsp;&nbsp;</span>Ridge</a></span><ul class=\"toc-item\"><li><span><a href=\"#Summary-of-Ridge-Model:\" data-toc-modified-id=\"Summary-of-Ridge-Model:-6.3.1\"><span class=\"toc-item-num\">6.3.1&nbsp;&nbsp;</span>Summary of Ridge Model:</a></span></li></ul></li><li><span><a href=\"#Random-Forrest\" data-toc-modified-id=\"Random-Forrest-6.4\"><span class=\"toc-item-num\">6.4&nbsp;&nbsp;</span>Random Forrest</a></span><ul class=\"toc-item\"><li><span><a href=\"#Summary-of-Random-Forest:\" data-toc-modified-id=\"Summary-of-Random-Forest:-6.4.1\"><span class=\"toc-item-num\">6.4.1&nbsp;&nbsp;</span>Summary of Random Forest:</a></span></li><li><span><a href=\"#RF-Gridsearch\" data-toc-modified-id=\"RF-Gridsearch-6.4.2\"><span class=\"toc-item-num\">6.4.2&nbsp;&nbsp;</span>RF Gridsearch</a></span></li><li><span><a href=\"#Summary-of-RF-Gridsearch-Model:\" data-toc-modified-id=\"Summary-of-RF-Gridsearch-Model:-6.4.3\"><span class=\"toc-item-num\">6.4.3&nbsp;&nbsp;</span>Summary of RF Gridsearch Model:</a></span></li></ul></li><li><span><a href=\"#Bagged-Decision-Trees\" data-toc-modified-id=\"Bagged-Decision-Trees-6.5\"><span class=\"toc-item-num\">6.5&nbsp;&nbsp;</span>Bagged Decision Trees</a></span><ul class=\"toc-item\"><li><span><a href=\"#Summary-of-Bagged-Decision-Tree-Model:\" data-toc-modified-id=\"Summary-of-Bagged-Decision-Tree-Model:-6.5.1\"><span class=\"toc-item-num\">6.5.1&nbsp;&nbsp;</span>Summary of Bagged Decision Tree Model:</a></span></li></ul></li><li><span><a href=\"#KNN\" data-toc-modified-id=\"KNN-6.6\"><span class=\"toc-item-num\">6.6&nbsp;&nbsp;</span>KNN</a></span><ul class=\"toc-item\"><li><span><a href=\"#Summary-of-KNN-Model:\" data-toc-modified-id=\"Summary-of-KNN-Model:-6.6.1\"><span class=\"toc-item-num\">6.6.1&nbsp;&nbsp;</span>Summary of KNN Model:</a></span></li></ul></li><li><span><a href=\"#Regularized-Neural-Nets\" data-toc-modified-id=\"Regularized-Neural-Nets-6.7\"><span class=\"toc-item-num\">6.7&nbsp;&nbsp;</span>Regularized Neural Nets</a></span><ul class=\"toc-item\"><li><span><a href=\"#Summary-of-Neural-Net-Model:\" data-toc-modified-id=\"Summary-of-Neural-Net-Model:-6.7.1\"><span class=\"toc-item-num\">6.7.1&nbsp;&nbsp;</span>Summary of Neural Net Model:</a></span></li></ul></li><li><span><a href=\"#Summary-of-Models\" data-toc-modified-id=\"Summary-of-Models-6.8\"><span class=\"toc-item-num\">6.8&nbsp;&nbsp;</span>Summary of Models</a></span></li></ul></li><li><span><a href=\"#Summary-of-Models\" data-toc-modified-id=\"Summary-of-Models-7\"><span class=\"toc-item-num\">7&nbsp;&nbsp;</span>Summary of Models</a></span><ul class=\"toc-item\"><li><span><a href=\"#COVID-Staff-Cases-without-deaths-included:\" data-toc-modified-id=\"COVID-Staff-Cases-without-deaths-included:-7.1\"><span class=\"toc-item-num\">7.1&nbsp;&nbsp;</span>COVID Staff Cases without deaths included:</a></span></li></ul></li></ul></div>"
   ]
  },
  {
   "cell_type": "markdown",
   "metadata": {},
   "source": [
    "## Imports & Load Data"
   ]
  },
  {
   "cell_type": "code",
   "execution_count": 1,
   "metadata": {},
   "outputs": [],
   "source": [
    "import pandas as pd\n",
    "import numpy as np\n",
    "import matplotlib.pyplot as plt\n",
    "import seaborn as sns\n",
    "%matplotlib inline\n",
    "\n",
    "#Scaling Features \n",
    "from sklearn.preprocessing import StandardScaler\n",
    "\n",
    "\n",
    "#Imports for modeling Linear Regression, Lasso, Ridge, KNN, GridSearch\n",
    "\n",
    "from sklearn.linear_model import LinearRegression\n",
    "from sklearn import metrics\n",
    "from sklearn.model_selection import cross_val_score, GridSearchCV\n",
    "from sklearn.linear_model import Ridge, RidgeCV\n",
    "from sklearn.linear_model import Lasso, LassoCV\n",
    "from sklearn.neighbors import KNeighborsRegressor\n",
    "from sklearn.ensemble import RandomForestRegressor\n",
    "from sklearn.ensemble import BaggingRegressor\n",
    "\n",
    "\n",
    "#Tensor Flow for Neural Nets \n",
    "\n",
    "from tensorflow.keras.models import Sequential\n",
    "from tensorflow.keras.layers import Dense\n",
    "from tensorflow.keras.utils import to_categorical\n",
    "from keras.wrappers.scikit_learn import KerasRegressor\n",
    "from sklearn.datasets import make_classification, make_regression\n",
    "from tensorflow.keras.regularizers import l2\n",
    "from tensorflow.keras.callbacks import EarlyStopping\n",
    "from tensorflow.keras.optimizers import Adam, SGD\n"
   ]
  },
  {
   "cell_type": "code",
   "execution_count": 2,
   "metadata": {},
   "outputs": [],
   "source": [
    "df = pd.read_csv('./data/data_clean_complete_updated.csv')"
   ]
  },
  {
   "cell_type": "markdown",
   "metadata": {},
   "source": [
    "## Data Cleaning"
   ]
  },
  {
   "cell_type": "code",
   "execution_count": 3,
   "metadata": {
    "scrolled": true
   },
   "outputs": [
    {
     "data": {
      "text/html": [
       "<div>\n",
       "<style scoped>\n",
       "    .dataframe tbody tr th:only-of-type {\n",
       "        vertical-align: middle;\n",
       "    }\n",
       "\n",
       "    .dataframe tbody tr th {\n",
       "        vertical-align: top;\n",
       "    }\n",
       "\n",
       "    .dataframe thead th {\n",
       "        text-align: right;\n",
       "    }\n",
       "</style>\n",
       "<table border=\"1\" class=\"dataframe\">\n",
       "  <thead>\n",
       "    <tr style=\"text-align: right;\">\n",
       "      <th></th>\n",
       "      <th>name</th>\n",
       "      <th>state</th>\n",
       "      <th>staff_tests</th>\n",
       "      <th>total_staff_cases</th>\n",
       "      <th>staff_recovered</th>\n",
       "      <th>total_staff_deaths</th>\n",
       "      <th>prisoner_tests</th>\n",
       "      <th>total_prisoner_cases</th>\n",
       "      <th>prisoners_recovered</th>\n",
       "      <th>total_prisoner_deaths</th>\n",
       "      <th>...</th>\n",
       "      <th>Inmates participating in one or more work programs</th>\n",
       "      <th>Prison industries</th>\n",
       "      <th>Support services</th>\n",
       "      <th>Farming</th>\n",
       "      <th>Public works</th>\n",
       "      <th>Other work programs</th>\n",
       "      <th>No work programs</th>\n",
       "      <th>phone_rate_avg</th>\n",
       "      <th>Latitude</th>\n",
       "      <th>Longitude</th>\n",
       "    </tr>\n",
       "  </thead>\n",
       "  <tbody>\n",
       "    <tr>\n",
       "      <th>0</th>\n",
       "      <td>Alabama</td>\n",
       "      <td>AL</td>\n",
       "      <td>0.0</td>\n",
       "      <td>11.0</td>\n",
       "      <td>0.0</td>\n",
       "      <td>0.0</td>\n",
       "      <td>61.0</td>\n",
       "      <td>4.0</td>\n",
       "      <td>0.0</td>\n",
       "      <td>1.0</td>\n",
       "      <td>...</td>\n",
       "      <td>28.0</td>\n",
       "      <td>7.0</td>\n",
       "      <td>10.0</td>\n",
       "      <td>6.0</td>\n",
       "      <td>9.0</td>\n",
       "      <td>5.0</td>\n",
       "      <td>7.0</td>\n",
       "      <td>4.5</td>\n",
       "      <td>32.75</td>\n",
       "      <td>-86.75</td>\n",
       "    </tr>\n",
       "    <tr>\n",
       "      <th>1</th>\n",
       "      <td>Alabama</td>\n",
       "      <td>AL</td>\n",
       "      <td>0.0</td>\n",
       "      <td>42.0</td>\n",
       "      <td>0.0</td>\n",
       "      <td>0.0</td>\n",
       "      <td>74.0</td>\n",
       "      <td>7.0</td>\n",
       "      <td>0.0</td>\n",
       "      <td>0.0</td>\n",
       "      <td>...</td>\n",
       "      <td>28.0</td>\n",
       "      <td>7.0</td>\n",
       "      <td>10.0</td>\n",
       "      <td>6.0</td>\n",
       "      <td>9.0</td>\n",
       "      <td>5.0</td>\n",
       "      <td>7.0</td>\n",
       "      <td>4.5</td>\n",
       "      <td>32.75</td>\n",
       "      <td>-86.75</td>\n",
       "    </tr>\n",
       "    <tr>\n",
       "      <th>2</th>\n",
       "      <td>Alabama</td>\n",
       "      <td>AL</td>\n",
       "      <td>0.0</td>\n",
       "      <td>111.0</td>\n",
       "      <td>74.0</td>\n",
       "      <td>1.0</td>\n",
       "      <td>177.0</td>\n",
       "      <td>57.0</td>\n",
       "      <td>10.0</td>\n",
       "      <td>6.0</td>\n",
       "      <td>...</td>\n",
       "      <td>28.0</td>\n",
       "      <td>7.0</td>\n",
       "      <td>10.0</td>\n",
       "      <td>6.0</td>\n",
       "      <td>9.0</td>\n",
       "      <td>5.0</td>\n",
       "      <td>7.0</td>\n",
       "      <td>4.5</td>\n",
       "      <td>32.75</td>\n",
       "      <td>-86.75</td>\n",
       "    </tr>\n",
       "    <tr>\n",
       "      <th>3</th>\n",
       "      <td>Alabama</td>\n",
       "      <td>AL</td>\n",
       "      <td>0.0</td>\n",
       "      <td>125.0</td>\n",
       "      <td>82.0</td>\n",
       "      <td>1.0</td>\n",
       "      <td>407.0</td>\n",
       "      <td>131.0</td>\n",
       "      <td>96.0</td>\n",
       "      <td>8.0</td>\n",
       "      <td>...</td>\n",
       "      <td>28.0</td>\n",
       "      <td>7.0</td>\n",
       "      <td>10.0</td>\n",
       "      <td>6.0</td>\n",
       "      <td>9.0</td>\n",
       "      <td>5.0</td>\n",
       "      <td>7.0</td>\n",
       "      <td>4.5</td>\n",
       "      <td>32.75</td>\n",
       "      <td>-86.75</td>\n",
       "    </tr>\n",
       "    <tr>\n",
       "      <th>4</th>\n",
       "      <td>Alabama</td>\n",
       "      <td>AL</td>\n",
       "      <td>0.0</td>\n",
       "      <td>62.0</td>\n",
       "      <td>110.0</td>\n",
       "      <td>0.0</td>\n",
       "      <td>990.0</td>\n",
       "      <td>137.0</td>\n",
       "      <td>190.0</td>\n",
       "      <td>4.0</td>\n",
       "      <td>...</td>\n",
       "      <td>28.0</td>\n",
       "      <td>7.0</td>\n",
       "      <td>10.0</td>\n",
       "      <td>6.0</td>\n",
       "      <td>9.0</td>\n",
       "      <td>5.0</td>\n",
       "      <td>7.0</td>\n",
       "      <td>4.5</td>\n",
       "      <td>32.75</td>\n",
       "      <td>-86.75</td>\n",
       "    </tr>\n",
       "  </tbody>\n",
       "</table>\n",
       "<p>5 rows × 44 columns</p>\n",
       "</div>"
      ],
      "text/plain": [
       "      name state  staff_tests  total_staff_cases  staff_recovered  \\\n",
       "0  Alabama    AL          0.0               11.0              0.0   \n",
       "1  Alabama    AL          0.0               42.0              0.0   \n",
       "2  Alabama    AL          0.0              111.0             74.0   \n",
       "3  Alabama    AL          0.0              125.0             82.0   \n",
       "4  Alabama    AL          0.0               62.0            110.0   \n",
       "\n",
       "   total_staff_deaths  prisoner_tests  total_prisoner_cases  \\\n",
       "0                 0.0            61.0                   4.0   \n",
       "1                 0.0            74.0                   7.0   \n",
       "2                 1.0           177.0                  57.0   \n",
       "3                 1.0           407.0                 131.0   \n",
       "4                 0.0           990.0                 137.0   \n",
       "\n",
       "   prisoners_recovered  total_prisoner_deaths  ...  \\\n",
       "0                  0.0                    1.0  ...   \n",
       "1                  0.0                    0.0  ...   \n",
       "2                 10.0                    6.0  ...   \n",
       "3                 96.0                    8.0  ...   \n",
       "4                190.0                    4.0  ...   \n",
       "\n",
       "  Inmates participating in one or more work programs  Prison industries  \\\n",
       "0                                               28.0                7.0   \n",
       "1                                               28.0                7.0   \n",
       "2                                               28.0                7.0   \n",
       "3                                               28.0                7.0   \n",
       "4                                               28.0                7.0   \n",
       "\n",
       "   Support services Farming   Public works  Other work programs   \\\n",
       "0              10.0      6.0           9.0                   5.0   \n",
       "1              10.0      6.0           9.0                   5.0   \n",
       "2              10.0      6.0           9.0                   5.0   \n",
       "3              10.0      6.0           9.0                   5.0   \n",
       "4              10.0      6.0           9.0                   5.0   \n",
       "\n",
       "   No work programs  phone_rate_avg  Latitude  Longitude  \n",
       "0               7.0             4.5     32.75     -86.75  \n",
       "1               7.0             4.5     32.75     -86.75  \n",
       "2               7.0             4.5     32.75     -86.75  \n",
       "3               7.0             4.5     32.75     -86.75  \n",
       "4               7.0             4.5     32.75     -86.75  \n",
       "\n",
       "[5 rows x 44 columns]"
      ]
     },
     "execution_count": 3,
     "metadata": {},
     "output_type": "execute_result"
    }
   ],
   "source": [
    "df.head()"
   ]
  },
  {
   "cell_type": "code",
   "execution_count": 4,
   "metadata": {},
   "outputs": [
    {
     "name": "stdout",
     "output_type": "stream",
     "text": [
      "<class 'pandas.core.frame.DataFrame'>\n",
      "RangeIndex: 510 entries, 0 to 509\n",
      "Data columns (total 44 columns):\n",
      " #   Column                                              Non-Null Count  Dtype  \n",
      "---  ------                                              --------------  -----  \n",
      " 0   name                                                510 non-null    object \n",
      " 1   state                                               510 non-null    object \n",
      " 2   staff_tests                                         340 non-null    float64\n",
      " 3   total_staff_cases                                   510 non-null    float64\n",
      " 4   staff_recovered                                     500 non-null    float64\n",
      " 5   total_staff_deaths                                  510 non-null    float64\n",
      " 6   prisoner_tests                                      500 non-null    float64\n",
      " 7   total_prisoner_cases                                510 non-null    float64\n",
      " 8   prisoners_recovered                                 500 non-null    float64\n",
      " 9   total_prisoner_deaths                               510 non-null    float64\n",
      " 10  as_of_date                                          510 non-null    object \n",
      " 11  year                                                510 non-null    float64\n",
      " 12  month                                               510 non-null    float64\n",
      " 13  region                                              510 non-null    object \n",
      " 14  civ_death                                           510 non-null    int64  \n",
      " 15  civ_cases                                           510 non-null    int64  \n",
      " 16  civ_hosp                                            510 non-null    int64  \n",
      " 17  civ_tests                                           510 non-null    int64  \n",
      " 18  Design capacity 2000/a                              500 non-null    float64\n",
      " 19  Design capacity 2005/a                              500 non-null    float64\n",
      " 20  Percent of design capacity occupied 2000            500 non-null    float64\n",
      " 21  Percent of design capacity occupied 2005            500 non-null    float64\n",
      " 22  Rated capacity 2000                                 500 non-null    float64\n",
      " 23  Rated capacity 2005                                 500 non-null    float64\n",
      " 24  Percent of rated capacity occupied 2000             500 non-null    float64\n",
      " 25  Percent of rated capacity occupied 2005             500 non-null    float64\n",
      " 26  Total_18                                            500 non-null    float64\n",
      " 27  Male_18                                             500 non-null    float64\n",
      " 28  Female_18                                           500 non-null    float64\n",
      " 29  Total_19                                            500 non-null    float64\n",
      " 30  Male_19                                             500 non-null    float64\n",
      " 31  Female_19                                           500 non-null    float64\n",
      " 32  Total number of facilities                          500 non-null    float64\n",
      " 33  Facilities operating one or more work programs      500 non-null    float64\n",
      " 34  Inmates participating in one or more work programs  500 non-null    float64\n",
      " 35  Prison industries                                   500 non-null    float64\n",
      " 36  Support services                                    500 non-null    float64\n",
      " 37  Farming                                             500 non-null    float64\n",
      " 38  Public works                                        500 non-null    float64\n",
      " 39  Other work programs                                 500 non-null    float64\n",
      " 40  No work programs                                    500 non-null    float64\n",
      " 41  phone_rate_avg                                      500 non-null    float64\n",
      " 42  Latitude                                            500 non-null    float64\n",
      " 43  Longitude                                           500 non-null    float64\n",
      "dtypes: float64(36), int64(4), object(4)\n",
      "memory usage: 175.4+ KB\n"
     ]
    }
   ],
   "source": [
    "df.info()"
   ]
  },
  {
   "cell_type": "code",
   "execution_count": 5,
   "metadata": {},
   "outputs": [
    {
     "data": {
      "text/plain": [
       "(510, 44)"
      ]
     },
     "execution_count": 5,
     "metadata": {},
     "output_type": "execute_result"
    }
   ],
   "source": [
    "df.shape"
   ]
  },
  {
   "cell_type": "code",
   "execution_count": 6,
   "metadata": {},
   "outputs": [
    {
     "data": {
      "text/plain": [
       "name                                                    0\n",
       "state                                                   0\n",
       "staff_tests                                           170\n",
       "total_staff_cases                                       0\n",
       "staff_recovered                                        10\n",
       "total_staff_deaths                                      0\n",
       "prisoner_tests                                         10\n",
       "total_prisoner_cases                                    0\n",
       "prisoners_recovered                                    10\n",
       "total_prisoner_deaths                                   0\n",
       "as_of_date                                              0\n",
       "year                                                    0\n",
       "month                                                   0\n",
       "region                                                  0\n",
       "civ_death                                               0\n",
       "civ_cases                                               0\n",
       "civ_hosp                                                0\n",
       "civ_tests                                               0\n",
       "Design capacity 2000/a                                 10\n",
       "Design capacity 2005/a                                 10\n",
       "Percent of design capacity occupied 2000               10\n",
       "Percent of design capacity occupied 2005               10\n",
       "Rated capacity 2000                                    10\n",
       "Rated capacity 2005                                    10\n",
       "Percent of rated capacity occupied 2000                10\n",
       "Percent of rated capacity occupied 2005                10\n",
       "Total_18                                               10\n",
       "Male_18                                                10\n",
       "Female_18                                              10\n",
       "Total_19                                               10\n",
       "Male_19                                                10\n",
       "Female_19                                              10\n",
       "Total number of facilities                             10\n",
       "Facilities operating one or more work programs         10\n",
       "Inmates participating in one or more work programs     10\n",
       "Prison industries                                      10\n",
       "Support services                                       10\n",
       "Farming                                                10\n",
       "Public works                                           10\n",
       "Other work programs                                    10\n",
       "No work programs                                       10\n",
       "phone_rate_avg                                         10\n",
       "Latitude                                               10\n",
       "Longitude                                              10\n",
       "dtype: int64"
      ]
     },
     "execution_count": 6,
     "metadata": {},
     "output_type": "execute_result"
    }
   ],
   "source": [
    "df.isnull().sum()"
   ]
  },
  {
   "cell_type": "markdown",
   "metadata": {},
   "source": [
    "Removing State column as it is a duplicate, using name which is equal to state."
   ]
  },
  {
   "cell_type": "code",
   "execution_count": 7,
   "metadata": {},
   "outputs": [],
   "source": [
    "df.drop(columns=['state'], inplace= True)"
   ]
  },
  {
   "cell_type": "markdown",
   "metadata": {},
   "source": [
    "Removing Federal column as it is not granular description useful for modeling."
   ]
  },
  {
   "cell_type": "code",
   "execution_count": 8,
   "metadata": {},
   "outputs": [],
   "source": [
    "df.drop(df.loc[df['name']== 'Federal'].index, inplace=True)"
   ]
  },
  {
   "cell_type": "markdown",
   "metadata": {},
   "source": [
    "Checking for remaining null values."
   ]
  },
  {
   "cell_type": "code",
   "execution_count": 9,
   "metadata": {},
   "outputs": [
    {
     "data": {
      "text/plain": [
       "name                                                    0\n",
       "staff_tests                                           160\n",
       "total_staff_cases                                       0\n",
       "staff_recovered                                        10\n",
       "total_staff_deaths                                      0\n",
       "prisoner_tests                                         10\n",
       "total_prisoner_cases                                    0\n",
       "prisoners_recovered                                    10\n",
       "total_prisoner_deaths                                   0\n",
       "as_of_date                                              0\n",
       "year                                                    0\n",
       "month                                                   0\n",
       "region                                                  0\n",
       "civ_death                                               0\n",
       "civ_cases                                               0\n",
       "civ_hosp                                                0\n",
       "civ_tests                                               0\n",
       "Design capacity 2000/a                                  0\n",
       "Design capacity 2005/a                                  0\n",
       "Percent of design capacity occupied 2000                0\n",
       "Percent of design capacity occupied 2005                0\n",
       "Rated capacity 2000                                     0\n",
       "Rated capacity 2005                                     0\n",
       "Percent of rated capacity occupied 2000                 0\n",
       "Percent of rated capacity occupied 2005                 0\n",
       "Total_18                                                0\n",
       "Male_18                                                 0\n",
       "Female_18                                               0\n",
       "Total_19                                                0\n",
       "Male_19                                                 0\n",
       "Female_19                                               0\n",
       "Total number of facilities                              0\n",
       "Facilities operating one or more work programs          0\n",
       "Inmates participating in one or more work programs      0\n",
       "Prison industries                                       0\n",
       "Support services                                        0\n",
       "Farming                                                 0\n",
       "Public works                                            0\n",
       "Other work programs                                     0\n",
       "No work programs                                        0\n",
       "phone_rate_avg                                          0\n",
       "Latitude                                                0\n",
       "Longitude                                               0\n",
       "dtype: int64"
      ]
     },
     "execution_count": 9,
     "metadata": {},
     "output_type": "execute_result"
    }
   ],
   "source": [
    "df.isnull().sum()"
   ]
  },
  {
   "cell_type": "markdown",
   "metadata": {},
   "source": [
    "Dropping remaining null values."
   ]
  },
  {
   "cell_type": "code",
   "execution_count": 10,
   "metadata": {},
   "outputs": [],
   "source": [
    "df.drop(columns=['staff_tests', 'staff_recovered', 'prisoner_tests', 'prisoners_recovered'], inplace= True)"
   ]
  },
  {
   "cell_type": "markdown",
   "metadata": {},
   "source": [
    "## Feature Engineering"
   ]
  },
  {
   "cell_type": "markdown",
   "metadata": {},
   "source": [
    "Transposing categorical features such as Region and State to numerical outputs to use for modeling."
   ]
  },
  {
   "cell_type": "code",
   "execution_count": 11,
   "metadata": {},
   "outputs": [],
   "source": [
    "df = pd.get_dummies(data = df, columns= ['region', 'name'], drop_first=True)"
   ]
  },
  {
   "cell_type": "markdown",
   "metadata": {},
   "source": [
    "Dropped as of date, as month will be used for modeling."
   ]
  },
  {
   "cell_type": "code",
   "execution_count": 12,
   "metadata": {},
   "outputs": [],
   "source": [
    "df.drop(columns=['as_of_date'], inplace= True)"
   ]
  },
  {
   "cell_type": "markdown",
   "metadata": {},
   "source": [
    "Confirming no nulls before modeling."
   ]
  },
  {
   "cell_type": "code",
   "execution_count": 13,
   "metadata": {},
   "outputs": [
    {
     "data": {
      "text/plain": [
       "0"
      ]
     },
     "execution_count": 13,
     "metadata": {},
     "output_type": "execute_result"
    }
   ],
   "source": [
    "df.isnull().sum().sum()"
   ]
  },
  {
   "cell_type": "markdown",
   "metadata": {},
   "source": [
    "Sorting all observations by chronological order"
   ]
  },
  {
   "cell_type": "code",
   "execution_count": 14,
   "metadata": {},
   "outputs": [],
   "source": [
    "df.sort_values('month', ascending = True, inplace = True)"
   ]
  },
  {
   "cell_type": "code",
   "execution_count": 15,
   "metadata": {},
   "outputs": [
    {
     "data": {
      "text/html": [
       "<div>\n",
       "<style scoped>\n",
       "    .dataframe tbody tr th:only-of-type {\n",
       "        vertical-align: middle;\n",
       "    }\n",
       "\n",
       "    .dataframe tbody tr th {\n",
       "        vertical-align: top;\n",
       "    }\n",
       "\n",
       "    .dataframe thead th {\n",
       "        text-align: right;\n",
       "    }\n",
       "</style>\n",
       "<table border=\"1\" class=\"dataframe\">\n",
       "  <thead>\n",
       "    <tr style=\"text-align: right;\">\n",
       "      <th></th>\n",
       "      <th>total_staff_cases</th>\n",
       "      <th>total_staff_deaths</th>\n",
       "      <th>total_prisoner_cases</th>\n",
       "      <th>total_prisoner_deaths</th>\n",
       "      <th>year</th>\n",
       "      <th>month</th>\n",
       "      <th>civ_death</th>\n",
       "      <th>civ_cases</th>\n",
       "      <th>civ_hosp</th>\n",
       "      <th>civ_tests</th>\n",
       "      <th>...</th>\n",
       "      <th>name_South Dakota</th>\n",
       "      <th>name_Tennessee</th>\n",
       "      <th>name_Texas</th>\n",
       "      <th>name_Utah</th>\n",
       "      <th>name_Vermont</th>\n",
       "      <th>name_Virginia</th>\n",
       "      <th>name_Washington</th>\n",
       "      <th>name_West Virginia</th>\n",
       "      <th>name_Wisconsin</th>\n",
       "      <th>name_Wyoming</th>\n",
       "    </tr>\n",
       "  </thead>\n",
       "  <tbody>\n",
       "    <tr>\n",
       "      <th>259</th>\n",
       "      <td>232.0</td>\n",
       "      <td>0.0</td>\n",
       "      <td>217.0</td>\n",
       "      <td>2.0</td>\n",
       "      <td>2021.0</td>\n",
       "      <td>1.0</td>\n",
       "      <td>1229</td>\n",
       "      <td>66249</td>\n",
       "      <td>0</td>\n",
       "      <td>518554</td>\n",
       "      <td>...</td>\n",
       "      <td>0</td>\n",
       "      <td>0</td>\n",
       "      <td>0</td>\n",
       "      <td>0</td>\n",
       "      <td>0</td>\n",
       "      <td>0</td>\n",
       "      <td>0</td>\n",
       "      <td>0</td>\n",
       "      <td>0</td>\n",
       "      <td>0</td>\n",
       "    </tr>\n",
       "    <tr>\n",
       "      <th>269</th>\n",
       "      <td>25.0</td>\n",
       "      <td>0.0</td>\n",
       "      <td>3.0</td>\n",
       "      <td>0.0</td>\n",
       "      <td>2021.0</td>\n",
       "      <td>1.0</td>\n",
       "      <td>272</td>\n",
       "      <td>12394</td>\n",
       "      <td>677</td>\n",
       "      <td>162660</td>\n",
       "      <td>...</td>\n",
       "      <td>0</td>\n",
       "      <td>0</td>\n",
       "      <td>0</td>\n",
       "      <td>0</td>\n",
       "      <td>0</td>\n",
       "      <td>0</td>\n",
       "      <td>0</td>\n",
       "      <td>0</td>\n",
       "      <td>0</td>\n",
       "      <td>0</td>\n",
       "    </tr>\n",
       "    <tr>\n",
       "      <th>249</th>\n",
       "      <td>1.0</td>\n",
       "      <td>0.0</td>\n",
       "      <td>68.0</td>\n",
       "      <td>12.0</td>\n",
       "      <td>2021.0</td>\n",
       "      <td>1.0</td>\n",
       "      <td>1258</td>\n",
       "      <td>59190</td>\n",
       "      <td>502</td>\n",
       "      <td>196032</td>\n",
       "      <td>...</td>\n",
       "      <td>0</td>\n",
       "      <td>0</td>\n",
       "      <td>0</td>\n",
       "      <td>0</td>\n",
       "      <td>0</td>\n",
       "      <td>0</td>\n",
       "      <td>0</td>\n",
       "      <td>0</td>\n",
       "      <td>0</td>\n",
       "      <td>0</td>\n",
       "    </tr>\n",
       "    <tr>\n",
       "      <th>239</th>\n",
       "      <td>49.0</td>\n",
       "      <td>0.0</td>\n",
       "      <td>243.0</td>\n",
       "      <td>2.0</td>\n",
       "      <td>2021.0</td>\n",
       "      <td>1.0</td>\n",
       "      <td>877</td>\n",
       "      <td>46505</td>\n",
       "      <td>2444</td>\n",
       "      <td>0</td>\n",
       "      <td>...</td>\n",
       "      <td>0</td>\n",
       "      <td>0</td>\n",
       "      <td>0</td>\n",
       "      <td>0</td>\n",
       "      <td>0</td>\n",
       "      <td>0</td>\n",
       "      <td>0</td>\n",
       "      <td>0</td>\n",
       "      <td>0</td>\n",
       "      <td>0</td>\n",
       "    </tr>\n",
       "    <tr>\n",
       "      <th>229</th>\n",
       "      <td>478.0</td>\n",
       "      <td>0.0</td>\n",
       "      <td>2498.0</td>\n",
       "      <td>16.0</td>\n",
       "      <td>2021.0</td>\n",
       "      <td>1.0</td>\n",
       "      <td>2507</td>\n",
       "      <td>81517</td>\n",
       "      <td>0</td>\n",
       "      <td>1262392</td>\n",
       "      <td>...</td>\n",
       "      <td>0</td>\n",
       "      <td>0</td>\n",
       "      <td>0</td>\n",
       "      <td>0</td>\n",
       "      <td>0</td>\n",
       "      <td>0</td>\n",
       "      <td>0</td>\n",
       "      <td>0</td>\n",
       "      <td>0</td>\n",
       "      <td>0</td>\n",
       "    </tr>\n",
       "  </tbody>\n",
       "</table>\n",
       "<p>5 rows × 88 columns</p>\n",
       "</div>"
      ],
      "text/plain": [
       "     total_staff_cases  total_staff_deaths  total_prisoner_cases  \\\n",
       "259              232.0                 0.0                 217.0   \n",
       "269               25.0                 0.0                   3.0   \n",
       "249                1.0                 0.0                  68.0   \n",
       "239               49.0                 0.0                 243.0   \n",
       "229              478.0                 0.0                2498.0   \n",
       "\n",
       "     total_prisoner_deaths    year  month  civ_death  civ_cases  civ_hosp  \\\n",
       "259                    2.0  2021.0    1.0       1229      66249         0   \n",
       "269                    0.0  2021.0    1.0        272      12394       677   \n",
       "249                   12.0  2021.0    1.0       1258      59190       502   \n",
       "239                    2.0  2021.0    1.0        877      46505      2444   \n",
       "229                   16.0  2021.0    1.0       2507      81517         0   \n",
       "\n",
       "     civ_tests  ...  name_South Dakota  name_Tennessee  name_Texas  name_Utah  \\\n",
       "259     518554  ...                  0               0           0          0   \n",
       "269     162660  ...                  0               0           0          0   \n",
       "249     196032  ...                  0               0           0          0   \n",
       "239          0  ...                  0               0           0          0   \n",
       "229    1262392  ...                  0               0           0          0   \n",
       "\n",
       "     name_Vermont  name_Virginia  name_Washington  name_West Virginia  \\\n",
       "259             0              0                0                   0   \n",
       "269             0              0                0                   0   \n",
       "249             0              0                0                   0   \n",
       "239             0              0                0                   0   \n",
       "229             0              0                0                   0   \n",
       "\n",
       "     name_Wisconsin  name_Wyoming  \n",
       "259               0             0  \n",
       "269               0             0  \n",
       "249               0             0  \n",
       "239               0             0  \n",
       "229               0             0  \n",
       "\n",
       "[5 rows x 88 columns]"
      ]
     },
     "execution_count": 15,
     "metadata": {},
     "output_type": "execute_result"
    }
   ],
   "source": [
    "df.head()"
   ]
  },
  {
   "cell_type": "markdown",
   "metadata": {},
   "source": [
    "## Set X, y"
   ]
  },
  {
   "cell_type": "markdown",
   "metadata": {},
   "source": [
    "Customizing train test split, to ensure training captures 2020 data and test captures 2021 data for model to predict future observations."
   ]
  },
  {
   "cell_type": "code",
   "execution_count": 16,
   "metadata": {},
   "outputs": [],
   "source": [
    "df_train = df[df[\"year\"] == 2020]\n",
    "df_test = df[df[\"year\"] == 2021]"
   ]
  },
  {
   "cell_type": "code",
   "execution_count": 17,
   "metadata": {},
   "outputs": [
    {
     "data": {
      "text/plain": [
       "(450, 88)"
      ]
     },
     "execution_count": 17,
     "metadata": {},
     "output_type": "execute_result"
    }
   ],
   "source": [
    "df_train.shape"
   ]
  },
  {
   "cell_type": "markdown",
   "metadata": {},
   "source": [
    "Setting X_train to include the following features:\n",
    "\n",
    "\n",
    "- Prisoner Cases\n",
    "- Prisoner Deaths\n",
    "- Civilian Cases\n",
    "- Civilian Hospitalizations\n",
    "- Civilian Tests\n",
    "- States Regions \n",
    "- Months \n",
    "\n",
    "Setting y_train to include the following features:\n",
    "\n",
    "- Total staff cases"
   ]
  },
  {
   "cell_type": "code",
   "execution_count": 18,
   "metadata": {},
   "outputs": [],
   "source": [
    "X_train = df_train.drop(columns = ['Design capacity 2000/a',\n",
    "       'Design capacity 2005/a', 'Percent of design capacity occupied 2000',\n",
    "       'Percent of design capacity occupied 2005', 'Rated capacity 2000',\n",
    "       'Rated capacity 2005', 'Percent of rated capacity occupied 2000',\n",
    "       'Percent of rated capacity occupied 2005', 'Total_18', 'Male_18',\n",
    "       'Female_18', 'Total_19', 'Male_19', 'Female_19',\n",
    "       'Total number of facilities',\n",
    "       'Facilities operating one or more work programs',\n",
    "       'Inmates participating in one or more work programs',\n",
    "       'Prison industries', 'Support services', 'Farming ', 'Public works',\n",
    "       'Other work programs ', 'No work programs', 'phone_rate_avg',\n",
    "       'Latitude', 'Longitude','total_staff_cases','total_staff_deaths'])\n"
   ]
  },
  {
   "cell_type": "code",
   "execution_count": 19,
   "metadata": {},
   "outputs": [],
   "source": [
    "y_train = df_train['total_staff_cases']"
   ]
  },
  {
   "cell_type": "code",
   "execution_count": 20,
   "metadata": {},
   "outputs": [
    {
     "data": {
      "text/plain": [
       "((450, 60), (450,))"
      ]
     },
     "execution_count": 20,
     "metadata": {},
     "output_type": "execute_result"
    }
   ],
   "source": [
    "X_train.shape, y_train.shape"
   ]
  },
  {
   "cell_type": "markdown",
   "metadata": {},
   "source": [
    "Setting X_test to include the following features:\n",
    "\n",
    "- Staff Deaths\n",
    "- Prisoner Cases\n",
    "- Prisoner Deaths\n",
    "- Civilian Cases\n",
    "- Civilian Hospitalizations\n",
    "- Civilian Tests\n",
    "- States Regions \n",
    "- Months \n",
    "\n",
    "Setting y_train to include the following features:\n",
    "\n",
    "- Total staff cases"
   ]
  },
  {
   "cell_type": "code",
   "execution_count": 21,
   "metadata": {},
   "outputs": [],
   "source": [
    "X_test = df_test.drop(columns = ['Design capacity 2000/a',\n",
    "       'Design capacity 2005/a', 'Percent of design capacity occupied 2000',\n",
    "       'Percent of design capacity occupied 2005', 'Rated capacity 2000',\n",
    "       'Rated capacity 2005', 'Percent of rated capacity occupied 2000',\n",
    "       'Percent of rated capacity occupied 2005', 'Total_18', 'Male_18',\n",
    "       'Female_18', 'Total_19', 'Male_19', 'Female_19',\n",
    "       'Total number of facilities',\n",
    "       'Facilities operating one or more work programs',\n",
    "       'Inmates participating in one or more work programs',\n",
    "       'Prison industries', 'Support services', 'Farming ', 'Public works',\n",
    "       'Other work programs ', 'No work programs', 'phone_rate_avg',\n",
    "       'Latitude', 'Longitude','total_staff_cases','total_staff_deaths'])"
   ]
  },
  {
   "cell_type": "code",
   "execution_count": 22,
   "metadata": {},
   "outputs": [],
   "source": [
    "y_test = df_test['total_staff_cases']"
   ]
  },
  {
   "cell_type": "markdown",
   "metadata": {},
   "source": [
    "Check X_test and y_test are the same shape, and ensure X_test is equal to 2021 data and X_train is equal to 2020 data."
   ]
  },
  {
   "cell_type": "code",
   "execution_count": 23,
   "metadata": {},
   "outputs": [
    {
     "data": {
      "text/plain": [
       "((50, 60), (50,))"
      ]
     },
     "execution_count": 23,
     "metadata": {},
     "output_type": "execute_result"
    }
   ],
   "source": [
    "X_test.shape, y_test.shape"
   ]
  },
  {
   "cell_type": "code",
   "execution_count": 24,
   "metadata": {},
   "outputs": [
    {
     "data": {
      "text/plain": [
       "(2021.0    50\n",
       " Name: year, dtype: int64,\n",
       " 2020.0    450\n",
       " Name: year, dtype: int64)"
      ]
     },
     "execution_count": 24,
     "metadata": {},
     "output_type": "execute_result"
    }
   ],
   "source": [
    "X_test.year.value_counts(), X_train.year.value_counts()"
   ]
  },
  {
   "cell_type": "markdown",
   "metadata": {},
   "source": [
    "## Scale Features before Modeling"
   ]
  },
  {
   "cell_type": "code",
   "execution_count": 25,
   "metadata": {},
   "outputs": [],
   "source": [
    "#Initiate standard scaler\n",
    "ss = StandardScaler()\n",
    "\n",
    "#finding the mean of standard deviation for each column\n",
    "Xs_train = ss.fit_transform(X_train)\n",
    "Xs_test = ss.transform(X_test)"
   ]
  },
  {
   "cell_type": "markdown",
   "metadata": {},
   "source": [
    "## Models, models, models..."
   ]
  },
  {
   "cell_type": "markdown",
   "metadata": {},
   "source": [
    "### Linear Regression"
   ]
  },
  {
   "cell_type": "code",
   "execution_count": 26,
   "metadata": {},
   "outputs": [
    {
     "name": "stdout",
     "output_type": "stream",
     "text": [
      "Score on training set:0.9503202823000696\n",
      "Score on testing set:-2.0433820809244938e+22\n",
      "Cross val scores: 0.7179588812431958\n",
      "RMSE score: 6.831660799360823e+27\n"
     ]
    }
   ],
   "source": [
    "# Step 2: Instantiate the model\n",
    "lr = LinearRegression()\n",
    "\n",
    "# Step 3: Fit the model\n",
    "lr.fit(Xs_train, y_train)\n",
    "\n",
    "lr_preds = lr.predict(Xs_test)\n",
    "\n",
    "print(f'Score on training set:{lr.score(Xs_train, y_train)}') \n",
    "print(f'Score on testing set:{lr.score(Xs_test, y_test)}')\n",
    "print(f'Cross val scores: {cross_val_score(lr, Xs_train, y_train, cv = 5).mean()}')\n",
    "print(f'RMSE score: {metrics.mean_squared_error(y_test, lr_preds)}')"
   ]
  },
  {
   "cell_type": "markdown",
   "metadata": {},
   "source": [
    "#### Summary of Linear Regression Model: \n",
    "\n",
    "There is large variance between the training and testing R2 scores. This indicates our model is overfit. As the model performs well on the training data but unable to perform on data it has not seen before. The model is not able to explain any of the variance in the data. Will attempt other models for a better fit."
   ]
  },
  {
   "cell_type": "markdown",
   "metadata": {},
   "source": [
    "### Lasso"
   ]
  },
  {
   "cell_type": "code",
   "execution_count": 27,
   "metadata": {},
   "outputs": [
    {
     "name": "stdout",
     "output_type": "stream",
     "text": [
      "Score on training set:0.9495306947553335\n",
      "Score on training set:0.7237329272385131\n",
      "Cross val scores: 0.6947367296066507\n"
     ]
    }
   ],
   "source": [
    "from sklearn.model_selection import cross_val_score, GridSearchCV\n",
    "from sklearn.linear_model import Lasso, LassoCV\n",
    "\n",
    "# Set up a list of Lasso alphas to check.\n",
    "l_alphas = np.logspace(0.001, 100, 500)\n",
    "\n",
    "# Cross-validate over our list of Lasso alphas.\n",
    "lasso_cv = LassoCV(alphas= l_alphas, cv = 50, max_iter= 5000)\n",
    "\n",
    "# Fit model using best alpha\n",
    "lasso_cv.fit(Xs_train, y_train)\n",
    "\n",
    "# Here is the optimal value of alpha\n",
    "lasso_cv.alpha_\n",
    "\n",
    "print(f'Score on training set:{lasso_cv.score(Xs_train, y_train)}')\n",
    "print(f'Score on training set:{lasso_cv.score(Xs_test, y_test)}')\n",
    "print(f'Cross val scores: {cross_val_score(lasso_cv, Xs_train, y_train, cv = 5).mean()}')"
   ]
  },
  {
   "cell_type": "markdown",
   "metadata": {},
   "source": [
    "#### Summary of Lasso Model: \n",
    "\n",
    "There is a slighlty large variance between the training and testing R2 scores. This indicates our model is overfit on train and underfit on testing. The model performs better on training but unable to perform as high on data it has not seen before. The model is only able to explain 72% of the variance in the data. Will attempt other models for a better fit."
   ]
  },
  {
   "cell_type": "markdown",
   "metadata": {},
   "source": [
    "### Ridge"
   ]
  },
  {
   "cell_type": "code",
   "execution_count": 28,
   "metadata": {},
   "outputs": [
    {
     "name": "stdout",
     "output_type": "stream",
     "text": [
      "Score on training set:0.9495306947553335\n",
      "Score on training set:0.7237329272385131\n",
      "Cross val scores: 0.6947367296066507\n"
     ]
    }
   ],
   "source": [
    "from sklearn.model_selection import cross_val_score, GridSearchCV\n",
    "from sklearn.linear_model import Lasso, LassoCV\n",
    "\n",
    "# Set up a list of Lasso alphas to check.\n",
    "l_alphas = np.logspace(0.001, 100, 500)\n",
    "\n",
    "# Cross-validate over our list of Lasso alphas.\n",
    "lasso_cv = LassoCV(alphas= l_alphas, cv = 50, max_iter= 5000)\n",
    "\n",
    "# Fit model using best alpha\n",
    "lasso_cv.fit(Xs_train, y_train)\n",
    "\n",
    "# Here is the optimal value of alpha\n",
    "lasso_cv.alpha_\n",
    "\n",
    "print(f'Score on training set:{lasso_cv.score(Xs_train, y_train)}')\n",
    "print(f'Score on training set:{lasso_cv.score(Xs_test, y_test)}')\n",
    "print(f'Cross val scores: {cross_val_score(lasso_cv, Xs_train, y_train, cv = 5).mean()}')"
   ]
  },
  {
   "cell_type": "markdown",
   "metadata": {},
   "source": [
    "#### Summary of Ridge Model: \n",
    "\n",
    "There is a large variance between the training and testing R2 scores. This model is able to explain 71% of the variance in the dataset. Ridge is a supervised learning model which aims to reduce overfitting between train test split however additional considerations need to be taken into account. "
   ]
  },
  {
   "cell_type": "markdown",
   "metadata": {},
   "source": [
    "### Random Forrest"
   ]
  },
  {
   "cell_type": "code",
   "execution_count": 29,
   "metadata": {},
   "outputs": [],
   "source": [
    "from sklearn.ensemble import RandomForestRegressor"
   ]
  },
  {
   "cell_type": "code",
   "execution_count": 30,
   "metadata": {},
   "outputs": [
    {
     "name": "stdout",
     "output_type": "stream",
     "text": [
      "Score on training set: 0.9476614145519952\n",
      "Score on testing set: 0.8917946192380667\n",
      "Cross val scores: 0.606667761480091\n",
      "RMSE score: 36176.418738915556\n"
     ]
    }
   ],
   "source": [
    "rf = RandomForestRegressor( n_estimators= 750,\n",
    "                           random_state = 42)\n",
    "rf.fit(Xs_train, y_train)\n",
    "\n",
    "rf_pred = rf.predict(Xs_test) \n",
    "print(f'Score on training set: {rf.score(Xs_train, y_train)}')\n",
    "print(f'Score on testing set: {rf.score(Xs_test, y_test)}')\n",
    "print(f'Cross val scores: {cross_val_score(rf, Xs_train, y_train, cv = 5).mean()}')\n",
    "print(f'RMSE score: {metrics.mean_squared_error(y_test, rf_pred)}')"
   ]
  },
  {
   "cell_type": "markdown",
   "metadata": {},
   "source": [
    "#### Summary of Random Forest: \n",
    "\n",
    "There is a slight variance between the training and testing R2 scores. This indicates our model is slightly overfit, as Random Forest is known to do. This slight variance between train and test indicates our model does not do well predicting observations it has not seen before. Some of the most important hyperparameters in Random Forests are:\n",
    "\n",
    "- n_estimators:\n",
    "    -Indicates number of trees, generally more trees  \n",
    "\n",
    "- max_features: \n",
    "    -maximum number of features random forest considers to split a node\n",
    "\n",
    "- min_sample_leaf:\n",
    "    -minimum number of leafs required to split an internal node.\n",
    "\n",
    "This is a very solid model as our testing set confirms our model can explain 89% of the variance"
   ]
  },
  {
   "cell_type": "markdown",
   "metadata": {},
   "source": [
    "#### RF Gridsearch"
   ]
  },
  {
   "cell_type": "code",
   "execution_count": 31,
   "metadata": {},
   "outputs": [
    {
     "name": "stdout",
     "output_type": "stream",
     "text": [
      "Fitting 5 folds for each of 108 candidates, totalling 540 fits\n"
     ]
    },
    {
     "name": "stderr",
     "output_type": "stream",
     "text": [
      "[Parallel(n_jobs=1)]: Using backend SequentialBackend with 1 concurrent workers.\n",
      "[Parallel(n_jobs=1)]: Done 540 out of 540 | elapsed:  3.4min finished\n"
     ]
    },
    {
     "name": "stdout",
     "output_type": "stream",
     "text": [
      "0.6737103238791481\n"
     ]
    },
    {
     "data": {
      "text/plain": [
       "{'max_depth': 7,\n",
       " 'max_features': 'auto',\n",
       " 'min_samples_leaf': 2,\n",
       " 'min_samples_split': 5,\n",
       " 'n_estimators': 200}"
      ]
     },
     "execution_count": 31,
     "metadata": {},
     "output_type": "execute_result"
    }
   ],
   "source": [
    "rf_params = {\n",
    "    'n_estimators': [200, 300, 500],\n",
    "    'max_depth': [5, 7, 10],\n",
    "    'min_samples_split': [2, 3, 5],\n",
    "    'min_samples_leaf': [2, 3],\n",
    "    'max_features': ['auto', 'log2']\n",
    "}\n",
    "gs_rf = GridSearchCV(rf, param_grid=rf_params, cv=5, n_jobs = 1, verbose = True)\n",
    "gs_rf.fit(Xs_train, y_train)\n",
    "print(gs_rf.best_score_)\n",
    "gs_rf.best_params_"
   ]
  },
  {
   "cell_type": "code",
   "execution_count": 32,
   "metadata": {},
   "outputs": [],
   "source": [
    "gs_rf_pred = gs_rf.predict(Xs_test)"
   ]
  },
  {
   "cell_type": "code",
   "execution_count": 33,
   "metadata": {},
   "outputs": [],
   "source": [
    "rf_best = RandomForestRegressor(max_depth = 7,\n",
    " max_features = 'log2',\n",
    " min_samples_leaf = 2,\n",
    " min_samples_split = 5,\n",
    " n_estimators = 200, random_state= 1)"
   ]
  },
  {
   "cell_type": "code",
   "execution_count": 34,
   "metadata": {},
   "outputs": [
    {
     "name": "stdout",
     "output_type": "stream",
     "text": [
      "Score on training set: 0.7381398189177979\n",
      "Score on testing set: 0.7719200737660722\n",
      "Cross val scores: 0.606667761480091\n",
      "RMSE score: 76254.20158663952\n"
     ]
    }
   ],
   "source": [
    "rf_best.fit(Xs_train, y_train)\n",
    "rf_preds = rf_best.predict(Xs_test) \n",
    "print(f'Score on training set: {rf_best.score(Xs_train, y_train)}')\n",
    "print(f'Score on testing set: {rf_best.score(Xs_test, y_test)}')\n",
    "print(f'Cross val scores: {cross_val_score(rf, Xs_train, y_train, cv = 5).mean()}')\n",
    "print(f'RMSE score: {metrics.mean_squared_error(y_test, rf_preds)}')"
   ]
  },
  {
   "cell_type": "markdown",
   "metadata": {},
   "source": [
    "#### Summary of RF Gridsearch Model: \n",
    "\n",
    "After tuning the hyperparameters of Random Forest, we can see the variance is slightly less between the models, however it does come at the expense of more bias. This model is now only able to explain 77% of the variance in our dataset. The testing data also scored slightly better than our training data indicating it does a little better on unseen data."
   ]
  },
  {
   "cell_type": "markdown",
   "metadata": {},
   "source": [
    "### Bagged Decision Trees"
   ]
  },
  {
   "cell_type": "code",
   "execution_count": 35,
   "metadata": {},
   "outputs": [
    {
     "name": "stdout",
     "output_type": "stream",
     "text": [
      "Score on training set: 0.9426828294324747\n",
      "Score on testing set: 0.8562017587958916\n",
      "Cross val scores: 0.5339372008339532\n"
     ]
    }
   ],
   "source": [
    "#Instantiate the model\n",
    "\n",
    "bg = BaggingRegressor()\n",
    "bg.fit(Xs_train, y_train)\n",
    "\n",
    "bf_pred = bg.predict(Xs_test)\n",
    "\n",
    "print(f'Score on training set: {bg.score(Xs_train, y_train)}')\n",
    "print(f'Score on testing set: {bg.score(Xs_test, y_test)}')\n",
    "print(f'Cross val scores: {cross_val_score(bg, Xs_train, y_train, cv = 5).mean()}')"
   ]
  },
  {
   "cell_type": "markdown",
   "metadata": {},
   "source": [
    "#### Summary of Bagged Decision Tree Model: \n",
    "\n",
    "Decision trees suffer from high variance and the Bagged Decision tree is no exception. However this model performs very well with slight overfitness between training and test."
   ]
  },
  {
   "cell_type": "markdown",
   "metadata": {},
   "source": [
    "### KNN"
   ]
  },
  {
   "cell_type": "code",
   "execution_count": 36,
   "metadata": {},
   "outputs": [
    {
     "name": "stdout",
     "output_type": "stream",
     "text": [
      "Score on training set: 0.6334749610719558\n",
      "Score on testing set: 0.6354384284178766\n",
      "Cross val scores: 0.3416381612907769\n"
     ]
    }
   ],
   "source": [
    "knn = KNeighborsRegressor()\n",
    "knn.fit(Xs_train, y_train)\n",
    "knn_pred = knn.predict(Xs_test)\n",
    "\n",
    "print(f'Score on training set: {knn.score(Xs_train, y_train)}')\n",
    "print(f'Score on testing set: {knn.score(Xs_test, y_test)}')\n",
    "print(f'Cross val scores: {cross_val_score(knn, Xs_train, y_train, cv = 5).mean()}')"
   ]
  },
  {
   "cell_type": "markdown",
   "metadata": {},
   "source": [
    "#### Summary of KNN Model:\n",
    "\n",
    "The results of KNN informs us that there is little variance between the models, and our test can predict variance in the data 63% of the time. "
   ]
  },
  {
   "cell_type": "markdown",
   "metadata": {},
   "source": [
    "### Regularized Neural Nets"
   ]
  },
  {
   "cell_type": "code",
   "execution_count": 37,
   "metadata": {},
   "outputs": [
    {
     "name": "stdout",
     "output_type": "stream",
     "text": [
      "Epoch 1/100\n",
      "15/15 [==============================] - 1s 37ms/step - loss: 18.9129 - acc: 0.0279 - val_loss: -937.0053 - val_acc: 0.0200\n",
      "Epoch 2/100\n",
      "15/15 [==============================] - 0s 3ms/step - loss: -442.7511 - acc: 0.0270 - val_loss: -2482.8069 - val_acc: 0.0200\n",
      "Epoch 3/100\n",
      "15/15 [==============================] - 0s 3ms/step - loss: -1209.7721 - acc: 0.0422 - val_loss: -4630.5117 - val_acc: 0.0200\n",
      "Epoch 4/100\n",
      "15/15 [==============================] - 0s 3ms/step - loss: -2225.7199 - acc: 0.0328 - val_loss: -7789.4414 - val_acc: 0.0200\n",
      "Epoch 5/100\n",
      "15/15 [==============================] - 0s 4ms/step - loss: -3310.3205 - acc: 0.0429 - val_loss: -12607.0840 - val_acc: 0.0200\n",
      "Epoch 6/100\n",
      "15/15 [==============================] - 0s 3ms/step - loss: -5169.0337 - acc: 0.0376 - val_loss: -19205.2793 - val_acc: 0.0200\n",
      "Epoch 7/100\n",
      "15/15 [==============================] - 0s 3ms/step - loss: -7332.5456 - acc: 0.0382 - val_loss: -27877.3379 - val_acc: 0.0200\n",
      "Epoch 8/100\n",
      "15/15 [==============================] - 0s 3ms/step - loss: -13103.9199 - acc: 0.0447 - val_loss: -39012.2031 - val_acc: 0.0200\n",
      "Epoch 9/100\n",
      "15/15 [==============================] - 0s 3ms/step - loss: -16377.0429 - acc: 0.0287 - val_loss: -54160.0742 - val_acc: 0.0200\n",
      "Epoch 10/100\n",
      "15/15 [==============================] - 0s 3ms/step - loss: -20225.4538 - acc: 0.0292 - val_loss: -74255.2031 - val_acc: 0.0200\n",
      "Epoch 11/100\n",
      "15/15 [==============================] - 0s 3ms/step - loss: -29687.7633 - acc: 0.0426 - val_loss: -97256.3672 - val_acc: 0.0200\n",
      "Epoch 12/100\n",
      "15/15 [==============================] - 0s 3ms/step - loss: -57336.3303 - acc: 0.0348 - val_loss: -124535.2891 - val_acc: 0.0200\n",
      "Epoch 13/100\n",
      "15/15 [==============================] - 0s 4ms/step - loss: -39690.1713 - acc: 0.0379 - val_loss: -154767.3750 - val_acc: 0.0200\n",
      "Epoch 14/100\n",
      "15/15 [==============================] - 0s 4ms/step - loss: -52968.0220 - acc: 0.0373 - val_loss: -194008.7656 - val_acc: 0.0200\n",
      "Epoch 15/100\n",
      "15/15 [==============================] - 0s 3ms/step - loss: -84129.6671 - acc: 0.0372 - val_loss: -244613.4219 - val_acc: 0.0200\n",
      "Epoch 16/100\n",
      "15/15 [==============================] - 0s 3ms/step - loss: -83802.7083 - acc: 0.0422 - val_loss: -295842.5938 - val_acc: 0.0200\n",
      "Epoch 17/100\n",
      "15/15 [==============================] - 0s 3ms/step - loss: -172740.9712 - acc: 0.0397 - val_loss: -358198.3125 - val_acc: 0.0200\n",
      "Epoch 18/100\n",
      "15/15 [==============================] - 0s 3ms/step - loss: -132068.0386 - acc: 0.0440 - val_loss: -427581.5312 - val_acc: 0.0200\n",
      "Epoch 19/100\n",
      "15/15 [==============================] - 0s 3ms/step - loss: -255730.4111 - acc: 0.0301 - val_loss: -511194.4375 - val_acc: 0.0200\n",
      "Epoch 20/100\n",
      "15/15 [==============================] - 0s 3ms/step - loss: -162510.7476 - acc: 0.0333 - val_loss: -594656.7500 - val_acc: 0.0200\n",
      "Epoch 21/100\n",
      "15/15 [==============================] - 0s 3ms/step - loss: -288547.5693 - acc: 0.0290 - val_loss: -708264.3125 - val_acc: 0.0200\n",
      "Epoch 22/100\n",
      "15/15 [==============================] - 0s 3ms/step - loss: -302065.0322 - acc: 0.0330 - val_loss: -821929.0625 - val_acc: 0.0200\n",
      "Epoch 23/100\n",
      "15/15 [==============================] - 0s 3ms/step - loss: -327985.5508 - acc: 0.0345 - val_loss: -951679.7500 - val_acc: 0.0200\n",
      "Epoch 24/100\n",
      "15/15 [==============================] - 0s 3ms/step - loss: -299916.1504 - acc: 0.0394 - val_loss: -1083334.5000 - val_acc: 0.0200\n",
      "Epoch 25/100\n",
      "15/15 [==============================] - 0s 3ms/step - loss: -525083.0938 - acc: 0.0304 - val_loss: -1273453.6250 - val_acc: 0.0200\n",
      "Epoch 26/100\n",
      "15/15 [==============================] - 0s 3ms/step - loss: -540554.5645 - acc: 0.0332 - val_loss: -1449313.8750 - val_acc: 0.0200\n",
      "Epoch 27/100\n",
      "15/15 [==============================] - 0s 3ms/step - loss: -499054.9746 - acc: 0.0334 - val_loss: -1621334.7500 - val_acc: 0.0200\n",
      "Epoch 28/100\n",
      "15/15 [==============================] - 0s 3ms/step - loss: -1057813.7734 - acc: 0.0315 - val_loss: -1834944.3750 - val_acc: 0.0200\n",
      "Epoch 29/100\n",
      "15/15 [==============================] - 0s 3ms/step - loss: -625950.8281 - acc: 0.0418 - val_loss: -2037487.3750 - val_acc: 0.0200\n",
      "Epoch 30/100\n",
      "15/15 [==============================] - 0s 3ms/step - loss: -775554.5918 - acc: 0.0391 - val_loss: -2311309.5000 - val_acc: 0.0200\n",
      "Epoch 31/100\n",
      "15/15 [==============================] - 0s 3ms/step - loss: -919077.9902 - acc: 0.0375 - val_loss: -2556075.0000 - val_acc: 0.0200\n",
      "Epoch 32/100\n",
      "15/15 [==============================] - 0s 3ms/step - loss: -926898.9531 - acc: 0.0250 - val_loss: -2793265.0000 - val_acc: 0.0200\n",
      "Epoch 33/100\n",
      "15/15 [==============================] - 0s 3ms/step - loss: -1133203.4707 - acc: 0.0394 - val_loss: -3090201.5000 - val_acc: 0.0200\n",
      "Epoch 34/100\n",
      "15/15 [==============================] - 0s 3ms/step - loss: -1111590.8613 - acc: 0.0399 - val_loss: -3374105.0000 - val_acc: 0.0200\n",
      "Epoch 35/100\n",
      "15/15 [==============================] - 0s 3ms/step - loss: -1328416.2812 - acc: 0.0324 - val_loss: -3673527.0000 - val_acc: 0.0200\n",
      "Epoch 36/100\n",
      "15/15 [==============================] - 0s 3ms/step - loss: -1141830.2266 - acc: 0.0430 - val_loss: -3953098.5000 - val_acc: 0.0200\n",
      "Epoch 37/100\n",
      "15/15 [==============================] - 0s 3ms/step - loss: -1721437.6445 - acc: 0.0303 - val_loss: -4298070.5000 - val_acc: 0.0200\n",
      "Epoch 38/100\n",
      "15/15 [==============================] - 0s 3ms/step - loss: -1470874.2031 - acc: 0.0434 - val_loss: -4625254.0000 - val_acc: 0.0200\n",
      "Epoch 39/100\n",
      "15/15 [==============================] - 0s 3ms/step - loss: -1851210.6406 - acc: 0.0379 - val_loss: -5051921.0000 - val_acc: 0.0200\n",
      "Epoch 40/100\n",
      "15/15 [==============================] - 0s 3ms/step - loss: -2450417.5938 - acc: 0.0432 - val_loss: -5453204.5000 - val_acc: 0.0200\n",
      "Epoch 41/100\n",
      "15/15 [==============================] - 0s 3ms/step - loss: -2046744.9062 - acc: 0.0428 - val_loss: -5844105.5000 - val_acc: 0.0200\n",
      "Epoch 42/100\n",
      "15/15 [==============================] - 0s 3ms/step - loss: -2588527.1172 - acc: 0.0216 - val_loss: -6276283.0000 - val_acc: 0.0200\n",
      "Epoch 43/100\n",
      "15/15 [==============================] - 0s 3ms/step - loss: -2077534.4297 - acc: 0.0299 - val_loss: -6678123.5000 - val_acc: 0.0200\n",
      "Epoch 44/100\n",
      "15/15 [==============================] - 0s 3ms/step - loss: -3416538.2734 - acc: 0.0282 - val_loss: -7285024.5000 - val_acc: 0.0200\n",
      "Epoch 45/100\n",
      "15/15 [==============================] - 0s 3ms/step - loss: -3037577.0391 - acc: 0.0296 - val_loss: -7810582.0000 - val_acc: 0.0200\n",
      "Epoch 46/100\n",
      "15/15 [==============================] - 0s 3ms/step - loss: -2633511.0859 - acc: 0.0278 - val_loss: -8292461.5000 - val_acc: 0.0200\n",
      "Epoch 47/100\n",
      "15/15 [==============================] - 0s 3ms/step - loss: -3694238.1094 - acc: 0.0356 - val_loss: -8889881.0000 - val_acc: 0.0200\n",
      "Epoch 48/100\n",
      "15/15 [==============================] - 0s 3ms/step - loss: -2549227.5234 - acc: 0.0294 - val_loss: -9410629.0000 - val_acc: 0.0200\n",
      "Epoch 49/100\n",
      "15/15 [==============================] - 0s 3ms/step - loss: -3537055.1641 - acc: 0.0363 - val_loss: -10139676.0000 - val_acc: 0.0200\n",
      "Epoch 50/100\n",
      "15/15 [==============================] - 0s 3ms/step - loss: -4351971.6016 - acc: 0.0301 - val_loss: -10748332.0000 - val_acc: 0.0200\n",
      "Epoch 51/100\n",
      "15/15 [==============================] - 0s 3ms/step - loss: -3289545.9609 - acc: 0.0389 - val_loss: -11241436.0000 - val_acc: 0.0200\n",
      "Epoch 52/100\n",
      "15/15 [==============================] - 0s 3ms/step - loss: -3625989.7656 - acc: 0.0289 - val_loss: -11800942.0000 - val_acc: 0.0200\n",
      "Epoch 53/100\n",
      "15/15 [==============================] - 0s 3ms/step - loss: -5434903.7031 - acc: 0.0426 - val_loss: -12471304.0000 - val_acc: 0.0200\n",
      "Epoch 54/100\n",
      "15/15 [==============================] - 0s 3ms/step - loss: -4733983.9844 - acc: 0.0390 - val_loss: -13052266.0000 - val_acc: 0.0200\n",
      "Epoch 55/100\n",
      "15/15 [==============================] - 0s 3ms/step - loss: -4828618.0156 - acc: 0.0249 - val_loss: -13695229.0000 - val_acc: 0.0200\n",
      "Epoch 56/100\n",
      "15/15 [==============================] - 0s 3ms/step - loss: -5060437.7969 - acc: 0.0315 - val_loss: -14318141.0000 - val_acc: 0.0200\n",
      "Epoch 57/100\n",
      "15/15 [==============================] - 0s 3ms/step - loss: -5688349.8125 - acc: 0.0266 - val_loss: -14990995.0000 - val_acc: 0.0200\n"
     ]
    },
    {
     "name": "stdout",
     "output_type": "stream",
     "text": [
      "Epoch 58/100\n",
      "15/15 [==============================] - 0s 3ms/step - loss: -5086168.9375 - acc: 0.0332 - val_loss: -15679744.0000 - val_acc: 0.0200\n",
      "Epoch 59/100\n",
      "15/15 [==============================] - 0s 3ms/step - loss: -4496982.0938 - acc: 0.0226 - val_loss: -16402972.0000 - val_acc: 0.0200\n",
      "Epoch 60/100\n",
      "15/15 [==============================] - 0s 3ms/step - loss: -5114367.5312 - acc: 0.0469 - val_loss: -17129868.0000 - val_acc: 0.0200\n",
      "Epoch 61/100\n",
      "15/15 [==============================] - 0s 3ms/step - loss: -5616241.1562 - acc: 0.0431 - val_loss: -17973180.0000 - val_acc: 0.0200\n",
      "Epoch 62/100\n",
      "15/15 [==============================] - 0s 3ms/step - loss: -7288917.7812 - acc: 0.0307 - val_loss: -18817134.0000 - val_acc: 0.0200\n",
      "Epoch 63/100\n",
      "15/15 [==============================] - 0s 3ms/step - loss: -6673145.1875 - acc: 0.0443 - val_loss: -19598242.0000 - val_acc: 0.0200\n",
      "Epoch 64/100\n",
      "15/15 [==============================] - 0s 3ms/step - loss: -8493437.3750 - acc: 0.0396 - val_loss: -20534858.0000 - val_acc: 0.0200\n",
      "Epoch 65/100\n",
      "15/15 [==============================] - 0s 3ms/step - loss: -9732227.2812 - acc: 0.0361 - val_loss: -21556124.0000 - val_acc: 0.0200\n",
      "Epoch 66/100\n",
      "15/15 [==============================] - 0s 3ms/step - loss: -11334416.1875 - acc: 0.0334 - val_loss: -22500090.0000 - val_acc: 0.0200\n",
      "Epoch 67/100\n",
      "15/15 [==============================] - 0s 3ms/step - loss: -11433591.0625 - acc: 0.0406 - val_loss: -23516798.0000 - val_acc: 0.0200\n",
      "Epoch 68/100\n",
      "15/15 [==============================] - 0s 3ms/step - loss: -9971102.6250 - acc: 0.0468 - val_loss: -24468088.0000 - val_acc: 0.0200\n",
      "Epoch 69/100\n",
      "15/15 [==============================] - 0s 3ms/step - loss: -9107467.7812 - acc: 0.0335 - val_loss: -25426972.0000 - val_acc: 0.0200\n",
      "Epoch 70/100\n",
      "15/15 [==============================] - 0s 3ms/step - loss: -8246822.9219 - acc: 0.0383 - val_loss: -26446402.0000 - val_acc: 0.0200\n",
      "Epoch 71/100\n",
      "15/15 [==============================] - 0s 3ms/step - loss: -9146958.1250 - acc: 0.0450 - val_loss: -27454444.0000 - val_acc: 0.0200\n",
      "Epoch 72/100\n",
      "15/15 [==============================] - 0s 3ms/step - loss: -10837397.5000 - acc: 0.0324 - val_loss: -28595666.0000 - val_acc: 0.0200\n",
      "Epoch 73/100\n",
      "15/15 [==============================] - 0s 3ms/step - loss: -11249203.5469 - acc: 0.0426 - val_loss: -29721876.0000 - val_acc: 0.0200\n",
      "Epoch 74/100\n",
      "15/15 [==============================] - 0s 3ms/step - loss: -13565365.2500 - acc: 0.0382 - val_loss: -30896734.0000 - val_acc: 0.0200\n",
      "Epoch 75/100\n",
      "15/15 [==============================] - 0s 3ms/step - loss: -11967671.8750 - acc: 0.0343 - val_loss: -32044150.0000 - val_acc: 0.0200\n",
      "Epoch 76/100\n",
      "15/15 [==============================] - 0s 3ms/step - loss: -12533060.4688 - acc: 0.0308 - val_loss: -33228798.0000 - val_acc: 0.0200\n",
      "Epoch 77/100\n",
      "15/15 [==============================] - 0s 3ms/step - loss: -11130921.1562 - acc: 0.0435 - val_loss: -34404688.0000 - val_acc: 0.0200\n",
      "Epoch 78/100\n",
      "15/15 [==============================] - 0s 3ms/step - loss: -20406959.1250 - acc: 0.0211 - val_loss: -35789736.0000 - val_acc: 0.0200\n",
      "Epoch 79/100\n",
      "15/15 [==============================] - 0s 3ms/step - loss: -19656776.8750 - acc: 0.0391 - val_loss: -37124256.0000 - val_acc: 0.0200\n",
      "Epoch 80/100\n",
      "15/15 [==============================] - 0s 3ms/step - loss: -17962989.5625 - acc: 0.0282 - val_loss: -38402288.0000 - val_acc: 0.0200\n",
      "Epoch 81/100\n",
      "15/15 [==============================] - 0s 3ms/step - loss: -11380114.1875 - acc: 0.0361 - val_loss: -39622316.0000 - val_acc: 0.0200\n",
      "Epoch 82/100\n",
      "15/15 [==============================] - 0s 3ms/step - loss: -17109303.2344 - acc: 0.0453 - val_loss: -41138972.0000 - val_acc: 0.0200\n",
      "Epoch 83/100\n",
      "15/15 [==============================] - 0s 3ms/step - loss: -18006611.1250 - acc: 0.0375 - val_loss: -42582344.0000 - val_acc: 0.0200\n",
      "Epoch 84/100\n",
      "15/15 [==============================] - 0s 3ms/step - loss: -12002874.9062 - acc: 0.0453 - val_loss: -43881320.0000 - val_acc: 0.0200\n",
      "Epoch 85/100\n",
      "15/15 [==============================] - 0s 3ms/step - loss: -16060409.3125 - acc: 0.0539 - val_loss: -45461892.0000 - val_acc: 0.0200\n",
      "Epoch 86/100\n",
      "15/15 [==============================] - 0s 3ms/step - loss: -17535718.7500 - acc: 0.0351 - val_loss: -47128356.0000 - val_acc: 0.0200\n",
      "Epoch 87/100\n",
      "15/15 [==============================] - 0s 3ms/step - loss: -22517152.1562 - acc: 0.0478 - val_loss: -48753560.0000 - val_acc: 0.0200\n",
      "Epoch 88/100\n",
      "15/15 [==============================] - 0s 3ms/step - loss: -21885815.5625 - acc: 0.0406 - val_loss: -50315212.0000 - val_acc: 0.0200\n",
      "Epoch 89/100\n",
      "15/15 [==============================] - 0s 3ms/step - loss: -18911877.7500 - acc: 0.0275 - val_loss: -51941024.0000 - val_acc: 0.0200\n",
      "Epoch 90/100\n",
      "15/15 [==============================] - 0s 3ms/step - loss: -23012607.8125 - acc: 0.0350 - val_loss: -53653528.0000 - val_acc: 0.0200\n",
      "Epoch 91/100\n",
      "15/15 [==============================] - 0s 3ms/step - loss: -21700233.1875 - acc: 0.0393 - val_loss: -55325000.0000 - val_acc: 0.0200\n",
      "Epoch 92/100\n",
      "15/15 [==============================] - 0s 3ms/step - loss: -17555056.3125 - acc: 0.0360 - val_loss: -57009516.0000 - val_acc: 0.0200\n",
      "Epoch 93/100\n",
      "15/15 [==============================] - 0s 3ms/step - loss: -21090586.6875 - acc: 0.0387 - val_loss: -58876432.0000 - val_acc: 0.0200\n",
      "Epoch 94/100\n",
      "15/15 [==============================] - 0s 3ms/step - loss: -23425434.1875 - acc: 0.0298 - val_loss: -60684300.0000 - val_acc: 0.0200\n",
      "Epoch 95/100\n",
      "15/15 [==============================] - 0s 3ms/step - loss: -25944627.2500 - acc: 0.0263 - val_loss: -62540144.0000 - val_acc: 0.0200\n",
      "Epoch 96/100\n",
      "15/15 [==============================] - 0s 3ms/step - loss: -22529816.0000 - acc: 0.0517 - val_loss: -64630384.0000 - val_acc: 0.0200\n",
      "Epoch 97/100\n",
      "15/15 [==============================] - 0s 3ms/step - loss: -21529254.4375 - acc: 0.0341 - val_loss: -66626968.0000 - val_acc: 0.0200\n",
      "Epoch 98/100\n",
      "15/15 [==============================] - 0s 3ms/step - loss: -19694257.0000 - acc: 0.0319 - val_loss: -68364920.0000 - val_acc: 0.0200\n",
      "Epoch 99/100\n",
      "15/15 [==============================] - 0s 3ms/step - loss: -21414730.2500 - acc: 0.0400 - val_loss: -70389824.0000 - val_acc: 0.0200\n",
      "Epoch 100/100\n",
      "15/15 [==============================] - 0s 3ms/step - loss: -30967066.6250 - acc: 0.0481 - val_loss: -72491816.0000 - val_acc: 0.0200\n"
     ]
    }
   ],
   "source": [
    "# Model\n",
    "model_es = Sequential()\n",
    "\n",
    "# Compile it\n",
    "model_es.add(Dense(128,\n",
    "                  input_shape = Xs_train[0].shape,\n",
    "                  activation = 'relu',\n",
    "                  kernel_regularizer = l2(.001)\n",
    "))\n",
    "model_es.add(Dense(40,\n",
    "                  activation='relu',\n",
    "                  kernel_regularizer = l2(.001)\n",
    "))\n",
    "model_es.add(Dense(1,\n",
    "                  activation='softmax',\n",
    "                  kernel_regularizer= l2(.001)\n",
    "))\n",
    "model_es.compile(\n",
    "        loss='bce',\n",
    "        optimizer='adam',\n",
    "        metrics = ['acc']\n",
    ")\n",
    "\n",
    "early_stop = EarlyStopping(monitor='val_loss', min_delta=0, patience=5, verbose=1, mode='auto')\n",
    "\n",
    "# Fit it\n",
    "history_es = model_es.fit(\n",
    "    Xs_train,\n",
    "    y_train,\n",
    "    epochs = 100,\n",
    "    batch_size=None,\n",
    "    validation_data=(Xs_test, y_test),\n",
    "    callbacks = [early_stop]\n",
    ")"
   ]
  },
  {
   "cell_type": "code",
   "execution_count": 38,
   "metadata": {},
   "outputs": [
    {
     "data": {
      "image/png": "[encoded data removed]",
      "text/plain": [
       "<Figure size 432x288 with 1 Axes>"
      ]
     },
     "metadata": {
      "needs_background": "light"
     },
     "output_type": "display_data"
    }
   ],
   "source": [
    "plt.plot(history_es.history['loss'], label='Train loss')\n",
    "plt.plot(history_es.history['val_loss'], label='Val Loss')\n",
    "plt.legend();"
   ]
  },
  {
   "cell_type": "code",
   "execution_count": 39,
   "metadata": {},
   "outputs": [
    {
     "data": {
      "text/plain": [
       "(0.035555556416511536, 0.019999999552965164)"
      ]
     },
     "execution_count": 39,
     "metadata": {},
     "output_type": "execute_result"
    }
   ],
   "source": [
    "history_es.history['acc'][-1], history_es.history['val_acc'][-1]"
   ]
  },
  {
   "cell_type": "markdown",
   "metadata": {},
   "source": [
    "#### Summary of Neural Net Model: "
   ]
  },
  {
   "cell_type": "markdown",
   "metadata": {},
   "source": [
    "### Summary of Models"
   ]
  },
  {
   "cell_type": "markdown",
   "metadata": {},
   "source": [
    "## Summary of Models\n",
    "\n",
    "### COVID Staff Cases without deaths included: \n",
    "\n",
    "COVID Staff Cases without deaths included: \n",
    "\n",
    "__Linear Regression__\n",
    "-  Score on training set:0.9503202823000696\n",
    "-  Score on testing set:-2.0433820809244938e+22\n",
    "\n",
    "__Lasso__\n",
    "-  Score on training set:0.9495306947553335\n",
    "-  Score on training set:0.7237329272385131\n",
    "\n",
    "__Ridge__ \n",
    "-  Score on training set: 0.9497976830154766\n",
    "-  Score on training set: 0.7149430232044478\n",
    "\n",
    "__Random Forest__\n",
    "-  Score on training set: 0.9476614145519952\n",
    "-  Score on testing set: 0.8917946192380667\n",
    "\n",
    "__Random Forest Gridsearch__\n",
    "-  Score on training set: 0.7381398189177979\n",
    "-  Score on testing set: 0.7719200737660722\n",
    "\n",
    "__Bagged Decision Trees__ \n",
    "-  Score on training set: 0.9744738337047248\n",
    "-  Score on testing set: 0.8694020666311331\n",
    "\n",
    "__KNN__\n",
    "-  Score on training set: 0.6334749610719558\n",
    "-  Score on testing set: 0.6354384284178766"
   ]
  }
 ],
 "metadata": {
  "kernelspec": {
   "display_name": "Python 3",
   "language": "python",
   "name": "python3"
  },
  "language_info": {
   "codemirror_mode": {
    "name": "ipython",
    "version": 3
   },
   "file_extension": ".py",
   "mimetype": "text/x-python",
   "name": "python",
   "nbconvert_exporter": "python",
   "pygments_lexer": "ipython3",
   "version": "3.8.3"
  },
  "toc": {
   "base_numbering": 1,
   "nav_menu": {},
   "number_sections": true,
   "sideBar": true,
   "skip_h1_title": false,
   "title_cell": "Table of Contents",
   "title_sidebar": "Contents",
   "toc_cell": true,
   "toc_position": {},
   "toc_section_display": true,
   "toc_window_display": true
  }
 },
 "nbformat": 4,
 "nbformat_minor": 4
}
