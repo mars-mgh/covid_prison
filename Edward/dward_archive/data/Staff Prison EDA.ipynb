{
 "cells": [
  {
   "cell_type": "code",
   "execution_count": 13,
   "metadata": {},
   "outputs": [],
   "source": [
    "import pandas as pd\n",
    "import numpy as np\n",
    "import os\n",
    "import missingno as msno"
   ]
  },
  {
   "cell_type": "code",
   "execution_count": null,
   "metadata": {},
   "outputs": [],
   "source": [
    "directory = \"Output\""
   ]
  },
  {
   "cell_type": "code",
   "execution_count": null,
   "metadata": {},
   "outputs": [],
   "source": [
    "#parent directory path\n",
    "\n",
    "parent_dir = '/Users/edwardmendoza/Documents/GA/Projects/Project_5_shared/Edward/data'\n",
    "\n",
    "path = os.path.join(parent_dir, directory)\n",
    "os.mkdir(path)"
   ]
  },
  {
   "cell_type": "code",
   "execution_count": 3,
   "metadata": {},
   "outputs": [],
   "source": [
    "df = pd.read_excel(\"./working_datasets/covid-19-prison-data-AL.xlsx\")"
   ]
  },
  {
   "cell_type": "code",
   "execution_count": 6,
   "metadata": {},
   "outputs": [
    {
     "data": {
      "text/plain": [
       "['covid-19-prison-data-MI.xlsx',\n",
       " 'covid-19-prison-data-OH.xlsx',\n",
       " 'covid-19-prison-data-AL.xlsx',\n",
       " 'covid-19-prison-data-WI.xlsx',\n",
       " 'covid-19-prison-data-GA.xlsx',\n",
       " 'covid-19-prison-data-CA.xlsx',\n",
       " 'covid-19-prison-data-CT.xlsx',\n",
       " 'covid-19-prison-data-MA.xlsx',\n",
       " 'covid-19-prison-data-VT.xlsx',\n",
       " 'covid-19-prison-data-DE.xlsx']"
      ]
     },
     "execution_count": 6,
     "metadata": {},
     "output_type": "execute_result"
    }
   ],
   "source": [
    "all_files = [file for file in os.listdir('./working_datasets')]\n",
    "all_files"
   ]
  },
  {
   "cell_type": "code",
   "execution_count": 7,
   "metadata": {},
   "outputs": [],
   "source": [
    "all_months_data = pd.DataFrame()"
   ]
  },
  {
   "cell_type": "code",
   "execution_count": 8,
   "metadata": {},
   "outputs": [],
   "source": [
    "for file in all_files:\n",
    "    df = pd.read_excel('./working_datasets/'+file)\n",
    "    all_months_data = pd.concat([all_months_data, df])"
   ]
  },
  {
   "cell_type": "code",
   "execution_count": 10,
   "metadata": {},
   "outputs": [],
   "source": [
    "all_months_data.to_csv(\"all_data.csv\", index=False)"
   ]
  },
  {
   "cell_type": "code",
   "execution_count": 11,
   "metadata": {},
   "outputs": [],
   "source": [
    "all_states = pd.read_csv(\"all_data.csv\")"
   ]
  },
  {
   "cell_type": "code",
   "execution_count": 12,
   "metadata": {},
   "outputs": [
    {
     "data": {
      "text/html": [
       "<div>\n",
       "<style scoped>\n",
       "    .dataframe tbody tr th:only-of-type {\n",
       "        vertical-align: middle;\n",
       "    }\n",
       "\n",
       "    .dataframe tbody tr th {\n",
       "        vertical-align: top;\n",
       "    }\n",
       "\n",
       "    .dataframe thead th {\n",
       "        text-align: right;\n",
       "    }\n",
       "</style>\n",
       "<table border=\"1\" class=\"dataframe\">\n",
       "  <thead>\n",
       "    <tr style=\"text-align: right;\">\n",
       "      <th></th>\n",
       "      <th>name</th>\n",
       "      <th>abbreviation</th>\n",
       "      <th>staff_tests</th>\n",
       "      <th>staff_tests_with_multiples</th>\n",
       "      <th>weekly_staff_cases</th>\n",
       "      <th>total_staff_cases</th>\n",
       "      <th>weekly_staff_recovered</th>\n",
       "      <th>staff_recovered</th>\n",
       "      <th>weekly_staff_deaths</th>\n",
       "      <th>total_staff_deaths</th>\n",
       "      <th>...</th>\n",
       "      <th>prisoner_tests_with_multiples</th>\n",
       "      <th>weekly_prisoner_cases</th>\n",
       "      <th>total_prisoner_cases</th>\n",
       "      <th>weekly_prisoners_recovered</th>\n",
       "      <th>prisoners_recovered</th>\n",
       "      <th>prisoner_deaths_weekly</th>\n",
       "      <th>total_prisoner_deaths</th>\n",
       "      <th>as_of_date</th>\n",
       "      <th>notes</th>\n",
       "      <th>weekly_cases</th>\n",
       "    </tr>\n",
       "  </thead>\n",
       "  <tbody>\n",
       "    <tr>\n",
       "      <th>0</th>\n",
       "      <td>Michigan</td>\n",
       "      <td>MI</td>\n",
       "      <td>NaN</td>\n",
       "      <td>NaN</td>\n",
       "      <td>0.0</td>\n",
       "      <td>NaN</td>\n",
       "      <td>NaN</td>\n",
       "      <td>0.0</td>\n",
       "      <td>0.0</td>\n",
       "      <td>0.0</td>\n",
       "      <td>...</td>\n",
       "      <td>NaN</td>\n",
       "      <td>24.0</td>\n",
       "      <td>24.0</td>\n",
       "      <td>NaN</td>\n",
       "      <td>0.0</td>\n",
       "      <td>0.0</td>\n",
       "      <td>0.0</td>\n",
       "      <td>2020-03-26</td>\n",
       "      <td>NaN</td>\n",
       "      <td>NaN</td>\n",
       "    </tr>\n",
       "    <tr>\n",
       "      <th>1</th>\n",
       "      <td>Michigan</td>\n",
       "      <td>MI</td>\n",
       "      <td>NaN</td>\n",
       "      <td>NaN</td>\n",
       "      <td>25.0</td>\n",
       "      <td>25.0</td>\n",
       "      <td>NaN</td>\n",
       "      <td>0.0</td>\n",
       "      <td>1.0</td>\n",
       "      <td>1.0</td>\n",
       "      <td>...</td>\n",
       "      <td>NaN</td>\n",
       "      <td>98.0</td>\n",
       "      <td>122.0</td>\n",
       "      <td>NaN</td>\n",
       "      <td>0.0</td>\n",
       "      <td>1.0</td>\n",
       "      <td>1.0</td>\n",
       "      <td>2020-04-01</td>\n",
       "      <td>NaN</td>\n",
       "      <td>NaN</td>\n",
       "    </tr>\n",
       "    <tr>\n",
       "      <th>2</th>\n",
       "      <td>Michigan</td>\n",
       "      <td>MI</td>\n",
       "      <td>NaN</td>\n",
       "      <td>NaN</td>\n",
       "      <td>112.0</td>\n",
       "      <td>137.0</td>\n",
       "      <td>NaN</td>\n",
       "      <td>0.0</td>\n",
       "      <td>1.0</td>\n",
       "      <td>2.0</td>\n",
       "      <td>...</td>\n",
       "      <td>NaN</td>\n",
       "      <td>183.0</td>\n",
       "      <td>305.0</td>\n",
       "      <td>NaN</td>\n",
       "      <td>0.0</td>\n",
       "      <td>1.0</td>\n",
       "      <td>2.0</td>\n",
       "      <td>2020-04-08</td>\n",
       "      <td>NaN</td>\n",
       "      <td>NaN</td>\n",
       "    </tr>\n",
       "    <tr>\n",
       "      <th>3</th>\n",
       "      <td>Michigan</td>\n",
       "      <td>MI</td>\n",
       "      <td>NaN</td>\n",
       "      <td>NaN</td>\n",
       "      <td>44.0</td>\n",
       "      <td>181.0</td>\n",
       "      <td>NaN</td>\n",
       "      <td>0.0</td>\n",
       "      <td>0.0</td>\n",
       "      <td>2.0</td>\n",
       "      <td>...</td>\n",
       "      <td>NaN</td>\n",
       "      <td>176.0</td>\n",
       "      <td>481.0</td>\n",
       "      <td>NaN</td>\n",
       "      <td>0.0</td>\n",
       "      <td>11.0</td>\n",
       "      <td>13.0</td>\n",
       "      <td>2020-04-15</td>\n",
       "      <td>NaN</td>\n",
       "      <td>NaN</td>\n",
       "    </tr>\n",
       "    <tr>\n",
       "      <th>4</th>\n",
       "      <td>Michigan</td>\n",
       "      <td>MI</td>\n",
       "      <td>NaN</td>\n",
       "      <td>NaN</td>\n",
       "      <td>49.0</td>\n",
       "      <td>230.0</td>\n",
       "      <td>NaN</td>\n",
       "      <td>0.0</td>\n",
       "      <td>0.0</td>\n",
       "      <td>2.0</td>\n",
       "      <td>...</td>\n",
       "      <td>NaN</td>\n",
       "      <td>236.0</td>\n",
       "      <td>717.0</td>\n",
       "      <td>NaN</td>\n",
       "      <td>0.0</td>\n",
       "      <td>12.0</td>\n",
       "      <td>25.0</td>\n",
       "      <td>2020-04-22</td>\n",
       "      <td>NaN</td>\n",
       "      <td>NaN</td>\n",
       "    </tr>\n",
       "  </tbody>\n",
       "</table>\n",
       "<p>5 rows × 22 columns</p>\n",
       "</div>"
      ],
      "text/plain": [
       "       name abbreviation  staff_tests  staff_tests_with_multiples  \\\n",
       "0  Michigan           MI          NaN                         NaN   \n",
       "1  Michigan           MI          NaN                         NaN   \n",
       "2  Michigan           MI          NaN                         NaN   \n",
       "3  Michigan           MI          NaN                         NaN   \n",
       "4  Michigan           MI          NaN                         NaN   \n",
       "\n",
       "   weekly_staff_cases  total_staff_cases  weekly_staff_recovered  \\\n",
       "0                 0.0                NaN                     NaN   \n",
       "1                25.0               25.0                     NaN   \n",
       "2               112.0              137.0                     NaN   \n",
       "3                44.0              181.0                     NaN   \n",
       "4                49.0              230.0                     NaN   \n",
       "\n",
       "  staff_recovered  weekly_staff_deaths  total_staff_deaths  ...  \\\n",
       "0             0.0                  0.0                 0.0  ...   \n",
       "1             0.0                  1.0                 1.0  ...   \n",
       "2             0.0                  1.0                 2.0  ...   \n",
       "3             0.0                  0.0                 2.0  ...   \n",
       "4             0.0                  0.0                 2.0  ...   \n",
       "\n",
       "   prisoner_tests_with_multiples  weekly_prisoner_cases  total_prisoner_cases  \\\n",
       "0                            NaN                   24.0                  24.0   \n",
       "1                            NaN                   98.0                 122.0   \n",
       "2                            NaN                  183.0                 305.0   \n",
       "3                            NaN                  176.0                 481.0   \n",
       "4                            NaN                  236.0                 717.0   \n",
       "\n",
       "   weekly_prisoners_recovered  prisoners_recovered  prisoner_deaths_weekly  \\\n",
       "0                         NaN                  0.0                     0.0   \n",
       "1                         NaN                  0.0                     1.0   \n",
       "2                         NaN                  0.0                     1.0   \n",
       "3                         NaN                  0.0                    11.0   \n",
       "4                         NaN                  0.0                    12.0   \n",
       "\n",
       "   total_prisoner_deaths  as_of_date  notes weekly_cases  \n",
       "0                    0.0  2020-03-26    NaN          NaN  \n",
       "1                    1.0  2020-04-01    NaN          NaN  \n",
       "2                    2.0  2020-04-08    NaN          NaN  \n",
       "3                   13.0  2020-04-15    NaN          NaN  \n",
       "4                   25.0  2020-04-22    NaN          NaN  \n",
       "\n",
       "[5 rows x 22 columns]"
      ]
     },
     "execution_count": 12,
     "metadata": {},
     "output_type": "execute_result"
    }
   ],
   "source": [
    "all_states.head()"
   ]
  },
  {
   "cell_type": "code",
   "execution_count": 14,
   "metadata": {},
   "outputs": [
    {
     "data": {
      "text/plain": [
       "3250"
      ]
     },
     "execution_count": 14,
     "metadata": {},
     "output_type": "execute_result"
    }
   ],
   "source": [
    "all_states.isnull().sum().sum()"
   ]
  },
  {
   "cell_type": "code",
   "execution_count": 15,
   "metadata": {},
   "outputs": [],
   "source": [
    "df_p = all_states.drop(columns=['staff_tests', 'staff_tests_with_multiples', 'total_staff_cases', 'staff_recovered', 'total_staff_deaths', 'notes'])"
   ]
  },
  {
   "cell_type": "code",
   "execution_count": 16,
   "metadata": {},
   "outputs": [],
   "source": [
    "df_s = all_states.drop(columns = ['prisoner_tests', 'prisoner_tests_with_multiples', 'total_prisoner_cases', 'prisoners_recovered', 'total_prisoner_deaths', 'notes'])"
   ]
  },
  {
   "cell_type": "code",
   "execution_count": 17,
   "metadata": {},
   "outputs": [
    {
     "name": "stdout",
     "output_type": "stream",
     "text": [
      "<class 'pandas.core.frame.DataFrame'>\n",
      "RangeIndex: 455 entries, 0 to 454\n",
      "Data columns (total 16 columns):\n",
      " #   Column                         Non-Null Count  Dtype  \n",
      "---  ------                         --------------  -----  \n",
      " 0   name                           448 non-null    object \n",
      " 1   abbreviation                   448 non-null    object \n",
      " 2   weekly_staff_cases             444 non-null    float64\n",
      " 3   weekly_staff_recovered         344 non-null    float64\n",
      " 4   weekly_staff_deaths            319 non-null    float64\n",
      " 5   weekly_prisoner_tests          155 non-null    float64\n",
      " 6   prisoner_tests                 249 non-null    float64\n",
      " 7   prisoner_tests_with_multiples  174 non-null    float64\n",
      " 8   weekly_prisoner_cases          362 non-null    float64\n",
      " 9   total_prisoner_cases           447 non-null    float64\n",
      " 10  weekly_prisoners_recovered     356 non-null    float64\n",
      " 11  prisoners_recovered            388 non-null    float64\n",
      " 12  prisoner_deaths_weekly         307 non-null    float64\n",
      " 13  total_prisoner_deaths          446 non-null    float64\n",
      " 14  as_of_date                     448 non-null    object \n",
      " 15  weekly_cases                   35 non-null     float64\n",
      "dtypes: float64(13), object(3)\n",
      "memory usage: 57.0+ KB\n"
     ]
    }
   ],
   "source": [
    "df_p.info()"
   ]
  },
  {
   "cell_type": "code",
   "execution_count": null,
   "metadata": {},
   "outputs": [],
   "source": []
  }
 ],
 "metadata": {
  "kernelspec": {
   "display_name": "Python 3",
   "language": "python",
   "name": "python3"
  },
  "language_info": {
   "codemirror_mode": {
    "name": "ipython",
    "version": 3
   },
   "file_extension": ".py",
   "mimetype": "text/x-python",
   "name": "python",
   "nbconvert_exporter": "python",
   "pygments_lexer": "ipython3",
   "version": "3.8.5"
  }
 },
 "nbformat": 4,
 "nbformat_minor": 4
}
