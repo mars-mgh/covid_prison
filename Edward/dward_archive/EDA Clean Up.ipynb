{
 "cells": [
  {
   "cell_type": "code",
   "execution_count": 133,
   "metadata": {},
   "outputs": [],
   "source": [
    "import pandas as pd\n",
    "import numpy as np\n",
    "import seaborn as sns\n",
    "import matplotlib.pyplot as plt\n",
    "from matplotlib.dates import DateFormatter\n",
    "import matplotlib.dates as mdates\n",
    "import matplotlib.ticker as ticker"
   ]
  },
  {
   "cell_type": "code",
   "execution_count": 2,
   "metadata": {},
   "outputs": [],
   "source": [
    "covid_prison_cases = pd.read_csv('covid_prison_cases.csv')"
   ]
  },
  {
   "cell_type": "code",
   "execution_count": 3,
   "metadata": {},
   "outputs": [],
   "source": [
    "data_clean_complete = pd.read_csv('data_clean_complete.csv')"
   ]
  },
  {
   "cell_type": "code",
   "execution_count": 4,
   "metadata": {},
   "outputs": [],
   "source": [
    "complete_df = pd.DataFrame(data_clean_complete)"
   ]
  },
  {
   "cell_type": "code",
   "execution_count": 5,
   "metadata": {
    "scrolled": true
   },
   "outputs": [
    {
     "data": {
      "text/html": [
       "<div>\n",
       "<style scoped>\n",
       "    .dataframe tbody tr th:only-of-type {\n",
       "        vertical-align: middle;\n",
       "    }\n",
       "\n",
       "    .dataframe tbody tr th {\n",
       "        vertical-align: top;\n",
       "    }\n",
       "\n",
       "    .dataframe thead th {\n",
       "        text-align: right;\n",
       "    }\n",
       "</style>\n",
       "<table border=\"1\" class=\"dataframe\">\n",
       "  <thead>\n",
       "    <tr style=\"text-align: right;\">\n",
       "      <th></th>\n",
       "      <th>name</th>\n",
       "      <th>state</th>\n",
       "      <th>staff_tests</th>\n",
       "      <th>total_staff_cases</th>\n",
       "      <th>staff_recovered</th>\n",
       "      <th>total_staff_deaths</th>\n",
       "      <th>prisoner_tests</th>\n",
       "      <th>total_prisoner_cases</th>\n",
       "      <th>prisoners_recovered</th>\n",
       "      <th>total_prisoner_deaths</th>\n",
       "      <th>...</th>\n",
       "      <th>Inmates participating in one or more work programs</th>\n",
       "      <th>Prison industries</th>\n",
       "      <th>Support services</th>\n",
       "      <th>Farming</th>\n",
       "      <th>Public works</th>\n",
       "      <th>Other work programs</th>\n",
       "      <th>No work programs</th>\n",
       "      <th>phone_rate_avg</th>\n",
       "      <th>Latitude</th>\n",
       "      <th>Longitude</th>\n",
       "    </tr>\n",
       "  </thead>\n",
       "  <tbody>\n",
       "    <tr>\n",
       "      <th>0</th>\n",
       "      <td>Alabama</td>\n",
       "      <td>AL</td>\n",
       "      <td>568.0</td>\n",
       "      <td>951.0</td>\n",
       "      <td>800.0</td>\n",
       "      <td>3.0</td>\n",
       "      <td>14694.0</td>\n",
       "      <td>1369.0</td>\n",
       "      <td>1198.0</td>\n",
       "      <td>60.0</td>\n",
       "      <td>...</td>\n",
       "      <td>28</td>\n",
       "      <td>7.0</td>\n",
       "      <td>10.0</td>\n",
       "      <td>6.0</td>\n",
       "      <td>9.0</td>\n",
       "      <td>5.0</td>\n",
       "      <td>7.0</td>\n",
       "      <td>4.5000</td>\n",
       "      <td>32.75</td>\n",
       "      <td>-86.75</td>\n",
       "    </tr>\n",
       "    <tr>\n",
       "      <th>1</th>\n",
       "      <td>Alabama</td>\n",
       "      <td>AL</td>\n",
       "      <td>568.0</td>\n",
       "      <td>804.0</td>\n",
       "      <td>529.0</td>\n",
       "      <td>2.0</td>\n",
       "      <td>12671.0</td>\n",
       "      <td>1161.0</td>\n",
       "      <td>1003.0</td>\n",
       "      <td>54.0</td>\n",
       "      <td>...</td>\n",
       "      <td>28</td>\n",
       "      <td>7.0</td>\n",
       "      <td>10.0</td>\n",
       "      <td>6.0</td>\n",
       "      <td>9.0</td>\n",
       "      <td>5.0</td>\n",
       "      <td>7.0</td>\n",
       "      <td>4.5000</td>\n",
       "      <td>32.75</td>\n",
       "      <td>-86.75</td>\n",
       "    </tr>\n",
       "    <tr>\n",
       "      <th>2</th>\n",
       "      <td>Alabama</td>\n",
       "      <td>AL</td>\n",
       "      <td>568.0</td>\n",
       "      <td>667.0</td>\n",
       "      <td>439.0</td>\n",
       "      <td>2.0</td>\n",
       "      <td>7032.0</td>\n",
       "      <td>855.0</td>\n",
       "      <td>735.0</td>\n",
       "      <td>34.0</td>\n",
       "      <td>...</td>\n",
       "      <td>28</td>\n",
       "      <td>7.0</td>\n",
       "      <td>10.0</td>\n",
       "      <td>6.0</td>\n",
       "      <td>9.0</td>\n",
       "      <td>5.0</td>\n",
       "      <td>7.0</td>\n",
       "      <td>4.5000</td>\n",
       "      <td>32.75</td>\n",
       "      <td>-86.75</td>\n",
       "    </tr>\n",
       "    <tr>\n",
       "      <th>3</th>\n",
       "      <td>Alabama</td>\n",
       "      <td>AL</td>\n",
       "      <td>568.0</td>\n",
       "      <td>455.0</td>\n",
       "      <td>388.0</td>\n",
       "      <td>2.0</td>\n",
       "      <td>5339.0</td>\n",
       "      <td>532.0</td>\n",
       "      <td>416.0</td>\n",
       "      <td>27.0</td>\n",
       "      <td>...</td>\n",
       "      <td>28</td>\n",
       "      <td>7.0</td>\n",
       "      <td>10.0</td>\n",
       "      <td>6.0</td>\n",
       "      <td>9.0</td>\n",
       "      <td>5.0</td>\n",
       "      <td>7.0</td>\n",
       "      <td>4.5000</td>\n",
       "      <td>32.75</td>\n",
       "      <td>-86.75</td>\n",
       "    </tr>\n",
       "    <tr>\n",
       "      <th>4</th>\n",
       "      <td>Alabama</td>\n",
       "      <td>AL</td>\n",
       "      <td>568.0</td>\n",
       "      <td>398.0</td>\n",
       "      <td>363.0</td>\n",
       "      <td>2.0</td>\n",
       "      <td>2079.0</td>\n",
       "      <td>415.0</td>\n",
       "      <td>377.0</td>\n",
       "      <td>23.0</td>\n",
       "      <td>...</td>\n",
       "      <td>28</td>\n",
       "      <td>7.0</td>\n",
       "      <td>10.0</td>\n",
       "      <td>6.0</td>\n",
       "      <td>9.0</td>\n",
       "      <td>5.0</td>\n",
       "      <td>7.0</td>\n",
       "      <td>4.5000</td>\n",
       "      <td>32.75</td>\n",
       "      <td>-86.75</td>\n",
       "    </tr>\n",
       "    <tr>\n",
       "      <th>...</th>\n",
       "      <td>...</td>\n",
       "      <td>...</td>\n",
       "      <td>...</td>\n",
       "      <td>...</td>\n",
       "      <td>...</td>\n",
       "      <td>...</td>\n",
       "      <td>...</td>\n",
       "      <td>...</td>\n",
       "      <td>...</td>\n",
       "      <td>...</td>\n",
       "      <td>...</td>\n",
       "      <td>...</td>\n",
       "      <td>...</td>\n",
       "      <td>...</td>\n",
       "      <td>...</td>\n",
       "      <td>...</td>\n",
       "      <td>...</td>\n",
       "      <td>...</td>\n",
       "      <td>...</td>\n",
       "      <td>...</td>\n",
       "      <td>...</td>\n",
       "    </tr>\n",
       "    <tr>\n",
       "      <th>556</th>\n",
       "      <td>Wyoming</td>\n",
       "      <td>WY</td>\n",
       "      <td>380.0</td>\n",
       "      <td>8.0</td>\n",
       "      <td>1.0</td>\n",
       "      <td>0.0</td>\n",
       "      <td>866.0</td>\n",
       "      <td>12.0</td>\n",
       "      <td>0.0</td>\n",
       "      <td>0.0</td>\n",
       "      <td>...</td>\n",
       "      <td>1,001</td>\n",
       "      <td>0.0</td>\n",
       "      <td>5.0</td>\n",
       "      <td>2.0</td>\n",
       "      <td>3.0</td>\n",
       "      <td>4.0</td>\n",
       "      <td>0.0</td>\n",
       "      <td>3.2025</td>\n",
       "      <td>43.00</td>\n",
       "      <td>-107.50</td>\n",
       "    </tr>\n",
       "    <tr>\n",
       "      <th>557</th>\n",
       "      <td>Wyoming</td>\n",
       "      <td>WY</td>\n",
       "      <td>20.0</td>\n",
       "      <td>1.0</td>\n",
       "      <td>1.0</td>\n",
       "      <td>0.0</td>\n",
       "      <td>61.0</td>\n",
       "      <td>0.0</td>\n",
       "      <td>0.0</td>\n",
       "      <td>0.0</td>\n",
       "      <td>...</td>\n",
       "      <td>1,001</td>\n",
       "      <td>0.0</td>\n",
       "      <td>5.0</td>\n",
       "      <td>2.0</td>\n",
       "      <td>3.0</td>\n",
       "      <td>4.0</td>\n",
       "      <td>0.0</td>\n",
       "      <td>3.2025</td>\n",
       "      <td>43.00</td>\n",
       "      <td>-107.50</td>\n",
       "    </tr>\n",
       "    <tr>\n",
       "      <th>558</th>\n",
       "      <td>Wyoming</td>\n",
       "      <td>WY</td>\n",
       "      <td>16.0</td>\n",
       "      <td>1.0</td>\n",
       "      <td>1.0</td>\n",
       "      <td>0.0</td>\n",
       "      <td>30.0</td>\n",
       "      <td>0.0</td>\n",
       "      <td>0.0</td>\n",
       "      <td>0.0</td>\n",
       "      <td>...</td>\n",
       "      <td>1,001</td>\n",
       "      <td>0.0</td>\n",
       "      <td>5.0</td>\n",
       "      <td>2.0</td>\n",
       "      <td>3.0</td>\n",
       "      <td>4.0</td>\n",
       "      <td>0.0</td>\n",
       "      <td>3.2025</td>\n",
       "      <td>43.00</td>\n",
       "      <td>-107.50</td>\n",
       "    </tr>\n",
       "    <tr>\n",
       "      <th>559</th>\n",
       "      <td>Wyoming</td>\n",
       "      <td>WY</td>\n",
       "      <td>10.0</td>\n",
       "      <td>1.0</td>\n",
       "      <td>1.0</td>\n",
       "      <td>0.0</td>\n",
       "      <td>15.0</td>\n",
       "      <td>0.0</td>\n",
       "      <td>0.0</td>\n",
       "      <td>0.0</td>\n",
       "      <td>...</td>\n",
       "      <td>1,001</td>\n",
       "      <td>0.0</td>\n",
       "      <td>5.0</td>\n",
       "      <td>2.0</td>\n",
       "      <td>3.0</td>\n",
       "      <td>4.0</td>\n",
       "      <td>0.0</td>\n",
       "      <td>3.2025</td>\n",
       "      <td>43.00</td>\n",
       "      <td>-107.50</td>\n",
       "    </tr>\n",
       "    <tr>\n",
       "      <th>560</th>\n",
       "      <td>Wyoming</td>\n",
       "      <td>WY</td>\n",
       "      <td>0.0</td>\n",
       "      <td>0.0</td>\n",
       "      <td>1.0</td>\n",
       "      <td>0.0</td>\n",
       "      <td>0.0</td>\n",
       "      <td>0.0</td>\n",
       "      <td>0.0</td>\n",
       "      <td>0.0</td>\n",
       "      <td>...</td>\n",
       "      <td>1,001</td>\n",
       "      <td>0.0</td>\n",
       "      <td>5.0</td>\n",
       "      <td>2.0</td>\n",
       "      <td>3.0</td>\n",
       "      <td>4.0</td>\n",
       "      <td>0.0</td>\n",
       "      <td>3.2025</td>\n",
       "      <td>43.00</td>\n",
       "      <td>-107.50</td>\n",
       "    </tr>\n",
       "  </tbody>\n",
       "</table>\n",
       "<p>561 rows × 44 columns</p>\n",
       "</div>"
      ],
      "text/plain": [
       "        name state  staff_tests  total_staff_cases  staff_recovered  \\\n",
       "0    Alabama    AL        568.0              951.0            800.0   \n",
       "1    Alabama    AL        568.0              804.0            529.0   \n",
       "2    Alabama    AL        568.0              667.0            439.0   \n",
       "3    Alabama    AL        568.0              455.0            388.0   \n",
       "4    Alabama    AL        568.0              398.0            363.0   \n",
       "..       ...   ...          ...                ...              ...   \n",
       "556  Wyoming    WY        380.0                8.0              1.0   \n",
       "557  Wyoming    WY         20.0                1.0              1.0   \n",
       "558  Wyoming    WY         16.0                1.0              1.0   \n",
       "559  Wyoming    WY         10.0                1.0              1.0   \n",
       "560  Wyoming    WY          0.0                0.0              1.0   \n",
       "\n",
       "     total_staff_deaths  prisoner_tests  total_prisoner_cases  \\\n",
       "0                   3.0         14694.0                1369.0   \n",
       "1                   2.0         12671.0                1161.0   \n",
       "2                   2.0          7032.0                 855.0   \n",
       "3                   2.0          5339.0                 532.0   \n",
       "4                   2.0          2079.0                 415.0   \n",
       "..                  ...             ...                   ...   \n",
       "556                 0.0           866.0                  12.0   \n",
       "557                 0.0            61.0                   0.0   \n",
       "558                 0.0            30.0                   0.0   \n",
       "559                 0.0            15.0                   0.0   \n",
       "560                 0.0             0.0                   0.0   \n",
       "\n",
       "     prisoners_recovered  total_prisoner_deaths  ...  \\\n",
       "0                 1198.0                   60.0  ...   \n",
       "1                 1003.0                   54.0  ...   \n",
       "2                  735.0                   34.0  ...   \n",
       "3                  416.0                   27.0  ...   \n",
       "4                  377.0                   23.0  ...   \n",
       "..                   ...                    ...  ...   \n",
       "556                  0.0                    0.0  ...   \n",
       "557                  0.0                    0.0  ...   \n",
       "558                  0.0                    0.0  ...   \n",
       "559                  0.0                    0.0  ...   \n",
       "560                  0.0                    0.0  ...   \n",
       "\n",
       "    Inmates participating in one or more work programs  Prison industries  \\\n",
       "0                                                   28                7.0   \n",
       "1                                                   28                7.0   \n",
       "2                                                   28                7.0   \n",
       "3                                                   28                7.0   \n",
       "4                                                   28                7.0   \n",
       "..                                                 ...                ...   \n",
       "556                                              1,001                0.0   \n",
       "557                                              1,001                0.0   \n",
       "558                                              1,001                0.0   \n",
       "559                                              1,001                0.0   \n",
       "560                                              1,001                0.0   \n",
       "\n",
       "     Support services Farming   Public works  Other work programs   \\\n",
       "0                10.0      6.0           9.0                   5.0   \n",
       "1                10.0      6.0           9.0                   5.0   \n",
       "2                10.0      6.0           9.0                   5.0   \n",
       "3                10.0      6.0           9.0                   5.0   \n",
       "4                10.0      6.0           9.0                   5.0   \n",
       "..                ...      ...           ...                   ...   \n",
       "556               5.0      2.0           3.0                   4.0   \n",
       "557               5.0      2.0           3.0                   4.0   \n",
       "558               5.0      2.0           3.0                   4.0   \n",
       "559               5.0      2.0           3.0                   4.0   \n",
       "560               5.0      2.0           3.0                   4.0   \n",
       "\n",
       "     No work programs  phone_rate_avg Latitude Longitude  \n",
       "0                 7.0          4.5000    32.75    -86.75  \n",
       "1                 7.0          4.5000    32.75    -86.75  \n",
       "2                 7.0          4.5000    32.75    -86.75  \n",
       "3                 7.0          4.5000    32.75    -86.75  \n",
       "4                 7.0          4.5000    32.75    -86.75  \n",
       "..                ...             ...      ...       ...  \n",
       "556               0.0          3.2025    43.00   -107.50  \n",
       "557               0.0          3.2025    43.00   -107.50  \n",
       "558               0.0          3.2025    43.00   -107.50  \n",
       "559               0.0          3.2025    43.00   -107.50  \n",
       "560               0.0          3.2025    43.00   -107.50  \n",
       "\n",
       "[561 rows x 44 columns]"
      ]
     },
     "execution_count": 5,
     "metadata": {},
     "output_type": "execute_result"
    }
   ],
   "source": [
    "complete_df"
   ]
  },
  {
   "cell_type": "code",
   "execution_count": 6,
   "metadata": {},
   "outputs": [],
   "source": [
    "complete_df = complete_df[complete_df['name'] != 'Federal']"
   ]
  },
  {
   "cell_type": "code",
   "execution_count": 7,
   "metadata": {
    "scrolled": true
   },
   "outputs": [
    {
     "data": {
      "text/html": [
       "<div>\n",
       "<style scoped>\n",
       "    .dataframe tbody tr th:only-of-type {\n",
       "        vertical-align: middle;\n",
       "    }\n",
       "\n",
       "    .dataframe tbody tr th {\n",
       "        vertical-align: top;\n",
       "    }\n",
       "\n",
       "    .dataframe thead th {\n",
       "        text-align: right;\n",
       "    }\n",
       "</style>\n",
       "<table border=\"1\" class=\"dataframe\">\n",
       "  <thead>\n",
       "    <tr style=\"text-align: right;\">\n",
       "      <th></th>\n",
       "      <th>name</th>\n",
       "      <th>state</th>\n",
       "      <th>staff_tests</th>\n",
       "      <th>total_staff_cases</th>\n",
       "      <th>staff_recovered</th>\n",
       "      <th>total_staff_deaths</th>\n",
       "      <th>prisoner_tests</th>\n",
       "      <th>total_prisoner_cases</th>\n",
       "      <th>prisoners_recovered</th>\n",
       "      <th>total_prisoner_deaths</th>\n",
       "      <th>...</th>\n",
       "      <th>Inmates participating in one or more work programs</th>\n",
       "      <th>Prison industries</th>\n",
       "      <th>Support services</th>\n",
       "      <th>Farming</th>\n",
       "      <th>Public works</th>\n",
       "      <th>Other work programs</th>\n",
       "      <th>No work programs</th>\n",
       "      <th>phone_rate_avg</th>\n",
       "      <th>Latitude</th>\n",
       "      <th>Longitude</th>\n",
       "    </tr>\n",
       "  </thead>\n",
       "  <tbody>\n",
       "    <tr>\n",
       "      <th>0</th>\n",
       "      <td>Alabama</td>\n",
       "      <td>AL</td>\n",
       "      <td>568.0</td>\n",
       "      <td>951.0</td>\n",
       "      <td>800.0</td>\n",
       "      <td>3.0</td>\n",
       "      <td>14694.0</td>\n",
       "      <td>1369.0</td>\n",
       "      <td>1198.0</td>\n",
       "      <td>60.0</td>\n",
       "      <td>...</td>\n",
       "      <td>28</td>\n",
       "      <td>7.0</td>\n",
       "      <td>10.0</td>\n",
       "      <td>6.0</td>\n",
       "      <td>9.0</td>\n",
       "      <td>5.0</td>\n",
       "      <td>7.0</td>\n",
       "      <td>4.5000</td>\n",
       "      <td>32.75</td>\n",
       "      <td>-86.75</td>\n",
       "    </tr>\n",
       "    <tr>\n",
       "      <th>1</th>\n",
       "      <td>Alabama</td>\n",
       "      <td>AL</td>\n",
       "      <td>568.0</td>\n",
       "      <td>804.0</td>\n",
       "      <td>529.0</td>\n",
       "      <td>2.0</td>\n",
       "      <td>12671.0</td>\n",
       "      <td>1161.0</td>\n",
       "      <td>1003.0</td>\n",
       "      <td>54.0</td>\n",
       "      <td>...</td>\n",
       "      <td>28</td>\n",
       "      <td>7.0</td>\n",
       "      <td>10.0</td>\n",
       "      <td>6.0</td>\n",
       "      <td>9.0</td>\n",
       "      <td>5.0</td>\n",
       "      <td>7.0</td>\n",
       "      <td>4.5000</td>\n",
       "      <td>32.75</td>\n",
       "      <td>-86.75</td>\n",
       "    </tr>\n",
       "    <tr>\n",
       "      <th>2</th>\n",
       "      <td>Alabama</td>\n",
       "      <td>AL</td>\n",
       "      <td>568.0</td>\n",
       "      <td>667.0</td>\n",
       "      <td>439.0</td>\n",
       "      <td>2.0</td>\n",
       "      <td>7032.0</td>\n",
       "      <td>855.0</td>\n",
       "      <td>735.0</td>\n",
       "      <td>34.0</td>\n",
       "      <td>...</td>\n",
       "      <td>28</td>\n",
       "      <td>7.0</td>\n",
       "      <td>10.0</td>\n",
       "      <td>6.0</td>\n",
       "      <td>9.0</td>\n",
       "      <td>5.0</td>\n",
       "      <td>7.0</td>\n",
       "      <td>4.5000</td>\n",
       "      <td>32.75</td>\n",
       "      <td>-86.75</td>\n",
       "    </tr>\n",
       "    <tr>\n",
       "      <th>3</th>\n",
       "      <td>Alabama</td>\n",
       "      <td>AL</td>\n",
       "      <td>568.0</td>\n",
       "      <td>455.0</td>\n",
       "      <td>388.0</td>\n",
       "      <td>2.0</td>\n",
       "      <td>5339.0</td>\n",
       "      <td>532.0</td>\n",
       "      <td>416.0</td>\n",
       "      <td>27.0</td>\n",
       "      <td>...</td>\n",
       "      <td>28</td>\n",
       "      <td>7.0</td>\n",
       "      <td>10.0</td>\n",
       "      <td>6.0</td>\n",
       "      <td>9.0</td>\n",
       "      <td>5.0</td>\n",
       "      <td>7.0</td>\n",
       "      <td>4.5000</td>\n",
       "      <td>32.75</td>\n",
       "      <td>-86.75</td>\n",
       "    </tr>\n",
       "    <tr>\n",
       "      <th>4</th>\n",
       "      <td>Alabama</td>\n",
       "      <td>AL</td>\n",
       "      <td>568.0</td>\n",
       "      <td>398.0</td>\n",
       "      <td>363.0</td>\n",
       "      <td>2.0</td>\n",
       "      <td>2079.0</td>\n",
       "      <td>415.0</td>\n",
       "      <td>377.0</td>\n",
       "      <td>23.0</td>\n",
       "      <td>...</td>\n",
       "      <td>28</td>\n",
       "      <td>7.0</td>\n",
       "      <td>10.0</td>\n",
       "      <td>6.0</td>\n",
       "      <td>9.0</td>\n",
       "      <td>5.0</td>\n",
       "      <td>7.0</td>\n",
       "      <td>4.5000</td>\n",
       "      <td>32.75</td>\n",
       "      <td>-86.75</td>\n",
       "    </tr>\n",
       "    <tr>\n",
       "      <th>...</th>\n",
       "      <td>...</td>\n",
       "      <td>...</td>\n",
       "      <td>...</td>\n",
       "      <td>...</td>\n",
       "      <td>...</td>\n",
       "      <td>...</td>\n",
       "      <td>...</td>\n",
       "      <td>...</td>\n",
       "      <td>...</td>\n",
       "      <td>...</td>\n",
       "      <td>...</td>\n",
       "      <td>...</td>\n",
       "      <td>...</td>\n",
       "      <td>...</td>\n",
       "      <td>...</td>\n",
       "      <td>...</td>\n",
       "      <td>...</td>\n",
       "      <td>...</td>\n",
       "      <td>...</td>\n",
       "      <td>...</td>\n",
       "      <td>...</td>\n",
       "    </tr>\n",
       "    <tr>\n",
       "      <th>556</th>\n",
       "      <td>Wyoming</td>\n",
       "      <td>WY</td>\n",
       "      <td>380.0</td>\n",
       "      <td>8.0</td>\n",
       "      <td>1.0</td>\n",
       "      <td>0.0</td>\n",
       "      <td>866.0</td>\n",
       "      <td>12.0</td>\n",
       "      <td>0.0</td>\n",
       "      <td>0.0</td>\n",
       "      <td>...</td>\n",
       "      <td>1,001</td>\n",
       "      <td>0.0</td>\n",
       "      <td>5.0</td>\n",
       "      <td>2.0</td>\n",
       "      <td>3.0</td>\n",
       "      <td>4.0</td>\n",
       "      <td>0.0</td>\n",
       "      <td>3.2025</td>\n",
       "      <td>43.00</td>\n",
       "      <td>-107.50</td>\n",
       "    </tr>\n",
       "    <tr>\n",
       "      <th>557</th>\n",
       "      <td>Wyoming</td>\n",
       "      <td>WY</td>\n",
       "      <td>20.0</td>\n",
       "      <td>1.0</td>\n",
       "      <td>1.0</td>\n",
       "      <td>0.0</td>\n",
       "      <td>61.0</td>\n",
       "      <td>0.0</td>\n",
       "      <td>0.0</td>\n",
       "      <td>0.0</td>\n",
       "      <td>...</td>\n",
       "      <td>1,001</td>\n",
       "      <td>0.0</td>\n",
       "      <td>5.0</td>\n",
       "      <td>2.0</td>\n",
       "      <td>3.0</td>\n",
       "      <td>4.0</td>\n",
       "      <td>0.0</td>\n",
       "      <td>3.2025</td>\n",
       "      <td>43.00</td>\n",
       "      <td>-107.50</td>\n",
       "    </tr>\n",
       "    <tr>\n",
       "      <th>558</th>\n",
       "      <td>Wyoming</td>\n",
       "      <td>WY</td>\n",
       "      <td>16.0</td>\n",
       "      <td>1.0</td>\n",
       "      <td>1.0</td>\n",
       "      <td>0.0</td>\n",
       "      <td>30.0</td>\n",
       "      <td>0.0</td>\n",
       "      <td>0.0</td>\n",
       "      <td>0.0</td>\n",
       "      <td>...</td>\n",
       "      <td>1,001</td>\n",
       "      <td>0.0</td>\n",
       "      <td>5.0</td>\n",
       "      <td>2.0</td>\n",
       "      <td>3.0</td>\n",
       "      <td>4.0</td>\n",
       "      <td>0.0</td>\n",
       "      <td>3.2025</td>\n",
       "      <td>43.00</td>\n",
       "      <td>-107.50</td>\n",
       "    </tr>\n",
       "    <tr>\n",
       "      <th>559</th>\n",
       "      <td>Wyoming</td>\n",
       "      <td>WY</td>\n",
       "      <td>10.0</td>\n",
       "      <td>1.0</td>\n",
       "      <td>1.0</td>\n",
       "      <td>0.0</td>\n",
       "      <td>15.0</td>\n",
       "      <td>0.0</td>\n",
       "      <td>0.0</td>\n",
       "      <td>0.0</td>\n",
       "      <td>...</td>\n",
       "      <td>1,001</td>\n",
       "      <td>0.0</td>\n",
       "      <td>5.0</td>\n",
       "      <td>2.0</td>\n",
       "      <td>3.0</td>\n",
       "      <td>4.0</td>\n",
       "      <td>0.0</td>\n",
       "      <td>3.2025</td>\n",
       "      <td>43.00</td>\n",
       "      <td>-107.50</td>\n",
       "    </tr>\n",
       "    <tr>\n",
       "      <th>560</th>\n",
       "      <td>Wyoming</td>\n",
       "      <td>WY</td>\n",
       "      <td>0.0</td>\n",
       "      <td>0.0</td>\n",
       "      <td>1.0</td>\n",
       "      <td>0.0</td>\n",
       "      <td>0.0</td>\n",
       "      <td>0.0</td>\n",
       "      <td>0.0</td>\n",
       "      <td>0.0</td>\n",
       "      <td>...</td>\n",
       "      <td>1,001</td>\n",
       "      <td>0.0</td>\n",
       "      <td>5.0</td>\n",
       "      <td>2.0</td>\n",
       "      <td>3.0</td>\n",
       "      <td>4.0</td>\n",
       "      <td>0.0</td>\n",
       "      <td>3.2025</td>\n",
       "      <td>43.00</td>\n",
       "      <td>-107.50</td>\n",
       "    </tr>\n",
       "  </tbody>\n",
       "</table>\n",
       "<p>550 rows × 44 columns</p>\n",
       "</div>"
      ],
      "text/plain": [
       "        name state  staff_tests  total_staff_cases  staff_recovered  \\\n",
       "0    Alabama    AL        568.0              951.0            800.0   \n",
       "1    Alabama    AL        568.0              804.0            529.0   \n",
       "2    Alabama    AL        568.0              667.0            439.0   \n",
       "3    Alabama    AL        568.0              455.0            388.0   \n",
       "4    Alabama    AL        568.0              398.0            363.0   \n",
       "..       ...   ...          ...                ...              ...   \n",
       "556  Wyoming    WY        380.0                8.0              1.0   \n",
       "557  Wyoming    WY         20.0                1.0              1.0   \n",
       "558  Wyoming    WY         16.0                1.0              1.0   \n",
       "559  Wyoming    WY         10.0                1.0              1.0   \n",
       "560  Wyoming    WY          0.0                0.0              1.0   \n",
       "\n",
       "     total_staff_deaths  prisoner_tests  total_prisoner_cases  \\\n",
       "0                   3.0         14694.0                1369.0   \n",
       "1                   2.0         12671.0                1161.0   \n",
       "2                   2.0          7032.0                 855.0   \n",
       "3                   2.0          5339.0                 532.0   \n",
       "4                   2.0          2079.0                 415.0   \n",
       "..                  ...             ...                   ...   \n",
       "556                 0.0           866.0                  12.0   \n",
       "557                 0.0            61.0                   0.0   \n",
       "558                 0.0            30.0                   0.0   \n",
       "559                 0.0            15.0                   0.0   \n",
       "560                 0.0             0.0                   0.0   \n",
       "\n",
       "     prisoners_recovered  total_prisoner_deaths  ...  \\\n",
       "0                 1198.0                   60.0  ...   \n",
       "1                 1003.0                   54.0  ...   \n",
       "2                  735.0                   34.0  ...   \n",
       "3                  416.0                   27.0  ...   \n",
       "4                  377.0                   23.0  ...   \n",
       "..                   ...                    ...  ...   \n",
       "556                  0.0                    0.0  ...   \n",
       "557                  0.0                    0.0  ...   \n",
       "558                  0.0                    0.0  ...   \n",
       "559                  0.0                    0.0  ...   \n",
       "560                  0.0                    0.0  ...   \n",
       "\n",
       "    Inmates participating in one or more work programs  Prison industries  \\\n",
       "0                                                   28                7.0   \n",
       "1                                                   28                7.0   \n",
       "2                                                   28                7.0   \n",
       "3                                                   28                7.0   \n",
       "4                                                   28                7.0   \n",
       "..                                                 ...                ...   \n",
       "556                                              1,001                0.0   \n",
       "557                                              1,001                0.0   \n",
       "558                                              1,001                0.0   \n",
       "559                                              1,001                0.0   \n",
       "560                                              1,001                0.0   \n",
       "\n",
       "     Support services Farming   Public works  Other work programs   \\\n",
       "0                10.0      6.0           9.0                   5.0   \n",
       "1                10.0      6.0           9.0                   5.0   \n",
       "2                10.0      6.0           9.0                   5.0   \n",
       "3                10.0      6.0           9.0                   5.0   \n",
       "4                10.0      6.0           9.0                   5.0   \n",
       "..                ...      ...           ...                   ...   \n",
       "556               5.0      2.0           3.0                   4.0   \n",
       "557               5.0      2.0           3.0                   4.0   \n",
       "558               5.0      2.0           3.0                   4.0   \n",
       "559               5.0      2.0           3.0                   4.0   \n",
       "560               5.0      2.0           3.0                   4.0   \n",
       "\n",
       "     No work programs  phone_rate_avg Latitude Longitude  \n",
       "0                 7.0          4.5000    32.75    -86.75  \n",
       "1                 7.0          4.5000    32.75    -86.75  \n",
       "2                 7.0          4.5000    32.75    -86.75  \n",
       "3                 7.0          4.5000    32.75    -86.75  \n",
       "4                 7.0          4.5000    32.75    -86.75  \n",
       "..                ...             ...      ...       ...  \n",
       "556               0.0          3.2025    43.00   -107.50  \n",
       "557               0.0          3.2025    43.00   -107.50  \n",
       "558               0.0          3.2025    43.00   -107.50  \n",
       "559               0.0          3.2025    43.00   -107.50  \n",
       "560               0.0          3.2025    43.00   -107.50  \n",
       "\n",
       "[550 rows x 44 columns]"
      ]
     },
     "execution_count": 7,
     "metadata": {},
     "output_type": "execute_result"
    }
   ],
   "source": [
    "complete_df"
   ]
  },
  {
   "cell_type": "code",
   "execution_count": 8,
   "metadata": {
    "scrolled": true
   },
   "outputs": [
    {
     "data": {
      "text/plain": [
       "name\n",
       "Alabama            241.0\n",
       "Alaska              11.0\n",
       "Arizona            225.0\n",
       "Arkansas           326.0\n",
       "California         671.0\n",
       "Colorado            76.0\n",
       "Connecticut         85.0\n",
       "Delaware            92.0\n",
       "Florida           1061.0\n",
       "Georgia            517.0\n",
       "Hawaii               4.0\n",
       "Idaho               23.0\n",
       "Illinois           304.0\n",
       "Indiana            268.0\n",
       "Iowa                51.0\n",
       "Kansas              67.0\n",
       "Kentucky           143.0\n",
       "Louisiana          223.0\n",
       "Maine                2.0\n",
       "Maryland           105.0\n",
       "Massachusetts       94.0\n",
       "Michigan           779.0\n",
       "Minnesota           34.0\n",
       "Mississippi         85.0\n",
       "Missouri           120.0\n",
       "Montana             16.0\n",
       "Nebraska            19.0\n",
       "Nevada              56.0\n",
       "New Hampshire        2.0\n",
       "New Jersey         473.0\n",
       "New Mexico          79.0\n",
       "New York           180.0\n",
       "North Carolina     160.0\n",
       "North Dakota         2.0\n",
       "Ohio               932.0\n",
       "Oklahoma           155.0\n",
       "Oregon             109.0\n",
       "Pennsylvania       252.0\n",
       "Rhode Island         4.0\n",
       "South Carolina     190.0\n",
       "South Dakota        15.0\n",
       "Tennessee          167.0\n",
       "Texas             1205.0\n",
       "Utah                36.0\n",
       "Vermont              0.0\n",
       "Virginia           242.0\n",
       "Washington          28.0\n",
       "West Virginia       13.0\n",
       "Wisconsin           62.0\n",
       "Wyoming              2.0\n",
       "Name: total_prisoner_deaths, dtype: float64"
      ]
     },
     "execution_count": 8,
     "metadata": {},
     "output_type": "execute_result"
    }
   ],
   "source": [
    "top_ten_states = complete_df.groupby('name')['total_prisoner_deaths'].sum()\n",
    "top_ten_states"
   ]
  },
  {
   "cell_type": "code",
   "execution_count": 9,
   "metadata": {
    "scrolled": true
   },
   "outputs": [
    {
     "data": {
      "text/plain": [
       "name\n",
       "Texas         1205.0\n",
       "Florida       1061.0\n",
       "Ohio           932.0\n",
       "Michigan       779.0\n",
       "California     671.0\n",
       "Georgia        517.0\n",
       "New Jersey     473.0\n",
       "Arkansas       326.0\n",
       "Illinois       304.0\n",
       "Indiana        268.0\n",
       "Name: total_prisoner_deaths, dtype: float64"
      ]
     },
     "execution_count": 9,
     "metadata": {},
     "output_type": "execute_result"
    }
   ],
   "source": [
    "top_ten_states_prisoner_deaths = top_ten_states.sort_values( ascending = False)[:10]\n",
    "top_ten_states_prisoner_deaths"
   ]
  },
  {
   "cell_type": "code",
   "execution_count": 10,
   "metadata": {},
   "outputs": [],
   "source": [
    "top_ten_prison = pd.DataFrame(top_ten_states_prisoner_deaths)"
   ]
  },
  {
   "cell_type": "code",
   "execution_count": 11,
   "metadata": {
    "scrolled": true
   },
   "outputs": [],
   "source": [
    "top_ten_prison.reset_index(inplace = True)"
   ]
  },
  {
   "cell_type": "code",
   "execution_count": 12,
   "metadata": {
    "scrolled": true
   },
   "outputs": [
    {
     "data": {
      "text/html": [
       "<div>\n",
       "<style scoped>\n",
       "    .dataframe tbody tr th:only-of-type {\n",
       "        vertical-align: middle;\n",
       "    }\n",
       "\n",
       "    .dataframe tbody tr th {\n",
       "        vertical-align: top;\n",
       "    }\n",
       "\n",
       "    .dataframe thead th {\n",
       "        text-align: right;\n",
       "    }\n",
       "</style>\n",
       "<table border=\"1\" class=\"dataframe\">\n",
       "  <thead>\n",
       "    <tr style=\"text-align: right;\">\n",
       "      <th></th>\n",
       "      <th>name</th>\n",
       "      <th>total_prisoner_deaths</th>\n",
       "    </tr>\n",
       "  </thead>\n",
       "  <tbody>\n",
       "    <tr>\n",
       "      <th>0</th>\n",
       "      <td>Texas</td>\n",
       "      <td>1205.0</td>\n",
       "    </tr>\n",
       "    <tr>\n",
       "      <th>1</th>\n",
       "      <td>Florida</td>\n",
       "      <td>1061.0</td>\n",
       "    </tr>\n",
       "    <tr>\n",
       "      <th>2</th>\n",
       "      <td>Ohio</td>\n",
       "      <td>932.0</td>\n",
       "    </tr>\n",
       "    <tr>\n",
       "      <th>3</th>\n",
       "      <td>Michigan</td>\n",
       "      <td>779.0</td>\n",
       "    </tr>\n",
       "    <tr>\n",
       "      <th>4</th>\n",
       "      <td>California</td>\n",
       "      <td>671.0</td>\n",
       "    </tr>\n",
       "    <tr>\n",
       "      <th>5</th>\n",
       "      <td>Georgia</td>\n",
       "      <td>517.0</td>\n",
       "    </tr>\n",
       "    <tr>\n",
       "      <th>6</th>\n",
       "      <td>New Jersey</td>\n",
       "      <td>473.0</td>\n",
       "    </tr>\n",
       "    <tr>\n",
       "      <th>7</th>\n",
       "      <td>Arkansas</td>\n",
       "      <td>326.0</td>\n",
       "    </tr>\n",
       "    <tr>\n",
       "      <th>8</th>\n",
       "      <td>Illinois</td>\n",
       "      <td>304.0</td>\n",
       "    </tr>\n",
       "    <tr>\n",
       "      <th>9</th>\n",
       "      <td>Indiana</td>\n",
       "      <td>268.0</td>\n",
       "    </tr>\n",
       "  </tbody>\n",
       "</table>\n",
       "</div>"
      ],
      "text/plain": [
       "         name  total_prisoner_deaths\n",
       "0       Texas                 1205.0\n",
       "1     Florida                 1061.0\n",
       "2        Ohio                  932.0\n",
       "3    Michigan                  779.0\n",
       "4  California                  671.0\n",
       "5     Georgia                  517.0\n",
       "6  New Jersey                  473.0\n",
       "7    Arkansas                  326.0\n",
       "8    Illinois                  304.0\n",
       "9     Indiana                  268.0"
      ]
     },
     "execution_count": 12,
     "metadata": {},
     "output_type": "execute_result"
    }
   ],
   "source": [
    "\n",
    "top_ten_prison"
   ]
  },
  {
   "cell_type": "code",
   "execution_count": 13,
   "metadata": {},
   "outputs": [
    {
     "data": {
      "text/html": [
       "<div>\n",
       "<style scoped>\n",
       "    .dataframe tbody tr th:only-of-type {\n",
       "        vertical-align: middle;\n",
       "    }\n",
       "\n",
       "    .dataframe tbody tr th {\n",
       "        vertical-align: top;\n",
       "    }\n",
       "\n",
       "    .dataframe thead th {\n",
       "        text-align: right;\n",
       "    }\n",
       "</style>\n",
       "<table border=\"1\" class=\"dataframe\">\n",
       "  <thead>\n",
       "    <tr style=\"text-align: right;\">\n",
       "      <th></th>\n",
       "      <th>name</th>\n",
       "      <th>total_prisoner_deaths</th>\n",
       "    </tr>\n",
       "  </thead>\n",
       "  <tbody>\n",
       "    <tr>\n",
       "      <th>0</th>\n",
       "      <td>Texas</td>\n",
       "      <td>1205.0</td>\n",
       "    </tr>\n",
       "    <tr>\n",
       "      <th>1</th>\n",
       "      <td>Florida</td>\n",
       "      <td>1061.0</td>\n",
       "    </tr>\n",
       "    <tr>\n",
       "      <th>2</th>\n",
       "      <td>Ohio</td>\n",
       "      <td>932.0</td>\n",
       "    </tr>\n",
       "    <tr>\n",
       "      <th>3</th>\n",
       "      <td>Michigan</td>\n",
       "      <td>779.0</td>\n",
       "    </tr>\n",
       "    <tr>\n",
       "      <th>4</th>\n",
       "      <td>California</td>\n",
       "      <td>671.0</td>\n",
       "    </tr>\n",
       "  </tbody>\n",
       "</table>\n",
       "</div>"
      ],
      "text/plain": [
       "         name  total_prisoner_deaths\n",
       "0       Texas                 1205.0\n",
       "1     Florida                 1061.0\n",
       "2        Ohio                  932.0\n",
       "3    Michigan                  779.0\n",
       "4  California                  671.0"
      ]
     },
     "execution_count": 13,
     "metadata": {},
     "output_type": "execute_result"
    }
   ],
   "source": [
    "top_ten_prison.head()"
   ]
  },
  {
   "cell_type": "code",
   "execution_count": 14,
   "metadata": {},
   "outputs": [
    {
     "data": {
      "text/plain": [
       "Text(0, 0.5, 'Number of Deaths')"
      ]
     },
     "execution_count": 14,
     "metadata": {},
     "output_type": "execute_result"
    },
    {
     "data": {
      "image/png": "[encoded data removed]",
      "text/plain": [
       "<Figure size 1080x360 with 1 Axes>"
      ]
     },
     "metadata": {
      "needs_background": "light"
     },
     "output_type": "display_data"
    }
   ],
   "source": [
    "plt.figure(figsize = (15,5))\n",
    "\n",
    "plt.bar(x = top_ten_prison['name'], height = top_ten_prison['total_prisoner_deaths'])\n",
    "\n",
    "plt.title('Top 10 States with the Most Prisoner Deaths Due to Covid-19', size = 14)\n",
    "\n",
    "plt.xlabel('States', size = 12)\n",
    "plt.ylabel('Number of Deaths', size = 12)"
   ]
  },
  {
   "cell_type": "code",
   "execution_count": 15,
   "metadata": {
    "scrolled": true
   },
   "outputs": [
    {
     "data": {
      "text/plain": [
       "name\n",
       "Alabama            16.0\n",
       "Alaska              0.0\n",
       "Arizona             8.0\n",
       "Arkansas           17.0\n",
       "California         76.0\n",
       "Colorado            0.0\n",
       "Connecticut         0.0\n",
       "Delaware            9.0\n",
       "Florida            27.0\n",
       "Georgia            15.0\n",
       "Hawaii              0.0\n",
       "Idaho               0.0\n",
       "Illinois            3.0\n",
       "Indiana            26.0\n",
       "Iowa                5.0\n",
       "Kansas             28.0\n",
       "Kentucky           15.0\n",
       "Louisiana          45.0\n",
       "Maine               0.0\n",
       "Maryland           15.0\n",
       "Massachusetts       0.0\n",
       "Michigan           29.0\n",
       "Minnesota           0.0\n",
       "Mississippi        18.0\n",
       "Missouri           16.0\n",
       "Montana             0.0\n",
       "Nebraska            0.0\n",
       "Nevada             14.0\n",
       "New Hampshire       0.0\n",
       "New Jersey         29.0\n",
       "New Mexico          0.0\n",
       "New York           49.0\n",
       "North Carolina     25.0\n",
       "North Dakota        1.0\n",
       "Ohio               53.0\n",
       "Oklahoma           15.0\n",
       "Oregon              0.0\n",
       "Pennsylvania       20.0\n",
       "Rhode Island        2.0\n",
       "South Carolina     15.0\n",
       "South Dakota        0.0\n",
       "Tennessee          14.0\n",
       "Texas             185.0\n",
       "Utah                0.0\n",
       "Vermont             0.0\n",
       "Virginia            8.0\n",
       "Washington         10.0\n",
       "West Virginia       1.0\n",
       "Wisconsin           0.0\n",
       "Wyoming             0.0\n",
       "Name: total_staff_deaths, dtype: float64"
      ]
     },
     "execution_count": 15,
     "metadata": {},
     "output_type": "execute_result"
    }
   ],
   "source": [
    "top_ten_staff_deaths = complete_df.groupby('name')['total_staff_deaths'].sum()\n",
    "top_ten_staff_deaths"
   ]
  },
  {
   "cell_type": "code",
   "execution_count": 16,
   "metadata": {
    "scrolled": true
   },
   "outputs": [
    {
     "data": {
      "text/plain": [
       "name\n",
       "Texas         185.0\n",
       "California     76.0\n",
       "Ohio           53.0\n",
       "New York       49.0\n",
       "Louisiana      45.0\n",
       "Michigan       29.0\n",
       "New Jersey     29.0\n",
       "Kansas         28.0\n",
       "Florida        27.0\n",
       "Indiana        26.0\n",
       "Name: total_staff_deaths, dtype: float64"
      ]
     },
     "execution_count": 16,
     "metadata": {},
     "output_type": "execute_result"
    }
   ],
   "source": [
    "staff_deaths_df = top_ten_staff_deaths.sort_values(ascending = False)[:10]\n",
    "staff_deaths_df"
   ]
  },
  {
   "cell_type": "code",
   "execution_count": 17,
   "metadata": {},
   "outputs": [],
   "source": [
    "top_ten_staff = pd.DataFrame(staff_deaths_df)"
   ]
  },
  {
   "cell_type": "code",
   "execution_count": 18,
   "metadata": {
    "scrolled": false
   },
   "outputs": [],
   "source": [
    "top_ten_staff.reset_index(inplace = True)"
   ]
  },
  {
   "cell_type": "code",
   "execution_count": 21,
   "metadata": {
    "scrolled": true
   },
   "outputs": [
    {
     "data": {
      "text/html": [
       "<div>\n",
       "<style scoped>\n",
       "    .dataframe tbody tr th:only-of-type {\n",
       "        vertical-align: middle;\n",
       "    }\n",
       "\n",
       "    .dataframe tbody tr th {\n",
       "        vertical-align: top;\n",
       "    }\n",
       "\n",
       "    .dataframe thead th {\n",
       "        text-align: right;\n",
       "    }\n",
       "</style>\n",
       "<table border=\"1\" class=\"dataframe\">\n",
       "  <thead>\n",
       "    <tr style=\"text-align: right;\">\n",
       "      <th></th>\n",
       "      <th>name</th>\n",
       "      <th>total_staff_deaths</th>\n",
       "    </tr>\n",
       "  </thead>\n",
       "  <tbody>\n",
       "    <tr>\n",
       "      <th>0</th>\n",
       "      <td>Texas</td>\n",
       "      <td>185.0</td>\n",
       "    </tr>\n",
       "    <tr>\n",
       "      <th>1</th>\n",
       "      <td>California</td>\n",
       "      <td>76.0</td>\n",
       "    </tr>\n",
       "    <tr>\n",
       "      <th>2</th>\n",
       "      <td>Ohio</td>\n",
       "      <td>53.0</td>\n",
       "    </tr>\n",
       "    <tr>\n",
       "      <th>3</th>\n",
       "      <td>New York</td>\n",
       "      <td>49.0</td>\n",
       "    </tr>\n",
       "    <tr>\n",
       "      <th>4</th>\n",
       "      <td>Louisiana</td>\n",
       "      <td>45.0</td>\n",
       "    </tr>\n",
       "    <tr>\n",
       "      <th>5</th>\n",
       "      <td>Michigan</td>\n",
       "      <td>29.0</td>\n",
       "    </tr>\n",
       "    <tr>\n",
       "      <th>6</th>\n",
       "      <td>New Jersey</td>\n",
       "      <td>29.0</td>\n",
       "    </tr>\n",
       "    <tr>\n",
       "      <th>7</th>\n",
       "      <td>Kansas</td>\n",
       "      <td>28.0</td>\n",
       "    </tr>\n",
       "    <tr>\n",
       "      <th>8</th>\n",
       "      <td>Florida</td>\n",
       "      <td>27.0</td>\n",
       "    </tr>\n",
       "    <tr>\n",
       "      <th>9</th>\n",
       "      <td>Indiana</td>\n",
       "      <td>26.0</td>\n",
       "    </tr>\n",
       "  </tbody>\n",
       "</table>\n",
       "</div>"
      ],
      "text/plain": [
       "         name  total_staff_deaths\n",
       "0       Texas               185.0\n",
       "1  California                76.0\n",
       "2        Ohio                53.0\n",
       "3    New York                49.0\n",
       "4   Louisiana                45.0\n",
       "5    Michigan                29.0\n",
       "6  New Jersey                29.0\n",
       "7      Kansas                28.0\n",
       "8     Florida                27.0\n",
       "9     Indiana                26.0"
      ]
     },
     "execution_count": 21,
     "metadata": {},
     "output_type": "execute_result"
    }
   ],
   "source": [
    "top_ten_staff"
   ]
  },
  {
   "cell_type": "code",
   "execution_count": 22,
   "metadata": {
    "scrolled": true
   },
   "outputs": [
    {
     "data": {
      "text/plain": [
       "Text(0, 0.5, 'Number of Deaths')"
      ]
     },
     "execution_count": 22,
     "metadata": {},
     "output_type": "execute_result"
    },
    {
     "data": {
      "image/png": "[encoded data removed]",
      "text/plain": [
       "<Figure size 864x360 with 1 Axes>"
      ]
     },
     "metadata": {
      "needs_background": "light"
     },
     "output_type": "display_data"
    }
   ],
   "source": [
    "plt.figure(figsize = (12,5))\n",
    "\n",
    "plt.bar(x = top_ten_staff['name'], height = top_ten_staff['total_staff_deaths'])\n",
    "\n",
    "plt.title('Top 10 States with the Most Staff Deaths Due to Covid-19', size = 14)\n",
    "\n",
    "plt.xlabel('States', size = 12)\n",
    "plt.ylabel('Number of Deaths', size = 12)"
   ]
  },
  {
   "cell_type": "markdown",
   "metadata": {},
   "source": [
    "### Exploring Staff/Prisoner Cases"
   ]
  },
  {
   "cell_type": "code",
   "execution_count": null,
   "metadata": {},
   "outputs": [],
   "source": []
  },
  {
   "cell_type": "code",
   "execution_count": 23,
   "metadata": {},
   "outputs": [],
   "source": [
    "total_staff_cases = complete_df.groupby('name')['total_staff_cases'].sum()"
   ]
  },
  {
   "cell_type": "code",
   "execution_count": 24,
   "metadata": {},
   "outputs": [],
   "source": [
    "total_staff_cases_sort = total_staff_cases.sort_values(ascending = False)[:10]"
   ]
  },
  {
   "cell_type": "code",
   "execution_count": 25,
   "metadata": {},
   "outputs": [],
   "source": [
    "total_staff_cases_sort_df = pd.DataFrame(total_staff_cases_sort)"
   ]
  },
  {
   "cell_type": "code",
   "execution_count": 26,
   "metadata": {
    "scrolled": true
   },
   "outputs": [],
   "source": [
    "total_staff_cases_sort_df.reset_index(inplace=True)"
   ]
  },
  {
   "cell_type": "code",
   "execution_count": 27,
   "metadata": {},
   "outputs": [
    {
     "data": {
      "text/html": [
       "<div>\n",
       "<style scoped>\n",
       "    .dataframe tbody tr th:only-of-type {\n",
       "        vertical-align: middle;\n",
       "    }\n",
       "\n",
       "    .dataframe tbody tr th {\n",
       "        vertical-align: top;\n",
       "    }\n",
       "\n",
       "    .dataframe thead th {\n",
       "        text-align: right;\n",
       "    }\n",
       "</style>\n",
       "<table border=\"1\" class=\"dataframe\">\n",
       "  <thead>\n",
       "    <tr style=\"text-align: right;\">\n",
       "      <th></th>\n",
       "      <th>name</th>\n",
       "      <th>total_staff_cases</th>\n",
       "    </tr>\n",
       "  </thead>\n",
       "  <tbody>\n",
       "    <tr>\n",
       "      <th>0</th>\n",
       "      <td>California</td>\n",
       "      <td>46230.0</td>\n",
       "    </tr>\n",
       "    <tr>\n",
       "      <th>1</th>\n",
       "      <td>Texas</td>\n",
       "      <td>45813.0</td>\n",
       "    </tr>\n",
       "    <tr>\n",
       "      <th>2</th>\n",
       "      <td>Florida</td>\n",
       "      <td>24678.0</td>\n",
       "    </tr>\n",
       "    <tr>\n",
       "      <th>3</th>\n",
       "      <td>New York</td>\n",
       "      <td>17959.0</td>\n",
       "    </tr>\n",
       "    <tr>\n",
       "      <th>4</th>\n",
       "      <td>Ohio</td>\n",
       "      <td>16918.0</td>\n",
       "    </tr>\n",
       "    <tr>\n",
       "      <th>5</th>\n",
       "      <td>Illinois</td>\n",
       "      <td>12784.0</td>\n",
       "    </tr>\n",
       "    <tr>\n",
       "      <th>6</th>\n",
       "      <td>Michigan</td>\n",
       "      <td>11309.0</td>\n",
       "    </tr>\n",
       "    <tr>\n",
       "      <th>7</th>\n",
       "      <td>New Jersey</td>\n",
       "      <td>10769.0</td>\n",
       "    </tr>\n",
       "    <tr>\n",
       "      <th>8</th>\n",
       "      <td>North Carolina</td>\n",
       "      <td>10737.0</td>\n",
       "    </tr>\n",
       "    <tr>\n",
       "      <th>9</th>\n",
       "      <td>Pennsylvania</td>\n",
       "      <td>10042.0</td>\n",
       "    </tr>\n",
       "  </tbody>\n",
       "</table>\n",
       "</div>"
      ],
      "text/plain": [
       "             name  total_staff_cases\n",
       "0      California            46230.0\n",
       "1           Texas            45813.0\n",
       "2         Florida            24678.0\n",
       "3        New York            17959.0\n",
       "4            Ohio            16918.0\n",
       "5        Illinois            12784.0\n",
       "6        Michigan            11309.0\n",
       "7      New Jersey            10769.0\n",
       "8  North Carolina            10737.0\n",
       "9    Pennsylvania            10042.0"
      ]
     },
     "execution_count": 27,
     "metadata": {},
     "output_type": "execute_result"
    }
   ],
   "source": [
    "total_staff_cases_sort_df"
   ]
  },
  {
   "cell_type": "code",
   "execution_count": 29,
   "metadata": {},
   "outputs": [
    {
     "data": {
      "image/png": "[encoded data removed]",
      "text/plain": [
       "<Figure size 432x288 with 1 Axes>"
      ]
     },
     "metadata": {
      "needs_background": "light"
     },
     "output_type": "display_data"
    }
   ],
   "source": [
    "figsize = (20,20)\n",
    "sns.boxplot(x = 'name', y='total_staff_cases', data= total_staff_cases_sort_df, showfliers=False);\n",
    "plt.show;"
   ]
  },
  {
   "cell_type": "code",
   "execution_count": 30,
   "metadata": {},
   "outputs": [],
   "source": [
    "staff_prisoner_df = pd.DataFrame(complete_df, columns = ['name', 'total_staff_cases', 'total_prisoner_cases'])"
   ]
  },
  {
   "cell_type": "code",
   "execution_count": 31,
   "metadata": {},
   "outputs": [
    {
     "data": {
      "text/html": [
       "<div>\n",
       "<style scoped>\n",
       "    .dataframe tbody tr th:only-of-type {\n",
       "        vertical-align: middle;\n",
       "    }\n",
       "\n",
       "    .dataframe tbody tr th {\n",
       "        vertical-align: top;\n",
       "    }\n",
       "\n",
       "    .dataframe thead th {\n",
       "        text-align: right;\n",
       "    }\n",
       "</style>\n",
       "<table border=\"1\" class=\"dataframe\">\n",
       "  <thead>\n",
       "    <tr style=\"text-align: right;\">\n",
       "      <th></th>\n",
       "      <th>name</th>\n",
       "      <th>total_staff_cases</th>\n",
       "      <th>total_prisoner_cases</th>\n",
       "    </tr>\n",
       "  </thead>\n",
       "  <tbody>\n",
       "    <tr>\n",
       "      <th>0</th>\n",
       "      <td>Alabama</td>\n",
       "      <td>951.0</td>\n",
       "      <td>1369.0</td>\n",
       "    </tr>\n",
       "    <tr>\n",
       "      <th>1</th>\n",
       "      <td>Alabama</td>\n",
       "      <td>804.0</td>\n",
       "      <td>1161.0</td>\n",
       "    </tr>\n",
       "    <tr>\n",
       "      <th>2</th>\n",
       "      <td>Alabama</td>\n",
       "      <td>667.0</td>\n",
       "      <td>855.0</td>\n",
       "    </tr>\n",
       "    <tr>\n",
       "      <th>3</th>\n",
       "      <td>Alabama</td>\n",
       "      <td>455.0</td>\n",
       "      <td>532.0</td>\n",
       "    </tr>\n",
       "    <tr>\n",
       "      <th>4</th>\n",
       "      <td>Alabama</td>\n",
       "      <td>398.0</td>\n",
       "      <td>415.0</td>\n",
       "    </tr>\n",
       "    <tr>\n",
       "      <th>...</th>\n",
       "      <td>...</td>\n",
       "      <td>...</td>\n",
       "      <td>...</td>\n",
       "    </tr>\n",
       "    <tr>\n",
       "      <th>556</th>\n",
       "      <td>Wyoming</td>\n",
       "      <td>8.0</td>\n",
       "      <td>12.0</td>\n",
       "    </tr>\n",
       "    <tr>\n",
       "      <th>557</th>\n",
       "      <td>Wyoming</td>\n",
       "      <td>1.0</td>\n",
       "      <td>0.0</td>\n",
       "    </tr>\n",
       "    <tr>\n",
       "      <th>558</th>\n",
       "      <td>Wyoming</td>\n",
       "      <td>1.0</td>\n",
       "      <td>0.0</td>\n",
       "    </tr>\n",
       "    <tr>\n",
       "      <th>559</th>\n",
       "      <td>Wyoming</td>\n",
       "      <td>1.0</td>\n",
       "      <td>0.0</td>\n",
       "    </tr>\n",
       "    <tr>\n",
       "      <th>560</th>\n",
       "      <td>Wyoming</td>\n",
       "      <td>0.0</td>\n",
       "      <td>0.0</td>\n",
       "    </tr>\n",
       "  </tbody>\n",
       "</table>\n",
       "<p>550 rows × 3 columns</p>\n",
       "</div>"
      ],
      "text/plain": [
       "        name  total_staff_cases  total_prisoner_cases\n",
       "0    Alabama              951.0                1369.0\n",
       "1    Alabama              804.0                1161.0\n",
       "2    Alabama              667.0                 855.0\n",
       "3    Alabama              455.0                 532.0\n",
       "4    Alabama              398.0                 415.0\n",
       "..       ...                ...                   ...\n",
       "556  Wyoming                8.0                  12.0\n",
       "557  Wyoming                1.0                   0.0\n",
       "558  Wyoming                1.0                   0.0\n",
       "559  Wyoming                1.0                   0.0\n",
       "560  Wyoming                0.0                   0.0\n",
       "\n",
       "[550 rows x 3 columns]"
      ]
     },
     "execution_count": 31,
     "metadata": {},
     "output_type": "execute_result"
    }
   ],
   "source": [
    "staff_prisoner_df"
   ]
  },
  {
   "cell_type": "code",
   "execution_count": 32,
   "metadata": {},
   "outputs": [],
   "source": [
    "both_staff_prisoner_cases = staff_prisoner_df.groupby('name')[['total_staff_cases', 'total_prisoner_cases']].sum()"
   ]
  },
  {
   "cell_type": "code",
   "execution_count": 33,
   "metadata": {},
   "outputs": [],
   "source": [
    "both_df = both_staff_prisoner_cases.sort_values(by='total_prisoner_cases', ascending = False)[:10]"
   ]
  },
  {
   "cell_type": "code",
   "execution_count": 34,
   "metadata": {},
   "outputs": [
    {
     "data": {
      "text/html": [
       "<div>\n",
       "<style scoped>\n",
       "    .dataframe tbody tr th:only-of-type {\n",
       "        vertical-align: middle;\n",
       "    }\n",
       "\n",
       "    .dataframe tbody tr th {\n",
       "        vertical-align: top;\n",
       "    }\n",
       "\n",
       "    .dataframe thead th {\n",
       "        text-align: right;\n",
       "    }\n",
       "</style>\n",
       "<table border=\"1\" class=\"dataframe\">\n",
       "  <thead>\n",
       "    <tr style=\"text-align: right;\">\n",
       "      <th></th>\n",
       "      <th>total_staff_cases</th>\n",
       "      <th>total_prisoner_cases</th>\n",
       "    </tr>\n",
       "    <tr>\n",
       "      <th>name</th>\n",
       "      <th></th>\n",
       "      <th></th>\n",
       "    </tr>\n",
       "  </thead>\n",
       "  <tbody>\n",
       "    <tr>\n",
       "      <th>Texas</th>\n",
       "      <td>45813.0</td>\n",
       "      <td>182095.0</td>\n",
       "    </tr>\n",
       "    <tr>\n",
       "      <th>California</th>\n",
       "      <td>46230.0</td>\n",
       "      <td>158545.0</td>\n",
       "    </tr>\n",
       "    <tr>\n",
       "      <th>Florida</th>\n",
       "      <td>24678.0</td>\n",
       "      <td>111346.0</td>\n",
       "    </tr>\n",
       "    <tr>\n",
       "      <th>Michigan</th>\n",
       "      <td>11309.0</td>\n",
       "      <td>87780.0</td>\n",
       "    </tr>\n",
       "    <tr>\n",
       "      <th>Ohio</th>\n",
       "      <td>16918.0</td>\n",
       "      <td>63225.0</td>\n",
       "    </tr>\n",
       "    <tr>\n",
       "      <th>Arkansas</th>\n",
       "      <td>5119.0</td>\n",
       "      <td>57927.0</td>\n",
       "    </tr>\n",
       "    <tr>\n",
       "      <th>Tennessee</th>\n",
       "      <td>5092.0</td>\n",
       "      <td>42809.0</td>\n",
       "    </tr>\n",
       "    <tr>\n",
       "      <th>Wisconsin</th>\n",
       "      <td>8060.0</td>\n",
       "      <td>35919.0</td>\n",
       "    </tr>\n",
       "    <tr>\n",
       "      <th>Virginia</th>\n",
       "      <td>8237.0</td>\n",
       "      <td>35167.0</td>\n",
       "    </tr>\n",
       "    <tr>\n",
       "      <th>North Carolina</th>\n",
       "      <td>10737.0</td>\n",
       "      <td>33701.0</td>\n",
       "    </tr>\n",
       "  </tbody>\n",
       "</table>\n",
       "</div>"
      ],
      "text/plain": [
       "                total_staff_cases  total_prisoner_cases\n",
       "name                                                   \n",
       "Texas                     45813.0              182095.0\n",
       "California                46230.0              158545.0\n",
       "Florida                   24678.0              111346.0\n",
       "Michigan                  11309.0               87780.0\n",
       "Ohio                      16918.0               63225.0\n",
       "Arkansas                   5119.0               57927.0\n",
       "Tennessee                  5092.0               42809.0\n",
       "Wisconsin                  8060.0               35919.0\n",
       "Virginia                   8237.0               35167.0\n",
       "North Carolina            10737.0               33701.0"
      ]
     },
     "execution_count": 34,
     "metadata": {},
     "output_type": "execute_result"
    }
   ],
   "source": [
    "both_df"
   ]
  },
  {
   "cell_type": "code",
   "execution_count": 35,
   "metadata": {},
   "outputs": [],
   "source": [
    "both_p_and_s_df = pd.DataFrame(both_df)"
   ]
  },
  {
   "cell_type": "code",
   "execution_count": 36,
   "metadata": {},
   "outputs": [],
   "source": [
    "both_p_and_s_df.reset_index(inplace=True)"
   ]
  },
  {
   "cell_type": "code",
   "execution_count": 37,
   "metadata": {},
   "outputs": [
    {
     "data": {
      "text/html": [
       "<div>\n",
       "<style scoped>\n",
       "    .dataframe tbody tr th:only-of-type {\n",
       "        vertical-align: middle;\n",
       "    }\n",
       "\n",
       "    .dataframe tbody tr th {\n",
       "        vertical-align: top;\n",
       "    }\n",
       "\n",
       "    .dataframe thead th {\n",
       "        text-align: right;\n",
       "    }\n",
       "</style>\n",
       "<table border=\"1\" class=\"dataframe\">\n",
       "  <thead>\n",
       "    <tr style=\"text-align: right;\">\n",
       "      <th></th>\n",
       "      <th>name</th>\n",
       "      <th>total_staff_cases</th>\n",
       "      <th>total_prisoner_cases</th>\n",
       "    </tr>\n",
       "  </thead>\n",
       "  <tbody>\n",
       "    <tr>\n",
       "      <th>0</th>\n",
       "      <td>Texas</td>\n",
       "      <td>45813.0</td>\n",
       "      <td>182095.0</td>\n",
       "    </tr>\n",
       "    <tr>\n",
       "      <th>1</th>\n",
       "      <td>California</td>\n",
       "      <td>46230.0</td>\n",
       "      <td>158545.0</td>\n",
       "    </tr>\n",
       "    <tr>\n",
       "      <th>2</th>\n",
       "      <td>Florida</td>\n",
       "      <td>24678.0</td>\n",
       "      <td>111346.0</td>\n",
       "    </tr>\n",
       "    <tr>\n",
       "      <th>3</th>\n",
       "      <td>Michigan</td>\n",
       "      <td>11309.0</td>\n",
       "      <td>87780.0</td>\n",
       "    </tr>\n",
       "    <tr>\n",
       "      <th>4</th>\n",
       "      <td>Ohio</td>\n",
       "      <td>16918.0</td>\n",
       "      <td>63225.0</td>\n",
       "    </tr>\n",
       "  </tbody>\n",
       "</table>\n",
       "</div>"
      ],
      "text/plain": [
       "         name  total_staff_cases  total_prisoner_cases\n",
       "0       Texas            45813.0              182095.0\n",
       "1  California            46230.0              158545.0\n",
       "2     Florida            24678.0              111346.0\n",
       "3    Michigan            11309.0               87780.0\n",
       "4        Ohio            16918.0               63225.0"
      ]
     },
     "execution_count": 37,
     "metadata": {},
     "output_type": "execute_result"
    }
   ],
   "source": [
    "both_p_and_s_df.head()"
   ]
  },
  {
   "cell_type": "code",
   "execution_count": 38,
   "metadata": {},
   "outputs": [],
   "source": [
    "both_p_and_s_df = both_p_and_s_df[['name', 'total_prisoner_cases', 'total_staff_cases']]"
   ]
  },
  {
   "cell_type": "code",
   "execution_count": 39,
   "metadata": {},
   "outputs": [
    {
     "data": {
      "text/html": [
       "<div>\n",
       "<style scoped>\n",
       "    .dataframe tbody tr th:only-of-type {\n",
       "        vertical-align: middle;\n",
       "    }\n",
       "\n",
       "    .dataframe tbody tr th {\n",
       "        vertical-align: top;\n",
       "    }\n",
       "\n",
       "    .dataframe thead th {\n",
       "        text-align: right;\n",
       "    }\n",
       "</style>\n",
       "<table border=\"1\" class=\"dataframe\">\n",
       "  <thead>\n",
       "    <tr style=\"text-align: right;\">\n",
       "      <th></th>\n",
       "      <th>name</th>\n",
       "      <th>total_prisoner_cases</th>\n",
       "      <th>total_staff_cases</th>\n",
       "    </tr>\n",
       "  </thead>\n",
       "  <tbody>\n",
       "    <tr>\n",
       "      <th>0</th>\n",
       "      <td>Texas</td>\n",
       "      <td>182095.0</td>\n",
       "      <td>45813.0</td>\n",
       "    </tr>\n",
       "    <tr>\n",
       "      <th>1</th>\n",
       "      <td>California</td>\n",
       "      <td>158545.0</td>\n",
       "      <td>46230.0</td>\n",
       "    </tr>\n",
       "    <tr>\n",
       "      <th>2</th>\n",
       "      <td>Florida</td>\n",
       "      <td>111346.0</td>\n",
       "      <td>24678.0</td>\n",
       "    </tr>\n",
       "    <tr>\n",
       "      <th>3</th>\n",
       "      <td>Michigan</td>\n",
       "      <td>87780.0</td>\n",
       "      <td>11309.0</td>\n",
       "    </tr>\n",
       "    <tr>\n",
       "      <th>4</th>\n",
       "      <td>Ohio</td>\n",
       "      <td>63225.0</td>\n",
       "      <td>16918.0</td>\n",
       "    </tr>\n",
       "  </tbody>\n",
       "</table>\n",
       "</div>"
      ],
      "text/plain": [
       "         name  total_prisoner_cases  total_staff_cases\n",
       "0       Texas              182095.0            45813.0\n",
       "1  California              158545.0            46230.0\n",
       "2     Florida              111346.0            24678.0\n",
       "3    Michigan               87780.0            11309.0\n",
       "4        Ohio               63225.0            16918.0"
      ]
     },
     "execution_count": 39,
     "metadata": {},
     "output_type": "execute_result"
    }
   ],
   "source": [
    "both_p_and_s_df.head()"
   ]
  },
  {
   "cell_type": "code",
   "execution_count": 40,
   "metadata": {
    "scrolled": true
   },
   "outputs": [
    {
     "data": {
      "image/png": "[encoded data removed]",
      "text/plain": [
       "<Figure size 720x432 with 1 Axes>"
      ]
     },
     "metadata": {
      "needs_background": "light"
     },
     "output_type": "display_data"
    },
    {
     "data": {
      "text/plain": [
       "<Figure size 432x288 with 0 Axes>"
      ]
     },
     "metadata": {},
     "output_type": "display_data"
    }
   ],
   "source": [
    "\n",
    "both_p_and_s_df.plot.bar(stacked=True, color={'total_staff_cases':'#ff6361', 'total_prisoner_cases':'#58508d'},\n",
    "                         x = 'name', xlabel='State', ylabel='Number of Cases', rot=45, \n",
    "                         figsize = (10,6), title = 'Staff and Prisoner Cases');\n",
    "plt.show();\n",
    "plt.savefig('staff_and_prisoner_cases.png', dpi=300)"
   ]
  },
  {
   "cell_type": "markdown",
   "metadata": {},
   "source": [
    "### Comparing Civilian Cases/Deaths with Prisoner Cases/Deaths"
   ]
  },
  {
   "cell_type": "code",
   "execution_count": 41,
   "metadata": {},
   "outputs": [],
   "source": [
    "civ_cases = pd.read_csv('month_civ_covid_clean.csv')"
   ]
  },
  {
   "cell_type": "code",
   "execution_count": 42,
   "metadata": {},
   "outputs": [],
   "source": [
    "full_prison_covid = pd.read_csv('full_prison_covid_clean.csv')"
   ]
  },
  {
   "cell_type": "code",
   "execution_count": 43,
   "metadata": {
    "scrolled": true
   },
   "outputs": [
    {
     "data": {
      "text/html": [
       "<div>\n",
       "<style scoped>\n",
       "    .dataframe tbody tr th:only-of-type {\n",
       "        vertical-align: middle;\n",
       "    }\n",
       "\n",
       "    .dataframe tbody tr th {\n",
       "        vertical-align: top;\n",
       "    }\n",
       "\n",
       "    .dataframe thead th {\n",
       "        text-align: right;\n",
       "    }\n",
       "</style>\n",
       "<table border=\"1\" class=\"dataframe\">\n",
       "  <thead>\n",
       "    <tr style=\"text-align: right;\">\n",
       "      <th></th>\n",
       "      <th>State</th>\n",
       "      <th>Abbr</th>\n",
       "      <th>month</th>\n",
       "      <th>civ_death</th>\n",
       "      <th>civ_cases</th>\n",
       "      <th>civ_hosp</th>\n",
       "      <th>civ_tests</th>\n",
       "    </tr>\n",
       "  </thead>\n",
       "  <tbody>\n",
       "    <tr>\n",
       "      <th>0</th>\n",
       "      <td>Alaska</td>\n",
       "      <td>AK</td>\n",
       "      <td>1</td>\n",
       "      <td>56</td>\n",
       "      <td>7137</td>\n",
       "      <td>182</td>\n",
       "      <td>224575</td>\n",
       "    </tr>\n",
       "    <tr>\n",
       "      <th>1</th>\n",
       "      <td>Alaska</td>\n",
       "      <td>AK</td>\n",
       "      <td>3</td>\n",
       "      <td>3</td>\n",
       "      <td>128</td>\n",
       "      <td>12</td>\n",
       "      <td>3713</td>\n",
       "    </tr>\n",
       "    <tr>\n",
       "      <th>2</th>\n",
       "      <td>Alaska</td>\n",
       "      <td>AK</td>\n",
       "      <td>4</td>\n",
       "      <td>6</td>\n",
       "      <td>227</td>\n",
       "      <td>26</td>\n",
       "      <td>15406</td>\n",
       "    </tr>\n",
       "    <tr>\n",
       "      <th>3</th>\n",
       "      <td>Alaska</td>\n",
       "      <td>AK</td>\n",
       "      <td>5</td>\n",
       "      <td>1</td>\n",
       "      <td>108</td>\n",
       "      <td>12</td>\n",
       "      <td>32576</td>\n",
       "    </tr>\n",
       "    <tr>\n",
       "      <th>4</th>\n",
       "      <td>Alaska</td>\n",
       "      <td>AK</td>\n",
       "      <td>6</td>\n",
       "      <td>4</td>\n",
       "      <td>481</td>\n",
       "      <td>18</td>\n",
       "      <td>60490</td>\n",
       "    </tr>\n",
       "  </tbody>\n",
       "</table>\n",
       "</div>"
      ],
      "text/plain": [
       "    State Abbr  month  civ_death  civ_cases  civ_hosp  civ_tests\n",
       "0  Alaska   AK      1         56       7137       182     224575\n",
       "1  Alaska   AK      3          3        128        12       3713\n",
       "2  Alaska   AK      4          6        227        26      15406\n",
       "3  Alaska   AK      5          1        108        12      32576\n",
       "4  Alaska   AK      6          4        481        18      60490"
      ]
     },
     "execution_count": 43,
     "metadata": {},
     "output_type": "execute_result"
    }
   ],
   "source": [
    "civ_cases.head()"
   ]
  },
  {
   "cell_type": "code",
   "execution_count": 44,
   "metadata": {
    "scrolled": true
   },
   "outputs": [
    {
     "data": {
      "text/html": [
       "<div>\n",
       "<style scoped>\n",
       "    .dataframe tbody tr th:only-of-type {\n",
       "        vertical-align: middle;\n",
       "    }\n",
       "\n",
       "    .dataframe tbody tr th {\n",
       "        vertical-align: top;\n",
       "    }\n",
       "\n",
       "    .dataframe thead th {\n",
       "        text-align: right;\n",
       "    }\n",
       "</style>\n",
       "<table border=\"1\" class=\"dataframe\">\n",
       "  <thead>\n",
       "    <tr style=\"text-align: right;\">\n",
       "      <th></th>\n",
       "      <th>name</th>\n",
       "      <th>state</th>\n",
       "      <th>staff_tests</th>\n",
       "      <th>total_staff_cases</th>\n",
       "      <th>staff_recovered</th>\n",
       "      <th>total_staff_deaths</th>\n",
       "      <th>prisoner_tests</th>\n",
       "      <th>total_prisoner_cases</th>\n",
       "      <th>prisoners_recovered</th>\n",
       "      <th>total_prisoner_deaths</th>\n",
       "      <th>as_of_date</th>\n",
       "      <th>as_of_date_month_year</th>\n",
       "      <th>year</th>\n",
       "      <th>month</th>\n",
       "      <th>region</th>\n",
       "    </tr>\n",
       "  </thead>\n",
       "  <tbody>\n",
       "    <tr>\n",
       "      <th>0</th>\n",
       "      <td>Alabama</td>\n",
       "      <td>AL</td>\n",
       "      <td>568.0</td>\n",
       "      <td>951</td>\n",
       "      <td>800.0</td>\n",
       "      <td>3</td>\n",
       "      <td>14694.0</td>\n",
       "      <td>1369</td>\n",
       "      <td>1198.0</td>\n",
       "      <td>60</td>\n",
       "      <td>1/25/21</td>\n",
       "      <td>01-2021</td>\n",
       "      <td>2021</td>\n",
       "      <td>1</td>\n",
       "      <td>South</td>\n",
       "    </tr>\n",
       "    <tr>\n",
       "      <th>1</th>\n",
       "      <td>Alabama</td>\n",
       "      <td>AL</td>\n",
       "      <td>568.0</td>\n",
       "      <td>907</td>\n",
       "      <td>774.0</td>\n",
       "      <td>3</td>\n",
       "      <td>14552.0</td>\n",
       "      <td>1294</td>\n",
       "      <td>1138.0</td>\n",
       "      <td>57</td>\n",
       "      <td>1/18/21</td>\n",
       "      <td>01-2021</td>\n",
       "      <td>2021</td>\n",
       "      <td>1</td>\n",
       "      <td>South</td>\n",
       "    </tr>\n",
       "    <tr>\n",
       "      <th>2</th>\n",
       "      <td>Alabama</td>\n",
       "      <td>AL</td>\n",
       "      <td>568.0</td>\n",
       "      <td>863</td>\n",
       "      <td>550.0</td>\n",
       "      <td>2</td>\n",
       "      <td>14447.0</td>\n",
       "      <td>1262</td>\n",
       "      <td>1026.0</td>\n",
       "      <td>54</td>\n",
       "      <td>1/12/21</td>\n",
       "      <td>01-2021</td>\n",
       "      <td>2021</td>\n",
       "      <td>1</td>\n",
       "      <td>South</td>\n",
       "    </tr>\n",
       "    <tr>\n",
       "      <th>3</th>\n",
       "      <td>Alabama</td>\n",
       "      <td>AL</td>\n",
       "      <td>568.0</td>\n",
       "      <td>863</td>\n",
       "      <td>550.0</td>\n",
       "      <td>2</td>\n",
       "      <td>14447.0</td>\n",
       "      <td>1262</td>\n",
       "      <td>1026.0</td>\n",
       "      <td>54</td>\n",
       "      <td>1/5/21</td>\n",
       "      <td>01-2021</td>\n",
       "      <td>2021</td>\n",
       "      <td>1</td>\n",
       "      <td>South</td>\n",
       "    </tr>\n",
       "    <tr>\n",
       "      <th>4</th>\n",
       "      <td>Alaska</td>\n",
       "      <td>AK</td>\n",
       "      <td>NaN</td>\n",
       "      <td>268</td>\n",
       "      <td>11.0</td>\n",
       "      <td>0</td>\n",
       "      <td>19858.0</td>\n",
       "      <td>2294</td>\n",
       "      <td>2.0</td>\n",
       "      <td>5</td>\n",
       "      <td>1/25/21</td>\n",
       "      <td>01-2021</td>\n",
       "      <td>2021</td>\n",
       "      <td>1</td>\n",
       "      <td>West</td>\n",
       "    </tr>\n",
       "  </tbody>\n",
       "</table>\n",
       "</div>"
      ],
      "text/plain": [
       "      name state  staff_tests  total_staff_cases  staff_recovered  \\\n",
       "0  Alabama    AL        568.0                951            800.0   \n",
       "1  Alabama    AL        568.0                907            774.0   \n",
       "2  Alabama    AL        568.0                863            550.0   \n",
       "3  Alabama    AL        568.0                863            550.0   \n",
       "4   Alaska    AK          NaN                268             11.0   \n",
       "\n",
       "   total_staff_deaths  prisoner_tests  total_prisoner_cases  \\\n",
       "0                   3         14694.0                  1369   \n",
       "1                   3         14552.0                  1294   \n",
       "2                   2         14447.0                  1262   \n",
       "3                   2         14447.0                  1262   \n",
       "4                   0         19858.0                  2294   \n",
       "\n",
       "   prisoners_recovered  total_prisoner_deaths as_of_date  \\\n",
       "0               1198.0                     60    1/25/21   \n",
       "1               1138.0                     57    1/18/21   \n",
       "2               1026.0                     54    1/12/21   \n",
       "3               1026.0                     54     1/5/21   \n",
       "4                  2.0                      5    1/25/21   \n",
       "\n",
       "  as_of_date_month_year  year  month region  \n",
       "0               01-2021  2021      1  South  \n",
       "1               01-2021  2021      1  South  \n",
       "2               01-2021  2021      1  South  \n",
       "3               01-2021  2021      1  South  \n",
       "4               01-2021  2021      1   West  "
      ]
     },
     "execution_count": 44,
     "metadata": {},
     "output_type": "execute_result"
    }
   ],
   "source": [
    "full_prison_covid.head()"
   ]
  },
  {
   "cell_type": "code",
   "execution_count": 45,
   "metadata": {},
   "outputs": [
    {
     "data": {
      "text/plain": [
       "dtype('O')"
      ]
     },
     "execution_count": 45,
     "metadata": {},
     "output_type": "execute_result"
    }
   ],
   "source": [
    "full_prison_covid['as_of_date_month_year'].dtype"
   ]
  },
  {
   "cell_type": "code",
   "execution_count": 46,
   "metadata": {},
   "outputs": [],
   "source": [
    "full_prison_covid['as_of_date_month_year'] = pd.to_datetime(full_prison_covid['as_of_date_month_year'])\n"
   ]
  },
  {
   "cell_type": "code",
   "execution_count": 47,
   "metadata": {},
   "outputs": [
    {
     "data": {
      "text/plain": [
       "pandas.core.frame.DataFrame"
      ]
     },
     "execution_count": 47,
     "metadata": {},
     "output_type": "execute_result"
    }
   ],
   "source": [
    "type(civ_cases)"
   ]
  },
  {
   "cell_type": "code",
   "execution_count": 48,
   "metadata": {},
   "outputs": [],
   "source": [
    "def to_month(num):\n",
    "    num = int(num)\n",
    "    if num == 1:\n",
    "        return 'Jan'\n",
    "    elif num == 2:\n",
    "        return 'Feb'\n",
    "    elif num == 3:\n",
    "        return 'Mar'\n",
    "    elif num == 4:\n",
    "        return 'Apr'\n",
    "    elif num == 5:\n",
    "        return 'May'\n",
    "    elif num == 6:\n",
    "        return 'Jun'\n",
    "    elif num == 7:\n",
    "        return 'Jul'\n",
    "    elif num == 8:\n",
    "        return 'Aug'\n",
    "    elif num == 9:\n",
    "        return 'Sept'\n",
    "    elif num == 10:\n",
    "        return 'Oct'\n",
    "    elif num == 11:\n",
    "        return 'Nov'\n",
    "    else:\n",
    "        return 'Dec'\n",
    "    \n"
   ]
  },
  {
   "cell_type": "code",
   "execution_count": null,
   "metadata": {},
   "outputs": [],
   "source": []
  },
  {
   "cell_type": "code",
   "execution_count": 49,
   "metadata": {},
   "outputs": [],
   "source": [
    "full_prison_covid['month'] = full_prison_covid['month'].map(to_month)"
   ]
  },
  {
   "cell_type": "code",
   "execution_count": 50,
   "metadata": {},
   "outputs": [],
   "source": [
    "civ_cases['month'] = civ_cases['month'].map(to_month)"
   ]
  },
  {
   "cell_type": "code",
   "execution_count": 51,
   "metadata": {
    "scrolled": false
   },
   "outputs": [
    {
     "data": {
      "text/html": [
       "<div>\n",
       "<style scoped>\n",
       "    .dataframe tbody tr th:only-of-type {\n",
       "        vertical-align: middle;\n",
       "    }\n",
       "\n",
       "    .dataframe tbody tr th {\n",
       "        vertical-align: top;\n",
       "    }\n",
       "\n",
       "    .dataframe thead th {\n",
       "        text-align: right;\n",
       "    }\n",
       "</style>\n",
       "<table border=\"1\" class=\"dataframe\">\n",
       "  <thead>\n",
       "    <tr style=\"text-align: right;\">\n",
       "      <th></th>\n",
       "      <th>State</th>\n",
       "      <th>Abbr</th>\n",
       "      <th>month</th>\n",
       "      <th>civ_death</th>\n",
       "      <th>civ_cases</th>\n",
       "      <th>civ_hosp</th>\n",
       "      <th>civ_tests</th>\n",
       "    </tr>\n",
       "  </thead>\n",
       "  <tbody>\n",
       "    <tr>\n",
       "      <th>0</th>\n",
       "      <td>Alaska</td>\n",
       "      <td>AK</td>\n",
       "      <td>Jan</td>\n",
       "      <td>56</td>\n",
       "      <td>7137</td>\n",
       "      <td>182</td>\n",
       "      <td>224575</td>\n",
       "    </tr>\n",
       "    <tr>\n",
       "      <th>1</th>\n",
       "      <td>Alaska</td>\n",
       "      <td>AK</td>\n",
       "      <td>Mar</td>\n",
       "      <td>3</td>\n",
       "      <td>128</td>\n",
       "      <td>12</td>\n",
       "      <td>3713</td>\n",
       "    </tr>\n",
       "    <tr>\n",
       "      <th>2</th>\n",
       "      <td>Alaska</td>\n",
       "      <td>AK</td>\n",
       "      <td>Apr</td>\n",
       "      <td>6</td>\n",
       "      <td>227</td>\n",
       "      <td>26</td>\n",
       "      <td>15406</td>\n",
       "    </tr>\n",
       "    <tr>\n",
       "      <th>3</th>\n",
       "      <td>Alaska</td>\n",
       "      <td>AK</td>\n",
       "      <td>May</td>\n",
       "      <td>1</td>\n",
       "      <td>108</td>\n",
       "      <td>12</td>\n",
       "      <td>32576</td>\n",
       "    </tr>\n",
       "    <tr>\n",
       "      <th>4</th>\n",
       "      <td>Alaska</td>\n",
       "      <td>AK</td>\n",
       "      <td>Jun</td>\n",
       "      <td>4</td>\n",
       "      <td>481</td>\n",
       "      <td>18</td>\n",
       "      <td>60490</td>\n",
       "    </tr>\n",
       "  </tbody>\n",
       "</table>\n",
       "</div>"
      ],
      "text/plain": [
       "    State Abbr month  civ_death  civ_cases  civ_hosp  civ_tests\n",
       "0  Alaska   AK   Jan         56       7137       182     224575\n",
       "1  Alaska   AK   Mar          3        128        12       3713\n",
       "2  Alaska   AK   Apr          6        227        26      15406\n",
       "3  Alaska   AK   May          1        108        12      32576\n",
       "4  Alaska   AK   Jun          4        481        18      60490"
      ]
     },
     "execution_count": 51,
     "metadata": {},
     "output_type": "execute_result"
    }
   ],
   "source": [
    "civ_cases.head()"
   ]
  },
  {
   "cell_type": "code",
   "execution_count": 52,
   "metadata": {},
   "outputs": [],
   "source": [
    "total_civ_cases = civ_cases.groupby('State')['civ_cases'].sum()"
   ]
  },
  {
   "cell_type": "code",
   "execution_count": 53,
   "metadata": {
    "scrolled": false
   },
   "outputs": [
    {
     "data": {
      "text/plain": [
       "State\n",
       "California              3243295\n",
       "Texas                   2360632\n",
       "Florida                 1689700\n",
       "New York                1410656\n",
       "Illinois                1126297\n",
       "Georgia                  909443\n",
       "Ohio                     895792\n",
       "Pennsylvania             843224\n",
       "Arizona                  758402\n",
       "North Carolina           757525\n",
       "Tennessee                727860\n",
       "New Jersey               696829\n",
       "Indiana                  626682\n",
       "Michigan                 610124\n",
       "Wisconsin                592140\n",
       "Massachusetts            524025\n",
       "Virginia                 504779\n",
       "Minnesota                461806\n",
       "Alabama                  459639\n",
       "Missouri                 458819\n",
       "South Carolina           443386\n",
       "Louisiana                400626\n",
       "Colorado                 396177\n",
       "Oklahoma                 389471\n",
       "Kentucky                 362890\n",
       "Maryland                 354473\n",
       "Utah                     346623\n",
       "Washington               311597\n",
       "Arkansas                 295268\n",
       "Nevada                   278307\n",
       "Mississippi              275001\n",
       "Kansas                   274685\n",
       "Iowa                     267558\n",
       "Connecticut              250023\n",
       "Nebraska                 190713\n",
       "New Mexico               174064\n",
       "Idaho                    162683\n",
       "Oregon                   142416\n",
       "West Virginia            121001\n",
       "Rhode Island             115705\n",
       "South Dakota             108250\n",
       "North Dakota              97630\n",
       "Montana                   93949\n",
       "Delaware                  78071\n",
       "New Hampshire             65693\n",
       "Alaska                    52598\n",
       "Wyoming                   51912\n",
       "Maine                     39324\n",
       "District of Columbia      36872\n",
       "Hawaii                    26518\n",
       "Vermont                   11965\n",
       "Name: civ_cases, dtype: int64"
      ]
     },
     "execution_count": 53,
     "metadata": {},
     "output_type": "execute_result"
    }
   ],
   "source": [
    "total_civ_cases.sort_values(ascending = False)"
   ]
  },
  {
   "cell_type": "code",
   "execution_count": 54,
   "metadata": {
    "scrolled": false
   },
   "outputs": [
    {
     "data": {
      "text/html": [
       "<div>\n",
       "<style scoped>\n",
       "    .dataframe tbody tr th:only-of-type {\n",
       "        vertical-align: middle;\n",
       "    }\n",
       "\n",
       "    .dataframe tbody tr th {\n",
       "        vertical-align: top;\n",
       "    }\n",
       "\n",
       "    .dataframe thead th {\n",
       "        text-align: right;\n",
       "    }\n",
       "</style>\n",
       "<table border=\"1\" class=\"dataframe\">\n",
       "  <thead>\n",
       "    <tr style=\"text-align: right;\">\n",
       "      <th></th>\n",
       "      <th>name</th>\n",
       "      <th>state</th>\n",
       "      <th>staff_tests</th>\n",
       "      <th>total_staff_cases</th>\n",
       "      <th>staff_recovered</th>\n",
       "      <th>total_staff_deaths</th>\n",
       "      <th>prisoner_tests</th>\n",
       "      <th>total_prisoner_cases</th>\n",
       "      <th>prisoners_recovered</th>\n",
       "      <th>total_prisoner_deaths</th>\n",
       "      <th>as_of_date</th>\n",
       "      <th>as_of_date_month_year</th>\n",
       "      <th>year</th>\n",
       "      <th>month</th>\n",
       "      <th>region</th>\n",
       "    </tr>\n",
       "  </thead>\n",
       "  <tbody>\n",
       "    <tr>\n",
       "      <th>0</th>\n",
       "      <td>Alabama</td>\n",
       "      <td>AL</td>\n",
       "      <td>568.0</td>\n",
       "      <td>951</td>\n",
       "      <td>800.0</td>\n",
       "      <td>3</td>\n",
       "      <td>14694.0</td>\n",
       "      <td>1369</td>\n",
       "      <td>1198.0</td>\n",
       "      <td>60</td>\n",
       "      <td>1/25/21</td>\n",
       "      <td>2021-01-01</td>\n",
       "      <td>2021</td>\n",
       "      <td>Jan</td>\n",
       "      <td>South</td>\n",
       "    </tr>\n",
       "    <tr>\n",
       "      <th>1</th>\n",
       "      <td>Alabama</td>\n",
       "      <td>AL</td>\n",
       "      <td>568.0</td>\n",
       "      <td>907</td>\n",
       "      <td>774.0</td>\n",
       "      <td>3</td>\n",
       "      <td>14552.0</td>\n",
       "      <td>1294</td>\n",
       "      <td>1138.0</td>\n",
       "      <td>57</td>\n",
       "      <td>1/18/21</td>\n",
       "      <td>2021-01-01</td>\n",
       "      <td>2021</td>\n",
       "      <td>Jan</td>\n",
       "      <td>South</td>\n",
       "    </tr>\n",
       "    <tr>\n",
       "      <th>2</th>\n",
       "      <td>Alabama</td>\n",
       "      <td>AL</td>\n",
       "      <td>568.0</td>\n",
       "      <td>863</td>\n",
       "      <td>550.0</td>\n",
       "      <td>2</td>\n",
       "      <td>14447.0</td>\n",
       "      <td>1262</td>\n",
       "      <td>1026.0</td>\n",
       "      <td>54</td>\n",
       "      <td>1/12/21</td>\n",
       "      <td>2021-01-01</td>\n",
       "      <td>2021</td>\n",
       "      <td>Jan</td>\n",
       "      <td>South</td>\n",
       "    </tr>\n",
       "    <tr>\n",
       "      <th>3</th>\n",
       "      <td>Alabama</td>\n",
       "      <td>AL</td>\n",
       "      <td>568.0</td>\n",
       "      <td>863</td>\n",
       "      <td>550.0</td>\n",
       "      <td>2</td>\n",
       "      <td>14447.0</td>\n",
       "      <td>1262</td>\n",
       "      <td>1026.0</td>\n",
       "      <td>54</td>\n",
       "      <td>1/5/21</td>\n",
       "      <td>2021-01-01</td>\n",
       "      <td>2021</td>\n",
       "      <td>Jan</td>\n",
       "      <td>South</td>\n",
       "    </tr>\n",
       "    <tr>\n",
       "      <th>4</th>\n",
       "      <td>Alaska</td>\n",
       "      <td>AK</td>\n",
       "      <td>NaN</td>\n",
       "      <td>268</td>\n",
       "      <td>11.0</td>\n",
       "      <td>0</td>\n",
       "      <td>19858.0</td>\n",
       "      <td>2294</td>\n",
       "      <td>2.0</td>\n",
       "      <td>5</td>\n",
       "      <td>1/25/21</td>\n",
       "      <td>2021-01-01</td>\n",
       "      <td>2021</td>\n",
       "      <td>Jan</td>\n",
       "      <td>West</td>\n",
       "    </tr>\n",
       "  </tbody>\n",
       "</table>\n",
       "</div>"
      ],
      "text/plain": [
       "      name state  staff_tests  total_staff_cases  staff_recovered  \\\n",
       "0  Alabama    AL        568.0                951            800.0   \n",
       "1  Alabama    AL        568.0                907            774.0   \n",
       "2  Alabama    AL        568.0                863            550.0   \n",
       "3  Alabama    AL        568.0                863            550.0   \n",
       "4   Alaska    AK          NaN                268             11.0   \n",
       "\n",
       "   total_staff_deaths  prisoner_tests  total_prisoner_cases  \\\n",
       "0                   3         14694.0                  1369   \n",
       "1                   3         14552.0                  1294   \n",
       "2                   2         14447.0                  1262   \n",
       "3                   2         14447.0                  1262   \n",
       "4                   0         19858.0                  2294   \n",
       "\n",
       "   prisoners_recovered  total_prisoner_deaths as_of_date  \\\n",
       "0               1198.0                     60    1/25/21   \n",
       "1               1138.0                     57    1/18/21   \n",
       "2               1026.0                     54    1/12/21   \n",
       "3               1026.0                     54     1/5/21   \n",
       "4                  2.0                      5    1/25/21   \n",
       "\n",
       "  as_of_date_month_year  year month region  \n",
       "0            2021-01-01  2021   Jan  South  \n",
       "1            2021-01-01  2021   Jan  South  \n",
       "2            2021-01-01  2021   Jan  South  \n",
       "3            2021-01-01  2021   Jan  South  \n",
       "4            2021-01-01  2021   Jan   West  "
      ]
     },
     "execution_count": 54,
     "metadata": {},
     "output_type": "execute_result"
    }
   ],
   "source": [
    "full_prison_covid.head()"
   ]
  },
  {
   "cell_type": "markdown",
   "metadata": {},
   "source": [
    "### COVID-19 Prisoner Cases from March '20 - January '21"
   ]
  },
  {
   "cell_type": "code",
   "execution_count": 56,
   "metadata": {},
   "outputs": [
    {
     "data": {
      "text/plain": [
       "<AxesSubplot:xlabel='as_of_date_month_year', ylabel='total_prisoner_cases'>"
      ]
     },
     "execution_count": 56,
     "metadata": {},
     "output_type": "execute_result"
    },
    {
     "data": {
      "text/plain": [
       "<Figure size 720x576 with 0 Axes>"
      ]
     },
     "metadata": {},
     "output_type": "display_data"
    },
    {
     "data": {
      "image/png": "[encoded data removed]",
      "text/plain": [
       "<Figure size 1440x504 with 1 Axes>"
      ]
     },
     "metadata": {
      "needs_background": "light"
     },
     "output_type": "display_data"
    }
   ],
   "source": [
    "plt.figure(figsize=(10,8))\n",
    "\n",
    "years = mdates.YearLocator()   # every year\n",
    "months = mdates.MonthLocator()  # every month\n",
    "years_fmt = mdates.DateFormatter('%Y')\n",
    "\n",
    "\n",
    "fig, axes = plt.subplots(figsize=(20,7))\n",
    "sns.lineplot(data = full_prison_covid, x = \"as_of_date_month_year\", y = 'total_prisoner_cases')"
   ]
  },
  {
   "cell_type": "code",
   "execution_count": 57,
   "metadata": {},
   "outputs": [
    {
     "data": {
      "text/plain": [
       "<Figure size 720x576 with 0 Axes>"
      ]
     },
     "metadata": {},
     "output_type": "display_data"
    },
    {
     "data": {
      "image/png": "[encoded data removed]",
      "text/plain": [
       "<Figure size 1440x504 with 1 Axes>"
      ]
     },
     "metadata": {
      "needs_background": "light"
     },
     "output_type": "display_data"
    }
   ],
   "source": [
    "plt.figure(figsize=(10,8))\n",
    "\n",
    "years = mdates.YearLocator()   # every year\n",
    "months = mdates.MonthLocator()  # every month\n",
    "years_fmt = mdates.DateFormatter('%Y')\n",
    "\n",
    "axes.xaxis.set_major_locator(months)\n",
    "axes.xaxis.set_major_formatter(years_fmt)\n",
    "axes.xaxis.set_minor_locator(months)\n",
    "\n",
    "fig, axes = plt.subplots(figsize=(20,7))\n",
    "total_covid_bargraph = sns.barplot(data = full_prison_covid, x = \"as_of_date_month_year\", y = 'total_prisoner_cases')\n",
    "\n",
    "for item in total_covid_bargraph.get_xticklabels():\n",
    "    item.set_rotation(45)\n",
    "plt.show();"
   ]
  },
  {
   "cell_type": "markdown",
   "metadata": {},
   "source": [
    "### Comparing Prisoner/Civilian Cases Over Time"
   ]
  },
  {
   "cell_type": "code",
   "execution_count": 58,
   "metadata": {},
   "outputs": [],
   "source": [
    "tcp_cases_df = pd.read_excel('updated_total_p_civ_cases.xlsx')"
   ]
  },
  {
   "cell_type": "code",
   "execution_count": 59,
   "metadata": {},
   "outputs": [],
   "source": [
    "tcp_cases_df.drop(columns=['Unnamed: 2'], inplace=True)"
   ]
  },
  {
   "cell_type": "code",
   "execution_count": 60,
   "metadata": {},
   "outputs": [
    {
     "data": {
      "text/html": [
       "<div>\n",
       "<style scoped>\n",
       "    .dataframe tbody tr th:only-of-type {\n",
       "        vertical-align: middle;\n",
       "    }\n",
       "\n",
       "    .dataframe tbody tr th {\n",
       "        vertical-align: top;\n",
       "    }\n",
       "\n",
       "    .dataframe thead th {\n",
       "        text-align: right;\n",
       "    }\n",
       "</style>\n",
       "<table border=\"1\" class=\"dataframe\">\n",
       "  <thead>\n",
       "    <tr style=\"text-align: right;\">\n",
       "      <th></th>\n",
       "      <th>state</th>\n",
       "      <th>Total_Civilian_Cases</th>\n",
       "      <th>total_prisoner_cases</th>\n",
       "    </tr>\n",
       "  </thead>\n",
       "  <tbody>\n",
       "    <tr>\n",
       "      <th>0</th>\n",
       "      <td>Alabama</td>\n",
       "      <td>459639</td>\n",
       "      <td>1485</td>\n",
       "    </tr>\n",
       "    <tr>\n",
       "      <th>1</th>\n",
       "      <td>Alaska</td>\n",
       "      <td>52598</td>\n",
       "      <td>2302</td>\n",
       "    </tr>\n",
       "    <tr>\n",
       "      <th>2</th>\n",
       "      <td>Arizona</td>\n",
       "      <td>758402</td>\n",
       "      <td>11611</td>\n",
       "    </tr>\n",
       "    <tr>\n",
       "      <th>3</th>\n",
       "      <td>Arkansas</td>\n",
       "      <td>295268</td>\n",
       "      <td>10992</td>\n",
       "    </tr>\n",
       "    <tr>\n",
       "      <th>4</th>\n",
       "      <td>California</td>\n",
       "      <td>3243295</td>\n",
       "      <td>48375</td>\n",
       "    </tr>\n",
       "    <tr>\n",
       "      <th>5</th>\n",
       "      <td>Colorado</td>\n",
       "      <td>396177</td>\n",
       "      <td>8397</td>\n",
       "    </tr>\n",
       "    <tr>\n",
       "      <th>6</th>\n",
       "      <td>Connecticut</td>\n",
       "      <td>250023</td>\n",
       "      <td>3811</td>\n",
       "    </tr>\n",
       "    <tr>\n",
       "      <th>7</th>\n",
       "      <td>Delaware</td>\n",
       "      <td>78071</td>\n",
       "      <td>1899</td>\n",
       "    </tr>\n",
       "    <tr>\n",
       "      <th>8</th>\n",
       "      <td>Florida</td>\n",
       "      <td>1689700</td>\n",
       "      <td>17807</td>\n",
       "    </tr>\n",
       "    <tr>\n",
       "      <th>9</th>\n",
       "      <td>Georgia</td>\n",
       "      <td>909443</td>\n",
       "      <td>3424</td>\n",
       "    </tr>\n",
       "    <tr>\n",
       "      <th>10</th>\n",
       "      <td>Hawaii</td>\n",
       "      <td>26518</td>\n",
       "      <td>1882</td>\n",
       "    </tr>\n",
       "    <tr>\n",
       "      <th>11</th>\n",
       "      <td>Idaho</td>\n",
       "      <td>162683</td>\n",
       "      <td>4042</td>\n",
       "    </tr>\n",
       "    <tr>\n",
       "      <th>12</th>\n",
       "      <td>Illinois</td>\n",
       "      <td>1126297</td>\n",
       "      <td>10471</td>\n",
       "    </tr>\n",
       "    <tr>\n",
       "      <th>13</th>\n",
       "      <td>Indiana</td>\n",
       "      <td>626682</td>\n",
       "      <td>3289</td>\n",
       "    </tr>\n",
       "    <tr>\n",
       "      <th>14</th>\n",
       "      <td>Iowa</td>\n",
       "      <td>267558</td>\n",
       "      <td>4483</td>\n",
       "    </tr>\n",
       "    <tr>\n",
       "      <th>15</th>\n",
       "      <td>Kansas</td>\n",
       "      <td>274685</td>\n",
       "      <td>5928</td>\n",
       "    </tr>\n",
       "    <tr>\n",
       "      <th>16</th>\n",
       "      <td>Kentucky</td>\n",
       "      <td>362890</td>\n",
       "      <td>6902</td>\n",
       "    </tr>\n",
       "    <tr>\n",
       "      <th>17</th>\n",
       "      <td>Louisiana</td>\n",
       "      <td>400626</td>\n",
       "      <td>2855</td>\n",
       "    </tr>\n",
       "    <tr>\n",
       "      <th>18</th>\n",
       "      <td>Maine</td>\n",
       "      <td>39324</td>\n",
       "      <td>157</td>\n",
       "    </tr>\n",
       "    <tr>\n",
       "      <th>19</th>\n",
       "      <td>Maryland</td>\n",
       "      <td>354473</td>\n",
       "      <td>3997</td>\n",
       "    </tr>\n",
       "    <tr>\n",
       "      <th>20</th>\n",
       "      <td>Massachusetts</td>\n",
       "      <td>524025</td>\n",
       "      <td>2977</td>\n",
       "    </tr>\n",
       "    <tr>\n",
       "      <th>21</th>\n",
       "      <td>Michigan</td>\n",
       "      <td>610124</td>\n",
       "      <td>24707</td>\n",
       "    </tr>\n",
       "    <tr>\n",
       "      <th>22</th>\n",
       "      <td>Minnesota</td>\n",
       "      <td>461806</td>\n",
       "      <td>3879</td>\n",
       "    </tr>\n",
       "    <tr>\n",
       "      <th>23</th>\n",
       "      <td>Mississippi</td>\n",
       "      <td>275001</td>\n",
       "      <td>1392</td>\n",
       "    </tr>\n",
       "    <tr>\n",
       "      <th>24</th>\n",
       "      <td>Missouri</td>\n",
       "      <td>458819</td>\n",
       "      <td>5411</td>\n",
       "    </tr>\n",
       "    <tr>\n",
       "      <th>25</th>\n",
       "      <td>Montana</td>\n",
       "      <td>93949</td>\n",
       "      <td>1129</td>\n",
       "    </tr>\n",
       "    <tr>\n",
       "      <th>26</th>\n",
       "      <td>Nebraska</td>\n",
       "      <td>190713</td>\n",
       "      <td>956</td>\n",
       "    </tr>\n",
       "    <tr>\n",
       "      <th>27</th>\n",
       "      <td>Nevada</td>\n",
       "      <td>278307</td>\n",
       "      <td>4672</td>\n",
       "    </tr>\n",
       "    <tr>\n",
       "      <th>28</th>\n",
       "      <td>New Hampshire</td>\n",
       "      <td>65693</td>\n",
       "      <td>446</td>\n",
       "    </tr>\n",
       "    <tr>\n",
       "      <th>29</th>\n",
       "      <td>New Jersey</td>\n",
       "      <td>696829</td>\n",
       "      <td>4283</td>\n",
       "    </tr>\n",
       "    <tr>\n",
       "      <th>30</th>\n",
       "      <td>New Mexico</td>\n",
       "      <td>174064</td>\n",
       "      <td>2581</td>\n",
       "    </tr>\n",
       "    <tr>\n",
       "      <th>31</th>\n",
       "      <td>New York</td>\n",
       "      <td>1410656</td>\n",
       "      <td>5527</td>\n",
       "    </tr>\n",
       "    <tr>\n",
       "      <th>32</th>\n",
       "      <td>North Carolina</td>\n",
       "      <td>757525</td>\n",
       "      <td>9265</td>\n",
       "    </tr>\n",
       "    <tr>\n",
       "      <th>33</th>\n",
       "      <td>North Dakota</td>\n",
       "      <td>97630</td>\n",
       "      <td>620</td>\n",
       "    </tr>\n",
       "    <tr>\n",
       "      <th>34</th>\n",
       "      <td>Ohio</td>\n",
       "      <td>895792</td>\n",
       "      <td>9384</td>\n",
       "    </tr>\n",
       "    <tr>\n",
       "      <th>35</th>\n",
       "      <td>Oklahoma</td>\n",
       "      <td>389471</td>\n",
       "      <td>7037</td>\n",
       "    </tr>\n",
       "    <tr>\n",
       "      <th>36</th>\n",
       "      <td>Oregon</td>\n",
       "      <td>142416</td>\n",
       "      <td>3486</td>\n",
       "    </tr>\n",
       "    <tr>\n",
       "      <th>37</th>\n",
       "      <td>Pennsylvania</td>\n",
       "      <td>843224</td>\n",
       "      <td>9520</td>\n",
       "    </tr>\n",
       "    <tr>\n",
       "      <th>38</th>\n",
       "      <td>Rhode Island</td>\n",
       "      <td>115705</td>\n",
       "      <td>1113</td>\n",
       "    </tr>\n",
       "    <tr>\n",
       "      <th>39</th>\n",
       "      <td>South Carolina</td>\n",
       "      <td>443386</td>\n",
       "      <td>2999</td>\n",
       "    </tr>\n",
       "    <tr>\n",
       "      <th>40</th>\n",
       "      <td>South Dakota</td>\n",
       "      <td>108250</td>\n",
       "      <td>2337</td>\n",
       "    </tr>\n",
       "    <tr>\n",
       "      <th>41</th>\n",
       "      <td>Tennessee</td>\n",
       "      <td>727860</td>\n",
       "      <td>6555</td>\n",
       "    </tr>\n",
       "    <tr>\n",
       "      <th>42</th>\n",
       "      <td>Texas</td>\n",
       "      <td>2360632</td>\n",
       "      <td>33742</td>\n",
       "    </tr>\n",
       "    <tr>\n",
       "      <th>43</th>\n",
       "      <td>Utah</td>\n",
       "      <td>346623</td>\n",
       "      <td>3192</td>\n",
       "    </tr>\n",
       "    <tr>\n",
       "      <th>44</th>\n",
       "      <td>Vermont</td>\n",
       "      <td>11965</td>\n",
       "      <td>252</td>\n",
       "    </tr>\n",
       "    <tr>\n",
       "      <th>45</th>\n",
       "      <td>Virginia</td>\n",
       "      <td>504779</td>\n",
       "      <td>8865</td>\n",
       "    </tr>\n",
       "    <tr>\n",
       "      <th>46</th>\n",
       "      <td>Washington</td>\n",
       "      <td>311597</td>\n",
       "      <td>6066</td>\n",
       "    </tr>\n",
       "    <tr>\n",
       "      <th>47</th>\n",
       "      <td>West Virginia</td>\n",
       "      <td>121001</td>\n",
       "      <td>1550</td>\n",
       "    </tr>\n",
       "    <tr>\n",
       "      <th>48</th>\n",
       "      <td>Wisconsin</td>\n",
       "      <td>592140</td>\n",
       "      <td>10788</td>\n",
       "    </tr>\n",
       "    <tr>\n",
       "      <th>49</th>\n",
       "      <td>Wyoming</td>\n",
       "      <td>51912</td>\n",
       "      <td>583</td>\n",
       "    </tr>\n",
       "  </tbody>\n",
       "</table>\n",
       "</div>"
      ],
      "text/plain": [
       "             state  Total_Civilian_Cases  total_prisoner_cases\n",
       "0          Alabama                459639                  1485\n",
       "1           Alaska                 52598                  2302\n",
       "2          Arizona                758402                 11611\n",
       "3         Arkansas                295268                 10992\n",
       "4       California               3243295                 48375\n",
       "5         Colorado                396177                  8397\n",
       "6      Connecticut                250023                  3811\n",
       "7         Delaware                 78071                  1899\n",
       "8          Florida               1689700                 17807\n",
       "9          Georgia                909443                  3424\n",
       "10          Hawaii                 26518                  1882\n",
       "11           Idaho                162683                  4042\n",
       "12        Illinois               1126297                 10471\n",
       "13         Indiana                626682                  3289\n",
       "14            Iowa                267558                  4483\n",
       "15          Kansas                274685                  5928\n",
       "16        Kentucky                362890                  6902\n",
       "17       Louisiana                400626                  2855\n",
       "18           Maine                 39324                   157\n",
       "19        Maryland                354473                  3997\n",
       "20   Massachusetts                524025                  2977\n",
       "21        Michigan                610124                 24707\n",
       "22       Minnesota                461806                  3879\n",
       "23     Mississippi                275001                  1392\n",
       "24        Missouri                458819                  5411\n",
       "25         Montana                 93949                  1129\n",
       "26        Nebraska                190713                   956\n",
       "27          Nevada                278307                  4672\n",
       "28   New Hampshire                 65693                   446\n",
       "29      New Jersey                696829                  4283\n",
       "30      New Mexico                174064                  2581\n",
       "31        New York               1410656                  5527\n",
       "32  North Carolina                757525                  9265\n",
       "33    North Dakota                 97630                   620\n",
       "34            Ohio                895792                  9384\n",
       "35        Oklahoma                389471                  7037\n",
       "36          Oregon                142416                  3486\n",
       "37    Pennsylvania                843224                  9520\n",
       "38    Rhode Island                115705                  1113\n",
       "39  South Carolina                443386                  2999\n",
       "40    South Dakota                108250                  2337\n",
       "41       Tennessee                727860                  6555\n",
       "42           Texas               2360632                 33742\n",
       "43            Utah                346623                  3192\n",
       "44         Vermont                 11965                   252\n",
       "45        Virginia                504779                  8865\n",
       "46      Washington                311597                  6066\n",
       "47   West Virginia                121001                  1550\n",
       "48       Wisconsin                592140                 10788\n",
       "49         Wyoming                 51912                   583"
      ]
     },
     "execution_count": 60,
     "metadata": {},
     "output_type": "execute_result"
    }
   ],
   "source": [
    "tcp_cases_df"
   ]
  },
  {
   "cell_type": "code",
   "execution_count": 61,
   "metadata": {},
   "outputs": [],
   "source": [
    "region = {'South': ['Alabama', 'Florida', 'Georgia', 'Mississippi', 'South Carolina', 'Puerto Rico',\n",
    "                    'Arkansas', 'Louisiana', 'Oklahoma', 'Texas', 'Delaware', 'Delaware',\n",
    "                    'District of Columbia', 'Kentucky', 'Maryland', 'North Carolina', 'Tennessee',\n",
    "                    'Virginia', 'West Virginia'],\n",
    "          'Northeast': ['Connecticut','Maine','Massachusetts', 'New Hampshire',\n",
    "                        'New Jersey', 'New York', 'Pennsylvania', 'Rhode Island', 'Vermont'],\n",
    "          'Midwest': ['Illinois', 'Indiana', 'Iowa', 'Kansas', 'Michigan', 'Minnesota', 'Missouri', 'Nebraska',\n",
    "                      'North Dakota', 'Ohio', 'South Dakota', 'Wisconsin'],\n",
    "          'West': ['Alaska','Arizona', 'California','Colorado', 'Hawaii', 'Idaho',\n",
    "                   'Montana', 'Nevada', 'New Mexico', 'Oregon','Utah','Washington', 'Wyoming']         \n",
    "}"
   ]
  },
  {
   "cell_type": "code",
   "execution_count": 62,
   "metadata": {},
   "outputs": [],
   "source": [
    "def return_region(val):\n",
    "    for key, value in region.items():\n",
    "        if val in value:\n",
    "            return key"
   ]
  },
  {
   "cell_type": "code",
   "execution_count": 63,
   "metadata": {},
   "outputs": [],
   "source": [
    "tcp_cases_df['region'] = tcp_cases_df['state'].apply(return_region)"
   ]
  },
  {
   "cell_type": "code",
   "execution_count": 64,
   "metadata": {
    "scrolled": true
   },
   "outputs": [
    {
     "data": {
      "text/html": [
       "<div>\n",
       "<style scoped>\n",
       "    .dataframe tbody tr th:only-of-type {\n",
       "        vertical-align: middle;\n",
       "    }\n",
       "\n",
       "    .dataframe tbody tr th {\n",
       "        vertical-align: top;\n",
       "    }\n",
       "\n",
       "    .dataframe thead th {\n",
       "        text-align: right;\n",
       "    }\n",
       "</style>\n",
       "<table border=\"1\" class=\"dataframe\">\n",
       "  <thead>\n",
       "    <tr style=\"text-align: right;\">\n",
       "      <th></th>\n",
       "      <th>state</th>\n",
       "      <th>Total_Civilian_Cases</th>\n",
       "      <th>total_prisoner_cases</th>\n",
       "      <th>region</th>\n",
       "    </tr>\n",
       "  </thead>\n",
       "  <tbody>\n",
       "    <tr>\n",
       "      <th>0</th>\n",
       "      <td>Alabama</td>\n",
       "      <td>459639</td>\n",
       "      <td>1485</td>\n",
       "      <td>South</td>\n",
       "    </tr>\n",
       "    <tr>\n",
       "      <th>1</th>\n",
       "      <td>Alaska</td>\n",
       "      <td>52598</td>\n",
       "      <td>2302</td>\n",
       "      <td>West</td>\n",
       "    </tr>\n",
       "    <tr>\n",
       "      <th>2</th>\n",
       "      <td>Arizona</td>\n",
       "      <td>758402</td>\n",
       "      <td>11611</td>\n",
       "      <td>West</td>\n",
       "    </tr>\n",
       "    <tr>\n",
       "      <th>3</th>\n",
       "      <td>Arkansas</td>\n",
       "      <td>295268</td>\n",
       "      <td>10992</td>\n",
       "      <td>South</td>\n",
       "    </tr>\n",
       "    <tr>\n",
       "      <th>4</th>\n",
       "      <td>California</td>\n",
       "      <td>3243295</td>\n",
       "      <td>48375</td>\n",
       "      <td>West</td>\n",
       "    </tr>\n",
       "    <tr>\n",
       "      <th>5</th>\n",
       "      <td>Colorado</td>\n",
       "      <td>396177</td>\n",
       "      <td>8397</td>\n",
       "      <td>West</td>\n",
       "    </tr>\n",
       "    <tr>\n",
       "      <th>6</th>\n",
       "      <td>Connecticut</td>\n",
       "      <td>250023</td>\n",
       "      <td>3811</td>\n",
       "      <td>Northeast</td>\n",
       "    </tr>\n",
       "    <tr>\n",
       "      <th>7</th>\n",
       "      <td>Delaware</td>\n",
       "      <td>78071</td>\n",
       "      <td>1899</td>\n",
       "      <td>South</td>\n",
       "    </tr>\n",
       "    <tr>\n",
       "      <th>8</th>\n",
       "      <td>Florida</td>\n",
       "      <td>1689700</td>\n",
       "      <td>17807</td>\n",
       "      <td>South</td>\n",
       "    </tr>\n",
       "    <tr>\n",
       "      <th>9</th>\n",
       "      <td>Georgia</td>\n",
       "      <td>909443</td>\n",
       "      <td>3424</td>\n",
       "      <td>South</td>\n",
       "    </tr>\n",
       "    <tr>\n",
       "      <th>10</th>\n",
       "      <td>Hawaii</td>\n",
       "      <td>26518</td>\n",
       "      <td>1882</td>\n",
       "      <td>West</td>\n",
       "    </tr>\n",
       "    <tr>\n",
       "      <th>11</th>\n",
       "      <td>Idaho</td>\n",
       "      <td>162683</td>\n",
       "      <td>4042</td>\n",
       "      <td>West</td>\n",
       "    </tr>\n",
       "    <tr>\n",
       "      <th>12</th>\n",
       "      <td>Illinois</td>\n",
       "      <td>1126297</td>\n",
       "      <td>10471</td>\n",
       "      <td>Midwest</td>\n",
       "    </tr>\n",
       "    <tr>\n",
       "      <th>13</th>\n",
       "      <td>Indiana</td>\n",
       "      <td>626682</td>\n",
       "      <td>3289</td>\n",
       "      <td>Midwest</td>\n",
       "    </tr>\n",
       "    <tr>\n",
       "      <th>14</th>\n",
       "      <td>Iowa</td>\n",
       "      <td>267558</td>\n",
       "      <td>4483</td>\n",
       "      <td>Midwest</td>\n",
       "    </tr>\n",
       "    <tr>\n",
       "      <th>15</th>\n",
       "      <td>Kansas</td>\n",
       "      <td>274685</td>\n",
       "      <td>5928</td>\n",
       "      <td>Midwest</td>\n",
       "    </tr>\n",
       "    <tr>\n",
       "      <th>16</th>\n",
       "      <td>Kentucky</td>\n",
       "      <td>362890</td>\n",
       "      <td>6902</td>\n",
       "      <td>South</td>\n",
       "    </tr>\n",
       "    <tr>\n",
       "      <th>17</th>\n",
       "      <td>Louisiana</td>\n",
       "      <td>400626</td>\n",
       "      <td>2855</td>\n",
       "      <td>South</td>\n",
       "    </tr>\n",
       "    <tr>\n",
       "      <th>18</th>\n",
       "      <td>Maine</td>\n",
       "      <td>39324</td>\n",
       "      <td>157</td>\n",
       "      <td>Northeast</td>\n",
       "    </tr>\n",
       "    <tr>\n",
       "      <th>19</th>\n",
       "      <td>Maryland</td>\n",
       "      <td>354473</td>\n",
       "      <td>3997</td>\n",
       "      <td>South</td>\n",
       "    </tr>\n",
       "    <tr>\n",
       "      <th>20</th>\n",
       "      <td>Massachusetts</td>\n",
       "      <td>524025</td>\n",
       "      <td>2977</td>\n",
       "      <td>Northeast</td>\n",
       "    </tr>\n",
       "    <tr>\n",
       "      <th>21</th>\n",
       "      <td>Michigan</td>\n",
       "      <td>610124</td>\n",
       "      <td>24707</td>\n",
       "      <td>Midwest</td>\n",
       "    </tr>\n",
       "    <tr>\n",
       "      <th>22</th>\n",
       "      <td>Minnesota</td>\n",
       "      <td>461806</td>\n",
       "      <td>3879</td>\n",
       "      <td>Midwest</td>\n",
       "    </tr>\n",
       "    <tr>\n",
       "      <th>23</th>\n",
       "      <td>Mississippi</td>\n",
       "      <td>275001</td>\n",
       "      <td>1392</td>\n",
       "      <td>South</td>\n",
       "    </tr>\n",
       "    <tr>\n",
       "      <th>24</th>\n",
       "      <td>Missouri</td>\n",
       "      <td>458819</td>\n",
       "      <td>5411</td>\n",
       "      <td>Midwest</td>\n",
       "    </tr>\n",
       "    <tr>\n",
       "      <th>25</th>\n",
       "      <td>Montana</td>\n",
       "      <td>93949</td>\n",
       "      <td>1129</td>\n",
       "      <td>West</td>\n",
       "    </tr>\n",
       "    <tr>\n",
       "      <th>26</th>\n",
       "      <td>Nebraska</td>\n",
       "      <td>190713</td>\n",
       "      <td>956</td>\n",
       "      <td>Midwest</td>\n",
       "    </tr>\n",
       "    <tr>\n",
       "      <th>27</th>\n",
       "      <td>Nevada</td>\n",
       "      <td>278307</td>\n",
       "      <td>4672</td>\n",
       "      <td>West</td>\n",
       "    </tr>\n",
       "    <tr>\n",
       "      <th>28</th>\n",
       "      <td>New Hampshire</td>\n",
       "      <td>65693</td>\n",
       "      <td>446</td>\n",
       "      <td>Northeast</td>\n",
       "    </tr>\n",
       "    <tr>\n",
       "      <th>29</th>\n",
       "      <td>New Jersey</td>\n",
       "      <td>696829</td>\n",
       "      <td>4283</td>\n",
       "      <td>Northeast</td>\n",
       "    </tr>\n",
       "    <tr>\n",
       "      <th>30</th>\n",
       "      <td>New Mexico</td>\n",
       "      <td>174064</td>\n",
       "      <td>2581</td>\n",
       "      <td>West</td>\n",
       "    </tr>\n",
       "    <tr>\n",
       "      <th>31</th>\n",
       "      <td>New York</td>\n",
       "      <td>1410656</td>\n",
       "      <td>5527</td>\n",
       "      <td>Northeast</td>\n",
       "    </tr>\n",
       "    <tr>\n",
       "      <th>32</th>\n",
       "      <td>North Carolina</td>\n",
       "      <td>757525</td>\n",
       "      <td>9265</td>\n",
       "      <td>South</td>\n",
       "    </tr>\n",
       "    <tr>\n",
       "      <th>33</th>\n",
       "      <td>North Dakota</td>\n",
       "      <td>97630</td>\n",
       "      <td>620</td>\n",
       "      <td>Midwest</td>\n",
       "    </tr>\n",
       "    <tr>\n",
       "      <th>34</th>\n",
       "      <td>Ohio</td>\n",
       "      <td>895792</td>\n",
       "      <td>9384</td>\n",
       "      <td>Midwest</td>\n",
       "    </tr>\n",
       "    <tr>\n",
       "      <th>35</th>\n",
       "      <td>Oklahoma</td>\n",
       "      <td>389471</td>\n",
       "      <td>7037</td>\n",
       "      <td>South</td>\n",
       "    </tr>\n",
       "    <tr>\n",
       "      <th>36</th>\n",
       "      <td>Oregon</td>\n",
       "      <td>142416</td>\n",
       "      <td>3486</td>\n",
       "      <td>West</td>\n",
       "    </tr>\n",
       "    <tr>\n",
       "      <th>37</th>\n",
       "      <td>Pennsylvania</td>\n",
       "      <td>843224</td>\n",
       "      <td>9520</td>\n",
       "      <td>Northeast</td>\n",
       "    </tr>\n",
       "    <tr>\n",
       "      <th>38</th>\n",
       "      <td>Rhode Island</td>\n",
       "      <td>115705</td>\n",
       "      <td>1113</td>\n",
       "      <td>Northeast</td>\n",
       "    </tr>\n",
       "    <tr>\n",
       "      <th>39</th>\n",
       "      <td>South Carolina</td>\n",
       "      <td>443386</td>\n",
       "      <td>2999</td>\n",
       "      <td>South</td>\n",
       "    </tr>\n",
       "    <tr>\n",
       "      <th>40</th>\n",
       "      <td>South Dakota</td>\n",
       "      <td>108250</td>\n",
       "      <td>2337</td>\n",
       "      <td>Midwest</td>\n",
       "    </tr>\n",
       "    <tr>\n",
       "      <th>41</th>\n",
       "      <td>Tennessee</td>\n",
       "      <td>727860</td>\n",
       "      <td>6555</td>\n",
       "      <td>South</td>\n",
       "    </tr>\n",
       "    <tr>\n",
       "      <th>42</th>\n",
       "      <td>Texas</td>\n",
       "      <td>2360632</td>\n",
       "      <td>33742</td>\n",
       "      <td>South</td>\n",
       "    </tr>\n",
       "    <tr>\n",
       "      <th>43</th>\n",
       "      <td>Utah</td>\n",
       "      <td>346623</td>\n",
       "      <td>3192</td>\n",
       "      <td>West</td>\n",
       "    </tr>\n",
       "    <tr>\n",
       "      <th>44</th>\n",
       "      <td>Vermont</td>\n",
       "      <td>11965</td>\n",
       "      <td>252</td>\n",
       "      <td>Northeast</td>\n",
       "    </tr>\n",
       "    <tr>\n",
       "      <th>45</th>\n",
       "      <td>Virginia</td>\n",
       "      <td>504779</td>\n",
       "      <td>8865</td>\n",
       "      <td>South</td>\n",
       "    </tr>\n",
       "    <tr>\n",
       "      <th>46</th>\n",
       "      <td>Washington</td>\n",
       "      <td>311597</td>\n",
       "      <td>6066</td>\n",
       "      <td>West</td>\n",
       "    </tr>\n",
       "    <tr>\n",
       "      <th>47</th>\n",
       "      <td>West Virginia</td>\n",
       "      <td>121001</td>\n",
       "      <td>1550</td>\n",
       "      <td>South</td>\n",
       "    </tr>\n",
       "    <tr>\n",
       "      <th>48</th>\n",
       "      <td>Wisconsin</td>\n",
       "      <td>592140</td>\n",
       "      <td>10788</td>\n",
       "      <td>Midwest</td>\n",
       "    </tr>\n",
       "    <tr>\n",
       "      <th>49</th>\n",
       "      <td>Wyoming</td>\n",
       "      <td>51912</td>\n",
       "      <td>583</td>\n",
       "      <td>West</td>\n",
       "    </tr>\n",
       "  </tbody>\n",
       "</table>\n",
       "</div>"
      ],
      "text/plain": [
       "             state  Total_Civilian_Cases  total_prisoner_cases     region\n",
       "0          Alabama                459639                  1485      South\n",
       "1           Alaska                 52598                  2302       West\n",
       "2          Arizona                758402                 11611       West\n",
       "3         Arkansas                295268                 10992      South\n",
       "4       California               3243295                 48375       West\n",
       "5         Colorado                396177                  8397       West\n",
       "6      Connecticut                250023                  3811  Northeast\n",
       "7         Delaware                 78071                  1899      South\n",
       "8          Florida               1689700                 17807      South\n",
       "9          Georgia                909443                  3424      South\n",
       "10          Hawaii                 26518                  1882       West\n",
       "11           Idaho                162683                  4042       West\n",
       "12        Illinois               1126297                 10471    Midwest\n",
       "13         Indiana                626682                  3289    Midwest\n",
       "14            Iowa                267558                  4483    Midwest\n",
       "15          Kansas                274685                  5928    Midwest\n",
       "16        Kentucky                362890                  6902      South\n",
       "17       Louisiana                400626                  2855      South\n",
       "18           Maine                 39324                   157  Northeast\n",
       "19        Maryland                354473                  3997      South\n",
       "20   Massachusetts                524025                  2977  Northeast\n",
       "21        Michigan                610124                 24707    Midwest\n",
       "22       Minnesota                461806                  3879    Midwest\n",
       "23     Mississippi                275001                  1392      South\n",
       "24        Missouri                458819                  5411    Midwest\n",
       "25         Montana                 93949                  1129       West\n",
       "26        Nebraska                190713                   956    Midwest\n",
       "27          Nevada                278307                  4672       West\n",
       "28   New Hampshire                 65693                   446  Northeast\n",
       "29      New Jersey                696829                  4283  Northeast\n",
       "30      New Mexico                174064                  2581       West\n",
       "31        New York               1410656                  5527  Northeast\n",
       "32  North Carolina                757525                  9265      South\n",
       "33    North Dakota                 97630                   620    Midwest\n",
       "34            Ohio                895792                  9384    Midwest\n",
       "35        Oklahoma                389471                  7037      South\n",
       "36          Oregon                142416                  3486       West\n",
       "37    Pennsylvania                843224                  9520  Northeast\n",
       "38    Rhode Island                115705                  1113  Northeast\n",
       "39  South Carolina                443386                  2999      South\n",
       "40    South Dakota                108250                  2337    Midwest\n",
       "41       Tennessee                727860                  6555      South\n",
       "42           Texas               2360632                 33742      South\n",
       "43            Utah                346623                  3192       West\n",
       "44         Vermont                 11965                   252  Northeast\n",
       "45        Virginia                504779                  8865      South\n",
       "46      Washington                311597                  6066       West\n",
       "47   West Virginia                121001                  1550      South\n",
       "48       Wisconsin                592140                 10788    Midwest\n",
       "49         Wyoming                 51912                   583       West"
      ]
     },
     "execution_count": 64,
     "metadata": {},
     "output_type": "execute_result"
    }
   ],
   "source": [
    "tcp_cases_df"
   ]
  },
  {
   "cell_type": "code",
   "execution_count": 65,
   "metadata": {},
   "outputs": [],
   "source": [
    "regions_by_cases = tcp_cases_df.groupby('region')[['Total_Civilian_Cases', 'total_prisoner_cases']].sum()"
   ]
  },
  {
   "cell_type": "code",
   "execution_count": 66,
   "metadata": {
    "scrolled": true
   },
   "outputs": [
    {
     "data": {
      "text/html": [
       "<div>\n",
       "<style scoped>\n",
       "    .dataframe tbody tr th:only-of-type {\n",
       "        vertical-align: middle;\n",
       "    }\n",
       "\n",
       "    .dataframe tbody tr th {\n",
       "        vertical-align: top;\n",
       "    }\n",
       "\n",
       "    .dataframe thead th {\n",
       "        text-align: right;\n",
       "    }\n",
       "</style>\n",
       "<table border=\"1\" class=\"dataframe\">\n",
       "  <thead>\n",
       "    <tr style=\"text-align: right;\">\n",
       "      <th></th>\n",
       "      <th>Total_Civilian_Cases</th>\n",
       "      <th>total_prisoner_cases</th>\n",
       "    </tr>\n",
       "    <tr>\n",
       "      <th>region</th>\n",
       "      <th></th>\n",
       "      <th></th>\n",
       "    </tr>\n",
       "  </thead>\n",
       "  <tbody>\n",
       "    <tr>\n",
       "      <th>Midwest</th>\n",
       "      <td>5710496</td>\n",
       "      <td>82253</td>\n",
       "    </tr>\n",
       "    <tr>\n",
       "      <th>Northeast</th>\n",
       "      <td>3957444</td>\n",
       "      <td>28086</td>\n",
       "    </tr>\n",
       "    <tr>\n",
       "      <th>South</th>\n",
       "      <td>10129765</td>\n",
       "      <td>120766</td>\n",
       "    </tr>\n",
       "    <tr>\n",
       "      <th>West</th>\n",
       "      <td>6038541</td>\n",
       "      <td>98318</td>\n",
       "    </tr>\n",
       "  </tbody>\n",
       "</table>\n",
       "</div>"
      ],
      "text/plain": [
       "           Total_Civilian_Cases  total_prisoner_cases\n",
       "region                                               \n",
       "Midwest                 5710496                 82253\n",
       "Northeast               3957444                 28086\n",
       "South                  10129765                120766\n",
       "West                    6038541                 98318"
      ]
     },
     "execution_count": 66,
     "metadata": {},
     "output_type": "execute_result"
    }
   ],
   "source": [
    "regions_by_cases"
   ]
  },
  {
   "cell_type": "code",
   "execution_count": 67,
   "metadata": {},
   "outputs": [],
   "source": [
    "regions_by_cases_df = pd.DataFrame(regions_by_cases)"
   ]
  },
  {
   "cell_type": "code",
   "execution_count": 68,
   "metadata": {},
   "outputs": [],
   "source": [
    "regions_by_cases_df.reset_index(inplace=True)"
   ]
  },
  {
   "cell_type": "code",
   "execution_count": 74,
   "metadata": {
    "scrolled": false
   },
   "outputs": [
    {
     "data": {
      "text/html": [
       "<div>\n",
       "<style scoped>\n",
       "    .dataframe tbody tr th:only-of-type {\n",
       "        vertical-align: middle;\n",
       "    }\n",
       "\n",
       "    .dataframe tbody tr th {\n",
       "        vertical-align: top;\n",
       "    }\n",
       "\n",
       "    .dataframe thead th {\n",
       "        text-align: right;\n",
       "    }\n",
       "</style>\n",
       "<table border=\"1\" class=\"dataframe\">\n",
       "  <thead>\n",
       "    <tr style=\"text-align: right;\">\n",
       "      <th></th>\n",
       "      <th>region</th>\n",
       "      <th>Total_Civilian_Cases</th>\n",
       "      <th>total_prisoner_cases</th>\n",
       "    </tr>\n",
       "  </thead>\n",
       "  <tbody>\n",
       "    <tr>\n",
       "      <th>0</th>\n",
       "      <td>Midwest</td>\n",
       "      <td>5710496</td>\n",
       "      <td>82253</td>\n",
       "    </tr>\n",
       "    <tr>\n",
       "      <th>1</th>\n",
       "      <td>Northeast</td>\n",
       "      <td>3957444</td>\n",
       "      <td>28086</td>\n",
       "    </tr>\n",
       "    <tr>\n",
       "      <th>2</th>\n",
       "      <td>South</td>\n",
       "      <td>10129765</td>\n",
       "      <td>120766</td>\n",
       "    </tr>\n",
       "    <tr>\n",
       "      <th>3</th>\n",
       "      <td>West</td>\n",
       "      <td>6038541</td>\n",
       "      <td>98318</td>\n",
       "    </tr>\n",
       "  </tbody>\n",
       "</table>\n",
       "</div>"
      ],
      "text/plain": [
       "      region  Total_Civilian_Cases  total_prisoner_cases\n",
       "0    Midwest               5710496                 82253\n",
       "1  Northeast               3957444                 28086\n",
       "2      South              10129765                120766\n",
       "3       West               6038541                 98318"
      ]
     },
     "execution_count": 74,
     "metadata": {},
     "output_type": "execute_result"
    }
   ],
   "source": [
    "regions_by_cases_df"
   ]
  },
  {
   "cell_type": "code",
   "execution_count": 112,
   "metadata": {},
   "outputs": [],
   "source": [
    "regions_by_cases_civ = regions_by_cases_df[['region', 'Total_Civilian_Cases']]"
   ]
  },
  {
   "cell_type": "code",
   "execution_count": 113,
   "metadata": {},
   "outputs": [
    {
     "data": {
      "text/html": [
       "<div>\n",
       "<style scoped>\n",
       "    .dataframe tbody tr th:only-of-type {\n",
       "        vertical-align: middle;\n",
       "    }\n",
       "\n",
       "    .dataframe tbody tr th {\n",
       "        vertical-align: top;\n",
       "    }\n",
       "\n",
       "    .dataframe thead th {\n",
       "        text-align: right;\n",
       "    }\n",
       "</style>\n",
       "<table border=\"1\" class=\"dataframe\">\n",
       "  <thead>\n",
       "    <tr style=\"text-align: right;\">\n",
       "      <th></th>\n",
       "      <th>region</th>\n",
       "      <th>Total_Civilian_Cases</th>\n",
       "    </tr>\n",
       "  </thead>\n",
       "  <tbody>\n",
       "    <tr>\n",
       "      <th>0</th>\n",
       "      <td>Midwest</td>\n",
       "      <td>5710496</td>\n",
       "    </tr>\n",
       "    <tr>\n",
       "      <th>1</th>\n",
       "      <td>Northeast</td>\n",
       "      <td>3957444</td>\n",
       "    </tr>\n",
       "    <tr>\n",
       "      <th>2</th>\n",
       "      <td>South</td>\n",
       "      <td>10129765</td>\n",
       "    </tr>\n",
       "    <tr>\n",
       "      <th>3</th>\n",
       "      <td>West</td>\n",
       "      <td>6038541</td>\n",
       "    </tr>\n",
       "  </tbody>\n",
       "</table>\n",
       "</div>"
      ],
      "text/plain": [
       "      region  Total_Civilian_Cases\n",
       "0    Midwest               5710496\n",
       "1  Northeast               3957444\n",
       "2      South              10129765\n",
       "3       West               6038541"
      ]
     },
     "execution_count": 113,
     "metadata": {},
     "output_type": "execute_result"
    }
   ],
   "source": [
    "regions_by_cases_civ"
   ]
  },
  {
   "cell_type": "code",
   "execution_count": 135,
   "metadata": {},
   "outputs": [
    {
     "data": {
      "image/png": "[encoded data removed]",
      "text/plain": [
       "<Figure size 720x432 with 1 Axes>"
      ]
     },
     "metadata": {
      "needs_background": "light"
     },
     "output_type": "display_data"
    }
   ],
   "source": [
    "regions_by_cases_civ.plot.bar(stacked=False, color={'Total_Civilian_Cases':'#ff6361'},\n",
    "                             x = 'region', xlabel = 'region', ylabel = 'Number of Cases', rot=0, figsize=(10,6));\n",
    "plt.show();"
   ]
  },
  {
   "cell_type": "code",
   "execution_count": null,
   "metadata": {},
   "outputs": [],
   "source": []
  },
  {
   "cell_type": "code",
   "execution_count": 136,
   "metadata": {
    "scrolled": true
   },
   "outputs": [],
   "source": [
    "#regions_by_cases_df.plot.bar(stacked=False, color={'Total_Civilian_Cases':'#ff6361', 'total_prisoner_cases':'#58508d'},\n",
    "#                             x = 'region', xlabel = 'region', ylabel = 'total_prisoner_cases', rot=45, figsize=(10,6))"
   ]
  },
  {
   "cell_type": "code",
   "execution_count": 123,
   "metadata": {},
   "outputs": [],
   "source": [
    "regions_by_cases_prisoners = regions_by_cases_df[['region', 'total_prisoner_cases']]"
   ]
  },
  {
   "cell_type": "code",
   "execution_count": 124,
   "metadata": {},
   "outputs": [
    {
     "data": {
      "text/plain": [
       "<AxesSubplot:xlabel='region', ylabel='total_prisoner_cases'>"
      ]
     },
     "execution_count": 124,
     "metadata": {},
     "output_type": "execute_result"
    },
    {
     "data": {
      "image/png": "[encoded data removed]",
      "text/plain": [
       "<Figure size 720x432 with 1 Axes>"
      ]
     },
     "metadata": {
      "needs_background": "light"
     },
     "output_type": "display_data"
    }
   ],
   "source": [
    "regions_by_cases_prisoners.plot.bar(stacked=False, color={'total_prisoner_cases':'#58508d'},\n",
    "                             x = 'region', xlabel = 'region', ylabel = 'total_prisoner_cases', rot=45, figsize=(10,6))"
   ]
  },
  {
   "cell_type": "code",
   "execution_count": null,
   "metadata": {},
   "outputs": [],
   "source": []
  },
  {
   "cell_type": "code",
   "execution_count": 76,
   "metadata": {},
   "outputs": [
    {
     "data": {
      "image/png": "[encoded data removed]",
      "text/plain": [
       "<Figure size 720x432 with 1 Axes>"
      ]
     },
     "metadata": {
      "needs_background": "light"
     },
     "output_type": "display_data"
    },
    {
     "data": {
      "text/plain": [
       "<Figure size 432x288 with 0 Axes>"
      ]
     },
     "metadata": {},
     "output_type": "display_data"
    }
   ],
   "source": [
    "both_p_and_s_df.plot.bar(stacked=True, color={'total_staff_cases':'#ff6361', 'total_prisoner_cases':'#58508d'},\n",
    "                         x = 'name', xlabel='State', ylabel='Number of Cases', rot=45, \n",
    "                         figsize = (10,6), title = 'Staff and Prisoner Cases');\n",
    "plt.show();\n",
    "plt.savefig('staff_and_prisoner_cases.png', dpi=300)"
   ]
  },
  {
   "cell_type": "code",
   "execution_count": 77,
   "metadata": {},
   "outputs": [
    {
     "name": "stderr",
     "output_type": "stream",
     "text": [
      "/Users/edwardmendoza/opt/anaconda3/lib/python3.8/site-packages/seaborn/_decorators.py:36: FutureWarning: Pass the following variable as a keyword arg: x. From version 0.12, the only valid positional argument will be `data`, and passing other arguments without an explicit keyword will result in an error or misinterpretation.\n",
      "  warnings.warn(\n"
     ]
    },
    {
     "data": {
      "image/png": "[encoded data removed]",
      "text/plain": [
       "<Figure size 432x288 with 1 Axes>"
      ]
     },
     "metadata": {
      "needs_background": "light"
     },
     "output_type": "display_data"
    }
   ],
   "source": [
    "sns.boxplot(regions_by_cases_df['Total_Civilian_Cases']);\n"
   ]
  },
  {
   "cell_type": "code",
   "execution_count": null,
   "metadata": {},
   "outputs": [],
   "source": []
  },
  {
   "cell_type": "markdown",
   "metadata": {},
   "source": [
    "### Playing with Features_Clean "
   ]
  },
  {
   "cell_type": "code",
   "execution_count": 103,
   "metadata": {},
   "outputs": [],
   "source": [
    "features_clean_df = pd.read_csv('features_clean.csv')"
   ]
  },
  {
   "cell_type": "code",
   "execution_count": 104,
   "metadata": {},
   "outputs": [
    {
     "data": {
      "text/html": [
       "<div>\n",
       "<style scoped>\n",
       "    .dataframe tbody tr th:only-of-type {\n",
       "        vertical-align: middle;\n",
       "    }\n",
       "\n",
       "    .dataframe tbody tr th {\n",
       "        vertical-align: top;\n",
       "    }\n",
       "\n",
       "    .dataframe thead th {\n",
       "        text-align: right;\n",
       "    }\n",
       "</style>\n",
       "<table border=\"1\" class=\"dataframe\">\n",
       "  <thead>\n",
       "    <tr style=\"text-align: right;\">\n",
       "      <th></th>\n",
       "      <th>code</th>\n",
       "      <th>name</th>\n",
       "      <th>Design capacity 2000/a</th>\n",
       "      <th>Design capacity 2005/a</th>\n",
       "      <th>Percent of design capacity occupied 2000</th>\n",
       "      <th>Percent of design capacity occupied 2005</th>\n",
       "      <th>Rated capacity 2000</th>\n",
       "      <th>Rated capacity 2005</th>\n",
       "      <th>Percent of rated capacity occupied 2000</th>\n",
       "      <th>Percent of rated capacity occupied 2005</th>\n",
       "      <th>...</th>\n",
       "      <th>Prison industries</th>\n",
       "      <th>Support services</th>\n",
       "      <th>Farming</th>\n",
       "      <th>Public works</th>\n",
       "      <th>Other work programs</th>\n",
       "      <th>No work programs</th>\n",
       "      <th>phone_rate_avg</th>\n",
       "      <th>Latitude</th>\n",
       "      <th>Longitude</th>\n",
       "      <th>total_prisoner_cases</th>\n",
       "    </tr>\n",
       "  </thead>\n",
       "  <tbody>\n",
       "    <tr>\n",
       "      <th>0</th>\n",
       "      <td>AL</td>\n",
       "      <td>Alabama</td>\n",
       "      <td>17,693</td>\n",
       "      <td>12,918</td>\n",
       "      <td>127</td>\n",
       "      <td>179</td>\n",
       "      <td>22,158</td>\n",
       "      <td>22,158</td>\n",
       "      <td>101</td>\n",
       "      <td>0</td>\n",
       "      <td>...</td>\n",
       "      <td>7</td>\n",
       "      <td>10</td>\n",
       "      <td>6</td>\n",
       "      <td>9</td>\n",
       "      <td>5</td>\n",
       "      <td>7</td>\n",
       "      <td>4.50</td>\n",
       "      <td>32.75</td>\n",
       "      <td>-86.75</td>\n",
       "      <td>1485</td>\n",
       "    </tr>\n",
       "    <tr>\n",
       "      <th>1</th>\n",
       "      <td>AK</td>\n",
       "      <td>Alaska</td>\n",
       "      <td>3,490</td>\n",
       "      <td>3,101</td>\n",
       "      <td>93</td>\n",
       "      <td>134</td>\n",
       "      <td>3,622</td>\n",
       "      <td>4,129</td>\n",
       "      <td>90</td>\n",
       "      <td>100</td>\n",
       "      <td>...</td>\n",
       "      <td>3</td>\n",
       "      <td>17</td>\n",
       "      <td>4</td>\n",
       "      <td>9</td>\n",
       "      <td>3</td>\n",
       "      <td>1</td>\n",
       "      <td>3.75</td>\n",
       "      <td>64.00</td>\n",
       "      <td>-150.00</td>\n",
       "      <td>2302</td>\n",
       "    </tr>\n",
       "    <tr>\n",
       "      <th>2</th>\n",
       "      <td>AZ</td>\n",
       "      <td>Arizona</td>\n",
       "      <td>30,426</td>\n",
       "      <td>30,591</td>\n",
       "      <td>101</td>\n",
       "      <td>107</td>\n",
       "      <td>29,482</td>\n",
       "      <td>34,013</td>\n",
       "      <td>105</td>\n",
       "      <td>97</td>\n",
       "      <td>...</td>\n",
       "      <td>10</td>\n",
       "      <td>15</td>\n",
       "      <td>5</td>\n",
       "      <td>12</td>\n",
       "      <td>4</td>\n",
       "      <td>2</td>\n",
       "      <td>4.80</td>\n",
       "      <td>34.50</td>\n",
       "      <td>-111.50</td>\n",
       "      <td>11611</td>\n",
       "    </tr>\n",
       "    <tr>\n",
       "      <th>3</th>\n",
       "      <td>AR</td>\n",
       "      <td>Arkansas</td>\n",
       "      <td>10,026</td>\n",
       "      <td>13,913</td>\n",
       "      <td>104</td>\n",
       "      <td>100</td>\n",
       "      <td>10,026</td>\n",
       "      <td>14,673</td>\n",
       "      <td>104</td>\n",
       "      <td>95</td>\n",
       "      <td>...</td>\n",
       "      <td>0</td>\n",
       "      <td>24</td>\n",
       "      <td>2</td>\n",
       "      <td>7</td>\n",
       "      <td>2</td>\n",
       "      <td>1</td>\n",
       "      <td>4.80</td>\n",
       "      <td>34.75</td>\n",
       "      <td>-92.50</td>\n",
       "      <td>10992</td>\n",
       "    </tr>\n",
       "    <tr>\n",
       "      <th>4</th>\n",
       "      <td>CA</td>\n",
       "      <td>California</td>\n",
       "      <td>97,740</td>\n",
       "      <td>95,562</td>\n",
       "      <td>167</td>\n",
       "      <td>178</td>\n",
       "      <td>167,367</td>\n",
       "      <td>120,625</td>\n",
       "      <td>98</td>\n",
       "      <td>141</td>\n",
       "      <td>...</td>\n",
       "      <td>28</td>\n",
       "      <td>44</td>\n",
       "      <td>7</td>\n",
       "      <td>34</td>\n",
       "      <td>29</td>\n",
       "      <td>15</td>\n",
       "      <td>2.03</td>\n",
       "      <td>37.25</td>\n",
       "      <td>-119.75</td>\n",
       "      <td>48375</td>\n",
       "    </tr>\n",
       "  </tbody>\n",
       "</table>\n",
       "<p>5 rows × 29 columns</p>\n",
       "</div>"
      ],
      "text/plain": [
       "  code        name Design capacity 2000/a Design capacity 2005/a  \\\n",
       "0   AL     Alabama                 17,693                 12,918   \n",
       "1   AK      Alaska                  3,490                  3,101   \n",
       "2   AZ     Arizona                 30,426                 30,591   \n",
       "3   AR    Arkansas                 10,026                 13,913   \n",
       "4   CA  California                 97,740                 95,562   \n",
       "\n",
       "   Percent of design capacity occupied 2000  \\\n",
       "0                                       127   \n",
       "1                                        93   \n",
       "2                                       101   \n",
       "3                                       104   \n",
       "4                                       167   \n",
       "\n",
       "   Percent of design capacity occupied 2005 Rated capacity 2000  \\\n",
       "0                                       179              22,158   \n",
       "1                                       134               3,622   \n",
       "2                                       107              29,482   \n",
       "3                                       100              10,026   \n",
       "4                                       178             167,367   \n",
       "\n",
       "  Rated capacity 2005  Percent of rated capacity occupied 2000  \\\n",
       "0              22,158                                      101   \n",
       "1               4,129                                       90   \n",
       "2              34,013                                      105   \n",
       "3              14,673                                      104   \n",
       "4             120,625                                       98   \n",
       "\n",
       "   Percent of rated capacity occupied 2005  ... Prison industries  \\\n",
       "0                                        0  ...                 7   \n",
       "1                                      100  ...                 3   \n",
       "2                                       97  ...                10   \n",
       "3                                       95  ...                 0   \n",
       "4                                      141  ...                28   \n",
       "\n",
       "  Support services Farming  Public works Other work programs   \\\n",
       "0               10        6            9                    5   \n",
       "1               17        4            9                    3   \n",
       "2               15        5           12                    4   \n",
       "3               24        2            7                    2   \n",
       "4               44        7           34                   29   \n",
       "\n",
       "  No work programs  phone_rate_avg  Latitude Longitude  total_prisoner_cases  \n",
       "0                7            4.50     32.75    -86.75                  1485  \n",
       "1                1            3.75     64.00   -150.00                  2302  \n",
       "2                2            4.80     34.50   -111.50                 11611  \n",
       "3                1            4.80     34.75    -92.50                 10992  \n",
       "4               15            2.03     37.25   -119.75                 48375  \n",
       "\n",
       "[5 rows x 29 columns]"
      ]
     },
     "execution_count": 104,
     "metadata": {},
     "output_type": "execute_result"
    }
   ],
   "source": [
    "features_clean_df.head()"
   ]
  },
  {
   "cell_type": "code",
   "execution_count": 79,
   "metadata": {},
   "outputs": [
    {
     "name": "stdout",
     "output_type": "stream",
     "text": [
      "Requirement already satisfied: geopandas in /Users/edwardmendoza/opt/anaconda3/lib/python3.8/site-packages (0.8.2)\n",
      "Requirement already satisfied: pyproj>=2.2.0 in /Users/edwardmendoza/opt/anaconda3/lib/python3.8/site-packages (from geopandas) (3.0.0.post1)\n",
      "Requirement already satisfied: shapely in /Users/edwardmendoza/opt/anaconda3/lib/python3.8/site-packages (from geopandas) (1.7.1)\n",
      "Requirement already satisfied: fiona in /Users/edwardmendoza/opt/anaconda3/lib/python3.8/site-packages (from geopandas) (1.8.18)\n",
      "Requirement already satisfied: pandas>=0.23.0 in /Users/edwardmendoza/opt/anaconda3/lib/python3.8/site-packages (from geopandas) (1.1.3)\n",
      "Requirement already satisfied: certifi in /Users/edwardmendoza/opt/anaconda3/lib/python3.8/site-packages (from pyproj>=2.2.0->geopandas) (2020.6.20)\n",
      "Requirement already satisfied: attrs>=17 in /Users/edwardmendoza/opt/anaconda3/lib/python3.8/site-packages (from fiona->geopandas) (20.3.0)\n",
      "Requirement already satisfied: six>=1.7 in /Users/edwardmendoza/opt/anaconda3/lib/python3.8/site-packages (from fiona->geopandas) (1.15.0)\n",
      "Requirement already satisfied: munch in /Users/edwardmendoza/opt/anaconda3/lib/python3.8/site-packages (from fiona->geopandas) (2.5.0)\n",
      "Requirement already satisfied: click<8,>=4.0 in /Users/edwardmendoza/opt/anaconda3/lib/python3.8/site-packages (from fiona->geopandas) (7.1.2)\n",
      "Requirement already satisfied: click-plugins>=1.0 in /Users/edwardmendoza/opt/anaconda3/lib/python3.8/site-packages (from fiona->geopandas) (1.1.1)\n",
      "Requirement already satisfied: cligj>=0.5 in /Users/edwardmendoza/opt/anaconda3/lib/python3.8/site-packages (from fiona->geopandas) (0.7.1)\n",
      "Requirement already satisfied: pytz>=2017.2 in /Users/edwardmendoza/opt/anaconda3/lib/python3.8/site-packages (from pandas>=0.23.0->geopandas) (2020.1)\n",
      "Requirement already satisfied: numpy>=1.15.4 in /Users/edwardmendoza/opt/anaconda3/lib/python3.8/site-packages (from pandas>=0.23.0->geopandas) (1.19.2)\n",
      "Requirement already satisfied: python-dateutil>=2.7.3 in /Users/edwardmendoza/opt/anaconda3/lib/python3.8/site-packages (from pandas>=0.23.0->geopandas) (2.8.1)\n"
     ]
    }
   ],
   "source": [
    "!pip install geopandas"
   ]
  },
  {
   "cell_type": "code",
   "execution_count": 80,
   "metadata": {},
   "outputs": [],
   "source": [
    "import geopandas as gpd\n",
    "from shapely.geometry import Point, Polygon"
   ]
  },
  {
   "cell_type": "code",
   "execution_count": 83,
   "metadata": {},
   "outputs": [],
   "source": [
    "usa = gpd.read_file('/Users/edwardmendoza/Documents/GA/Projects/Project_5_shared/Edward/states_21basic/states.shp')"
   ]
  },
  {
   "cell_type": "code",
   "execution_count": 84,
   "metadata": {},
   "outputs": [
    {
     "data": {
      "text/html": [
       "<div>\n",
       "<style scoped>\n",
       "    .dataframe tbody tr th:only-of-type {\n",
       "        vertical-align: middle;\n",
       "    }\n",
       "\n",
       "    .dataframe tbody tr th {\n",
       "        vertical-align: top;\n",
       "    }\n",
       "\n",
       "    .dataframe thead th {\n",
       "        text-align: right;\n",
       "    }\n",
       "</style>\n",
       "<table border=\"1\" class=\"dataframe\">\n",
       "  <thead>\n",
       "    <tr style=\"text-align: right;\">\n",
       "      <th></th>\n",
       "      <th>STATE_NAME</th>\n",
       "      <th>DRAWSEQ</th>\n",
       "      <th>STATE_FIPS</th>\n",
       "      <th>SUB_REGION</th>\n",
       "      <th>STATE_ABBR</th>\n",
       "      <th>geometry</th>\n",
       "    </tr>\n",
       "  </thead>\n",
       "  <tbody>\n",
       "    <tr>\n",
       "      <th>0</th>\n",
       "      <td>Hawaii</td>\n",
       "      <td>1</td>\n",
       "      <td>15</td>\n",
       "      <td>Pacific</td>\n",
       "      <td>HI</td>\n",
       "      <td>MULTIPOLYGON (((-160.07380 22.00418, -160.0497...</td>\n",
       "    </tr>\n",
       "    <tr>\n",
       "      <th>1</th>\n",
       "      <td>Washington</td>\n",
       "      <td>2</td>\n",
       "      <td>53</td>\n",
       "      <td>Pacific</td>\n",
       "      <td>WA</td>\n",
       "      <td>MULTIPOLYGON (((-122.40202 48.22522, -122.4628...</td>\n",
       "    </tr>\n",
       "    <tr>\n",
       "      <th>2</th>\n",
       "      <td>Montana</td>\n",
       "      <td>3</td>\n",
       "      <td>30</td>\n",
       "      <td>Mountain</td>\n",
       "      <td>MT</td>\n",
       "      <td>POLYGON ((-111.47543 44.70216, -111.48080 44.6...</td>\n",
       "    </tr>\n",
       "    <tr>\n",
       "      <th>3</th>\n",
       "      <td>Maine</td>\n",
       "      <td>4</td>\n",
       "      <td>23</td>\n",
       "      <td>New England</td>\n",
       "      <td>ME</td>\n",
       "      <td>MULTIPOLYGON (((-69.77728 44.07415, -69.85993 ...</td>\n",
       "    </tr>\n",
       "    <tr>\n",
       "      <th>4</th>\n",
       "      <td>North Dakota</td>\n",
       "      <td>5</td>\n",
       "      <td>38</td>\n",
       "      <td>West North Central</td>\n",
       "      <td>ND</td>\n",
       "      <td>POLYGON ((-98.73044 45.93827, -99.00683 45.939...</td>\n",
       "    </tr>\n",
       "  </tbody>\n",
       "</table>\n",
       "</div>"
      ],
      "text/plain": [
       "     STATE_NAME  DRAWSEQ STATE_FIPS          SUB_REGION STATE_ABBR  \\\n",
       "0        Hawaii        1         15             Pacific         HI   \n",
       "1    Washington        2         53             Pacific         WA   \n",
       "2       Montana        3         30            Mountain         MT   \n",
       "3         Maine        4         23         New England         ME   \n",
       "4  North Dakota        5         38  West North Central         ND   \n",
       "\n",
       "                                            geometry  \n",
       "0  MULTIPOLYGON (((-160.07380 22.00418, -160.0497...  \n",
       "1  MULTIPOLYGON (((-122.40202 48.22522, -122.4628...  \n",
       "2  POLYGON ((-111.47543 44.70216, -111.48080 44.6...  \n",
       "3  MULTIPOLYGON (((-69.77728 44.07415, -69.85993 ...  \n",
       "4  POLYGON ((-98.73044 45.93827, -99.00683 45.939...  "
      ]
     },
     "execution_count": 84,
     "metadata": {},
     "output_type": "execute_result"
    }
   ],
   "source": [
    "usa.head()"
   ]
  },
  {
   "cell_type": "code",
   "execution_count": 87,
   "metadata": {
    "scrolled": true
   },
   "outputs": [
    {
     "name": "stdout",
     "output_type": "stream",
     "text": [
      "Collecting plotly==4.14.3\n",
      "  Using cached plotly-4.14.3-py2.py3-none-any.whl (13.2 MB)\n",
      "Requirement already satisfied: retrying>=1.3.3 in /Users/edwardmendoza/opt/anaconda3/lib/python3.8/site-packages (from plotly==4.14.3) (1.3.3)\n",
      "Requirement already satisfied: six in /Users/edwardmendoza/opt/anaconda3/lib/python3.8/site-packages (from plotly==4.14.3) (1.15.0)\n",
      "Installing collected packages: plotly\n",
      "Successfully installed plotly-4.14.3\n"
     ]
    }
   ],
   "source": [
    "!pip install plotly==4.14.3"
   ]
  },
  {
   "cell_type": "code",
   "execution_count": 90,
   "metadata": {},
   "outputs": [
    {
     "name": "stdout",
     "output_type": "stream",
     "text": [
      "Collecting chart_studio\n",
      "  Downloading chart_studio-1.1.0-py3-none-any.whl (64 kB)\n",
      "\u001b[K     |████████████████████████████████| 64 kB 505 kB/s eta 0:00:01\n",
      "\u001b[?25hRequirement already satisfied: six in /Users/edwardmendoza/opt/anaconda3/lib/python3.8/site-packages (from chart_studio) (1.15.0)\n",
      "Requirement already satisfied: retrying>=1.3.3 in /Users/edwardmendoza/opt/anaconda3/lib/python3.8/site-packages (from chart_studio) (1.3.3)\n",
      "Requirement already satisfied: plotly in /Users/edwardmendoza/opt/anaconda3/lib/python3.8/site-packages (from chart_studio) (4.14.3)\n",
      "Requirement already satisfied: requests in /Users/edwardmendoza/opt/anaconda3/lib/python3.8/site-packages (from chart_studio) (2.24.0)\n",
      "Requirement already satisfied: chardet<4,>=3.0.2 in /Users/edwardmendoza/opt/anaconda3/lib/python3.8/site-packages (from requests->chart_studio) (3.0.4)\n",
      "Requirement already satisfied: urllib3!=1.25.0,!=1.25.1,<1.26,>=1.21.1 in /Users/edwardmendoza/opt/anaconda3/lib/python3.8/site-packages (from requests->chart_studio) (1.25.11)\n",
      "Requirement already satisfied: certifi>=2017.4.17 in /Users/edwardmendoza/opt/anaconda3/lib/python3.8/site-packages (from requests->chart_studio) (2020.6.20)\n",
      "Requirement already satisfied: idna<3,>=2.5 in /Users/edwardmendoza/opt/anaconda3/lib/python3.8/site-packages (from requests->chart_studio) (2.10)\n",
      "Installing collected packages: chart-studio\n",
      "Successfully installed chart-studio-1.1.0\n"
     ]
    }
   ],
   "source": [
    "!pip install chart_studio"
   ]
  },
  {
   "cell_type": "code",
   "execution_count": 91,
   "metadata": {},
   "outputs": [],
   "source": [
    "import chart_studio.plotly as py\n",
    "import plotly.graph_objects as go"
   ]
  },
  {
   "cell_type": "code",
   "execution_count": 105,
   "metadata": {},
   "outputs": [
    {
     "data": {
      "application/vnd.plotly.v1+json": {
       "config": {
        "plotlyServerURL": "https://plot.ly"
       },
       "data": [
        {
         "colorbar": {
          "title": {
           "text": "Number of Prisons"
          }
         },
         "colorscale": [
          [
           0,
           "rgb(255,245,240)"
          ],
          [
           0.125,
           "rgb(254,224,210)"
          ],
          [
           0.25,
           "rgb(252,187,161)"
          ],
          [
           0.375,
           "rgb(252,146,114)"
          ],
          [
           0.5,
           "rgb(251,106,74)"
          ],
          [
           0.625,
           "rgb(239,59,44)"
          ],
          [
           0.75,
           "rgb(203,24,29)"
          ],
          [
           0.875,
           "rgb(165,15,21)"
          ],
          [
           1,
           "rgb(103,0,13)"
          ]
         ],
         "locationmode": "USA-states",
         "locations": [
          "AL",
          "AK",
          "AZ",
          "AR",
          "CA",
          "CO",
          "CT",
          "DE",
          "FL",
          "GA",
          "HI",
          "ID",
          "IL",
          "IN",
          "IA",
          "KS",
          "KY",
          "LA",
          "ME",
          "MD",
          "MA",
          "MI",
          "MN",
          "MS",
          "MO",
          "MT",
          "NE",
          "NV",
          "NH",
          "NJ",
          "NM",
          "NY",
          "NC",
          "ND",
          "OH",
          "OK",
          "OR",
          "PA",
          "RI",
          "SC",
          "SD",
          "TN",
          "TX",
          "UT",
          "VT",
          "VA",
          "WA",
          "WV",
          "WI",
          "WY"
         ],
         "type": "choropleth",
         "z": [
          1485,
          2302,
          11611,
          10992,
          48375,
          8397,
          3811,
          1899,
          17807,
          3424,
          1882,
          4042,
          10471,
          3289,
          4483,
          5928,
          6902,
          2855,
          157,
          3997,
          2977,
          24707,
          3879,
          1392,
          5411,
          1129,
          956,
          4672,
          446,
          4283,
          2581,
          5527,
          9265,
          620,
          9384,
          7037,
          3486,
          9520,
          1113,
          2999,
          2337,
          6555,
          33742,
          3192,
          252,
          8865,
          6066,
          1550,
          10788,
          583
         ]
        }
       ],
       "layout": {
        "geo": {
         "scope": "usa"
        },
        "template": {
         "data": {
          "bar": [
           {
            "error_x": {
             "color": "#2a3f5f"
            },
            "error_y": {
             "color": "#2a3f5f"
            },
            "marker": {
             "line": {
              "color": "#E5ECF6",
              "width": 0.5
             }
            },
            "type": "bar"
           }
          ],
          "barpolar": [
           {
            "marker": {
             "line": {
              "color": "#E5ECF6",
              "width": 0.5
             }
            },
            "type": "barpolar"
           }
          ],
          "carpet": [
           {
            "aaxis": {
             "endlinecolor": "#2a3f5f",
             "gridcolor": "white",
             "linecolor": "white",
             "minorgridcolor": "white",
             "startlinecolor": "#2a3f5f"
            },
            "baxis": {
             "endlinecolor": "#2a3f5f",
             "gridcolor": "white",
             "linecolor": "white",
             "minorgridcolor": "white",
             "startlinecolor": "#2a3f5f"
            },
            "type": "carpet"
           }
          ],
          "choropleth": [
           {
            "colorbar": {
             "outlinewidth": 0,
             "ticks": ""
            },
            "type": "choropleth"
           }
          ],
          "contour": [
           {
            "colorbar": {
             "outlinewidth": 0,
             "ticks": ""
            },
            "colorscale": [
             [
              0,
              "#0d0887"
             ],
             [
              0.1111111111111111,
              "#46039f"
             ],
             [
              0.2222222222222222,
              "#7201a8"
             ],
             [
              0.3333333333333333,
              "#9c179e"
             ],
             [
              0.4444444444444444,
              "#bd3786"
             ],
             [
              0.5555555555555556,
              "#d8576b"
             ],
             [
              0.6666666666666666,
              "#ed7953"
             ],
             [
              0.7777777777777778,
              "#fb9f3a"
             ],
             [
              0.8888888888888888,
              "#fdca26"
             ],
             [
              1,
              "#f0f921"
             ]
            ],
            "type": "contour"
           }
          ],
          "contourcarpet": [
           {
            "colorbar": {
             "outlinewidth": 0,
             "ticks": ""
            },
            "type": "contourcarpet"
           }
          ],
          "heatmap": [
           {
            "colorbar": {
             "outlinewidth": 0,
             "ticks": ""
            },
            "colorscale": [
             [
              0,
              "#0d0887"
             ],
             [
              0.1111111111111111,
              "#46039f"
             ],
             [
              0.2222222222222222,
              "#7201a8"
             ],
             [
              0.3333333333333333,
              "#9c179e"
             ],
             [
              0.4444444444444444,
              "#bd3786"
             ],
             [
              0.5555555555555556,
              "#d8576b"
             ],
             [
              0.6666666666666666,
              "#ed7953"
             ],
             [
              0.7777777777777778,
              "#fb9f3a"
             ],
             [
              0.8888888888888888,
              "#fdca26"
             ],
             [
              1,
              "#f0f921"
             ]
            ],
            "type": "heatmap"
           }
          ],
          "heatmapgl": [
           {
            "colorbar": {
             "outlinewidth": 0,
             "ticks": ""
            },
            "colorscale": [
             [
              0,
              "#0d0887"
             ],
             [
              0.1111111111111111,
              "#46039f"
             ],
             [
              0.2222222222222222,
              "#7201a8"
             ],
             [
              0.3333333333333333,
              "#9c179e"
             ],
             [
              0.4444444444444444,
              "#bd3786"
             ],
             [
              0.5555555555555556,
              "#d8576b"
             ],
             [
              0.6666666666666666,
              "#ed7953"
             ],
             [
              0.7777777777777778,
              "#fb9f3a"
             ],
             [
              0.8888888888888888,
              "#fdca26"
             ],
             [
              1,
              "#f0f921"
             ]
            ],
            "type": "heatmapgl"
           }
          ],
          "histogram": [
           {
            "marker": {
             "colorbar": {
              "outlinewidth": 0,
              "ticks": ""
             }
            },
            "type": "histogram"
           }
          ],
          "histogram2d": [
           {
            "colorbar": {
             "outlinewidth": 0,
             "ticks": ""
            },
            "colorscale": [
             [
              0,
              "#0d0887"
             ],
             [
              0.1111111111111111,
              "#46039f"
             ],
             [
              0.2222222222222222,
              "#7201a8"
             ],
             [
              0.3333333333333333,
              "#9c179e"
             ],
             [
              0.4444444444444444,
              "#bd3786"
             ],
             [
              0.5555555555555556,
              "#d8576b"
             ],
             [
              0.6666666666666666,
              "#ed7953"
             ],
             [
              0.7777777777777778,
              "#fb9f3a"
             ],
             [
              0.8888888888888888,
              "#fdca26"
             ],
             [
              1,
              "#f0f921"
             ]
            ],
            "type": "histogram2d"
           }
          ],
          "histogram2dcontour": [
           {
            "colorbar": {
             "outlinewidth": 0,
             "ticks": ""
            },
            "colorscale": [
             [
              0,
              "#0d0887"
             ],
             [
              0.1111111111111111,
              "#46039f"
             ],
             [
              0.2222222222222222,
              "#7201a8"
             ],
             [
              0.3333333333333333,
              "#9c179e"
             ],
             [
              0.4444444444444444,
              "#bd3786"
             ],
             [
              0.5555555555555556,
              "#d8576b"
             ],
             [
              0.6666666666666666,
              "#ed7953"
             ],
             [
              0.7777777777777778,
              "#fb9f3a"
             ],
             [
              0.8888888888888888,
              "#fdca26"
             ],
             [
              1,
              "#f0f921"
             ]
            ],
            "type": "histogram2dcontour"
           }
          ],
          "mesh3d": [
           {
            "colorbar": {
             "outlinewidth": 0,
             "ticks": ""
            },
            "type": "mesh3d"
           }
          ],
          "parcoords": [
           {
            "line": {
             "colorbar": {
              "outlinewidth": 0,
              "ticks": ""
             }
            },
            "type": "parcoords"
           }
          ],
          "pie": [
           {
            "automargin": true,
            "type": "pie"
           }
          ],
          "scatter": [
           {
            "marker": {
             "colorbar": {
              "outlinewidth": 0,
              "ticks": ""
             }
            },
            "type": "scatter"
           }
          ],
          "scatter3d": [
           {
            "line": {
             "colorbar": {
              "outlinewidth": 0,
              "ticks": ""
             }
            },
            "marker": {
             "colorbar": {
              "outlinewidth": 0,
              "ticks": ""
             }
            },
            "type": "scatter3d"
           }
          ],
          "scattercarpet": [
           {
            "marker": {
             "colorbar": {
              "outlinewidth": 0,
              "ticks": ""
             }
            },
            "type": "scattercarpet"
           }
          ],
          "scattergeo": [
           {
            "marker": {
             "colorbar": {
              "outlinewidth": 0,
              "ticks": ""
             }
            },
            "type": "scattergeo"
           }
          ],
          "scattergl": [
           {
            "marker": {
             "colorbar": {
              "outlinewidth": 0,
              "ticks": ""
             }
            },
            "type": "scattergl"
           }
          ],
          "scattermapbox": [
           {
            "marker": {
             "colorbar": {
              "outlinewidth": 0,
              "ticks": ""
             }
            },
            "type": "scattermapbox"
           }
          ],
          "scatterpolar": [
           {
            "marker": {
             "colorbar": {
              "outlinewidth": 0,
              "ticks": ""
             }
            },
            "type": "scatterpolar"
           }
          ],
          "scatterpolargl": [
           {
            "marker": {
             "colorbar": {
              "outlinewidth": 0,
              "ticks": ""
             }
            },
            "type": "scatterpolargl"
           }
          ],
          "scatterternary": [
           {
            "marker": {
             "colorbar": {
              "outlinewidth": 0,
              "ticks": ""
             }
            },
            "type": "scatterternary"
           }
          ],
          "surface": [
           {
            "colorbar": {
             "outlinewidth": 0,
             "ticks": ""
            },
            "colorscale": [
             [
              0,
              "#0d0887"
             ],
             [
              0.1111111111111111,
              "#46039f"
             ],
             [
              0.2222222222222222,
              "#7201a8"
             ],
             [
              0.3333333333333333,
              "#9c179e"
             ],
             [
              0.4444444444444444,
              "#bd3786"
             ],
             [
              0.5555555555555556,
              "#d8576b"
             ],
             [
              0.6666666666666666,
              "#ed7953"
             ],
             [
              0.7777777777777778,
              "#fb9f3a"
             ],
             [
              0.8888888888888888,
              "#fdca26"
             ],
             [
              1,
              "#f0f921"
             ]
            ],
            "type": "surface"
           }
          ],
          "table": [
           {
            "cells": {
             "fill": {
              "color": "#EBF0F8"
             },
             "line": {
              "color": "white"
             }
            },
            "header": {
             "fill": {
              "color": "#C8D4E3"
             },
             "line": {
              "color": "white"
             }
            },
            "type": "table"
           }
          ]
         },
         "layout": {
          "annotationdefaults": {
           "arrowcolor": "#2a3f5f",
           "arrowhead": 0,
           "arrowwidth": 1
          },
          "autotypenumbers": "strict",
          "coloraxis": {
           "colorbar": {
            "outlinewidth": 0,
            "ticks": ""
           }
          },
          "colorscale": {
           "diverging": [
            [
             0,
             "#8e0152"
            ],
            [
             0.1,
             "#c51b7d"
            ],
            [
             0.2,
             "#de77ae"
            ],
            [
             0.3,
             "#f1b6da"
            ],
            [
             0.4,
             "#fde0ef"
            ],
            [
             0.5,
             "#f7f7f7"
            ],
            [
             0.6,
             "#e6f5d0"
            ],
            [
             0.7,
             "#b8e186"
            ],
            [
             0.8,
             "#7fbc41"
            ],
            [
             0.9,
             "#4d9221"
            ],
            [
             1,
             "#276419"
            ]
           ],
           "sequential": [
            [
             0,
             "#0d0887"
            ],
            [
             0.1111111111111111,
             "#46039f"
            ],
            [
             0.2222222222222222,
             "#7201a8"
            ],
            [
             0.3333333333333333,
             "#9c179e"
            ],
            [
             0.4444444444444444,
             "#bd3786"
            ],
            [
             0.5555555555555556,
             "#d8576b"
            ],
            [
             0.6666666666666666,
             "#ed7953"
            ],
            [
             0.7777777777777778,
             "#fb9f3a"
            ],
            [
             0.8888888888888888,
             "#fdca26"
            ],
            [
             1,
             "#f0f921"
            ]
           ],
           "sequentialminus": [
            [
             0,
             "#0d0887"
            ],
            [
             0.1111111111111111,
             "#46039f"
            ],
            [
             0.2222222222222222,
             "#7201a8"
            ],
            [
             0.3333333333333333,
             "#9c179e"
            ],
            [
             0.4444444444444444,
             "#bd3786"
            ],
            [
             0.5555555555555556,
             "#d8576b"
            ],
            [
             0.6666666666666666,
             "#ed7953"
            ],
            [
             0.7777777777777778,
             "#fb9f3a"
            ],
            [
             0.8888888888888888,
             "#fdca26"
            ],
            [
             1,
             "#f0f921"
            ]
           ]
          },
          "colorway": [
           "#636efa",
           "#EF553B",
           "#00cc96",
           "#ab63fa",
           "#FFA15A",
           "#19d3f3",
           "#FF6692",
           "#B6E880",
           "#FF97FF",
           "#FECB52"
          ],
          "font": {
           "color": "#2a3f5f"
          },
          "geo": {
           "bgcolor": "white",
           "lakecolor": "white",
           "landcolor": "#E5ECF6",
           "showlakes": true,
           "showland": true,
           "subunitcolor": "white"
          },
          "hoverlabel": {
           "align": "left"
          },
          "hovermode": "closest",
          "mapbox": {
           "style": "light"
          },
          "paper_bgcolor": "white",
          "plot_bgcolor": "#E5ECF6",
          "polar": {
           "angularaxis": {
            "gridcolor": "white",
            "linecolor": "white",
            "ticks": ""
           },
           "bgcolor": "#E5ECF6",
           "radialaxis": {
            "gridcolor": "white",
            "linecolor": "white",
            "ticks": ""
           }
          },
          "scene": {
           "xaxis": {
            "backgroundcolor": "#E5ECF6",
            "gridcolor": "white",
            "gridwidth": 2,
            "linecolor": "white",
            "showbackground": true,
            "ticks": "",
            "zerolinecolor": "white"
           },
           "yaxis": {
            "backgroundcolor": "#E5ECF6",
            "gridcolor": "white",
            "gridwidth": 2,
            "linecolor": "white",
            "showbackground": true,
            "ticks": "",
            "zerolinecolor": "white"
           },
           "zaxis": {
            "backgroundcolor": "#E5ECF6",
            "gridcolor": "white",
            "gridwidth": 2,
            "linecolor": "white",
            "showbackground": true,
            "ticks": "",
            "zerolinecolor": "white"
           }
          },
          "shapedefaults": {
           "line": {
            "color": "#2a3f5f"
           }
          },
          "ternary": {
           "aaxis": {
            "gridcolor": "white",
            "linecolor": "white",
            "ticks": ""
           },
           "baxis": {
            "gridcolor": "white",
            "linecolor": "white",
            "ticks": ""
           },
           "bgcolor": "#E5ECF6",
           "caxis": {
            "gridcolor": "white",
            "linecolor": "white",
            "ticks": ""
           }
          },
          "title": {
           "x": 0.05
          },
          "xaxis": {
           "automargin": true,
           "gridcolor": "white",
           "linecolor": "white",
           "ticks": "",
           "title": {
            "standoff": 15
           },
           "zerolinecolor": "white",
           "zerolinewidth": 2
          },
          "yaxis": {
           "automargin": true,
           "gridcolor": "white",
           "linecolor": "white",
           "ticks": "",
           "title": {
            "standoff": 15
           },
           "zerolinecolor": "white",
           "zerolinewidth": 2
          }
         }
        },
        "title": {
         "text": "Covid-19 Cases by State"
        }
       }
      },
      "text/html": [
       "<div>                            <div id=\"b1d3e594-f6dd-45ae-8b9b-7ceb4e75971f\" class=\"plotly-graph-div\" style=\"height:525px; width:100%;\"></div>            <script type=\"text/javascript\">                require([\"plotly\"], function(Plotly) {                    window.PLOTLYENV=window.PLOTLYENV || {};                                    if (document.getElementById(\"b1d3e594-f6dd-45ae-8b9b-7ceb4e75971f\")) {                    Plotly.newPlot(                        \"b1d3e594-f6dd-45ae-8b9b-7ceb4e75971f\",                        [{\"colorbar\": {\"title\": {\"text\": \"Number of Prisons\"}}, \"colorscale\": [[0.0, \"rgb(255,245,240)\"], [0.125, \"rgb(254,224,210)\"], [0.25, \"rgb(252,187,161)\"], [0.375, \"rgb(252,146,114)\"], [0.5, \"rgb(251,106,74)\"], [0.625, \"rgb(239,59,44)\"], [0.75, \"rgb(203,24,29)\"], [0.875, \"rgb(165,15,21)\"], [1.0, \"rgb(103,0,13)\"]], \"locationmode\": \"USA-states\", \"locations\": [\"AL\", \"AK\", \"AZ\", \"AR\", \"CA\", \"CO\", \"CT\", \"DE\", \"FL\", \"GA\", \"HI\", \"ID\", \"IL\", \"IN\", \"IA\", \"KS\", \"KY\", \"LA\", \"ME\", \"MD\", \"MA\", \"MI\", \"MN\", \"MS\", \"MO\", \"MT\", \"NE\", \"NV\", \"NH\", \"NJ\", \"NM\", \"NY\", \"NC\", \"ND\", \"OH\", \"OK\", \"OR\", \"PA\", \"RI\", \"SC\", \"SD\", \"TN\", \"TX\", \"UT\", \"VT\", \"VA\", \"WA\", \"WV\", \"WI\", \"WY\"], \"type\": \"choropleth\", \"z\": [1485.0, 2302.0, 11611.0, 10992.0, 48375.0, 8397.0, 3811.0, 1899.0, 17807.0, 3424.0, 1882.0, 4042.0, 10471.0, 3289.0, 4483.0, 5928.0, 6902.0, 2855.0, 157.0, 3997.0, 2977.0, 24707.0, 3879.0, 1392.0, 5411.0, 1129.0, 956.0, 4672.0, 446.0, 4283.0, 2581.0, 5527.0, 9265.0, 620.0, 9384.0, 7037.0, 3486.0, 9520.0, 1113.0, 2999.0, 2337.0, 6555.0, 33742.0, 3192.0, 252.0, 8865.0, 6066.0, 1550.0, 10788.0, 583.0]}],                        {\"geo\": {\"scope\": \"usa\"}, \"template\": {\"data\": {\"bar\": [{\"error_x\": {\"color\": \"#2a3f5f\"}, \"error_y\": {\"color\": \"#2a3f5f\"}, \"marker\": {\"line\": {\"color\": \"#E5ECF6\", \"width\": 0.5}}, \"type\": \"bar\"}], \"barpolar\": [{\"marker\": {\"line\": {\"color\": \"#E5ECF6\", \"width\": 0.5}}, \"type\": \"barpolar\"}], \"carpet\": [{\"aaxis\": {\"endlinecolor\": \"#2a3f5f\", \"gridcolor\": \"white\", \"linecolor\": \"white\", \"minorgridcolor\": \"white\", \"startlinecolor\": \"#2a3f5f\"}, \"baxis\": {\"endlinecolor\": \"#2a3f5f\", \"gridcolor\": \"white\", \"linecolor\": \"white\", \"minorgridcolor\": \"white\", \"startlinecolor\": \"#2a3f5f\"}, \"type\": \"carpet\"}], \"choropleth\": [{\"colorbar\": {\"outlinewidth\": 0, \"ticks\": \"\"}, \"type\": \"choropleth\"}], \"contour\": [{\"colorbar\": {\"outlinewidth\": 0, \"ticks\": \"\"}, \"colorscale\": [[0.0, \"#0d0887\"], [0.1111111111111111, \"#46039f\"], [0.2222222222222222, \"#7201a8\"], [0.3333333333333333, \"#9c179e\"], [0.4444444444444444, \"#bd3786\"], [0.5555555555555556, \"#d8576b\"], [0.6666666666666666, \"#ed7953\"], [0.7777777777777778, \"#fb9f3a\"], [0.8888888888888888, \"#fdca26\"], [1.0, \"#f0f921\"]], \"type\": \"contour\"}], \"contourcarpet\": [{\"colorbar\": {\"outlinewidth\": 0, \"ticks\": \"\"}, \"type\": \"contourcarpet\"}], \"heatmap\": [{\"colorbar\": {\"outlinewidth\": 0, \"ticks\": \"\"}, \"colorscale\": [[0.0, \"#0d0887\"], [0.1111111111111111, \"#46039f\"], [0.2222222222222222, \"#7201a8\"], [0.3333333333333333, \"#9c179e\"], [0.4444444444444444, \"#bd3786\"], [0.5555555555555556, \"#d8576b\"], [0.6666666666666666, \"#ed7953\"], [0.7777777777777778, \"#fb9f3a\"], [0.8888888888888888, \"#fdca26\"], [1.0, \"#f0f921\"]], \"type\": \"heatmap\"}], \"heatmapgl\": [{\"colorbar\": {\"outlinewidth\": 0, \"ticks\": \"\"}, \"colorscale\": [[0.0, \"#0d0887\"], [0.1111111111111111, \"#46039f\"], [0.2222222222222222, \"#7201a8\"], [0.3333333333333333, \"#9c179e\"], [0.4444444444444444, \"#bd3786\"], [0.5555555555555556, \"#d8576b\"], [0.6666666666666666, \"#ed7953\"], [0.7777777777777778, \"#fb9f3a\"], [0.8888888888888888, \"#fdca26\"], [1.0, \"#f0f921\"]], \"type\": \"heatmapgl\"}], \"histogram\": [{\"marker\": {\"colorbar\": {\"outlinewidth\": 0, \"ticks\": \"\"}}, \"type\": \"histogram\"}], \"histogram2d\": [{\"colorbar\": {\"outlinewidth\": 0, \"ticks\": \"\"}, \"colorscale\": [[0.0, \"#0d0887\"], [0.1111111111111111, \"#46039f\"], [0.2222222222222222, \"#7201a8\"], [0.3333333333333333, \"#9c179e\"], [0.4444444444444444, \"#bd3786\"], [0.5555555555555556, \"#d8576b\"], [0.6666666666666666, \"#ed7953\"], [0.7777777777777778, \"#fb9f3a\"], [0.8888888888888888, \"#fdca26\"], [1.0, \"#f0f921\"]], \"type\": \"histogram2d\"}], \"histogram2dcontour\": [{\"colorbar\": {\"outlinewidth\": 0, \"ticks\": \"\"}, \"colorscale\": [[0.0, \"#0d0887\"], [0.1111111111111111, \"#46039f\"], [0.2222222222222222, \"#7201a8\"], [0.3333333333333333, \"#9c179e\"], [0.4444444444444444, \"#bd3786\"], [0.5555555555555556, \"#d8576b\"], [0.6666666666666666, \"#ed7953\"], [0.7777777777777778, \"#fb9f3a\"], [0.8888888888888888, \"#fdca26\"], [1.0, \"#f0f921\"]], \"type\": \"histogram2dcontour\"}], \"mesh3d\": [{\"colorbar\": {\"outlinewidth\": 0, \"ticks\": \"\"}, \"type\": \"mesh3d\"}], \"parcoords\": [{\"line\": {\"colorbar\": {\"outlinewidth\": 0, \"ticks\": \"\"}}, \"type\": \"parcoords\"}], \"pie\": [{\"automargin\": true, \"type\": \"pie\"}], \"scatter\": [{\"marker\": {\"colorbar\": {\"outlinewidth\": 0, \"ticks\": \"\"}}, \"type\": \"scatter\"}], \"scatter3d\": [{\"line\": {\"colorbar\": {\"outlinewidth\": 0, \"ticks\": \"\"}}, \"marker\": {\"colorbar\": {\"outlinewidth\": 0, \"ticks\": \"\"}}, \"type\": \"scatter3d\"}], \"scattercarpet\": [{\"marker\": {\"colorbar\": {\"outlinewidth\": 0, \"ticks\": \"\"}}, \"type\": \"scattercarpet\"}], \"scattergeo\": [{\"marker\": {\"colorbar\": {\"outlinewidth\": 0, \"ticks\": \"\"}}, \"type\": \"scattergeo\"}], \"scattergl\": [{\"marker\": {\"colorbar\": {\"outlinewidth\": 0, \"ticks\": \"\"}}, \"type\": \"scattergl\"}], \"scattermapbox\": [{\"marker\": {\"colorbar\": {\"outlinewidth\": 0, \"ticks\": \"\"}}, \"type\": \"scattermapbox\"}], \"scatterpolar\": [{\"marker\": {\"colorbar\": {\"outlinewidth\": 0, \"ticks\": \"\"}}, \"type\": \"scatterpolar\"}], \"scatterpolargl\": [{\"marker\": {\"colorbar\": {\"outlinewidth\": 0, \"ticks\": \"\"}}, \"type\": \"scatterpolargl\"}], \"scatterternary\": [{\"marker\": {\"colorbar\": {\"outlinewidth\": 0, \"ticks\": \"\"}}, \"type\": \"scatterternary\"}], \"surface\": [{\"colorbar\": {\"outlinewidth\": 0, \"ticks\": \"\"}, \"colorscale\": [[0.0, \"#0d0887\"], [0.1111111111111111, \"#46039f\"], [0.2222222222222222, \"#7201a8\"], [0.3333333333333333, \"#9c179e\"], [0.4444444444444444, \"#bd3786\"], [0.5555555555555556, \"#d8576b\"], [0.6666666666666666, \"#ed7953\"], [0.7777777777777778, \"#fb9f3a\"], [0.8888888888888888, \"#fdca26\"], [1.0, \"#f0f921\"]], \"type\": \"surface\"}], \"table\": [{\"cells\": {\"fill\": {\"color\": \"#EBF0F8\"}, \"line\": {\"color\": \"white\"}}, \"header\": {\"fill\": {\"color\": \"#C8D4E3\"}, \"line\": {\"color\": \"white\"}}, \"type\": \"table\"}]}, \"layout\": {\"annotationdefaults\": {\"arrowcolor\": \"#2a3f5f\", \"arrowhead\": 0, \"arrowwidth\": 1}, \"autotypenumbers\": \"strict\", \"coloraxis\": {\"colorbar\": {\"outlinewidth\": 0, \"ticks\": \"\"}}, \"colorscale\": {\"diverging\": [[0, \"#8e0152\"], [0.1, \"#c51b7d\"], [0.2, \"#de77ae\"], [0.3, \"#f1b6da\"], [0.4, \"#fde0ef\"], [0.5, \"#f7f7f7\"], [0.6, \"#e6f5d0\"], [0.7, \"#b8e186\"], [0.8, \"#7fbc41\"], [0.9, \"#4d9221\"], [1, \"#276419\"]], \"sequential\": [[0.0, \"#0d0887\"], [0.1111111111111111, \"#46039f\"], [0.2222222222222222, \"#7201a8\"], [0.3333333333333333, \"#9c179e\"], [0.4444444444444444, \"#bd3786\"], [0.5555555555555556, \"#d8576b\"], [0.6666666666666666, \"#ed7953\"], [0.7777777777777778, \"#fb9f3a\"], [0.8888888888888888, \"#fdca26\"], [1.0, \"#f0f921\"]], \"sequentialminus\": [[0.0, \"#0d0887\"], [0.1111111111111111, \"#46039f\"], [0.2222222222222222, \"#7201a8\"], [0.3333333333333333, \"#9c179e\"], [0.4444444444444444, \"#bd3786\"], [0.5555555555555556, \"#d8576b\"], [0.6666666666666666, \"#ed7953\"], [0.7777777777777778, \"#fb9f3a\"], [0.8888888888888888, \"#fdca26\"], [1.0, \"#f0f921\"]]}, \"colorway\": [\"#636efa\", \"#EF553B\", \"#00cc96\", \"#ab63fa\", \"#FFA15A\", \"#19d3f3\", \"#FF6692\", \"#B6E880\", \"#FF97FF\", \"#FECB52\"], \"font\": {\"color\": \"#2a3f5f\"}, \"geo\": {\"bgcolor\": \"white\", \"lakecolor\": \"white\", \"landcolor\": \"#E5ECF6\", \"showlakes\": true, \"showland\": true, \"subunitcolor\": \"white\"}, \"hoverlabel\": {\"align\": \"left\"}, \"hovermode\": \"closest\", \"mapbox\": {\"style\": \"light\"}, \"paper_bgcolor\": \"white\", \"plot_bgcolor\": \"#E5ECF6\", \"polar\": {\"angularaxis\": {\"gridcolor\": \"white\", \"linecolor\": \"white\", \"ticks\": \"\"}, \"bgcolor\": \"#E5ECF6\", \"radialaxis\": {\"gridcolor\": \"white\", \"linecolor\": \"white\", \"ticks\": \"\"}}, \"scene\": {\"xaxis\": {\"backgroundcolor\": \"#E5ECF6\", \"gridcolor\": \"white\", \"gridwidth\": 2, \"linecolor\": \"white\", \"showbackground\": true, \"ticks\": \"\", \"zerolinecolor\": \"white\"}, \"yaxis\": {\"backgroundcolor\": \"#E5ECF6\", \"gridcolor\": \"white\", \"gridwidth\": 2, \"linecolor\": \"white\", \"showbackground\": true, \"ticks\": \"\", \"zerolinecolor\": \"white\"}, \"zaxis\": {\"backgroundcolor\": \"#E5ECF6\", \"gridcolor\": \"white\", \"gridwidth\": 2, \"linecolor\": \"white\", \"showbackground\": true, \"ticks\": \"\", \"zerolinecolor\": \"white\"}}, \"shapedefaults\": {\"line\": {\"color\": \"#2a3f5f\"}}, \"ternary\": {\"aaxis\": {\"gridcolor\": \"white\", \"linecolor\": \"white\", \"ticks\": \"\"}, \"baxis\": {\"gridcolor\": \"white\", \"linecolor\": \"white\", \"ticks\": \"\"}, \"bgcolor\": \"#E5ECF6\", \"caxis\": {\"gridcolor\": \"white\", \"linecolor\": \"white\", \"ticks\": \"\"}}, \"title\": {\"x\": 0.05}, \"xaxis\": {\"automargin\": true, \"gridcolor\": \"white\", \"linecolor\": \"white\", \"ticks\": \"\", \"title\": {\"standoff\": 15}, \"zerolinecolor\": \"white\", \"zerolinewidth\": 2}, \"yaxis\": {\"automargin\": true, \"gridcolor\": \"white\", \"linecolor\": \"white\", \"ticks\": \"\", \"title\": {\"standoff\": 15}, \"zerolinecolor\": \"white\", \"zerolinewidth\": 2}}}, \"title\": {\"text\": \"Covid-19 Cases by State\"}},                        {\"responsive\": true}                    ).then(function(){\n",
       "                            \n",
       "var gd = document.getElementById('b1d3e594-f6dd-45ae-8b9b-7ceb4e75971f');\n",
       "var x = new MutationObserver(function (mutations, observer) {{\n",
       "        var display = window.getComputedStyle(gd).display;\n",
       "        if (!display || display === 'none') {{\n",
       "            console.log([gd, 'removed!']);\n",
       "            Plotly.purge(gd);\n",
       "            observer.disconnect();\n",
       "        }}\n",
       "}});\n",
       "\n",
       "// Listen for the removal of the full notebook cells\n",
       "var notebookContainer = gd.closest('#notebook-container');\n",
       "if (notebookContainer) {{\n",
       "    x.observe(notebookContainer, {childList: true});\n",
       "}}\n",
       "\n",
       "// Listen for the clearing of the current output cell\n",
       "var outputEl = gd.closest('.output');\n",
       "if (outputEl) {{\n",
       "    x.observe(outputEl, {childList: true});\n",
       "}}\n",
       "\n",
       "                        })                };                });            </script>        </div>"
      ]
     },
     "metadata": {},
     "output_type": "display_data"
    }
   ],
   "source": [
    "fig = go.Figure(data=go.Choropleth(\n",
    "    locations=features_clean_df['code'], # Spatial coordinates\n",
    "    z = features_clean_df['total_prisoner_cases'].astype(float), # Data to be color-coded\n",
    "    locationmode = 'USA-states', # set of locations match entries in `locations`\n",
    "    colorscale = 'Reds',\n",
    "    colorbar_title = \"Number of Prisons\",\n",
    "))\n",
    "\n",
    "fig.update_layout(\n",
    "    title_text = 'Covid-19 Cases by State',\n",
    "    geo_scope='usa', # limite map scope to USA\n",
    ")\n",
    "\n",
    "fig.show()"
   ]
  }
 ],
 "metadata": {
  "kernelspec": {
   "display_name": "Python 3",
   "language": "python",
   "name": "python3"
  },
  "language_info": {
   "codemirror_mode": {
    "name": "ipython",
    "version": 3
   },
   "file_extension": ".py",
   "mimetype": "text/x-python",
   "name": "python",
   "nbconvert_exporter": "python",
   "pygments_lexer": "ipython3",
   "version": "3.8.5"
  }
 },
 "nbformat": 4,
 "nbformat_minor": 4
}
