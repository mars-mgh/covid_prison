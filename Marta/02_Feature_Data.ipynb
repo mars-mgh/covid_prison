{
 "cells": [
  {
   "cell_type": "markdown",
   "id": "unexpected-corner",
   "metadata": {},
   "source": [
    "# Feature Data\n",
    "\n",
    "In the previous notebook we have cleaned the main dataframe. In this notebook we go through the Civilian cases dataset and Facility Prisons, finally mergin them into one unique dataframe, that will be used in notebook 03 for data visualization and in 04, 05, 06 and 07 to modeling."
   ]
  },
  {
   "cell_type": "markdown",
   "id": "smart-pattern",
   "metadata": {
    "toc": true
   },
   "source": [
    "<h1>Table of Contents<span class=\"tocSkip\"></span></h1>\n",
    "<div class=\"toc\"><ul class=\"toc-item\"><li><span><a href=\"#Civilian-Cases\" data-toc-modified-id=\"Civilian-Cases-1\"><span class=\"toc-item-num\">1&nbsp;&nbsp;</span>Civilian Cases</a></span><ul class=\"toc-item\"><li><span><a href=\"#Formatting\" data-toc-modified-id=\"Formatting-1.1\"><span class=\"toc-item-num\">1.1&nbsp;&nbsp;</span>Formatting</a></span></li><li><span><a href=\"#Calculate-Montly-Data\" data-toc-modified-id=\"Calculate-Montly-Data-1.2\"><span class=\"toc-item-num\">1.2&nbsp;&nbsp;</span>Calculate Montly Data</a></span></li><li><span><a href=\"#Export-Clean-Data\" data-toc-modified-id=\"Export-Clean-Data-1.3\"><span class=\"toc-item-num\">1.3&nbsp;&nbsp;</span>Export Clean Data</a></span></li></ul></li><li><span><a href=\"#Prison-Features\" data-toc-modified-id=\"Prison-Features-2\"><span class=\"toc-item-num\">2&nbsp;&nbsp;</span>Prison Features</a></span><ul class=\"toc-item\"><li><span><a href=\"#Export-Cleaned-Dataset\" data-toc-modified-id=\"Export-Cleaned-Dataset-2.1\"><span class=\"toc-item-num\">2.1&nbsp;&nbsp;</span>Export Cleaned Dataset</a></span></li></ul></li><li><span><a href=\"#Merge-Datasets\" data-toc-modified-id=\"Merge-Datasets-3\"><span class=\"toc-item-num\">3&nbsp;&nbsp;</span>Merge Datasets</a></span><ul class=\"toc-item\"><li><span><a href=\"#Covid-Civilian-Cases\" data-toc-modified-id=\"Covid-Civilian-Cases-3.1\"><span class=\"toc-item-num\">3.1&nbsp;&nbsp;</span>Covid Civilian Cases</a></span></li><li><span><a href=\"#Other-Prison-Features\" data-toc-modified-id=\"Other-Prison-Features-3.2\"><span class=\"toc-item-num\">3.2&nbsp;&nbsp;</span>Other Prison Features</a></span></li><li><span><a href=\"#Export-Final-Dataset\" data-toc-modified-id=\"Export-Final-Dataset-3.3\"><span class=\"toc-item-num\">3.3&nbsp;&nbsp;</span>Export Final Dataset</a></span></li></ul></li></ul></div>"
   ]
  },
  {
   "cell_type": "code",
   "execution_count": 2,
   "id": "military-crest",
   "metadata": {
    "ExecuteTime": {
     "end_time": "2021-02-18T18:50:09.374968Z",
     "start_time": "2021-02-18T18:50:08.126654Z"
    }
   },
   "outputs": [],
   "source": [
    "import pandas as pd\n",
    "import numpy as np\n",
    "import matplotlib.pyplot as plt\n",
    "\n",
    "import missingno as msno\n",
    "import seaborn as sns"
   ]
  },
  {
   "cell_type": "markdown",
   "id": "gentle-table",
   "metadata": {},
   "source": [
    "## Civilian Cases\n",
    "\n",
    "The civilian cases dataset was colleted from Jhon Hopkins University."
   ]
  },
  {
   "cell_type": "code",
   "execution_count": 3,
   "id": "faced-reduction",
   "metadata": {
    "ExecuteTime": {
     "end_time": "2021-02-18T18:50:09.398560Z",
     "start_time": "2021-02-18T18:50:09.377149Z"
    }
   },
   "outputs": [],
   "source": [
    "civ_cases = pd.read_csv('./data/general_population_covid_cases_by_state.csv')"
   ]
  },
  {
   "cell_type": "code",
   "execution_count": 4,
   "id": "lonely-capture",
   "metadata": {
    "ExecuteTime": {
     "end_time": "2021-02-18T18:50:09.415061Z",
     "start_time": "2021-02-18T18:50:09.401301Z"
    }
   },
   "outputs": [
    {
     "data": {
      "text/html": [
       "<div>\n",
       "<style scoped>\n",
       "    .dataframe tbody tr th:only-of-type {\n",
       "        vertical-align: middle;\n",
       "    }\n",
       "\n",
       "    .dataframe tbody tr th {\n",
       "        vertical-align: top;\n",
       "    }\n",
       "\n",
       "    .dataframe thead th {\n",
       "        text-align: right;\n",
       "    }\n",
       "</style>\n",
       "<table border=\"1\" class=\"dataframe\">\n",
       "  <thead>\n",
       "    <tr style=\"text-align: right;\">\n",
       "      <th></th>\n",
       "      <th>date</th>\n",
       "      <th>state</th>\n",
       "      <th>dataQualityGrade</th>\n",
       "      <th>deathIncrease (Deaths)</th>\n",
       "      <th>positiveIncrease (increasing cases)</th>\n",
       "      <th>hospitalizedIncrease (Hospitalized)</th>\n",
       "      <th>totalTestsViralIncrease (Tested)</th>\n",
       "    </tr>\n",
       "  </thead>\n",
       "  <tbody>\n",
       "    <tr>\n",
       "      <th>0</th>\n",
       "      <td>3/6/20</td>\n",
       "      <td>AK</td>\n",
       "      <td>unknown</td>\n",
       "      <td>0</td>\n",
       "      <td>0</td>\n",
       "      <td>0</td>\n",
       "      <td>8</td>\n",
       "    </tr>\n",
       "    <tr>\n",
       "      <th>1</th>\n",
       "      <td>3/7/20</td>\n",
       "      <td>AK</td>\n",
       "      <td>unknown</td>\n",
       "      <td>0</td>\n",
       "      <td>0</td>\n",
       "      <td>0</td>\n",
       "      <td>4</td>\n",
       "    </tr>\n",
       "    <tr>\n",
       "      <th>2</th>\n",
       "      <td>3/8/20</td>\n",
       "      <td>AK</td>\n",
       "      <td>unknown</td>\n",
       "      <td>0</td>\n",
       "      <td>0</td>\n",
       "      <td>0</td>\n",
       "      <td>2</td>\n",
       "    </tr>\n",
       "    <tr>\n",
       "      <th>3</th>\n",
       "      <td>3/9/20</td>\n",
       "      <td>AK</td>\n",
       "      <td>unknown</td>\n",
       "      <td>0</td>\n",
       "      <td>0</td>\n",
       "      <td>1</td>\n",
       "      <td>9</td>\n",
       "    </tr>\n",
       "    <tr>\n",
       "      <th>4</th>\n",
       "      <td>3/10/20</td>\n",
       "      <td>AK</td>\n",
       "      <td>unknown</td>\n",
       "      <td>0</td>\n",
       "      <td>0</td>\n",
       "      <td>0</td>\n",
       "      <td>0</td>\n",
       "    </tr>\n",
       "  </tbody>\n",
       "</table>\n",
       "</div>"
      ],
      "text/plain": [
       "      date state dataQualityGrade  deathIncrease (Deaths)  \\\n",
       "0   3/6/20    AK          unknown                       0   \n",
       "1   3/7/20    AK          unknown                       0   \n",
       "2   3/8/20    AK          unknown                       0   \n",
       "3   3/9/20    AK          unknown                       0   \n",
       "4  3/10/20    AK          unknown                       0   \n",
       "\n",
       "   positiveIncrease (increasing cases)  hospitalizedIncrease (Hospitalized)  \\\n",
       "0                                    0                                    0   \n",
       "1                                    0                                    0   \n",
       "2                                    0                                    0   \n",
       "3                                    0                                    1   \n",
       "4                                    0                                    0   \n",
       "\n",
       "   totalTestsViralIncrease (Tested)  \n",
       "0                                 8  \n",
       "1                                 4  \n",
       "2                                 2  \n",
       "3                                 9  \n",
       "4                                 0  "
      ]
     },
     "execution_count": 4,
     "metadata": {},
     "output_type": "execute_result"
    }
   ],
   "source": [
    "civ_cases.head()"
   ]
  },
  {
   "cell_type": "markdown",
   "id": "cultural-sharp",
   "metadata": {},
   "source": [
    "Data are recorded daily in this dataset, but many States are reporting with different timeframes. For this reason we decide to reduce all columns to monthly data."
   ]
  },
  {
   "cell_type": "code",
   "execution_count": 5,
   "id": "appropriate-squad",
   "metadata": {
    "ExecuteTime": {
     "end_time": "2021-02-18T18:50:09.431807Z",
     "start_time": "2021-02-18T18:50:09.418146Z"
    }
   },
   "outputs": [
    {
     "name": "stdout",
     "output_type": "stream",
     "text": [
      "<class 'pandas.core.frame.DataFrame'>\n",
      "RangeIndex: 19206 entries, 0 to 19205\n",
      "Data columns (total 7 columns):\n",
      " #   Column                               Non-Null Count  Dtype \n",
      "---  ------                               --------------  ----- \n",
      " 0   date                                 19205 non-null  object\n",
      " 1   state                                19205 non-null  object\n",
      " 2   dataQualityGrade                     19205 non-null  object\n",
      " 3   deathIncrease (Deaths)               19206 non-null  int64 \n",
      " 4   positiveIncrease (increasing cases)  19206 non-null  int64 \n",
      " 5   hospitalizedIncrease (Hospitalized)  19206 non-null  int64 \n",
      " 6   totalTestsViralIncrease (Tested)     19206 non-null  int64 \n",
      "dtypes: int64(4), object(3)\n",
      "memory usage: 1.0+ MB\n"
     ]
    }
   ],
   "source": [
    "civ_cases.info()"
   ]
  },
  {
   "cell_type": "markdown",
   "id": "recreational-transformation",
   "metadata": {},
   "source": [
    "To begin we extract a `month` feature from `date`.\n",
    "\n",
    "*Note: this was possible because data start in March 2020 and end in January 2021, so no overlap of manth happens within the timeframe*"
   ]
  },
  {
   "cell_type": "code",
   "execution_count": 6,
   "id": "martial-dollar",
   "metadata": {
    "ExecuteTime": {
     "end_time": "2021-02-18T18:50:09.475843Z",
     "start_time": "2021-02-18T18:50:09.433956Z"
    }
   },
   "outputs": [],
   "source": [
    "civ_cases['date'] = pd.to_datetime(civ_cases['date'])\n",
    "civ_cases['month'] = civ_cases['date'].dt.month"
   ]
  },
  {
   "cell_type": "code",
   "execution_count": 7,
   "id": "colored-probability",
   "metadata": {
    "ExecuteTime": {
     "end_time": "2021-02-18T18:50:09.495087Z",
     "start_time": "2021-02-18T18:50:09.478098Z"
    }
   },
   "outputs": [],
   "source": [
    "civ_cases = civ_cases.drop(civ_cases[(civ_cases['date'].dt.year == 2021) & (civ_cases['month'] > 1)].index)"
   ]
  },
  {
   "cell_type": "markdown",
   "id": "alpha-learning",
   "metadata": {},
   "source": [
    "Not needing the date anymoe, we drop it."
   ]
  },
  {
   "cell_type": "code",
   "execution_count": 8,
   "id": "extended-configuration",
   "metadata": {
    "ExecuteTime": {
     "end_time": "2021-02-18T18:50:09.510017Z",
     "start_time": "2021-02-18T18:50:09.497171Z"
    }
   },
   "outputs": [
    {
     "name": "stdout",
     "output_type": "stream",
     "text": [
      "<class 'pandas.core.frame.DataFrame'>\n",
      "Int64Index: 18814 entries, 0 to 19205\n",
      "Data columns (total 8 columns):\n",
      " #   Column                               Non-Null Count  Dtype         \n",
      "---  ------                               --------------  -----         \n",
      " 0   date                                 18813 non-null  datetime64[ns]\n",
      " 1   state                                18813 non-null  object        \n",
      " 2   dataQualityGrade                     18813 non-null  object        \n",
      " 3   deathIncrease (Deaths)               18814 non-null  int64         \n",
      " 4   positiveIncrease (increasing cases)  18814 non-null  int64         \n",
      " 5   hospitalizedIncrease (Hospitalized)  18814 non-null  int64         \n",
      " 6   totalTestsViralIncrease (Tested)     18814 non-null  int64         \n",
      " 7   month                                18813 non-null  float64       \n",
      "dtypes: datetime64[ns](1), float64(1), int64(4), object(2)\n",
      "memory usage: 1.3+ MB\n"
     ]
    }
   ],
   "source": [
    "civ_cases.info()"
   ]
  },
  {
   "cell_type": "markdown",
   "id": "previous-pillow",
   "metadata": {},
   "source": [
    "### Formatting\n",
    "\n",
    "Column names in this dataframe appear to be very unpractical for data analysis purposes. We rename them using a dictionary."
   ]
  },
  {
   "cell_type": "code",
   "execution_count": 9,
   "id": "perfect-aerospace",
   "metadata": {
    "ExecuteTime": {
     "end_time": "2021-02-18T18:50:09.518940Z",
     "start_time": "2021-02-18T18:50:09.514957Z"
    }
   },
   "outputs": [],
   "source": [
    "#Rename Columns\n",
    "civ_cases = civ_cases.rename(columns={\"dataQualityGrade\": \"civ_data_quality\", \"deathIncrease (Deaths)\": \"civ_death\", \"positiveIncrease (increasing cases)\": \"civ_cases\", 'hospitalizedIncrease (Hospitalized)':'civ_hosp', 'totalTestsViralIncrease (Tested)': 'civ_tests'}, errors=\"raise\")"
   ]
  },
  {
   "cell_type": "markdown",
   "id": "federal-rebound",
   "metadata": {},
   "source": [
    "### Calculate Montly Data\n",
    "\n",
    "As mentioned in above and in previous notebook we want to aggregate data on a monthly bases.\n",
    "\n",
    "To do so we start by creating a list of columns of interest."
   ]
  },
  {
   "cell_type": "code",
   "execution_count": 10,
   "id": "received-looking",
   "metadata": {
    "ExecuteTime": {
     "end_time": "2021-02-18T18:50:09.524733Z",
     "start_time": "2021-02-18T18:50:09.522330Z"
    }
   },
   "outputs": [],
   "source": [
    "col_ls = ['civ_death', 'civ_cases', 'civ_hosp', 'civ_tests']"
   ]
  },
  {
   "cell_type": "markdown",
   "id": "surprised-azerbaijan",
   "metadata": {},
   "source": [
    "Then we create an empty dataframe called `month_civ_cases` and iterating through the column list we just created we record a value per month per state, by operating a groupby and summing values."
   ]
  },
  {
   "cell_type": "code",
   "execution_count": 11,
   "id": "european-uruguay",
   "metadata": {
    "ExecuteTime": {
     "end_time": "2021-02-18T18:50:09.529496Z",
     "start_time": "2021-02-18T18:50:09.526889Z"
    }
   },
   "outputs": [],
   "source": [
    "month_civ_cases = pd.DataFrame()"
   ]
  },
  {
   "cell_type": "code",
   "execution_count": 12,
   "id": "welsh-chain",
   "metadata": {
    "ExecuteTime": {
     "end_time": "2021-02-18T18:50:09.554689Z",
     "start_time": "2021-02-18T18:50:09.531262Z"
    }
   },
   "outputs": [],
   "source": [
    "for col in col_ls:\n",
    "    month_civ_cases[col] = civ_cases.groupby(['state', 'month'])[col].agg('sum')"
   ]
  },
  {
   "cell_type": "code",
   "execution_count": 13,
   "id": "precise-exercise",
   "metadata": {
    "ExecuteTime": {
     "end_time": "2021-02-18T18:50:09.570695Z",
     "start_time": "2021-02-18T18:50:09.556485Z"
    }
   },
   "outputs": [
    {
     "data": {
      "text/html": [
       "<div>\n",
       "<style scoped>\n",
       "    .dataframe tbody tr th:only-of-type {\n",
       "        vertical-align: middle;\n",
       "    }\n",
       "\n",
       "    .dataframe tbody tr th {\n",
       "        vertical-align: top;\n",
       "    }\n",
       "\n",
       "    .dataframe thead th {\n",
       "        text-align: right;\n",
       "    }\n",
       "</style>\n",
       "<table border=\"1\" class=\"dataframe\">\n",
       "  <thead>\n",
       "    <tr style=\"text-align: right;\">\n",
       "      <th></th>\n",
       "      <th></th>\n",
       "      <th>civ_death</th>\n",
       "      <th>civ_cases</th>\n",
       "      <th>civ_hosp</th>\n",
       "      <th>civ_tests</th>\n",
       "    </tr>\n",
       "    <tr>\n",
       "      <th>state</th>\n",
       "      <th>month</th>\n",
       "      <th></th>\n",
       "      <th></th>\n",
       "      <th></th>\n",
       "      <th></th>\n",
       "    </tr>\n",
       "  </thead>\n",
       "  <tbody>\n",
       "    <tr>\n",
       "      <th rowspan=\"11\" valign=\"top\">AK</th>\n",
       "      <th>1.0</th>\n",
       "      <td>56</td>\n",
       "      <td>7137</td>\n",
       "      <td>182</td>\n",
       "      <td>224575</td>\n",
       "    </tr>\n",
       "    <tr>\n",
       "      <th>3.0</th>\n",
       "      <td>3</td>\n",
       "      <td>128</td>\n",
       "      <td>12</td>\n",
       "      <td>3713</td>\n",
       "    </tr>\n",
       "    <tr>\n",
       "      <th>4.0</th>\n",
       "      <td>6</td>\n",
       "      <td>227</td>\n",
       "      <td>26</td>\n",
       "      <td>15406</td>\n",
       "    </tr>\n",
       "    <tr>\n",
       "      <th>5.0</th>\n",
       "      <td>1</td>\n",
       "      <td>108</td>\n",
       "      <td>12</td>\n",
       "      <td>32576</td>\n",
       "    </tr>\n",
       "    <tr>\n",
       "      <th>6.0</th>\n",
       "      <td>4</td>\n",
       "      <td>481</td>\n",
       "      <td>18</td>\n",
       "      <td>60490</td>\n",
       "    </tr>\n",
       "    <tr>\n",
       "      <th>7.0</th>\n",
       "      <td>9</td>\n",
       "      <td>2049</td>\n",
       "      <td>83</td>\n",
       "      <td>120921</td>\n",
       "    </tr>\n",
       "    <tr>\n",
       "      <th>8.0</th>\n",
       "      <td>14</td>\n",
       "      <td>2293</td>\n",
       "      <td>90</td>\n",
       "      <td>115524</td>\n",
       "    </tr>\n",
       "    <tr>\n",
       "      <th>9.0</th>\n",
       "      <td>19</td>\n",
       "      <td>2603</td>\n",
       "      <td>74</td>\n",
       "      <td>108577</td>\n",
       "    </tr>\n",
       "    <tr>\n",
       "      <th>10.0</th>\n",
       "      <td>26</td>\n",
       "      <td>7423</td>\n",
       "      <td>140</td>\n",
       "      <td>147000</td>\n",
       "    </tr>\n",
       "    <tr>\n",
       "      <th>11.0</th>\n",
       "      <td>39</td>\n",
       "      <td>16011</td>\n",
       "      <td>270</td>\n",
       "      <td>407189</td>\n",
       "    </tr>\n",
       "    <tr>\n",
       "      <th>12.0</th>\n",
       "      <td>85</td>\n",
       "      <td>14138</td>\n",
       "      <td>298</td>\n",
       "      <td>264354</td>\n",
       "    </tr>\n",
       "    <tr>\n",
       "      <th rowspan=\"9\" valign=\"top\">AL</th>\n",
       "      <th>1.0</th>\n",
       "      <td>2861</td>\n",
       "      <td>98413</td>\n",
       "      <td>7675</td>\n",
       "      <td>0</td>\n",
       "    </tr>\n",
       "    <tr>\n",
       "      <th>3.0</th>\n",
       "      <td>13</td>\n",
       "      <td>981</td>\n",
       "      <td>0</td>\n",
       "      <td>0</td>\n",
       "    </tr>\n",
       "    <tr>\n",
       "      <th>4.0</th>\n",
       "      <td>256</td>\n",
       "      <td>6038</td>\n",
       "      <td>978</td>\n",
       "      <td>0</td>\n",
       "    </tr>\n",
       "    <tr>\n",
       "      <th>5.0</th>\n",
       "      <td>362</td>\n",
       "      <td>10884</td>\n",
       "      <td>866</td>\n",
       "      <td>0</td>\n",
       "    </tr>\n",
       "    <tr>\n",
       "      <th>6.0</th>\n",
       "      <td>319</td>\n",
       "      <td>20142</td>\n",
       "      <td>925</td>\n",
       "      <td>0</td>\n",
       "    </tr>\n",
       "    <tr>\n",
       "      <th>7.0</th>\n",
       "      <td>630</td>\n",
       "      <td>49678</td>\n",
       "      <td>7752</td>\n",
       "      <td>0</td>\n",
       "    </tr>\n",
       "    <tr>\n",
       "      <th>8.0</th>\n",
       "      <td>602</td>\n",
       "      <td>38335</td>\n",
       "      <td>3746</td>\n",
       "      <td>0</td>\n",
       "    </tr>\n",
       "    <tr>\n",
       "      <th>9.0</th>\n",
       "      <td>358</td>\n",
       "      <td>28643</td>\n",
       "      <td>2990</td>\n",
       "      <td>0</td>\n",
       "    </tr>\n",
       "    <tr>\n",
       "      <th>10.0</th>\n",
       "      <td>427</td>\n",
       "      <td>37584</td>\n",
       "      <td>3193</td>\n",
       "      <td>0</td>\n",
       "    </tr>\n",
       "  </tbody>\n",
       "</table>\n",
       "</div>"
      ],
      "text/plain": [
       "             civ_death  civ_cases  civ_hosp  civ_tests\n",
       "state month                                           \n",
       "AK    1.0           56       7137       182     224575\n",
       "      3.0            3        128        12       3713\n",
       "      4.0            6        227        26      15406\n",
       "      5.0            1        108        12      32576\n",
       "      6.0            4        481        18      60490\n",
       "      7.0            9       2049        83     120921\n",
       "      8.0           14       2293        90     115524\n",
       "      9.0           19       2603        74     108577\n",
       "      10.0          26       7423       140     147000\n",
       "      11.0          39      16011       270     407189\n",
       "      12.0          85      14138       298     264354\n",
       "AL    1.0         2861      98413      7675          0\n",
       "      3.0           13        981         0          0\n",
       "      4.0          256       6038       978          0\n",
       "      5.0          362      10884       866          0\n",
       "      6.0          319      20142       925          0\n",
       "      7.0          630      49678      7752          0\n",
       "      8.0          602      38335      3746          0\n",
       "      9.0          358      28643      2990          0\n",
       "      10.0         427      37584      3193          0"
      ]
     },
     "execution_count": 13,
     "metadata": {},
     "output_type": "execute_result"
    }
   ],
   "source": [
    "month_civ_cases.head(20)"
   ]
  },
  {
   "cell_type": "markdown",
   "id": "combined-duration",
   "metadata": {},
   "source": [
    "Verified that the dataframe resulted correctly from the operation we proceed exporting this as `.csv`."
   ]
  },
  {
   "cell_type": "markdown",
   "id": "running-nickel",
   "metadata": {},
   "source": [
    "### Export Clean Data"
   ]
  },
  {
   "cell_type": "code",
   "execution_count": 14,
   "id": "saved-property",
   "metadata": {
    "ExecuteTime": {
     "end_time": "2021-02-18T18:50:09.579957Z",
     "start_time": "2021-02-18T18:50:09.572409Z"
    }
   },
   "outputs": [],
   "source": [
    "month_civ_cases.to_csv('./data/month_civ_covid_clean.csv', index =False)"
   ]
  },
  {
   "cell_type": "markdown",
   "id": "effective-intention",
   "metadata": {},
   "source": [
    "## Prison Features\n",
    "\n",
    "From the Bureau of Justistice Statistics we collect data from two different reports:\n",
    "- Prisoners in 2019    NCJ 255115\n",
    "- Census of State and Federal Correctional Facilities, 2005\n",
    "\n",
    "From each we pulled data aggregated at State level, that were not redundant and consistently available throught all the States.\n",
    "\n",
    "The result of this analysis was collected in the `features.csv` file that we proceed analyzing further within."
   ]
  },
  {
   "cell_type": "code",
   "execution_count": 15,
   "id": "sensitive-middle",
   "metadata": {
    "ExecuteTime": {
     "end_time": "2021-02-18T18:50:09.588999Z",
     "start_time": "2021-02-18T18:50:09.582234Z"
    }
   },
   "outputs": [],
   "source": [
    "features = pd.read_csv('./data/features.csv')"
   ]
  },
  {
   "cell_type": "code",
   "execution_count": 16,
   "id": "synthetic-spotlight",
   "metadata": {
    "ExecuteTime": {
     "end_time": "2021-02-18T18:50:09.621170Z",
     "start_time": "2021-02-18T18:50:09.590711Z"
    }
   },
   "outputs": [
    {
     "data": {
      "text/html": [
       "<div>\n",
       "<style scoped>\n",
       "    .dataframe tbody tr th:only-of-type {\n",
       "        vertical-align: middle;\n",
       "    }\n",
       "\n",
       "    .dataframe tbody tr th {\n",
       "        vertical-align: top;\n",
       "    }\n",
       "\n",
       "    .dataframe thead th {\n",
       "        text-align: right;\n",
       "    }\n",
       "</style>\n",
       "<table border=\"1\" class=\"dataframe\">\n",
       "  <thead>\n",
       "    <tr style=\"text-align: right;\">\n",
       "      <th></th>\n",
       "      <th>Region</th>\n",
       "      <th>Design capacity 2000/a</th>\n",
       "      <th>Design capacity 2005/a</th>\n",
       "      <th>Percent of design capacity occupied 2000</th>\n",
       "      <th>Percent of design capacity occupied 2005</th>\n",
       "      <th>Rated capacity 2000</th>\n",
       "      <th>Rated capacity 2005</th>\n",
       "      <th>Percent of rated capacity occupied 2000</th>\n",
       "      <th>Percent of rated capacity occupied 2005</th>\n",
       "      <th>Total_18</th>\n",
       "      <th>...</th>\n",
       "      <th>Inmates participating in one or more work programs</th>\n",
       "      <th>Prison industries</th>\n",
       "      <th>Support services</th>\n",
       "      <th>Farming</th>\n",
       "      <th>Public works</th>\n",
       "      <th>Other work programs</th>\n",
       "      <th>No work programs</th>\n",
       "      <th>phone_rate_avg</th>\n",
       "      <th>Latitude</th>\n",
       "      <th>Longitude</th>\n",
       "    </tr>\n",
       "  </thead>\n",
       "  <tbody>\n",
       "    <tr>\n",
       "      <th>0</th>\n",
       "      <td>Alabama</td>\n",
       "      <td>17693.0</td>\n",
       "      <td>12918.0</td>\n",
       "      <td>127.0</td>\n",
       "      <td>179.0</td>\n",
       "      <td>22158.0</td>\n",
       "      <td>22158.0</td>\n",
       "      <td>101.0</td>\n",
       "      <td>0.0</td>\n",
       "      <td>26841.0</td>\n",
       "      <td>...</td>\n",
       "      <td>28.0</td>\n",
       "      <td>7.0</td>\n",
       "      <td>10.0</td>\n",
       "      <td>6.0</td>\n",
       "      <td>9.0</td>\n",
       "      <td>5.0</td>\n",
       "      <td>7.0</td>\n",
       "      <td>4.50</td>\n",
       "      <td>32.75</td>\n",
       "      <td>-86.75</td>\n",
       "    </tr>\n",
       "    <tr>\n",
       "      <th>1</th>\n",
       "      <td>Alaska</td>\n",
       "      <td>3490.0</td>\n",
       "      <td>3101.0</td>\n",
       "      <td>93.0</td>\n",
       "      <td>134.0</td>\n",
       "      <td>3622.0</td>\n",
       "      <td>4129.0</td>\n",
       "      <td>90.0</td>\n",
       "      <td>100.0</td>\n",
       "      <td>4380.0</td>\n",
       "      <td>...</td>\n",
       "      <td>1334.0</td>\n",
       "      <td>3.0</td>\n",
       "      <td>17.0</td>\n",
       "      <td>4.0</td>\n",
       "      <td>9.0</td>\n",
       "      <td>3.0</td>\n",
       "      <td>1.0</td>\n",
       "      <td>3.75</td>\n",
       "      <td>64.00</td>\n",
       "      <td>-150.00</td>\n",
       "    </tr>\n",
       "    <tr>\n",
       "      <th>2</th>\n",
       "      <td>Arizona</td>\n",
       "      <td>30426.0</td>\n",
       "      <td>30591.0</td>\n",
       "      <td>101.0</td>\n",
       "      <td>107.0</td>\n",
       "      <td>29482.0</td>\n",
       "      <td>34013.0</td>\n",
       "      <td>105.0</td>\n",
       "      <td>97.0</td>\n",
       "      <td>42005.0</td>\n",
       "      <td>...</td>\n",
       "      <td>20194.0</td>\n",
       "      <td>10.0</td>\n",
       "      <td>15.0</td>\n",
       "      <td>5.0</td>\n",
       "      <td>12.0</td>\n",
       "      <td>4.0</td>\n",
       "      <td>2.0</td>\n",
       "      <td>4.80</td>\n",
       "      <td>34.50</td>\n",
       "      <td>-111.50</td>\n",
       "    </tr>\n",
       "    <tr>\n",
       "      <th>3</th>\n",
       "      <td>Arkansas</td>\n",
       "      <td>10026.0</td>\n",
       "      <td>13913.0</td>\n",
       "      <td>104.0</td>\n",
       "      <td>100.0</td>\n",
       "      <td>10026.0</td>\n",
       "      <td>14673.0</td>\n",
       "      <td>104.0</td>\n",
       "      <td>95.0</td>\n",
       "      <td>17799.0</td>\n",
       "      <td>...</td>\n",
       "      <td>10739.0</td>\n",
       "      <td>0.0</td>\n",
       "      <td>24.0</td>\n",
       "      <td>2.0</td>\n",
       "      <td>7.0</td>\n",
       "      <td>2.0</td>\n",
       "      <td>1.0</td>\n",
       "      <td>4.80</td>\n",
       "      <td>34.75</td>\n",
       "      <td>-92.50</td>\n",
       "    </tr>\n",
       "    <tr>\n",
       "      <th>4</th>\n",
       "      <td>California</td>\n",
       "      <td>97740.0</td>\n",
       "      <td>95562.0</td>\n",
       "      <td>167.0</td>\n",
       "      <td>178.0</td>\n",
       "      <td>167367.0</td>\n",
       "      <td>120625.0</td>\n",
       "      <td>98.0</td>\n",
       "      <td>141.0</td>\n",
       "      <td>128625.0</td>\n",
       "      <td>...</td>\n",
       "      <td>77199.0</td>\n",
       "      <td>28.0</td>\n",
       "      <td>44.0</td>\n",
       "      <td>7.0</td>\n",
       "      <td>34.0</td>\n",
       "      <td>29.0</td>\n",
       "      <td>15.0</td>\n",
       "      <td>2.03</td>\n",
       "      <td>37.25</td>\n",
       "      <td>-119.75</td>\n",
       "    </tr>\n",
       "  </tbody>\n",
       "</table>\n",
       "<p>5 rows × 27 columns</p>\n",
       "</div>"
      ],
      "text/plain": [
       "       Region  Design capacity 2000/a  Design capacity 2005/a  \\\n",
       "0     Alabama                 17693.0                 12918.0   \n",
       "1      Alaska                  3490.0                  3101.0   \n",
       "2     Arizona                 30426.0                 30591.0   \n",
       "3    Arkansas                 10026.0                 13913.0   \n",
       "4  California                 97740.0                 95562.0   \n",
       "\n",
       "   Percent of design capacity occupied 2000  \\\n",
       "0                                     127.0   \n",
       "1                                      93.0   \n",
       "2                                     101.0   \n",
       "3                                     104.0   \n",
       "4                                     167.0   \n",
       "\n",
       "   Percent of design capacity occupied 2005  Rated capacity 2000  \\\n",
       "0                                     179.0              22158.0   \n",
       "1                                     134.0               3622.0   \n",
       "2                                     107.0              29482.0   \n",
       "3                                     100.0              10026.0   \n",
       "4                                     178.0             167367.0   \n",
       "\n",
       "   Rated capacity 2005  Percent of rated capacity occupied 2000  \\\n",
       "0              22158.0                                    101.0   \n",
       "1               4129.0                                     90.0   \n",
       "2              34013.0                                    105.0   \n",
       "3              14673.0                                    104.0   \n",
       "4             120625.0                                     98.0   \n",
       "\n",
       "   Percent of rated capacity occupied 2005  Total_18  ...  \\\n",
       "0                                      0.0   26841.0  ...   \n",
       "1                                    100.0    4380.0  ...   \n",
       "2                                     97.0   42005.0  ...   \n",
       "3                                     95.0   17799.0  ...   \n",
       "4                                    141.0  128625.0  ...   \n",
       "\n",
       "   Inmates participating in one or more work programs  Prison industries  \\\n",
       "0                                               28.0                 7.0   \n",
       "1                                             1334.0                 3.0   \n",
       "2                                            20194.0                10.0   \n",
       "3                                            10739.0                 0.0   \n",
       "4                                            77199.0                28.0   \n",
       "\n",
       "   Support services  Farming   Public works  Other work programs   \\\n",
       "0              10.0       6.0           9.0                   5.0   \n",
       "1              17.0       4.0           9.0                   3.0   \n",
       "2              15.0       5.0          12.0                   4.0   \n",
       "3              24.0       2.0           7.0                   2.0   \n",
       "4              44.0       7.0          34.0                  29.0   \n",
       "\n",
       "   No work programs  phone_rate_avg  Latitude  Longitude  \n",
       "0               7.0            4.50     32.75     -86.75  \n",
       "1               1.0            3.75     64.00    -150.00  \n",
       "2               2.0            4.80     34.50    -111.50  \n",
       "3               1.0            4.80     34.75     -92.50  \n",
       "4              15.0            2.03     37.25    -119.75  \n",
       "\n",
       "[5 rows x 27 columns]"
      ]
     },
     "execution_count": 16,
     "metadata": {},
     "output_type": "execute_result"
    }
   ],
   "source": [
    "features.head()"
   ]
  },
  {
   "cell_type": "code",
   "execution_count": 17,
   "id": "breathing-blame",
   "metadata": {
    "ExecuteTime": {
     "end_time": "2021-02-18T18:50:09.648103Z",
     "start_time": "2021-02-18T18:50:09.624705Z"
    },
    "scrolled": true
   },
   "outputs": [
    {
     "name": "stdout",
     "output_type": "stream",
     "text": [
      "<class 'pandas.core.frame.DataFrame'>\n",
      "RangeIndex: 50 entries, 0 to 49\n",
      "Data columns (total 27 columns):\n",
      " #   Column                                              Non-Null Count  Dtype  \n",
      "---  ------                                              --------------  -----  \n",
      " 0   Region                                              50 non-null     object \n",
      " 1   Design capacity 2000/a                              50 non-null     float64\n",
      " 2   Design capacity 2005/a                              50 non-null     float64\n",
      " 3   Percent of design capacity occupied 2000            50 non-null     float64\n",
      " 4   Percent of design capacity occupied 2005            50 non-null     float64\n",
      " 5   Rated capacity 2000                                 50 non-null     float64\n",
      " 6   Rated capacity 2005                                 50 non-null     float64\n",
      " 7   Percent of rated capacity occupied 2000             50 non-null     float64\n",
      " 8   Percent of rated capacity occupied 2005             50 non-null     float64\n",
      " 9   Total_18                                            50 non-null     float64\n",
      " 10  Male_18                                             50 non-null     float64\n",
      " 11  Female_18                                           50 non-null     float64\n",
      " 12  Total_19                                            50 non-null     float64\n",
      " 13  Male_19                                             50 non-null     float64\n",
      " 14  Female_19                                           50 non-null     float64\n",
      " 15  Total number of facilities                          50 non-null     float64\n",
      " 16  Facilities operating one or more work programs      50 non-null     float64\n",
      " 17  Inmates participating in one or more work programs  50 non-null     float64\n",
      " 18  Prison industries                                   50 non-null     float64\n",
      " 19  Support services                                    50 non-null     float64\n",
      " 20  Farming                                             50 non-null     float64\n",
      " 21  Public works                                        50 non-null     float64\n",
      " 22  Other work programs                                 50 non-null     float64\n",
      " 23  No work programs                                    50 non-null     float64\n",
      " 24  phone_rate_avg                                      50 non-null     float64\n",
      " 25  Latitude                                            50 non-null     float64\n",
      " 26  Longitude                                           50 non-null     float64\n",
      "dtypes: float64(26), object(1)\n",
      "memory usage: 10.7+ KB\n"
     ]
    }
   ],
   "source": [
    "features.info()"
   ]
  },
  {
   "cell_type": "code",
   "execution_count": 18,
   "id": "whole-vampire",
   "metadata": {
    "ExecuteTime": {
     "end_time": "2021-02-18T18:50:09.656775Z",
     "start_time": "2021-02-18T18:50:09.652043Z"
    }
   },
   "outputs": [],
   "source": [
    "features.rename(columns={'Region':'name'}, inplace=True)\n",
    "#to simplify the merge later"
   ]
  },
  {
   "cell_type": "markdown",
   "id": "bridal-rescue",
   "metadata": {},
   "source": [
    "We proceed changing the name of `Region` column to `name` to simpllify merge with datasets later."
   ]
  },
  {
   "cell_type": "markdown",
   "id": "earned-government",
   "metadata": {},
   "source": [
    "### Export Cleaned Dataset"
   ]
  },
  {
   "cell_type": "code",
   "execution_count": 20,
   "id": "accomplished-freight",
   "metadata": {
    "ExecuteTime": {
     "end_time": "2021-02-18T18:50:09.683767Z",
     "start_time": "2021-02-18T18:50:09.676073Z"
    }
   },
   "outputs": [],
   "source": [
    "features.to_csv('./data/features_clean.csv', index= False)"
   ]
  },
  {
   "cell_type": "markdown",
   "id": "innocent-venture",
   "metadata": {},
   "source": [
    "## Merge Datasets\n",
    "\n",
    "We then want to merge all datasets cleaned so far into one unique dataframe.\n",
    "\n",
    "To do so we read the dataframes."
   ]
  },
  {
   "cell_type": "code",
   "execution_count": 21,
   "id": "appointed-arizona",
   "metadata": {
    "ExecuteTime": {
     "end_time": "2021-02-18T18:50:09.697389Z",
     "start_time": "2021-02-18T18:50:09.687155Z"
    }
   },
   "outputs": [],
   "source": [
    "df = pd.read_csv('./data/month_prison_covid_clean.csv')"
   ]
  },
  {
   "cell_type": "code",
   "execution_count": 22,
   "id": "improving-accident",
   "metadata": {
    "ExecuteTime": {
     "end_time": "2021-02-18T18:50:09.708828Z",
     "start_time": "2021-02-18T18:50:09.700688Z"
    }
   },
   "outputs": [],
   "source": [
    "civ = pd.read_csv('./data/month_civ_covid_clean.csv')"
   ]
  },
  {
   "cell_type": "code",
   "execution_count": 23,
   "id": "radio-trash",
   "metadata": {
    "ExecuteTime": {
     "end_time": "2021-02-18T18:50:09.721718Z",
     "start_time": "2021-02-18T18:50:09.712788Z"
    }
   },
   "outputs": [],
   "source": [
    "feat = pd.read_csv('./data/features_clean.csv')"
   ]
  },
  {
   "cell_type": "code",
   "execution_count": 24,
   "id": "seven-nevada",
   "metadata": {
    "ExecuteTime": {
     "end_time": "2021-02-18T18:50:09.735540Z",
     "start_time": "2021-02-18T18:50:09.729890Z"
    }
   },
   "outputs": [
    {
     "name": "stdout",
     "output_type": "stream",
     "text": [
      "(510, 14)\n",
      "(623, 6)\n",
      "(50, 27)\n"
     ]
    },
    {
     "data": {
      "text/plain": [
       "(None, None, None)"
      ]
     },
     "execution_count": 24,
     "metadata": {},
     "output_type": "execute_result"
    }
   ],
   "source": [
    "print(df.shape), print(civ.shape), print(feat.shape)"
   ]
  },
  {
   "cell_type": "markdown",
   "id": "engaging-aerospace",
   "metadata": {},
   "source": [
    "It has to be noted that all Facilities Features are not recurrent on a monthly bases as the COVID data.\n",
    "\n",
    "Also Civilian data have also ecords for US Territories."
   ]
  },
  {
   "cell_type": "code",
   "execution_count": 25,
   "id": "approximate-presentation",
   "metadata": {
    "ExecuteTime": {
     "end_time": "2021-02-18T18:50:09.742774Z",
     "start_time": "2021-02-18T18:50:09.739096Z"
    }
   },
   "outputs": [
    {
     "data": {
      "text/plain": [
       "44"
      ]
     },
     "execution_count": 25,
     "metadata": {},
     "output_type": "execute_result"
    }
   ],
   "source": [
    "#sum of columns - the ones we will merge on\n",
    "(14+6+27)-3"
   ]
  },
  {
   "cell_type": "markdown",
   "id": "compatible-india",
   "metadata": {},
   "source": [
    "### Covid Civilian Cases\n",
    "\n",
    "We begin by merging all covid dataframes."
   ]
  },
  {
   "cell_type": "code",
   "execution_count": 26,
   "id": "satisfactory-involvement",
   "metadata": {
    "ExecuteTime": {
     "end_time": "2021-02-18T18:50:09.768134Z",
     "start_time": "2021-02-18T18:50:09.745681Z"
    }
   },
   "outputs": [
    {
     "data": {
      "text/html": [
       "<div>\n",
       "<style scoped>\n",
       "    .dataframe tbody tr th:only-of-type {\n",
       "        vertical-align: middle;\n",
       "    }\n",
       "\n",
       "    .dataframe tbody tr th {\n",
       "        vertical-align: top;\n",
       "    }\n",
       "\n",
       "    .dataframe thead th {\n",
       "        text-align: right;\n",
       "    }\n",
       "</style>\n",
       "<table border=\"1\" class=\"dataframe\">\n",
       "  <thead>\n",
       "    <tr style=\"text-align: right;\">\n",
       "      <th></th>\n",
       "      <th>name</th>\n",
       "      <th>state</th>\n",
       "      <th>staff_tests</th>\n",
       "      <th>total_staff_cases</th>\n",
       "      <th>staff_recovered</th>\n",
       "      <th>total_staff_deaths</th>\n",
       "      <th>prisoner_tests</th>\n",
       "      <th>total_prisoner_cases</th>\n",
       "      <th>prisoners_recovered</th>\n",
       "      <th>total_prisoner_deaths</th>\n",
       "      <th>as_of_date</th>\n",
       "      <th>year</th>\n",
       "      <th>month</th>\n",
       "      <th>region</th>\n",
       "    </tr>\n",
       "  </thead>\n",
       "  <tbody>\n",
       "    <tr>\n",
       "      <th>0</th>\n",
       "      <td>Alabama</td>\n",
       "      <td>AL</td>\n",
       "      <td>0.0</td>\n",
       "      <td>11.0</td>\n",
       "      <td>0.0</td>\n",
       "      <td>0.0</td>\n",
       "      <td>61.0</td>\n",
       "      <td>4.0</td>\n",
       "      <td>0.0</td>\n",
       "      <td>1.0</td>\n",
       "      <td>2020-04-28</td>\n",
       "      <td>2020.0</td>\n",
       "      <td>4.0</td>\n",
       "      <td>South</td>\n",
       "    </tr>\n",
       "    <tr>\n",
       "      <th>1</th>\n",
       "      <td>Alabama</td>\n",
       "      <td>AL</td>\n",
       "      <td>0.0</td>\n",
       "      <td>42.0</td>\n",
       "      <td>0.0</td>\n",
       "      <td>0.0</td>\n",
       "      <td>74.0</td>\n",
       "      <td>7.0</td>\n",
       "      <td>0.0</td>\n",
       "      <td>0.0</td>\n",
       "      <td>2020-05-26</td>\n",
       "      <td>2020.0</td>\n",
       "      <td>5.0</td>\n",
       "      <td>South</td>\n",
       "    </tr>\n",
       "    <tr>\n",
       "      <th>2</th>\n",
       "      <td>Alabama</td>\n",
       "      <td>AL</td>\n",
       "      <td>0.0</td>\n",
       "      <td>111.0</td>\n",
       "      <td>74.0</td>\n",
       "      <td>1.0</td>\n",
       "      <td>177.0</td>\n",
       "      <td>57.0</td>\n",
       "      <td>10.0</td>\n",
       "      <td>6.0</td>\n",
       "      <td>2020-06-30</td>\n",
       "      <td>2020.0</td>\n",
       "      <td>6.0</td>\n",
       "      <td>South</td>\n",
       "    </tr>\n",
       "    <tr>\n",
       "      <th>3</th>\n",
       "      <td>Alabama</td>\n",
       "      <td>AL</td>\n",
       "      <td>0.0</td>\n",
       "      <td>125.0</td>\n",
       "      <td>82.0</td>\n",
       "      <td>1.0</td>\n",
       "      <td>407.0</td>\n",
       "      <td>131.0</td>\n",
       "      <td>96.0</td>\n",
       "      <td>8.0</td>\n",
       "      <td>2020-07-28</td>\n",
       "      <td>2020.0</td>\n",
       "      <td>7.0</td>\n",
       "      <td>South</td>\n",
       "    </tr>\n",
       "    <tr>\n",
       "      <th>4</th>\n",
       "      <td>Alabama</td>\n",
       "      <td>AL</td>\n",
       "      <td>0.0</td>\n",
       "      <td>62.0</td>\n",
       "      <td>110.0</td>\n",
       "      <td>0.0</td>\n",
       "      <td>990.0</td>\n",
       "      <td>137.0</td>\n",
       "      <td>190.0</td>\n",
       "      <td>4.0</td>\n",
       "      <td>2020-08-25</td>\n",
       "      <td>2020.0</td>\n",
       "      <td>8.0</td>\n",
       "      <td>South</td>\n",
       "    </tr>\n",
       "  </tbody>\n",
       "</table>\n",
       "</div>"
      ],
      "text/plain": [
       "      name state  staff_tests  total_staff_cases  staff_recovered  \\\n",
       "0  Alabama    AL          0.0               11.0              0.0   \n",
       "1  Alabama    AL          0.0               42.0              0.0   \n",
       "2  Alabama    AL          0.0              111.0             74.0   \n",
       "3  Alabama    AL          0.0              125.0             82.0   \n",
       "4  Alabama    AL          0.0               62.0            110.0   \n",
       "\n",
       "   total_staff_deaths  prisoner_tests  total_prisoner_cases  \\\n",
       "0                 0.0            61.0                   4.0   \n",
       "1                 0.0            74.0                   7.0   \n",
       "2                 1.0           177.0                  57.0   \n",
       "3                 1.0           407.0                 131.0   \n",
       "4                 0.0           990.0                 137.0   \n",
       "\n",
       "   prisoners_recovered  total_prisoner_deaths  as_of_date    year  month  \\\n",
       "0                  0.0                    1.0  2020-04-28  2020.0    4.0   \n",
       "1                  0.0                    0.0  2020-05-26  2020.0    5.0   \n",
       "2                 10.0                    6.0  2020-06-30  2020.0    6.0   \n",
       "3                 96.0                    8.0  2020-07-28  2020.0    7.0   \n",
       "4                190.0                    4.0  2020-08-25  2020.0    8.0   \n",
       "\n",
       "  region  \n",
       "0  South  \n",
       "1  South  \n",
       "2  South  \n",
       "3  South  \n",
       "4  South  "
      ]
     },
     "execution_count": 26,
     "metadata": {},
     "output_type": "execute_result"
    }
   ],
   "source": [
    "df.head()"
   ]
  },
  {
   "cell_type": "markdown",
   "id": "composed-savage",
   "metadata": {},
   "source": [
    "We do a merge of both dataframes on both `state` and `month`"
   ]
  },
  {
   "cell_type": "code",
   "execution_count": 27,
   "id": "cross-bookmark",
   "metadata": {
    "ExecuteTime": {
     "end_time": "2021-02-18T18:50:09.782405Z",
     "start_time": "2021-02-18T18:50:09.771076Z"
    }
   },
   "outputs": [],
   "source": [
    "df_covid = df.merge(civ, how='left', on=['state', 'month'])"
   ]
  },
  {
   "cell_type": "code",
   "execution_count": 28,
   "id": "young-vatican",
   "metadata": {
    "ExecuteTime": {
     "end_time": "2021-02-18T18:50:09.806168Z",
     "start_time": "2021-02-18T18:50:09.785139Z"
    }
   },
   "outputs": [
    {
     "data": {
      "text/html": [
       "<div>\n",
       "<style scoped>\n",
       "    .dataframe tbody tr th:only-of-type {\n",
       "        vertical-align: middle;\n",
       "    }\n",
       "\n",
       "    .dataframe tbody tr th {\n",
       "        vertical-align: top;\n",
       "    }\n",
       "\n",
       "    .dataframe thead th {\n",
       "        text-align: right;\n",
       "    }\n",
       "</style>\n",
       "<table border=\"1\" class=\"dataframe\">\n",
       "  <thead>\n",
       "    <tr style=\"text-align: right;\">\n",
       "      <th></th>\n",
       "      <th>name</th>\n",
       "      <th>state</th>\n",
       "      <th>staff_tests</th>\n",
       "      <th>total_staff_cases</th>\n",
       "      <th>staff_recovered</th>\n",
       "      <th>total_staff_deaths</th>\n",
       "      <th>prisoner_tests</th>\n",
       "      <th>total_prisoner_cases</th>\n",
       "      <th>prisoners_recovered</th>\n",
       "      <th>total_prisoner_deaths</th>\n",
       "      <th>as_of_date</th>\n",
       "      <th>year</th>\n",
       "      <th>month</th>\n",
       "      <th>region</th>\n",
       "      <th>civ_death</th>\n",
       "      <th>civ_cases</th>\n",
       "      <th>civ_hosp</th>\n",
       "      <th>civ_tests</th>\n",
       "    </tr>\n",
       "  </thead>\n",
       "  <tbody>\n",
       "    <tr>\n",
       "      <th>0</th>\n",
       "      <td>Alabama</td>\n",
       "      <td>AL</td>\n",
       "      <td>0.0</td>\n",
       "      <td>11.0</td>\n",
       "      <td>0.0</td>\n",
       "      <td>0.0</td>\n",
       "      <td>61.0</td>\n",
       "      <td>4.0</td>\n",
       "      <td>0.0</td>\n",
       "      <td>1.0</td>\n",
       "      <td>2020-04-28</td>\n",
       "      <td>2020.0</td>\n",
       "      <td>4.0</td>\n",
       "      <td>South</td>\n",
       "      <td>256</td>\n",
       "      <td>6038</td>\n",
       "      <td>978</td>\n",
       "      <td>0</td>\n",
       "    </tr>\n",
       "    <tr>\n",
       "      <th>1</th>\n",
       "      <td>Alabama</td>\n",
       "      <td>AL</td>\n",
       "      <td>0.0</td>\n",
       "      <td>42.0</td>\n",
       "      <td>0.0</td>\n",
       "      <td>0.0</td>\n",
       "      <td>74.0</td>\n",
       "      <td>7.0</td>\n",
       "      <td>0.0</td>\n",
       "      <td>0.0</td>\n",
       "      <td>2020-05-26</td>\n",
       "      <td>2020.0</td>\n",
       "      <td>5.0</td>\n",
       "      <td>South</td>\n",
       "      <td>362</td>\n",
       "      <td>10884</td>\n",
       "      <td>866</td>\n",
       "      <td>0</td>\n",
       "    </tr>\n",
       "    <tr>\n",
       "      <th>2</th>\n",
       "      <td>Alabama</td>\n",
       "      <td>AL</td>\n",
       "      <td>0.0</td>\n",
       "      <td>111.0</td>\n",
       "      <td>74.0</td>\n",
       "      <td>1.0</td>\n",
       "      <td>177.0</td>\n",
       "      <td>57.0</td>\n",
       "      <td>10.0</td>\n",
       "      <td>6.0</td>\n",
       "      <td>2020-06-30</td>\n",
       "      <td>2020.0</td>\n",
       "      <td>6.0</td>\n",
       "      <td>South</td>\n",
       "      <td>319</td>\n",
       "      <td>20142</td>\n",
       "      <td>925</td>\n",
       "      <td>0</td>\n",
       "    </tr>\n",
       "    <tr>\n",
       "      <th>3</th>\n",
       "      <td>Alabama</td>\n",
       "      <td>AL</td>\n",
       "      <td>0.0</td>\n",
       "      <td>125.0</td>\n",
       "      <td>82.0</td>\n",
       "      <td>1.0</td>\n",
       "      <td>407.0</td>\n",
       "      <td>131.0</td>\n",
       "      <td>96.0</td>\n",
       "      <td>8.0</td>\n",
       "      <td>2020-07-28</td>\n",
       "      <td>2020.0</td>\n",
       "      <td>7.0</td>\n",
       "      <td>South</td>\n",
       "      <td>630</td>\n",
       "      <td>49678</td>\n",
       "      <td>7752</td>\n",
       "      <td>0</td>\n",
       "    </tr>\n",
       "    <tr>\n",
       "      <th>4</th>\n",
       "      <td>Alabama</td>\n",
       "      <td>AL</td>\n",
       "      <td>0.0</td>\n",
       "      <td>62.0</td>\n",
       "      <td>110.0</td>\n",
       "      <td>0.0</td>\n",
       "      <td>990.0</td>\n",
       "      <td>137.0</td>\n",
       "      <td>190.0</td>\n",
       "      <td>4.0</td>\n",
       "      <td>2020-08-25</td>\n",
       "      <td>2020.0</td>\n",
       "      <td>8.0</td>\n",
       "      <td>South</td>\n",
       "      <td>602</td>\n",
       "      <td>38335</td>\n",
       "      <td>3746</td>\n",
       "      <td>0</td>\n",
       "    </tr>\n",
       "  </tbody>\n",
       "</table>\n",
       "</div>"
      ],
      "text/plain": [
       "      name state  staff_tests  total_staff_cases  staff_recovered  \\\n",
       "0  Alabama    AL          0.0               11.0              0.0   \n",
       "1  Alabama    AL          0.0               42.0              0.0   \n",
       "2  Alabama    AL          0.0              111.0             74.0   \n",
       "3  Alabama    AL          0.0              125.0             82.0   \n",
       "4  Alabama    AL          0.0               62.0            110.0   \n",
       "\n",
       "   total_staff_deaths  prisoner_tests  total_prisoner_cases  \\\n",
       "0                 0.0            61.0                   4.0   \n",
       "1                 0.0            74.0                   7.0   \n",
       "2                 1.0           177.0                  57.0   \n",
       "3                 1.0           407.0                 131.0   \n",
       "4                 0.0           990.0                 137.0   \n",
       "\n",
       "   prisoners_recovered  total_prisoner_deaths  as_of_date    year  month  \\\n",
       "0                  0.0                    1.0  2020-04-28  2020.0    4.0   \n",
       "1                  0.0                    0.0  2020-05-26  2020.0    5.0   \n",
       "2                 10.0                    6.0  2020-06-30  2020.0    6.0   \n",
       "3                 96.0                    8.0  2020-07-28  2020.0    7.0   \n",
       "4                190.0                    4.0  2020-08-25  2020.0    8.0   \n",
       "\n",
       "  region  civ_death  civ_cases  civ_hosp  civ_tests  \n",
       "0  South        256       6038       978          0  \n",
       "1  South        362      10884       866          0  \n",
       "2  South        319      20142       925          0  \n",
       "3  South        630      49678      7752          0  \n",
       "4  South        602      38335      3746          0  "
      ]
     },
     "execution_count": 28,
     "metadata": {},
     "output_type": "execute_result"
    }
   ],
   "source": [
    "df_covid.head()"
   ]
  },
  {
   "cell_type": "markdown",
   "id": "unavailable-state",
   "metadata": {},
   "source": [
    "### Other Prison Features\n",
    "\n",
    "Finally, we merge the dataframe just created with the Facility Features'one, by merging on `name`."
   ]
  },
  {
   "cell_type": "code",
   "execution_count": 29,
   "id": "frozen-average",
   "metadata": {
    "ExecuteTime": {
     "end_time": "2021-02-18T18:50:09.817818Z",
     "start_time": "2021-02-18T18:50:09.808196Z"
    }
   },
   "outputs": [],
   "source": [
    "df_final = df_covid.merge(feat, how= 'left', on=['name'])"
   ]
  },
  {
   "cell_type": "code",
   "execution_count": 30,
   "id": "intermediate-valuation",
   "metadata": {
    "ExecuteTime": {
     "end_time": "2021-02-18T18:50:09.848620Z",
     "start_time": "2021-02-18T18:50:09.819910Z"
    },
    "scrolled": true
   },
   "outputs": [
    {
     "data": {
      "text/html": [
       "<div>\n",
       "<style scoped>\n",
       "    .dataframe tbody tr th:only-of-type {\n",
       "        vertical-align: middle;\n",
       "    }\n",
       "\n",
       "    .dataframe tbody tr th {\n",
       "        vertical-align: top;\n",
       "    }\n",
       "\n",
       "    .dataframe thead th {\n",
       "        text-align: right;\n",
       "    }\n",
       "</style>\n",
       "<table border=\"1\" class=\"dataframe\">\n",
       "  <thead>\n",
       "    <tr style=\"text-align: right;\">\n",
       "      <th></th>\n",
       "      <th>name</th>\n",
       "      <th>state</th>\n",
       "      <th>staff_tests</th>\n",
       "      <th>total_staff_cases</th>\n",
       "      <th>staff_recovered</th>\n",
       "      <th>total_staff_deaths</th>\n",
       "      <th>prisoner_tests</th>\n",
       "      <th>total_prisoner_cases</th>\n",
       "      <th>prisoners_recovered</th>\n",
       "      <th>total_prisoner_deaths</th>\n",
       "      <th>...</th>\n",
       "      <th>Inmates participating in one or more work programs</th>\n",
       "      <th>Prison industries</th>\n",
       "      <th>Support services</th>\n",
       "      <th>Farming</th>\n",
       "      <th>Public works</th>\n",
       "      <th>Other work programs</th>\n",
       "      <th>No work programs</th>\n",
       "      <th>phone_rate_avg</th>\n",
       "      <th>Latitude</th>\n",
       "      <th>Longitude</th>\n",
       "    </tr>\n",
       "  </thead>\n",
       "  <tbody>\n",
       "    <tr>\n",
       "      <th>0</th>\n",
       "      <td>Alabama</td>\n",
       "      <td>AL</td>\n",
       "      <td>0.0</td>\n",
       "      <td>11.0</td>\n",
       "      <td>0.0</td>\n",
       "      <td>0.0</td>\n",
       "      <td>61.0</td>\n",
       "      <td>4.0</td>\n",
       "      <td>0.0</td>\n",
       "      <td>1.0</td>\n",
       "      <td>...</td>\n",
       "      <td>28.0</td>\n",
       "      <td>7.0</td>\n",
       "      <td>10.0</td>\n",
       "      <td>6.0</td>\n",
       "      <td>9.0</td>\n",
       "      <td>5.0</td>\n",
       "      <td>7.0</td>\n",
       "      <td>4.5</td>\n",
       "      <td>32.75</td>\n",
       "      <td>-86.75</td>\n",
       "    </tr>\n",
       "    <tr>\n",
       "      <th>1</th>\n",
       "      <td>Alabama</td>\n",
       "      <td>AL</td>\n",
       "      <td>0.0</td>\n",
       "      <td>42.0</td>\n",
       "      <td>0.0</td>\n",
       "      <td>0.0</td>\n",
       "      <td>74.0</td>\n",
       "      <td>7.0</td>\n",
       "      <td>0.0</td>\n",
       "      <td>0.0</td>\n",
       "      <td>...</td>\n",
       "      <td>28.0</td>\n",
       "      <td>7.0</td>\n",
       "      <td>10.0</td>\n",
       "      <td>6.0</td>\n",
       "      <td>9.0</td>\n",
       "      <td>5.0</td>\n",
       "      <td>7.0</td>\n",
       "      <td>4.5</td>\n",
       "      <td>32.75</td>\n",
       "      <td>-86.75</td>\n",
       "    </tr>\n",
       "    <tr>\n",
       "      <th>2</th>\n",
       "      <td>Alabama</td>\n",
       "      <td>AL</td>\n",
       "      <td>0.0</td>\n",
       "      <td>111.0</td>\n",
       "      <td>74.0</td>\n",
       "      <td>1.0</td>\n",
       "      <td>177.0</td>\n",
       "      <td>57.0</td>\n",
       "      <td>10.0</td>\n",
       "      <td>6.0</td>\n",
       "      <td>...</td>\n",
       "      <td>28.0</td>\n",
       "      <td>7.0</td>\n",
       "      <td>10.0</td>\n",
       "      <td>6.0</td>\n",
       "      <td>9.0</td>\n",
       "      <td>5.0</td>\n",
       "      <td>7.0</td>\n",
       "      <td>4.5</td>\n",
       "      <td>32.75</td>\n",
       "      <td>-86.75</td>\n",
       "    </tr>\n",
       "    <tr>\n",
       "      <th>3</th>\n",
       "      <td>Alabama</td>\n",
       "      <td>AL</td>\n",
       "      <td>0.0</td>\n",
       "      <td>125.0</td>\n",
       "      <td>82.0</td>\n",
       "      <td>1.0</td>\n",
       "      <td>407.0</td>\n",
       "      <td>131.0</td>\n",
       "      <td>96.0</td>\n",
       "      <td>8.0</td>\n",
       "      <td>...</td>\n",
       "      <td>28.0</td>\n",
       "      <td>7.0</td>\n",
       "      <td>10.0</td>\n",
       "      <td>6.0</td>\n",
       "      <td>9.0</td>\n",
       "      <td>5.0</td>\n",
       "      <td>7.0</td>\n",
       "      <td>4.5</td>\n",
       "      <td>32.75</td>\n",
       "      <td>-86.75</td>\n",
       "    </tr>\n",
       "    <tr>\n",
       "      <th>4</th>\n",
       "      <td>Alabama</td>\n",
       "      <td>AL</td>\n",
       "      <td>0.0</td>\n",
       "      <td>62.0</td>\n",
       "      <td>110.0</td>\n",
       "      <td>0.0</td>\n",
       "      <td>990.0</td>\n",
       "      <td>137.0</td>\n",
       "      <td>190.0</td>\n",
       "      <td>4.0</td>\n",
       "      <td>...</td>\n",
       "      <td>28.0</td>\n",
       "      <td>7.0</td>\n",
       "      <td>10.0</td>\n",
       "      <td>6.0</td>\n",
       "      <td>9.0</td>\n",
       "      <td>5.0</td>\n",
       "      <td>7.0</td>\n",
       "      <td>4.5</td>\n",
       "      <td>32.75</td>\n",
       "      <td>-86.75</td>\n",
       "    </tr>\n",
       "  </tbody>\n",
       "</table>\n",
       "<p>5 rows × 44 columns</p>\n",
       "</div>"
      ],
      "text/plain": [
       "      name state  staff_tests  total_staff_cases  staff_recovered  \\\n",
       "0  Alabama    AL          0.0               11.0              0.0   \n",
       "1  Alabama    AL          0.0               42.0              0.0   \n",
       "2  Alabama    AL          0.0              111.0             74.0   \n",
       "3  Alabama    AL          0.0              125.0             82.0   \n",
       "4  Alabama    AL          0.0               62.0            110.0   \n",
       "\n",
       "   total_staff_deaths  prisoner_tests  total_prisoner_cases  \\\n",
       "0                 0.0            61.0                   4.0   \n",
       "1                 0.0            74.0                   7.0   \n",
       "2                 1.0           177.0                  57.0   \n",
       "3                 1.0           407.0                 131.0   \n",
       "4                 0.0           990.0                 137.0   \n",
       "\n",
       "   prisoners_recovered  total_prisoner_deaths  ...  \\\n",
       "0                  0.0                    1.0  ...   \n",
       "1                  0.0                    0.0  ...   \n",
       "2                 10.0                    6.0  ...   \n",
       "3                 96.0                    8.0  ...   \n",
       "4                190.0                    4.0  ...   \n",
       "\n",
       "  Inmates participating in one or more work programs  Prison industries  \\\n",
       "0                                               28.0                7.0   \n",
       "1                                               28.0                7.0   \n",
       "2                                               28.0                7.0   \n",
       "3                                               28.0                7.0   \n",
       "4                                               28.0                7.0   \n",
       "\n",
       "   Support services Farming   Public works  Other work programs   \\\n",
       "0              10.0      6.0           9.0                   5.0   \n",
       "1              10.0      6.0           9.0                   5.0   \n",
       "2              10.0      6.0           9.0                   5.0   \n",
       "3              10.0      6.0           9.0                   5.0   \n",
       "4              10.0      6.0           9.0                   5.0   \n",
       "\n",
       "   No work programs  phone_rate_avg  Latitude  Longitude  \n",
       "0               7.0             4.5     32.75     -86.75  \n",
       "1               7.0             4.5     32.75     -86.75  \n",
       "2               7.0             4.5     32.75     -86.75  \n",
       "3               7.0             4.5     32.75     -86.75  \n",
       "4               7.0             4.5     32.75     -86.75  \n",
       "\n",
       "[5 rows x 44 columns]"
      ]
     },
     "execution_count": 30,
     "metadata": {},
     "output_type": "execute_result"
    }
   ],
   "source": [
    "df_final.head()"
   ]
  },
  {
   "cell_type": "markdown",
   "id": "activated-cardiff",
   "metadata": {},
   "source": [
    "### Export Final Dataset\n",
    "\n",
    "We then export the final dataset."
   ]
  },
  {
   "cell_type": "code",
   "execution_count": 31,
   "id": "functional-verse",
   "metadata": {
    "ExecuteTime": {
     "end_time": "2021-02-18T18:50:09.871694Z",
     "start_time": "2021-02-18T18:50:09.851386Z"
    }
   },
   "outputs": [],
   "source": [
    "df_final.to_csv('./data/data_clean_complete.csv', index= False)"
   ]
  }
 ],
 "metadata": {
  "kernelspec": {
   "display_name": "Python 3",
   "language": "python",
   "name": "python3"
  },
  "language_info": {
   "codemirror_mode": {
    "name": "ipython",
    "version": 3
   },
   "file_extension": ".py",
   "mimetype": "text/x-python",
   "name": "python",
   "nbconvert_exporter": "python",
   "pygments_lexer": "ipython3",
   "version": "3.8.5"
  },
  "toc": {
   "base_numbering": 1,
   "nav_menu": {},
   "number_sections": true,
   "sideBar": true,
   "skip_h1_title": true,
   "title_cell": "Table of Contents",
   "title_sidebar": "Contents",
   "toc_cell": true,
   "toc_position": {},
   "toc_section_display": true,
   "toc_window_display": true
  }
 },
 "nbformat": 4,
 "nbformat_minor": 5
}
