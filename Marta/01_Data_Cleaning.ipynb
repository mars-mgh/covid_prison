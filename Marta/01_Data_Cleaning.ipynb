{
 "cells": [
  {
   "cell_type": "markdown",
   "id": "attractive-image",
   "metadata": {},
   "source": [
    "# Data Cleaning\n",
    "\n",
    "This notebook takes data from **the Marshalls Project** and proceeds to briefly analize them with the sole purpose of cleaning them. In the next notebook, **02_Feature_Data** we then proceed adding the Prison Features collected from the Bureau of Justice and Civilian Covid cases dataset curated by J. Hopkins University."
   ]
  },
  {
   "cell_type": "markdown",
   "id": "canadian-vault",
   "metadata": {
    "toc": true
   },
   "source": [
    "<h1>Table of Contents<span class=\"tocSkip\"></span></h1>\n",
    "<div class=\"toc\"><ul class=\"toc-item\"><li><span><a href=\"#Data-Type\" data-toc-modified-id=\"Data-Type-1\"><span class=\"toc-item-num\">1&nbsp;&nbsp;</span>Data Type</a></span><ul class=\"toc-item\"><li><span><a href=\"#Date\" data-toc-modified-id=\"Date-1.1\"><span class=\"toc-item-num\">1.1&nbsp;&nbsp;</span>Date</a></span></li><li><span><a href=\"#Tests\" data-toc-modified-id=\"Tests-1.2\"><span class=\"toc-item-num\">1.2&nbsp;&nbsp;</span>Tests</a></span></li><li><span><a href=\"#Regions\" data-toc-modified-id=\"Regions-1.3\"><span class=\"toc-item-num\">1.3&nbsp;&nbsp;</span>Regions</a></span></li></ul></li><li><span><a href=\"#State-Analysis\" data-toc-modified-id=\"State-Analysis-2\"><span class=\"toc-item-num\">2&nbsp;&nbsp;</span>State Analysis</a></span><ul class=\"toc-item\"><li><span><a href=\"#Fill-Nulls\" data-toc-modified-id=\"Fill-Nulls-2.1\"><span class=\"toc-item-num\">2.1&nbsp;&nbsp;</span>Fill Nulls</a></span></li><li><span><a href=\"#Isolate-once-a-month-data\" data-toc-modified-id=\"Isolate-once-a-month-data-2.2\"><span class=\"toc-item-num\">2.2&nbsp;&nbsp;</span>Isolate once a month data</a></span></li><li><span><a href=\"#Comulative-Columns-to-Increase-value\" data-toc-modified-id=\"Comulative-Columns-to-Increase-value-2.3\"><span class=\"toc-item-num\">2.3&nbsp;&nbsp;</span>Comulative Columns to Increase value</a></span></li></ul></li><li><span><a href=\"#Export-Cleaned-Data\" data-toc-modified-id=\"Export-Cleaned-Data-3\"><span class=\"toc-item-num\">3&nbsp;&nbsp;</span>Export Cleaned Data</a></span></li></ul></div>"
   ]
  },
  {
   "cell_type": "code",
   "execution_count": 53,
   "id": "color-prediction",
   "metadata": {
    "ExecuteTime": {
     "end_time": "2021-02-18T18:47:01.853943Z",
     "start_time": "2021-02-18T18:47:01.851816Z"
    }
   },
   "outputs": [],
   "source": [
    "import pandas as pd\n",
    "import numpy as np\n",
    "import matplotlib.pyplot as plt\n",
    "\n",
    "import missingno as msno\n",
    "import seaborn as sns"
   ]
  },
  {
   "cell_type": "code",
   "execution_count": 54,
   "id": "indie-productivity",
   "metadata": {
    "ExecuteTime": {
     "end_time": "2021-02-18T18:47:01.865041Z",
     "start_time": "2021-02-18T18:47:01.855581Z"
    },
    "scrolled": true
   },
   "outputs": [],
   "source": [
    "df = pd.read_csv ('./data/covid_prison_cases.csv')"
   ]
  },
  {
   "cell_type": "code",
   "execution_count": 55,
   "id": "necessary-cement",
   "metadata": {
    "ExecuteTime": {
     "end_time": "2021-02-18T18:47:01.881432Z",
     "start_time": "2021-02-18T18:47:01.867092Z"
    },
    "scrolled": false
   },
   "outputs": [
    {
     "data": {
      "text/html": [
       "<div>\n",
       "<style scoped>\n",
       "    .dataframe tbody tr th:only-of-type {\n",
       "        vertical-align: middle;\n",
       "    }\n",
       "\n",
       "    .dataframe tbody tr th {\n",
       "        vertical-align: top;\n",
       "    }\n",
       "\n",
       "    .dataframe thead th {\n",
       "        text-align: right;\n",
       "    }\n",
       "</style>\n",
       "<table border=\"1\" class=\"dataframe\">\n",
       "  <thead>\n",
       "    <tr style=\"text-align: right;\">\n",
       "      <th></th>\n",
       "      <th>name</th>\n",
       "      <th>abbreviation</th>\n",
       "      <th>staff_tests</th>\n",
       "      <th>staff_tests_with_multiples</th>\n",
       "      <th>total_staff_cases</th>\n",
       "      <th>staff_recovered</th>\n",
       "      <th>total_staff_deaths</th>\n",
       "      <th>prisoner_tests</th>\n",
       "      <th>prisoner_tests_with_multiples</th>\n",
       "      <th>total_prisoner_cases</th>\n",
       "      <th>prisoners_recovered</th>\n",
       "      <th>total_prisoner_deaths</th>\n",
       "      <th>as_of_date</th>\n",
       "      <th>notes</th>\n",
       "    </tr>\n",
       "  </thead>\n",
       "  <tbody>\n",
       "    <tr>\n",
       "      <th>0</th>\n",
       "      <td>Alabama</td>\n",
       "      <td>AL</td>\n",
       "      <td>NaN</td>\n",
       "      <td>NaN</td>\n",
       "      <td>951.0</td>\n",
       "      <td>800.0</td>\n",
       "      <td>3.0</td>\n",
       "      <td>NaN</td>\n",
       "      <td>14694.0</td>\n",
       "      <td>1369.0</td>\n",
       "      <td>1198.0</td>\n",
       "      <td>60.0</td>\n",
       "      <td>1/25/21</td>\n",
       "      <td>NaN</td>\n",
       "    </tr>\n",
       "    <tr>\n",
       "      <th>1</th>\n",
       "      <td>Alaska</td>\n",
       "      <td>AK</td>\n",
       "      <td>NaN</td>\n",
       "      <td>NaN</td>\n",
       "      <td>268.0</td>\n",
       "      <td>NaN</td>\n",
       "      <td>0.0</td>\n",
       "      <td>NaN</td>\n",
       "      <td>19858.0</td>\n",
       "      <td>2294.0</td>\n",
       "      <td>NaN</td>\n",
       "      <td>5.0</td>\n",
       "      <td>1/25/21</td>\n",
       "      <td>Alaska is not tracking vaccination numbers for...</td>\n",
       "    </tr>\n",
       "    <tr>\n",
       "      <th>2</th>\n",
       "      <td>Arizona</td>\n",
       "      <td>AZ</td>\n",
       "      <td>NaN</td>\n",
       "      <td>NaN</td>\n",
       "      <td>2429.0</td>\n",
       "      <td>1911.0</td>\n",
       "      <td>NaN</td>\n",
       "      <td>43447.0</td>\n",
       "      <td>NaN</td>\n",
       "      <td>9547.0</td>\n",
       "      <td>7563.0</td>\n",
       "      <td>47.0</td>\n",
       "      <td>1/26/21</td>\n",
       "      <td>NaN</td>\n",
       "    </tr>\n",
       "    <tr>\n",
       "      <th>3</th>\n",
       "      <td>Arkansas</td>\n",
       "      <td>AR</td>\n",
       "      <td>NaN</td>\n",
       "      <td>NaN</td>\n",
       "      <td>NaN</td>\n",
       "      <td>NaN</td>\n",
       "      <td>4.0</td>\n",
       "      <td>NaN</td>\n",
       "      <td>NaN</td>\n",
       "      <td>10905.0</td>\n",
       "      <td>10791.0</td>\n",
       "      <td>52.0</td>\n",
       "      <td>1/26/21</td>\n",
       "      <td>NaN</td>\n",
       "    </tr>\n",
       "    <tr>\n",
       "      <th>4</th>\n",
       "      <td>California</td>\n",
       "      <td>CA</td>\n",
       "      <td>NaN</td>\n",
       "      <td>NaN</td>\n",
       "      <td>15012.0</td>\n",
       "      <td>13676.0</td>\n",
       "      <td>22.0</td>\n",
       "      <td>116347.0</td>\n",
       "      <td>NaN</td>\n",
       "      <td>46595.0</td>\n",
       "      <td>43309.0</td>\n",
       "      <td>187.0</td>\n",
       "      <td>1/26/21</td>\n",
       "      <td>NaN</td>\n",
       "    </tr>\n",
       "  </tbody>\n",
       "</table>\n",
       "</div>"
      ],
      "text/plain": [
       "         name abbreviation  staff_tests  staff_tests_with_multiples  \\\n",
       "0     Alabama           AL          NaN                         NaN   \n",
       "1      Alaska           AK          NaN                         NaN   \n",
       "2     Arizona           AZ          NaN                         NaN   \n",
       "3    Arkansas           AR          NaN                         NaN   \n",
       "4  California           CA          NaN                         NaN   \n",
       "\n",
       "   total_staff_cases  staff_recovered  total_staff_deaths  prisoner_tests  \\\n",
       "0              951.0            800.0                 3.0             NaN   \n",
       "1              268.0              NaN                 0.0             NaN   \n",
       "2             2429.0           1911.0                 NaN         43447.0   \n",
       "3                NaN              NaN                 4.0             NaN   \n",
       "4            15012.0          13676.0                22.0        116347.0   \n",
       "\n",
       "   prisoner_tests_with_multiples  total_prisoner_cases  prisoners_recovered  \\\n",
       "0                        14694.0                1369.0               1198.0   \n",
       "1                        19858.0                2294.0                  NaN   \n",
       "2                            NaN                9547.0               7563.0   \n",
       "3                            NaN               10905.0              10791.0   \n",
       "4                            NaN               46595.0              43309.0   \n",
       "\n",
       "   total_prisoner_deaths as_of_date  \\\n",
       "0                   60.0    1/25/21   \n",
       "1                    5.0    1/25/21   \n",
       "2                   47.0    1/26/21   \n",
       "3                   52.0    1/26/21   \n",
       "4                  187.0    1/26/21   \n",
       "\n",
       "                                               notes  \n",
       "0                                                NaN  \n",
       "1  Alaska is not tracking vaccination numbers for...  \n",
       "2                                                NaN  \n",
       "3                                                NaN  \n",
       "4                                                NaN  "
      ]
     },
     "execution_count": 55,
     "metadata": {},
     "output_type": "execute_result"
    }
   ],
   "source": [
    "df.head()"
   ]
  },
  {
   "cell_type": "code",
   "execution_count": 56,
   "id": "amended-logging",
   "metadata": {
    "ExecuteTime": {
     "end_time": "2021-02-18T18:47:02.554074Z",
     "start_time": "2021-02-18T18:47:01.883102Z"
    },
    "scrolled": false
   },
   "outputs": [
    {
     "data": {
      "image/png": "[encoded data removed]",
      "text/plain": [
       "<Figure size 1440x864 with 2 Axes>"
      ]
     },
     "metadata": {
      "needs_background": "light"
     },
     "output_type": "display_data"
    }
   ],
   "source": [
    "msno.heatmap(df);"
   ]
  },
  {
   "cell_type": "markdown",
   "id": "received-memphis",
   "metadata": {},
   "source": [
    "We notice that:\n",
    "1. Recovered Informations are missing in 80% of cases for both Prisoners and Staff in the same records.\n",
    "2. When missing `as_of_date` is in 80% of cases missing the total `prisoners cases`"
   ]
  },
  {
   "cell_type": "markdown",
   "id": "athletic-clark",
   "metadata": {},
   "source": [
    "## Data Type\n",
    "\n",
    "We start our analysis by observing the data types and assigning the appropriate ones. "
   ]
  },
  {
   "cell_type": "code",
   "execution_count": 57,
   "id": "brown-position",
   "metadata": {
    "ExecuteTime": {
     "end_time": "2021-02-18T18:47:02.564942Z",
     "start_time": "2021-02-18T18:47:02.555273Z"
    },
    "scrolled": false
   },
   "outputs": [
    {
     "name": "stdout",
     "output_type": "stream",
     "text": [
      "<class 'pandas.core.frame.DataFrame'>\n",
      "RangeIndex: 2295 entries, 0 to 2294\n",
      "Data columns (total 14 columns):\n",
      " #   Column                         Non-Null Count  Dtype  \n",
      "---  ------                         --------------  -----  \n",
      " 0   name                           2295 non-null   object \n",
      " 1   abbreviation                   2295 non-null   object \n",
      " 2   staff_tests                    332 non-null    float64\n",
      " 3   staff_tests_with_multiples     374 non-null    float64\n",
      " 4   total_staff_cases              2131 non-null   float64\n",
      " 5   staff_recovered                1381 non-null   float64\n",
      " 6   total_staff_deaths             1978 non-null   float64\n",
      " 7   prisoner_tests                 1114 non-null   float64\n",
      " 8   prisoner_tests_with_multiples  890 non-null    float64\n",
      " 9   total_prisoner_cases           2228 non-null   float64\n",
      " 10  prisoners_recovered            1476 non-null   float64\n",
      " 11  total_prisoner_deaths          2194 non-null   float64\n",
      " 12  as_of_date                     2257 non-null   object \n",
      " 13  notes                          716 non-null    object \n",
      "dtypes: float64(10), object(4)\n",
      "memory usage: 251.1+ KB\n"
     ]
    }
   ],
   "source": [
    "df.info()"
   ]
  },
  {
   "cell_type": "markdown",
   "id": "unauthorized-relation",
   "metadata": {},
   "source": [
    "Notes: \n",
    "- `name` and `abbreviation` are duplicates\n",
    "- `notes` are to be dropped after exploratory phase\n",
    "- `as_of_date` is a timestamp of data collection. We will turn this into date_time type and extract all months for 2020."
   ]
  },
  {
   "cell_type": "markdown",
   "id": "strategic-transport",
   "metadata": {},
   "source": [
    "### Date\n",
    "\n",
    "Data in our dataframe are collected weekley, but we decide to proceed with a monthly analysis to uniform better with differences in the reporting in States (many report monthly, so a lot of values are duplicated).\n",
    "\n",
    "To do that, we decide to create two additional columns, storing respectively `year` and `month` of the recorded data."
   ]
  },
  {
   "cell_type": "code",
   "execution_count": 58,
   "id": "settled-voice",
   "metadata": {
    "ExecuteTime": {
     "end_time": "2021-02-18T18:47:02.584245Z",
     "start_time": "2021-02-18T18:47:02.566756Z"
    }
   },
   "outputs": [],
   "source": [
    "df['as_of_date'] = pd.to_datetime(df['as_of_date'])"
   ]
  },
  {
   "cell_type": "code",
   "execution_count": 59,
   "id": "attempted-pakistan",
   "metadata": {
    "ExecuteTime": {
     "end_time": "2021-02-18T18:47:02.590228Z",
     "start_time": "2021-02-18T18:47:02.587063Z"
    },
    "scrolled": true
   },
   "outputs": [],
   "source": [
    "df['year'] = df['as_of_date'].dt.year"
   ]
  },
  {
   "cell_type": "code",
   "execution_count": 60,
   "id": "trained-specification",
   "metadata": {
    "ExecuteTime": {
     "end_time": "2021-02-18T18:47:02.595587Z",
     "start_time": "2021-02-18T18:47:02.592558Z"
    }
   },
   "outputs": [],
   "source": [
    "df['month'] = df['as_of_date'].dt.month"
   ]
  },
  {
   "cell_type": "code",
   "execution_count": 61,
   "id": "latin-batch",
   "metadata": {
    "ExecuteTime": {
     "end_time": "2021-02-18T18:47:02.608568Z",
     "start_time": "2021-02-18T18:47:02.597469Z"
    },
    "scrolled": true
   },
   "outputs": [
    {
     "name": "stdout",
     "output_type": "stream",
     "text": [
      "<class 'pandas.core.frame.DataFrame'>\n",
      "RangeIndex: 2295 entries, 0 to 2294\n",
      "Data columns (total 16 columns):\n",
      " #   Column                         Non-Null Count  Dtype         \n",
      "---  ------                         --------------  -----         \n",
      " 0   name                           2295 non-null   object        \n",
      " 1   abbreviation                   2295 non-null   object        \n",
      " 2   staff_tests                    332 non-null    float64       \n",
      " 3   staff_tests_with_multiples     374 non-null    float64       \n",
      " 4   total_staff_cases              2131 non-null   float64       \n",
      " 5   staff_recovered                1381 non-null   float64       \n",
      " 6   total_staff_deaths             1978 non-null   float64       \n",
      " 7   prisoner_tests                 1114 non-null   float64       \n",
      " 8   prisoner_tests_with_multiples  890 non-null    float64       \n",
      " 9   total_prisoner_cases           2228 non-null   float64       \n",
      " 10  prisoners_recovered            1476 non-null   float64       \n",
      " 11  total_prisoner_deaths          2194 non-null   float64       \n",
      " 12  as_of_date                     2257 non-null   datetime64[ns]\n",
      " 13  notes                          716 non-null    object        \n",
      " 14  year                           2257 non-null   float64       \n",
      " 15  month                          2257 non-null   float64       \n",
      "dtypes: datetime64[ns](1), float64(12), object(3)\n",
      "memory usage: 287.0+ KB\n"
     ]
    }
   ],
   "source": [
    "df.info()"
   ]
  },
  {
   "cell_type": "markdown",
   "id": "native-professor",
   "metadata": {},
   "source": [
    "### Tests"
   ]
  },
  {
   "cell_type": "markdown",
   "id": "indian-portal",
   "metadata": {},
   "source": [
    "In the documentation of the dataset the description for the `prisoner_tests_with_multiple`  and `staff_test_with multiple`:\n",
    ">The cumulative number of tests administered to incarcereted people/staff where unique patients was not available\n",
    "\n",
    "For this reason we decide to create features that comprhend the available record for both Staff and Inmates, proceeding as follows."
   ]
  },
  {
   "cell_type": "code",
   "execution_count": 62,
   "id": "civic-conducting",
   "metadata": {
    "ExecuteTime": {
     "end_time": "2021-02-18T18:47:02.616997Z",
     "start_time": "2021-02-18T18:47:02.611191Z"
    }
   },
   "outputs": [],
   "source": [
    "df['prisoner_tests'] = df.loc[:,'prisoner_tests':'prisoner_tests_with_multiples'].fillna(method='ffill',axis=1)['prisoner_tests_with_multiples']\n",
    "df['staff_tests'] = df.loc[:,'staff_tests':'staff_tests_with_multiples'].fillna(method='ffill',axis=1)['staff_tests_with_multiples']"
   ]
  },
  {
   "cell_type": "code",
   "execution_count": 63,
   "id": "artistic-ceiling",
   "metadata": {
    "ExecuteTime": {
     "end_time": "2021-02-18T18:47:02.624780Z",
     "start_time": "2021-02-18T18:47:02.619783Z"
    }
   },
   "outputs": [],
   "source": [
    "df.drop(columns=['prisoner_tests_with_multiples','staff_tests_with_multiples'], inplace = True)"
   ]
  },
  {
   "cell_type": "markdown",
   "id": "premium-persian",
   "metadata": {},
   "source": [
    "### Regions\n",
    "\n",
    "We decide to create a new feature called `region` to better describe trends on a macro scale.\n",
    "\n",
    "The dictionary below reflects the categories that the Bureau of Justice Statistics apply to in its analysis."
   ]
  },
  {
   "cell_type": "code",
   "execution_count": 64,
   "id": "preceding-stranger",
   "metadata": {
    "ExecuteTime": {
     "end_time": "2021-02-18T18:47:02.631542Z",
     "start_time": "2021-02-18T18:47:02.626898Z"
    }
   },
   "outputs": [],
   "source": [
    "region = {'South': ['Alabama', 'Florida', 'Georgia', 'Mississippi', 'South Carolina', 'Puerto Rico',\n",
    "                    'Arkansas', 'Louisiana', 'Oklahoma', 'Texas', 'Delaware', 'Delaware',\n",
    "                    'District of Columbia', 'Kentucky', 'Maryland', 'North Carolina', 'Tennessee',\n",
    "                    'Virginia', 'West Virginia'],\n",
    "          'Northeast': ['Connecticut','Maine','Massachusetts', 'New Hampshire',\n",
    "                        'New Jersey', 'New York', 'Pennsylvania', 'Rhode Island', 'Vermont'],\n",
    "          'Midwest': ['Illinois', 'Indiana', 'Iowa', 'Kansas', 'Michigan', 'Minnesota', 'Missouri', 'Nebraska',\n",
    "                      'North Dakota', 'Ohio', 'South Dakota', 'Wisconsin'],\n",
    "          'West': ['Alaska','Arizona', 'California','Colorado', 'Hawaii', 'Idaho',\n",
    "                   'Montana', 'Nevada', 'New Mexico', 'Oregon','Utah','Washington', 'Wyoming'],\n",
    "          'Federal':['Federal']\n",
    "}"
   ]
  },
  {
   "cell_type": "code",
   "execution_count": 66,
   "id": "anticipated-schema",
   "metadata": {
    "ExecuteTime": {
     "end_time": "2021-02-18T18:47:02.641117Z",
     "start_time": "2021-02-18T18:47:02.638586Z"
    }
   },
   "outputs": [],
   "source": [
    "def return_region(val):\n",
    "    for key, value in region.items():\n",
    "        if val in value:\n",
    "            return key"
   ]
  },
  {
   "cell_type": "markdown",
   "id": "accepted-network",
   "metadata": {},
   "source": [
    "We then use the small function above to iterate through the dataframe and create the `region` column."
   ]
  },
  {
   "cell_type": "code",
   "execution_count": 67,
   "id": "julian-luxury",
   "metadata": {
    "ExecuteTime": {
     "end_time": "2021-02-18T18:47:02.649524Z",
     "start_time": "2021-02-18T18:47:02.643546Z"
    }
   },
   "outputs": [],
   "source": [
    "df['region'] = df['name'].apply(return_region)"
   ]
  },
  {
   "cell_type": "markdown",
   "id": "educational-penny",
   "metadata": {},
   "source": [
    "## State Analysis\n",
    "We know from the notes in the text that different states have different ways of reporting cases. For this reason we decided to split the states and run a check each of us to the notes and decide how to interpret the data."
   ]
  },
  {
   "cell_type": "code",
   "execution_count": 71,
   "id": "adolescent-johnson",
   "metadata": {
    "ExecuteTime": {
     "end_time": "2021-02-18T18:47:08.750485Z",
     "start_time": "2021-02-18T18:47:08.745403Z"
    },
    "scrolled": false
   },
   "outputs": [
    {
     "data": {
      "text/plain": [
       "name\n",
       "Alabama           45\n",
       "Alaska            45\n",
       "Arizona           45\n",
       "Arkansas          45\n",
       "California        45\n",
       "Colorado          45\n",
       "Connecticut       44\n",
       "Delaware          35\n",
       "Federal           45\n",
       "Florida           45\n",
       "Georgia           45\n",
       "Hawaii            45\n",
       "Idaho             45\n",
       "Illinois          45\n",
       "Indiana           45\n",
       "Iowa              45\n",
       "Kansas            43\n",
       "Kentucky          45\n",
       "Louisiana         45\n",
       "Maine             45\n",
       "Maryland          45\n",
       "Massachusetts     45\n",
       "Michigan          45\n",
       "Minnesota         45\n",
       "Mississippi       45\n",
       "Missouri          44\n",
       "Montana           44\n",
       "Nebraska          39\n",
       "Nevada            45\n",
       "New Hampshire     45\n",
       "New Jersey        45\n",
       "New Mexico        45\n",
       "New York          45\n",
       "North Carolina    45\n",
       "North Dakota      45\n",
       "Ohio              45\n",
       "Oklahoma          45\n",
       "Oregon            45\n",
       "Pennsylvania      45\n",
       "Rhode Island      43\n",
       "South Carolina    45\n",
       "South Dakota      45\n",
       "Tennessee         44\n",
       "Texas             45\n",
       "Utah              45\n",
       "Vermont           45\n",
       "Virginia          45\n",
       "Washington        45\n",
       "West Virginia     45\n",
       "Wisconsin         45\n",
       "Wyoming           30\n",
       "Name: month, dtype: int64"
      ]
     },
     "execution_count": 71,
     "metadata": {},
     "output_type": "execute_result"
    }
   ],
   "source": [
    "n_by_state = df.groupby(\"name\")[\"month\"].count()\n",
    "n_by_state"
   ]
  },
  {
   "cell_type": "markdown",
   "id": "final-stewart",
   "metadata": {},
   "source": [
    "It came out that a number of States were reportig cases monthly instead of weekley, and for this reason we decide to reduce our records to a montly analysis.\n",
    "\n",
    "Also, we notice that all row with empty `as_of_date` value are only containing notes. We decide then to drop them, togethe with the notes."
   ]
  },
  {
   "cell_type": "code",
   "execution_count": 73,
   "id": "sexual-blade",
   "metadata": {
    "ExecuteTime": {
     "end_time": "2021-02-18T18:47:08.762761Z",
     "start_time": "2021-02-18T18:47:08.759893Z"
    }
   },
   "outputs": [],
   "source": [
    "df.drop(columns=['notes'], inplace = True)"
   ]
  },
  {
   "cell_type": "code",
   "execution_count": 74,
   "id": "illegal-application",
   "metadata": {
    "ExecuteTime": {
     "end_time": "2021-02-18T18:47:08.768962Z",
     "start_time": "2021-02-18T18:47:08.764334Z"
    }
   },
   "outputs": [],
   "source": [
    "df.dropna(subset= ['as_of_date'], inplace= True)"
   ]
  },
  {
   "cell_type": "markdown",
   "id": "agricultural-concert",
   "metadata": {},
   "source": [
    "### Fill Nulls\n",
    "\n",
    "Empty values in the remaining columns have to be filled with previous available data. This is because they mean for the large part that no new data was available at the time the record has been filled in. *(It is common for example having records reporting prisoners data and other separate ones reporting staff data.)*\n",
    "\n",
    "To do so we group by State and order records by date and proceed with `ffill` method within `fillna`."
   ]
  },
  {
   "cell_type": "code",
   "execution_count": 75,
   "id": "meaningful-strength",
   "metadata": {
    "ExecuteTime": {
     "end_time": "2021-02-18T18:47:08.775512Z",
     "start_time": "2021-02-18T18:47:08.770219Z"
    }
   },
   "outputs": [],
   "source": [
    "nan_cols = [i for i in df.columns if df[i].isnull().any()]"
   ]
  },
  {
   "cell_type": "code",
   "execution_count": 76,
   "id": "eligible-destiny",
   "metadata": {
    "ExecuteTime": {
     "end_time": "2021-02-18T18:47:08.894020Z",
     "start_time": "2021-02-18T18:47:08.777527Z"
    }
   },
   "outputs": [],
   "source": [
    "for col in nan_cols:\n",
    "    df[col] = df.groupby(['name'], sort=True)[col].apply(lambda x: x.ffill().bfill())"
   ]
  },
  {
   "cell_type": "code",
   "execution_count": 77,
   "id": "industrial-paragraph",
   "metadata": {
    "ExecuteTime": {
     "end_time": "2021-02-18T18:47:08.900073Z",
     "start_time": "2021-02-18T18:47:08.895404Z"
    },
    "scrolled": false
   },
   "outputs": [
    {
     "data": {
      "text/plain": [
       "name                       0\n",
       "abbreviation               0\n",
       "staff_tests              759\n",
       "total_staff_cases          0\n",
       "staff_recovered           45\n",
       "total_staff_deaths         0\n",
       "prisoner_tests            45\n",
       "total_prisoner_cases       0\n",
       "prisoners_recovered       45\n",
       "total_prisoner_deaths      0\n",
       "as_of_date                 0\n",
       "year                       0\n",
       "month                      0\n",
       "region                     0\n",
       "dtype: int64"
      ]
     },
     "execution_count": 77,
     "metadata": {},
     "output_type": "execute_result"
    }
   ],
   "source": [
    "df.isnull().sum()"
   ]
  },
  {
   "cell_type": "markdown",
   "id": "unlike-evolution",
   "metadata": {},
   "source": [
    "Remaining empty values are either referred to `Federal` level (that will be excluded from our analysis), or, in case of `staff-test`, few States never reported them. We decided later to drop this column *tout-court* as it was not possible to fill the values without altering the analysis. "
   ]
  },
  {
   "cell_type": "code",
   "execution_count": 78,
   "id": "african-squad",
   "metadata": {
    "ExecuteTime": {
     "end_time": "2021-02-18T18:47:08.910918Z",
     "start_time": "2021-02-18T18:47:08.901451Z"
    }
   },
   "outputs": [
    {
     "name": "stdout",
     "output_type": "stream",
     "text": [
      "<class 'pandas.core.frame.DataFrame'>\n",
      "Int64Index: 2256 entries, 0 to 2294\n",
      "Data columns (total 14 columns):\n",
      " #   Column                 Non-Null Count  Dtype         \n",
      "---  ------                 --------------  -----         \n",
      " 0   name                   2256 non-null   object        \n",
      " 1   abbreviation           2256 non-null   object        \n",
      " 2   staff_tests            1497 non-null   float64       \n",
      " 3   total_staff_cases      2256 non-null   float64       \n",
      " 4   staff_recovered        2211 non-null   float64       \n",
      " 5   total_staff_deaths     2256 non-null   float64       \n",
      " 6   prisoner_tests         2211 non-null   float64       \n",
      " 7   total_prisoner_cases   2256 non-null   float64       \n",
      " 8   prisoners_recovered    2211 non-null   float64       \n",
      " 9   total_prisoner_deaths  2256 non-null   float64       \n",
      " 10  as_of_date             2256 non-null   datetime64[ns]\n",
      " 11  year                   2256 non-null   float64       \n",
      " 12  month                  2256 non-null   float64       \n",
      " 13  region                 2256 non-null   object        \n",
      "dtypes: datetime64[ns](1), float64(10), object(3)\n",
      "memory usage: 264.4+ KB\n"
     ]
    }
   ],
   "source": [
    "df.info()"
   ]
  },
  {
   "cell_type": "markdown",
   "id": "diverse-holiday",
   "metadata": {},
   "source": [
    "- `staff_test` is still missing in Federal, Alaska, Arizona, California, Colorado, Georgia, Hawaii, Iowa, Maine, Massachusetts, Nebraska, NewYork, Ohio, Oregon, Utha, Washington and Wisconsin;\n",
    "\n",
    "- `staff_recovered` is missing in Federal;\n",
    "\n",
    "- `prisoners_test` is missing in Georgia."
   ]
  },
  {
   "cell_type": "markdown",
   "id": "optical-skiing",
   "metadata": {},
   "source": [
    "Finally, we order the data frame per state and date and reset the index."
   ]
  },
  {
   "cell_type": "code",
   "execution_count": 79,
   "id": "union-mailing",
   "metadata": {
    "ExecuteTime": {
     "end_time": "2021-02-18T18:47:08.917178Z",
     "start_time": "2021-02-18T18:47:08.912590Z"
    }
   },
   "outputs": [],
   "source": [
    "df.sort_values(by= ['name', \"as_of_date\"], ascending=[True, False], inplace= True)"
   ]
  },
  {
   "cell_type": "code",
   "execution_count": 80,
   "id": "demonstrated-slovenia",
   "metadata": {
    "ExecuteTime": {
     "end_time": "2021-02-18T18:47:08.940486Z",
     "start_time": "2021-02-18T18:47:08.918580Z"
    }
   },
   "outputs": [
    {
     "data": {
      "text/html": [
       "<div>\n",
       "<style scoped>\n",
       "    .dataframe tbody tr th:only-of-type {\n",
       "        vertical-align: middle;\n",
       "    }\n",
       "\n",
       "    .dataframe tbody tr th {\n",
       "        vertical-align: top;\n",
       "    }\n",
       "\n",
       "    .dataframe thead th {\n",
       "        text-align: right;\n",
       "    }\n",
       "</style>\n",
       "<table border=\"1\" class=\"dataframe\">\n",
       "  <thead>\n",
       "    <tr style=\"text-align: right;\">\n",
       "      <th></th>\n",
       "      <th>name</th>\n",
       "      <th>abbreviation</th>\n",
       "      <th>staff_tests</th>\n",
       "      <th>total_staff_cases</th>\n",
       "      <th>staff_recovered</th>\n",
       "      <th>total_staff_deaths</th>\n",
       "      <th>prisoner_tests</th>\n",
       "      <th>total_prisoner_cases</th>\n",
       "      <th>prisoners_recovered</th>\n",
       "      <th>total_prisoner_deaths</th>\n",
       "      <th>as_of_date</th>\n",
       "      <th>year</th>\n",
       "      <th>month</th>\n",
       "      <th>region</th>\n",
       "    </tr>\n",
       "  </thead>\n",
       "  <tbody>\n",
       "    <tr>\n",
       "      <th>0</th>\n",
       "      <td>Alabama</td>\n",
       "      <td>AL</td>\n",
       "      <td>568.0</td>\n",
       "      <td>951.0</td>\n",
       "      <td>800.0</td>\n",
       "      <td>3.0</td>\n",
       "      <td>14694.0</td>\n",
       "      <td>1369.0</td>\n",
       "      <td>1198.0</td>\n",
       "      <td>60.0</td>\n",
       "      <td>2021-01-25</td>\n",
       "      <td>2021.0</td>\n",
       "      <td>1.0</td>\n",
       "      <td>South</td>\n",
       "    </tr>\n",
       "    <tr>\n",
       "      <th>1</th>\n",
       "      <td>Alabama</td>\n",
       "      <td>AL</td>\n",
       "      <td>568.0</td>\n",
       "      <td>907.0</td>\n",
       "      <td>774.0</td>\n",
       "      <td>3.0</td>\n",
       "      <td>14552.0</td>\n",
       "      <td>1294.0</td>\n",
       "      <td>1138.0</td>\n",
       "      <td>57.0</td>\n",
       "      <td>2021-01-18</td>\n",
       "      <td>2021.0</td>\n",
       "      <td>1.0</td>\n",
       "      <td>South</td>\n",
       "    </tr>\n",
       "    <tr>\n",
       "      <th>2</th>\n",
       "      <td>Alabama</td>\n",
       "      <td>AL</td>\n",
       "      <td>568.0</td>\n",
       "      <td>863.0</td>\n",
       "      <td>550.0</td>\n",
       "      <td>2.0</td>\n",
       "      <td>14447.0</td>\n",
       "      <td>1262.0</td>\n",
       "      <td>1026.0</td>\n",
       "      <td>54.0</td>\n",
       "      <td>2021-01-12</td>\n",
       "      <td>2021.0</td>\n",
       "      <td>1.0</td>\n",
       "      <td>South</td>\n",
       "    </tr>\n",
       "    <tr>\n",
       "      <th>3</th>\n",
       "      <td>Alabama</td>\n",
       "      <td>AL</td>\n",
       "      <td>568.0</td>\n",
       "      <td>863.0</td>\n",
       "      <td>550.0</td>\n",
       "      <td>2.0</td>\n",
       "      <td>14447.0</td>\n",
       "      <td>1262.0</td>\n",
       "      <td>1026.0</td>\n",
       "      <td>54.0</td>\n",
       "      <td>2021-01-05</td>\n",
       "      <td>2021.0</td>\n",
       "      <td>1.0</td>\n",
       "      <td>South</td>\n",
       "    </tr>\n",
       "    <tr>\n",
       "      <th>4</th>\n",
       "      <td>Alabama</td>\n",
       "      <td>AL</td>\n",
       "      <td>568.0</td>\n",
       "      <td>804.0</td>\n",
       "      <td>529.0</td>\n",
       "      <td>2.0</td>\n",
       "      <td>12671.0</td>\n",
       "      <td>1161.0</td>\n",
       "      <td>1003.0</td>\n",
       "      <td>54.0</td>\n",
       "      <td>2020-12-28</td>\n",
       "      <td>2020.0</td>\n",
       "      <td>12.0</td>\n",
       "      <td>South</td>\n",
       "    </tr>\n",
       "    <tr>\n",
       "      <th>...</th>\n",
       "      <td>...</td>\n",
       "      <td>...</td>\n",
       "      <td>...</td>\n",
       "      <td>...</td>\n",
       "      <td>...</td>\n",
       "      <td>...</td>\n",
       "      <td>...</td>\n",
       "      <td>...</td>\n",
       "      <td>...</td>\n",
       "      <td>...</td>\n",
       "      <td>...</td>\n",
       "      <td>...</td>\n",
       "      <td>...</td>\n",
       "      <td>...</td>\n",
       "    </tr>\n",
       "    <tr>\n",
       "      <th>2251</th>\n",
       "      <td>Wyoming</td>\n",
       "      <td>WY</td>\n",
       "      <td>10.0</td>\n",
       "      <td>1.0</td>\n",
       "      <td>1.0</td>\n",
       "      <td>0.0</td>\n",
       "      <td>14.0</td>\n",
       "      <td>0.0</td>\n",
       "      <td>0.0</td>\n",
       "      <td>0.0</td>\n",
       "      <td>2020-04-22</td>\n",
       "      <td>2020.0</td>\n",
       "      <td>4.0</td>\n",
       "      <td>West</td>\n",
       "    </tr>\n",
       "    <tr>\n",
       "      <th>2252</th>\n",
       "      <td>Wyoming</td>\n",
       "      <td>WY</td>\n",
       "      <td>8.0</td>\n",
       "      <td>1.0</td>\n",
       "      <td>1.0</td>\n",
       "      <td>0.0</td>\n",
       "      <td>14.0</td>\n",
       "      <td>0.0</td>\n",
       "      <td>0.0</td>\n",
       "      <td>0.0</td>\n",
       "      <td>2020-04-15</td>\n",
       "      <td>2020.0</td>\n",
       "      <td>4.0</td>\n",
       "      <td>West</td>\n",
       "    </tr>\n",
       "    <tr>\n",
       "      <th>2253</th>\n",
       "      <td>Wyoming</td>\n",
       "      <td>WY</td>\n",
       "      <td>1.0</td>\n",
       "      <td>0.0</td>\n",
       "      <td>1.0</td>\n",
       "      <td>0.0</td>\n",
       "      <td>0.0</td>\n",
       "      <td>0.0</td>\n",
       "      <td>0.0</td>\n",
       "      <td>0.0</td>\n",
       "      <td>2020-04-08</td>\n",
       "      <td>2020.0</td>\n",
       "      <td>4.0</td>\n",
       "      <td>West</td>\n",
       "    </tr>\n",
       "    <tr>\n",
       "      <th>2254</th>\n",
       "      <td>Wyoming</td>\n",
       "      <td>WY</td>\n",
       "      <td>1.0</td>\n",
       "      <td>0.0</td>\n",
       "      <td>1.0</td>\n",
       "      <td>0.0</td>\n",
       "      <td>0.0</td>\n",
       "      <td>0.0</td>\n",
       "      <td>0.0</td>\n",
       "      <td>0.0</td>\n",
       "      <td>2020-04-01</td>\n",
       "      <td>2020.0</td>\n",
       "      <td>4.0</td>\n",
       "      <td>West</td>\n",
       "    </tr>\n",
       "    <tr>\n",
       "      <th>2255</th>\n",
       "      <td>Wyoming</td>\n",
       "      <td>WY</td>\n",
       "      <td>0.0</td>\n",
       "      <td>0.0</td>\n",
       "      <td>1.0</td>\n",
       "      <td>0.0</td>\n",
       "      <td>0.0</td>\n",
       "      <td>0.0</td>\n",
       "      <td>0.0</td>\n",
       "      <td>0.0</td>\n",
       "      <td>2020-03-26</td>\n",
       "      <td>2020.0</td>\n",
       "      <td>3.0</td>\n",
       "      <td>West</td>\n",
       "    </tr>\n",
       "  </tbody>\n",
       "</table>\n",
       "<p>2256 rows × 14 columns</p>\n",
       "</div>"
      ],
      "text/plain": [
       "         name abbreviation  staff_tests  total_staff_cases  staff_recovered  \\\n",
       "0     Alabama           AL        568.0              951.0            800.0   \n",
       "1     Alabama           AL        568.0              907.0            774.0   \n",
       "2     Alabama           AL        568.0              863.0            550.0   \n",
       "3     Alabama           AL        568.0              863.0            550.0   \n",
       "4     Alabama           AL        568.0              804.0            529.0   \n",
       "...       ...          ...          ...                ...              ...   \n",
       "2251  Wyoming           WY         10.0                1.0              1.0   \n",
       "2252  Wyoming           WY          8.0                1.0              1.0   \n",
       "2253  Wyoming           WY          1.0                0.0              1.0   \n",
       "2254  Wyoming           WY          1.0                0.0              1.0   \n",
       "2255  Wyoming           WY          0.0                0.0              1.0   \n",
       "\n",
       "      total_staff_deaths  prisoner_tests  total_prisoner_cases  \\\n",
       "0                    3.0         14694.0                1369.0   \n",
       "1                    3.0         14552.0                1294.0   \n",
       "2                    2.0         14447.0                1262.0   \n",
       "3                    2.0         14447.0                1262.0   \n",
       "4                    2.0         12671.0                1161.0   \n",
       "...                  ...             ...                   ...   \n",
       "2251                 0.0            14.0                   0.0   \n",
       "2252                 0.0            14.0                   0.0   \n",
       "2253                 0.0             0.0                   0.0   \n",
       "2254                 0.0             0.0                   0.0   \n",
       "2255                 0.0             0.0                   0.0   \n",
       "\n",
       "      prisoners_recovered  total_prisoner_deaths as_of_date    year  month  \\\n",
       "0                  1198.0                   60.0 2021-01-25  2021.0    1.0   \n",
       "1                  1138.0                   57.0 2021-01-18  2021.0    1.0   \n",
       "2                  1026.0                   54.0 2021-01-12  2021.0    1.0   \n",
       "3                  1026.0                   54.0 2021-01-05  2021.0    1.0   \n",
       "4                  1003.0                   54.0 2020-12-28  2020.0   12.0   \n",
       "...                   ...                    ...        ...     ...    ...   \n",
       "2251                  0.0                    0.0 2020-04-22  2020.0    4.0   \n",
       "2252                  0.0                    0.0 2020-04-15  2020.0    4.0   \n",
       "2253                  0.0                    0.0 2020-04-08  2020.0    4.0   \n",
       "2254                  0.0                    0.0 2020-04-01  2020.0    4.0   \n",
       "2255                  0.0                    0.0 2020-03-26  2020.0    3.0   \n",
       "\n",
       "     region  \n",
       "0     South  \n",
       "1     South  \n",
       "2     South  \n",
       "3     South  \n",
       "4     South  \n",
       "...     ...  \n",
       "2251   West  \n",
       "2252   West  \n",
       "2253   West  \n",
       "2254   West  \n",
       "2255   West  \n",
       "\n",
       "[2256 rows x 14 columns]"
      ]
     },
     "execution_count": 80,
     "metadata": {},
     "output_type": "execute_result"
    }
   ],
   "source": [
    "df.reset_index(drop=True)"
   ]
  },
  {
   "cell_type": "markdown",
   "id": "liable-renewal",
   "metadata": {},
   "source": [
    "### Isolate once a month data\n",
    "\n",
    "As mentioned above, to have effective and meaningful data, we decide to group all our records into 1 per month per state value for all available measures.\n",
    "\n",
    "To do so we start by reordering the dataset in chronological order, and dropping the rows that have the same name and month, keeping only the last one.\n",
    "\n",
    "***Note: ths was possible because the data were cumulative, and not incremental.***"
   ]
  },
  {
   "cell_type": "code",
   "execution_count": 81,
   "id": "opposed-finland",
   "metadata": {
    "ExecuteTime": {
     "end_time": "2021-02-18T18:47:08.947489Z",
     "start_time": "2021-02-18T18:47:08.941804Z"
    }
   },
   "outputs": [],
   "source": [
    "df_month = df.sort_values(by=\"as_of_date\").drop_duplicates(subset=[\"name\", 'month'], keep=\"last\")"
   ]
  },
  {
   "cell_type": "code",
   "execution_count": 82,
   "id": "noble-communist",
   "metadata": {
    "ExecuteTime": {
     "end_time": "2021-02-18T18:47:08.969745Z",
     "start_time": "2021-02-18T18:47:08.948811Z"
    }
   },
   "outputs": [
    {
     "data": {
      "text/html": [
       "<div>\n",
       "<style scoped>\n",
       "    .dataframe tbody tr th:only-of-type {\n",
       "        vertical-align: middle;\n",
       "    }\n",
       "\n",
       "    .dataframe tbody tr th {\n",
       "        vertical-align: top;\n",
       "    }\n",
       "\n",
       "    .dataframe thead th {\n",
       "        text-align: right;\n",
       "    }\n",
       "</style>\n",
       "<table border=\"1\" class=\"dataframe\">\n",
       "  <thead>\n",
       "    <tr style=\"text-align: right;\">\n",
       "      <th></th>\n",
       "      <th>name</th>\n",
       "      <th>abbreviation</th>\n",
       "      <th>staff_tests</th>\n",
       "      <th>total_staff_cases</th>\n",
       "      <th>staff_recovered</th>\n",
       "      <th>total_staff_deaths</th>\n",
       "      <th>prisoner_tests</th>\n",
       "      <th>total_prisoner_cases</th>\n",
       "      <th>prisoners_recovered</th>\n",
       "      <th>total_prisoner_deaths</th>\n",
       "      <th>as_of_date</th>\n",
       "      <th>year</th>\n",
       "      <th>month</th>\n",
       "      <th>region</th>\n",
       "    </tr>\n",
       "  </thead>\n",
       "  <tbody>\n",
       "    <tr>\n",
       "      <th>2251</th>\n",
       "      <td>Delaware</td>\n",
       "      <td>DE</td>\n",
       "      <td>301.0</td>\n",
       "      <td>0.0</td>\n",
       "      <td>53.0</td>\n",
       "      <td>0.0</td>\n",
       "      <td>4.0</td>\n",
       "      <td>0.0</td>\n",
       "      <td>132.0</td>\n",
       "      <td>0.0</td>\n",
       "      <td>2020-03-24</td>\n",
       "      <td>2020.0</td>\n",
       "      <td>3.0</td>\n",
       "      <td>South</td>\n",
       "    </tr>\n",
       "    <tr>\n",
       "      <th>2256</th>\n",
       "      <td>Illinois</td>\n",
       "      <td>IL</td>\n",
       "      <td>2300.0</td>\n",
       "      <td>3.0</td>\n",
       "      <td>142.0</td>\n",
       "      <td>0.0</td>\n",
       "      <td>13.0</td>\n",
       "      <td>3.0</td>\n",
       "      <td>185.0</td>\n",
       "      <td>0.0</td>\n",
       "      <td>2020-03-25</td>\n",
       "      <td>2020.0</td>\n",
       "      <td>3.0</td>\n",
       "      <td>Midwest</td>\n",
       "    </tr>\n",
       "    <tr>\n",
       "      <th>2293</th>\n",
       "      <td>Wyoming</td>\n",
       "      <td>WY</td>\n",
       "      <td>0.0</td>\n",
       "      <td>0.0</td>\n",
       "      <td>1.0</td>\n",
       "      <td>0.0</td>\n",
       "      <td>0.0</td>\n",
       "      <td>0.0</td>\n",
       "      <td>0.0</td>\n",
       "      <td>0.0</td>\n",
       "      <td>2020-03-26</td>\n",
       "      <td>2020.0</td>\n",
       "      <td>3.0</td>\n",
       "      <td>West</td>\n",
       "    </tr>\n",
       "    <tr>\n",
       "      <th>2269</th>\n",
       "      <td>Montana</td>\n",
       "      <td>MT</td>\n",
       "      <td>24.0</td>\n",
       "      <td>2.0</td>\n",
       "      <td>3.0</td>\n",
       "      <td>0.0</td>\n",
       "      <td>5.0</td>\n",
       "      <td>1.0</td>\n",
       "      <td>3.0</td>\n",
       "      <td>0.0</td>\n",
       "      <td>2020-03-26</td>\n",
       "      <td>2020.0</td>\n",
       "      <td>3.0</td>\n",
       "      <td>West</td>\n",
       "    </tr>\n",
       "    <tr>\n",
       "      <th>2280</th>\n",
       "      <td>Oregon</td>\n",
       "      <td>OR</td>\n",
       "      <td>NaN</td>\n",
       "      <td>0.0</td>\n",
       "      <td>9.0</td>\n",
       "      <td>0.0</td>\n",
       "      <td>1.0</td>\n",
       "      <td>0.0</td>\n",
       "      <td>47.0</td>\n",
       "      <td>0.0</td>\n",
       "      <td>2020-03-26</td>\n",
       "      <td>2020.0</td>\n",
       "      <td>3.0</td>\n",
       "      <td>West</td>\n",
       "    </tr>\n",
       "    <tr>\n",
       "      <th>2289</th>\n",
       "      <td>Virginia</td>\n",
       "      <td>VA</td>\n",
       "      <td>7525.0</td>\n",
       "      <td>0.0</td>\n",
       "      <td>187.0</td>\n",
       "      <td>0.0</td>\n",
       "      <td>2.0</td>\n",
       "      <td>0.0</td>\n",
       "      <td>613.0</td>\n",
       "      <td>0.0</td>\n",
       "      <td>2020-03-26</td>\n",
       "      <td>2020.0</td>\n",
       "      <td>3.0</td>\n",
       "      <td>South</td>\n",
       "    </tr>\n",
       "    <tr>\n",
       "      <th>2285</th>\n",
       "      <td>Tennessee</td>\n",
       "      <td>TN</td>\n",
       "      <td>0.0</td>\n",
       "      <td>0.0</td>\n",
       "      <td>47.0</td>\n",
       "      <td>0.0</td>\n",
       "      <td>0.0</td>\n",
       "      <td>0.0</td>\n",
       "      <td>2593.0</td>\n",
       "      <td>0.0</td>\n",
       "      <td>2020-03-26</td>\n",
       "      <td>2020.0</td>\n",
       "      <td>3.0</td>\n",
       "      <td>South</td>\n",
       "    </tr>\n",
       "    <tr>\n",
       "      <th>2255</th>\n",
       "      <td>Idaho</td>\n",
       "      <td>ID</td>\n",
       "      <td>2.0</td>\n",
       "      <td>0.0</td>\n",
       "      <td>5.0</td>\n",
       "      <td>0.0</td>\n",
       "      <td>10.0</td>\n",
       "      <td>0.0</td>\n",
       "      <td>0.0</td>\n",
       "      <td>0.0</td>\n",
       "      <td>2020-03-26</td>\n",
       "      <td>2020.0</td>\n",
       "      <td>3.0</td>\n",
       "      <td>West</td>\n",
       "    </tr>\n",
       "    <tr>\n",
       "      <th>2277</th>\n",
       "      <td>North Dakota</td>\n",
       "      <td>ND</td>\n",
       "      <td>89.0</td>\n",
       "      <td>1.0</td>\n",
       "      <td>4.0</td>\n",
       "      <td>0.0</td>\n",
       "      <td>6.0</td>\n",
       "      <td>0.0</td>\n",
       "      <td>0.0</td>\n",
       "      <td>0.0</td>\n",
       "      <td>2020-03-26</td>\n",
       "      <td>2020.0</td>\n",
       "      <td>3.0</td>\n",
       "      <td>Midwest</td>\n",
       "    </tr>\n",
       "    <tr>\n",
       "      <th>2268</th>\n",
       "      <td>Missouri</td>\n",
       "      <td>MO</td>\n",
       "      <td>830.0</td>\n",
       "      <td>0.0</td>\n",
       "      <td>12.0</td>\n",
       "      <td>0.0</td>\n",
       "      <td>10.0</td>\n",
       "      <td>1.0</td>\n",
       "      <td>18.0</td>\n",
       "      <td>0.0</td>\n",
       "      <td>2020-03-26</td>\n",
       "      <td>2020.0</td>\n",
       "      <td>3.0</td>\n",
       "      <td>Midwest</td>\n",
       "    </tr>\n",
       "    <tr>\n",
       "      <th>2264</th>\n",
       "      <td>Massachusetts</td>\n",
       "      <td>MA</td>\n",
       "      <td>NaN</td>\n",
       "      <td>4.0</td>\n",
       "      <td>120.0</td>\n",
       "      <td>0.0</td>\n",
       "      <td>296.0</td>\n",
       "      <td>9.0</td>\n",
       "      <td>281.0</td>\n",
       "      <td>0.0</td>\n",
       "      <td>2020-03-26</td>\n",
       "      <td>2020.0</td>\n",
       "      <td>3.0</td>\n",
       "      <td>Northeast</td>\n",
       "    </tr>\n",
       "    <tr>\n",
       "      <th>2254</th>\n",
       "      <td>Hawaii</td>\n",
       "      <td>HI</td>\n",
       "      <td>NaN</td>\n",
       "      <td>0.0</td>\n",
       "      <td>0.0</td>\n",
       "      <td>0.0</td>\n",
       "      <td>2.0</td>\n",
       "      <td>0.0</td>\n",
       "      <td>0.0</td>\n",
       "      <td>0.0</td>\n",
       "      <td>2020-03-26</td>\n",
       "      <td>2020.0</td>\n",
       "      <td>3.0</td>\n",
       "      <td>West</td>\n",
       "    </tr>\n",
       "    <tr>\n",
       "      <th>2292</th>\n",
       "      <td>Wisconsin</td>\n",
       "      <td>WI</td>\n",
       "      <td>NaN</td>\n",
       "      <td>5.0</td>\n",
       "      <td>25.0</td>\n",
       "      <td>0.0</td>\n",
       "      <td>91.0</td>\n",
       "      <td>0.0</td>\n",
       "      <td>31.0</td>\n",
       "      <td>0.0</td>\n",
       "      <td>2020-03-26</td>\n",
       "      <td>2020.0</td>\n",
       "      <td>3.0</td>\n",
       "      <td>Midwest</td>\n",
       "    </tr>\n",
       "    <tr>\n",
       "      <th>2245</th>\n",
       "      <td>Alaska</td>\n",
       "      <td>AK</td>\n",
       "      <td>NaN</td>\n",
       "      <td>0.0</td>\n",
       "      <td>11.0</td>\n",
       "      <td>0.0</td>\n",
       "      <td>4.0</td>\n",
       "      <td>0.0</td>\n",
       "      <td>2.0</td>\n",
       "      <td>0.0</td>\n",
       "      <td>2020-03-26</td>\n",
       "      <td>2020.0</td>\n",
       "      <td>3.0</td>\n",
       "      <td>West</td>\n",
       "    </tr>\n",
       "    <tr>\n",
       "      <th>2288</th>\n",
       "      <td>Vermont</td>\n",
       "      <td>VT</td>\n",
       "      <td>154.0</td>\n",
       "      <td>2.0</td>\n",
       "      <td>18.0</td>\n",
       "      <td>0.0</td>\n",
       "      <td>2.0</td>\n",
       "      <td>0.0</td>\n",
       "      <td>43.0</td>\n",
       "      <td>0.0</td>\n",
       "      <td>2020-03-26</td>\n",
       "      <td>2020.0</td>\n",
       "      <td>3.0</td>\n",
       "      <td>Northeast</td>\n",
       "    </tr>\n",
       "  </tbody>\n",
       "</table>\n",
       "</div>"
      ],
      "text/plain": [
       "               name abbreviation  staff_tests  total_staff_cases  \\\n",
       "2251       Delaware           DE        301.0                0.0   \n",
       "2256       Illinois           IL       2300.0                3.0   \n",
       "2293        Wyoming           WY          0.0                0.0   \n",
       "2269        Montana           MT         24.0                2.0   \n",
       "2280         Oregon           OR          NaN                0.0   \n",
       "2289       Virginia           VA       7525.0                0.0   \n",
       "2285      Tennessee           TN          0.0                0.0   \n",
       "2255          Idaho           ID          2.0                0.0   \n",
       "2277   North Dakota           ND         89.0                1.0   \n",
       "2268       Missouri           MO        830.0                0.0   \n",
       "2264  Massachusetts           MA          NaN                4.0   \n",
       "2254         Hawaii           HI          NaN                0.0   \n",
       "2292      Wisconsin           WI          NaN                5.0   \n",
       "2245         Alaska           AK          NaN                0.0   \n",
       "2288        Vermont           VT        154.0                2.0   \n",
       "\n",
       "      staff_recovered  total_staff_deaths  prisoner_tests  \\\n",
       "2251             53.0                 0.0             4.0   \n",
       "2256            142.0                 0.0            13.0   \n",
       "2293              1.0                 0.0             0.0   \n",
       "2269              3.0                 0.0             5.0   \n",
       "2280              9.0                 0.0             1.0   \n",
       "2289            187.0                 0.0             2.0   \n",
       "2285             47.0                 0.0             0.0   \n",
       "2255              5.0                 0.0            10.0   \n",
       "2277              4.0                 0.0             6.0   \n",
       "2268             12.0                 0.0            10.0   \n",
       "2264            120.0                 0.0           296.0   \n",
       "2254              0.0                 0.0             2.0   \n",
       "2292             25.0                 0.0            91.0   \n",
       "2245             11.0                 0.0             4.0   \n",
       "2288             18.0                 0.0             2.0   \n",
       "\n",
       "      total_prisoner_cases  prisoners_recovered  total_prisoner_deaths  \\\n",
       "2251                   0.0                132.0                    0.0   \n",
       "2256                   3.0                185.0                    0.0   \n",
       "2293                   0.0                  0.0                    0.0   \n",
       "2269                   1.0                  3.0                    0.0   \n",
       "2280                   0.0                 47.0                    0.0   \n",
       "2289                   0.0                613.0                    0.0   \n",
       "2285                   0.0               2593.0                    0.0   \n",
       "2255                   0.0                  0.0                    0.0   \n",
       "2277                   0.0                  0.0                    0.0   \n",
       "2268                   1.0                 18.0                    0.0   \n",
       "2264                   9.0                281.0                    0.0   \n",
       "2254                   0.0                  0.0                    0.0   \n",
       "2292                   0.0                 31.0                    0.0   \n",
       "2245                   0.0                  2.0                    0.0   \n",
       "2288                   0.0                 43.0                    0.0   \n",
       "\n",
       "     as_of_date    year  month     region  \n",
       "2251 2020-03-24  2020.0    3.0      South  \n",
       "2256 2020-03-25  2020.0    3.0    Midwest  \n",
       "2293 2020-03-26  2020.0    3.0       West  \n",
       "2269 2020-03-26  2020.0    3.0       West  \n",
       "2280 2020-03-26  2020.0    3.0       West  \n",
       "2289 2020-03-26  2020.0    3.0      South  \n",
       "2285 2020-03-26  2020.0    3.0      South  \n",
       "2255 2020-03-26  2020.0    3.0       West  \n",
       "2277 2020-03-26  2020.0    3.0    Midwest  \n",
       "2268 2020-03-26  2020.0    3.0    Midwest  \n",
       "2264 2020-03-26  2020.0    3.0  Northeast  \n",
       "2254 2020-03-26  2020.0    3.0       West  \n",
       "2292 2020-03-26  2020.0    3.0    Midwest  \n",
       "2245 2020-03-26  2020.0    3.0       West  \n",
       "2288 2020-03-26  2020.0    3.0  Northeast  "
      ]
     },
     "execution_count": 82,
     "metadata": {},
     "output_type": "execute_result"
    }
   ],
   "source": [
    "df_month.head(15)"
   ]
  },
  {
   "cell_type": "markdown",
   "id": "minor-privilege",
   "metadata": {},
   "source": [
    "Then to verify all went as expected we reorder the dataframe by State and by date."
   ]
  },
  {
   "cell_type": "code",
   "execution_count": 83,
   "id": "indoor-despite",
   "metadata": {
    "ExecuteTime": {
     "end_time": "2021-02-18T18:47:08.995757Z",
     "start_time": "2021-02-18T18:47:08.971438Z"
    }
   },
   "outputs": [
    {
     "data": {
      "text/html": [
       "<div>\n",
       "<style scoped>\n",
       "    .dataframe tbody tr th:only-of-type {\n",
       "        vertical-align: middle;\n",
       "    }\n",
       "\n",
       "    .dataframe tbody tr th {\n",
       "        vertical-align: top;\n",
       "    }\n",
       "\n",
       "    .dataframe thead th {\n",
       "        text-align: right;\n",
       "    }\n",
       "</style>\n",
       "<table border=\"1\" class=\"dataframe\">\n",
       "  <thead>\n",
       "    <tr style=\"text-align: right;\">\n",
       "      <th></th>\n",
       "      <th>name</th>\n",
       "      <th>abbreviation</th>\n",
       "      <th>staff_tests</th>\n",
       "      <th>total_staff_cases</th>\n",
       "      <th>staff_recovered</th>\n",
       "      <th>total_staff_deaths</th>\n",
       "      <th>prisoner_tests</th>\n",
       "      <th>total_prisoner_cases</th>\n",
       "      <th>prisoners_recovered</th>\n",
       "      <th>total_prisoner_deaths</th>\n",
       "      <th>as_of_date</th>\n",
       "      <th>year</th>\n",
       "      <th>month</th>\n",
       "      <th>region</th>\n",
       "    </tr>\n",
       "  </thead>\n",
       "  <tbody>\n",
       "    <tr>\n",
       "      <th>0</th>\n",
       "      <td>Alabama</td>\n",
       "      <td>AL</td>\n",
       "      <td>568.0</td>\n",
       "      <td>951.0</td>\n",
       "      <td>800.0</td>\n",
       "      <td>3.0</td>\n",
       "      <td>14694.0</td>\n",
       "      <td>1369.0</td>\n",
       "      <td>1198.0</td>\n",
       "      <td>60.0</td>\n",
       "      <td>2021-01-25</td>\n",
       "      <td>2021.0</td>\n",
       "      <td>1.0</td>\n",
       "      <td>South</td>\n",
       "    </tr>\n",
       "    <tr>\n",
       "      <th>1</th>\n",
       "      <td>Alabama</td>\n",
       "      <td>AL</td>\n",
       "      <td>568.0</td>\n",
       "      <td>804.0</td>\n",
       "      <td>529.0</td>\n",
       "      <td>2.0</td>\n",
       "      <td>12671.0</td>\n",
       "      <td>1161.0</td>\n",
       "      <td>1003.0</td>\n",
       "      <td>54.0</td>\n",
       "      <td>2020-12-28</td>\n",
       "      <td>2020.0</td>\n",
       "      <td>12.0</td>\n",
       "      <td>South</td>\n",
       "    </tr>\n",
       "    <tr>\n",
       "      <th>2</th>\n",
       "      <td>Alabama</td>\n",
       "      <td>AL</td>\n",
       "      <td>568.0</td>\n",
       "      <td>667.0</td>\n",
       "      <td>439.0</td>\n",
       "      <td>2.0</td>\n",
       "      <td>7032.0</td>\n",
       "      <td>855.0</td>\n",
       "      <td>735.0</td>\n",
       "      <td>34.0</td>\n",
       "      <td>2020-11-30</td>\n",
       "      <td>2020.0</td>\n",
       "      <td>11.0</td>\n",
       "      <td>South</td>\n",
       "    </tr>\n",
       "    <tr>\n",
       "      <th>3</th>\n",
       "      <td>Alabama</td>\n",
       "      <td>AL</td>\n",
       "      <td>568.0</td>\n",
       "      <td>455.0</td>\n",
       "      <td>388.0</td>\n",
       "      <td>2.0</td>\n",
       "      <td>5339.0</td>\n",
       "      <td>532.0</td>\n",
       "      <td>416.0</td>\n",
       "      <td>27.0</td>\n",
       "      <td>2020-10-26</td>\n",
       "      <td>2020.0</td>\n",
       "      <td>10.0</td>\n",
       "      <td>South</td>\n",
       "    </tr>\n",
       "    <tr>\n",
       "      <th>4</th>\n",
       "      <td>Alabama</td>\n",
       "      <td>AL</td>\n",
       "      <td>568.0</td>\n",
       "      <td>398.0</td>\n",
       "      <td>363.0</td>\n",
       "      <td>2.0</td>\n",
       "      <td>2079.0</td>\n",
       "      <td>415.0</td>\n",
       "      <td>377.0</td>\n",
       "      <td>23.0</td>\n",
       "      <td>2020-09-28</td>\n",
       "      <td>2020.0</td>\n",
       "      <td>9.0</td>\n",
       "      <td>South</td>\n",
       "    </tr>\n",
       "    <tr>\n",
       "      <th>...</th>\n",
       "      <td>...</td>\n",
       "      <td>...</td>\n",
       "      <td>...</td>\n",
       "      <td>...</td>\n",
       "      <td>...</td>\n",
       "      <td>...</td>\n",
       "      <td>...</td>\n",
       "      <td>...</td>\n",
       "      <td>...</td>\n",
       "      <td>...</td>\n",
       "      <td>...</td>\n",
       "      <td>...</td>\n",
       "      <td>...</td>\n",
       "      <td>...</td>\n",
       "    </tr>\n",
       "    <tr>\n",
       "      <th>556</th>\n",
       "      <td>Wyoming</td>\n",
       "      <td>WY</td>\n",
       "      <td>380.0</td>\n",
       "      <td>8.0</td>\n",
       "      <td>1.0</td>\n",
       "      <td>0.0</td>\n",
       "      <td>866.0</td>\n",
       "      <td>12.0</td>\n",
       "      <td>0.0</td>\n",
       "      <td>0.0</td>\n",
       "      <td>2020-07-22</td>\n",
       "      <td>2020.0</td>\n",
       "      <td>7.0</td>\n",
       "      <td>West</td>\n",
       "    </tr>\n",
       "    <tr>\n",
       "      <th>557</th>\n",
       "      <td>Wyoming</td>\n",
       "      <td>WY</td>\n",
       "      <td>20.0</td>\n",
       "      <td>1.0</td>\n",
       "      <td>1.0</td>\n",
       "      <td>0.0</td>\n",
       "      <td>61.0</td>\n",
       "      <td>0.0</td>\n",
       "      <td>0.0</td>\n",
       "      <td>0.0</td>\n",
       "      <td>2020-06-26</td>\n",
       "      <td>2020.0</td>\n",
       "      <td>6.0</td>\n",
       "      <td>West</td>\n",
       "    </tr>\n",
       "    <tr>\n",
       "      <th>558</th>\n",
       "      <td>Wyoming</td>\n",
       "      <td>WY</td>\n",
       "      <td>16.0</td>\n",
       "      <td>1.0</td>\n",
       "      <td>1.0</td>\n",
       "      <td>0.0</td>\n",
       "      <td>30.0</td>\n",
       "      <td>0.0</td>\n",
       "      <td>0.0</td>\n",
       "      <td>0.0</td>\n",
       "      <td>2020-05-29</td>\n",
       "      <td>2020.0</td>\n",
       "      <td>5.0</td>\n",
       "      <td>West</td>\n",
       "    </tr>\n",
       "    <tr>\n",
       "      <th>559</th>\n",
       "      <td>Wyoming</td>\n",
       "      <td>WY</td>\n",
       "      <td>10.0</td>\n",
       "      <td>1.0</td>\n",
       "      <td>1.0</td>\n",
       "      <td>0.0</td>\n",
       "      <td>15.0</td>\n",
       "      <td>0.0</td>\n",
       "      <td>0.0</td>\n",
       "      <td>0.0</td>\n",
       "      <td>2020-04-29</td>\n",
       "      <td>2020.0</td>\n",
       "      <td>4.0</td>\n",
       "      <td>West</td>\n",
       "    </tr>\n",
       "    <tr>\n",
       "      <th>560</th>\n",
       "      <td>Wyoming</td>\n",
       "      <td>WY</td>\n",
       "      <td>0.0</td>\n",
       "      <td>0.0</td>\n",
       "      <td>1.0</td>\n",
       "      <td>0.0</td>\n",
       "      <td>0.0</td>\n",
       "      <td>0.0</td>\n",
       "      <td>0.0</td>\n",
       "      <td>0.0</td>\n",
       "      <td>2020-03-26</td>\n",
       "      <td>2020.0</td>\n",
       "      <td>3.0</td>\n",
       "      <td>West</td>\n",
       "    </tr>\n",
       "  </tbody>\n",
       "</table>\n",
       "<p>561 rows × 14 columns</p>\n",
       "</div>"
      ],
      "text/plain": [
       "        name abbreviation  staff_tests  total_staff_cases  staff_recovered  \\\n",
       "0    Alabama           AL        568.0              951.0            800.0   \n",
       "1    Alabama           AL        568.0              804.0            529.0   \n",
       "2    Alabama           AL        568.0              667.0            439.0   \n",
       "3    Alabama           AL        568.0              455.0            388.0   \n",
       "4    Alabama           AL        568.0              398.0            363.0   \n",
       "..       ...          ...          ...                ...              ...   \n",
       "556  Wyoming           WY        380.0                8.0              1.0   \n",
       "557  Wyoming           WY         20.0                1.0              1.0   \n",
       "558  Wyoming           WY         16.0                1.0              1.0   \n",
       "559  Wyoming           WY         10.0                1.0              1.0   \n",
       "560  Wyoming           WY          0.0                0.0              1.0   \n",
       "\n",
       "     total_staff_deaths  prisoner_tests  total_prisoner_cases  \\\n",
       "0                   3.0         14694.0                1369.0   \n",
       "1                   2.0         12671.0                1161.0   \n",
       "2                   2.0          7032.0                 855.0   \n",
       "3                   2.0          5339.0                 532.0   \n",
       "4                   2.0          2079.0                 415.0   \n",
       "..                  ...             ...                   ...   \n",
       "556                 0.0           866.0                  12.0   \n",
       "557                 0.0            61.0                   0.0   \n",
       "558                 0.0            30.0                   0.0   \n",
       "559                 0.0            15.0                   0.0   \n",
       "560                 0.0             0.0                   0.0   \n",
       "\n",
       "     prisoners_recovered  total_prisoner_deaths as_of_date    year  month  \\\n",
       "0                 1198.0                   60.0 2021-01-25  2021.0    1.0   \n",
       "1                 1003.0                   54.0 2020-12-28  2020.0   12.0   \n",
       "2                  735.0                   34.0 2020-11-30  2020.0   11.0   \n",
       "3                  416.0                   27.0 2020-10-26  2020.0   10.0   \n",
       "4                  377.0                   23.0 2020-09-28  2020.0    9.0   \n",
       "..                   ...                    ...        ...     ...    ...   \n",
       "556                  0.0                    0.0 2020-07-22  2020.0    7.0   \n",
       "557                  0.0                    0.0 2020-06-26  2020.0    6.0   \n",
       "558                  0.0                    0.0 2020-05-29  2020.0    5.0   \n",
       "559                  0.0                    0.0 2020-04-29  2020.0    4.0   \n",
       "560                  0.0                    0.0 2020-03-26  2020.0    3.0   \n",
       "\n",
       "    region  \n",
       "0    South  \n",
       "1    South  \n",
       "2    South  \n",
       "3    South  \n",
       "4    South  \n",
       "..     ...  \n",
       "556   West  \n",
       "557   West  \n",
       "558   West  \n",
       "559   West  \n",
       "560   West  \n",
       "\n",
       "[561 rows x 14 columns]"
      ]
     },
     "execution_count": 83,
     "metadata": {},
     "output_type": "execute_result"
    }
   ],
   "source": [
    "df_month.sort_values(by= ['name', 'as_of_date'], ascending=[True, False], inplace= True)\n",
    "df_month.reset_index(drop=True)"
   ]
  },
  {
   "cell_type": "markdown",
   "id": "induced-latvia",
   "metadata": {
    "ExecuteTime": {
     "end_time": "2021-02-20T01:38:02.643458Z",
     "start_time": "2021-02-20T01:38:02.637320Z"
    }
   },
   "source": [
    "After having reset the index we are ready for the next step in our data cleaning."
   ]
  },
  {
   "cell_type": "markdown",
   "id": "chronic-helmet",
   "metadata": {},
   "source": [
    "### Comulative Columns to Increase value\n",
    "\n",
    "Currently our values are cumulative over the months. We want to transform all into incremental features, to be able to predict further on the increase in COVID cases across the States.\n",
    "\n",
    "To do that we start creating a list of columns that contain cumulative values."
   ]
  },
  {
   "cell_type": "code",
   "execution_count": 84,
   "id": "massive-charger",
   "metadata": {
    "ExecuteTime": {
     "end_time": "2021-02-18T18:47:09.000526Z",
     "start_time": "2021-02-18T18:47:08.997291Z"
    }
   },
   "outputs": [
    {
     "data": {
      "text/plain": [
       "Index(['name', 'abbreviation', 'staff_tests', 'total_staff_cases',\n",
       "       'staff_recovered', 'total_staff_deaths', 'prisoner_tests',\n",
       "       'total_prisoner_cases', 'prisoners_recovered', 'total_prisoner_deaths',\n",
       "       'as_of_date', 'year', 'month', 'region'],\n",
       "      dtype='object')"
      ]
     },
     "execution_count": 84,
     "metadata": {},
     "output_type": "execute_result"
    }
   ],
   "source": [
    "df_month.columns"
   ]
  },
  {
   "cell_type": "code",
   "execution_count": 85,
   "id": "charitable-proposition",
   "metadata": {
    "ExecuteTime": {
     "end_time": "2021-02-18T18:47:09.003977Z",
     "start_time": "2021-02-18T18:47:09.001835Z"
    }
   },
   "outputs": [],
   "source": [
    "cumulative_columns = ['staff_tests', 'total_staff_cases',\n",
    "       'staff_recovered', 'total_staff_deaths', 'prisoner_tests',\n",
    "       'total_prisoner_cases', 'prisoners_recovered', 'total_prisoner_deaths',]"
   ]
  },
  {
   "cell_type": "markdown",
   "id": "automated-trick",
   "metadata": {},
   "source": [
    "After having identified and stored them in the `cumulative_columns` list, we sot by date and State again, making sure the dates were *ascending*."
   ]
  },
  {
   "cell_type": "code",
   "execution_count": 86,
   "id": "coral-queue",
   "metadata": {
    "ExecuteTime": {
     "end_time": "2021-02-18T18:47:09.010313Z",
     "start_time": "2021-02-18T18:47:09.005466Z"
    }
   },
   "outputs": [],
   "source": [
    "df_month.sort_values(by= ['name', \"as_of_date\"], ascending=[True, True], inplace= True)"
   ]
  },
  {
   "cell_type": "markdown",
   "id": "angry-partnership",
   "metadata": {},
   "source": [
    "Then iterating through the list of columns we groupby State and transform all values into the difference between the value and the previous."
   ]
  },
  {
   "cell_type": "code",
   "execution_count": 87,
   "id": "convenient-meditation",
   "metadata": {
    "ExecuteTime": {
     "end_time": "2021-02-18T18:47:09.094546Z",
     "start_time": "2021-02-18T18:47:09.012334Z"
    }
   },
   "outputs": [],
   "source": [
    "for col in cumulative_columns:\n",
    "    df_month[col] = df_month.groupby(['name'], sort=True)[col].diff()"
   ]
  },
  {
   "cell_type": "code",
   "execution_count": 88,
   "id": "false-binary",
   "metadata": {
    "ExecuteTime": {
     "end_time": "2021-02-18T18:47:09.111008Z",
     "start_time": "2021-02-18T18:47:09.096446Z"
    }
   },
   "outputs": [
    {
     "data": {
      "text/html": [
       "<div>\n",
       "<style scoped>\n",
       "    .dataframe tbody tr th:only-of-type {\n",
       "        vertical-align: middle;\n",
       "    }\n",
       "\n",
       "    .dataframe tbody tr th {\n",
       "        vertical-align: top;\n",
       "    }\n",
       "\n",
       "    .dataframe thead th {\n",
       "        text-align: right;\n",
       "    }\n",
       "</style>\n",
       "<table border=\"1\" class=\"dataframe\">\n",
       "  <thead>\n",
       "    <tr style=\"text-align: right;\">\n",
       "      <th></th>\n",
       "      <th>name</th>\n",
       "      <th>abbreviation</th>\n",
       "      <th>staff_tests</th>\n",
       "      <th>total_staff_cases</th>\n",
       "      <th>staff_recovered</th>\n",
       "      <th>total_staff_deaths</th>\n",
       "      <th>prisoner_tests</th>\n",
       "      <th>total_prisoner_cases</th>\n",
       "      <th>prisoners_recovered</th>\n",
       "      <th>total_prisoner_deaths</th>\n",
       "      <th>as_of_date</th>\n",
       "      <th>year</th>\n",
       "      <th>month</th>\n",
       "      <th>region</th>\n",
       "    </tr>\n",
       "  </thead>\n",
       "  <tbody>\n",
       "    <tr>\n",
       "      <th>2193</th>\n",
       "      <td>Alabama</td>\n",
       "      <td>AL</td>\n",
       "      <td>NaN</td>\n",
       "      <td>NaN</td>\n",
       "      <td>NaN</td>\n",
       "      <td>NaN</td>\n",
       "      <td>NaN</td>\n",
       "      <td>NaN</td>\n",
       "      <td>NaN</td>\n",
       "      <td>NaN</td>\n",
       "      <td>2020-03-31</td>\n",
       "      <td>2020.0</td>\n",
       "      <td>3.0</td>\n",
       "      <td>South</td>\n",
       "    </tr>\n",
       "    <tr>\n",
       "      <th>1989</th>\n",
       "      <td>Alabama</td>\n",
       "      <td>AL</td>\n",
       "      <td>0.0</td>\n",
       "      <td>11.0</td>\n",
       "      <td>0.0</td>\n",
       "      <td>0.0</td>\n",
       "      <td>61.0</td>\n",
       "      <td>4.0</td>\n",
       "      <td>0.0</td>\n",
       "      <td>1.0</td>\n",
       "      <td>2020-04-28</td>\n",
       "      <td>2020.0</td>\n",
       "      <td>4.0</td>\n",
       "      <td>South</td>\n",
       "    </tr>\n",
       "    <tr>\n",
       "      <th>1785</th>\n",
       "      <td>Alabama</td>\n",
       "      <td>AL</td>\n",
       "      <td>0.0</td>\n",
       "      <td>42.0</td>\n",
       "      <td>0.0</td>\n",
       "      <td>0.0</td>\n",
       "      <td>74.0</td>\n",
       "      <td>7.0</td>\n",
       "      <td>0.0</td>\n",
       "      <td>0.0</td>\n",
       "      <td>2020-05-26</td>\n",
       "      <td>2020.0</td>\n",
       "      <td>5.0</td>\n",
       "      <td>South</td>\n",
       "    </tr>\n",
       "    <tr>\n",
       "      <th>1530</th>\n",
       "      <td>Alabama</td>\n",
       "      <td>AL</td>\n",
       "      <td>0.0</td>\n",
       "      <td>111.0</td>\n",
       "      <td>74.0</td>\n",
       "      <td>1.0</td>\n",
       "      <td>177.0</td>\n",
       "      <td>57.0</td>\n",
       "      <td>10.0</td>\n",
       "      <td>6.0</td>\n",
       "      <td>2020-06-30</td>\n",
       "      <td>2020.0</td>\n",
       "      <td>6.0</td>\n",
       "      <td>South</td>\n",
       "    </tr>\n",
       "    <tr>\n",
       "      <th>1326</th>\n",
       "      <td>Alabama</td>\n",
       "      <td>AL</td>\n",
       "      <td>0.0</td>\n",
       "      <td>125.0</td>\n",
       "      <td>82.0</td>\n",
       "      <td>1.0</td>\n",
       "      <td>407.0</td>\n",
       "      <td>131.0</td>\n",
       "      <td>96.0</td>\n",
       "      <td>8.0</td>\n",
       "      <td>2020-07-28</td>\n",
       "      <td>2020.0</td>\n",
       "      <td>7.0</td>\n",
       "      <td>South</td>\n",
       "    </tr>\n",
       "  </tbody>\n",
       "</table>\n",
       "</div>"
      ],
      "text/plain": [
       "         name abbreviation  staff_tests  total_staff_cases  staff_recovered  \\\n",
       "2193  Alabama           AL          NaN                NaN              NaN   \n",
       "1989  Alabama           AL          0.0               11.0              0.0   \n",
       "1785  Alabama           AL          0.0               42.0              0.0   \n",
       "1530  Alabama           AL          0.0              111.0             74.0   \n",
       "1326  Alabama           AL          0.0              125.0             82.0   \n",
       "\n",
       "      total_staff_deaths  prisoner_tests  total_prisoner_cases  \\\n",
       "2193                 NaN             NaN                   NaN   \n",
       "1989                 0.0            61.0                   4.0   \n",
       "1785                 0.0            74.0                   7.0   \n",
       "1530                 1.0           177.0                  57.0   \n",
       "1326                 1.0           407.0                 131.0   \n",
       "\n",
       "      prisoners_recovered  total_prisoner_deaths as_of_date    year  month  \\\n",
       "2193                  NaN                    NaN 2020-03-31  2020.0    3.0   \n",
       "1989                  0.0                    1.0 2020-04-28  2020.0    4.0   \n",
       "1785                  0.0                    0.0 2020-05-26  2020.0    5.0   \n",
       "1530                 10.0                    6.0 2020-06-30  2020.0    6.0   \n",
       "1326                 96.0                    8.0 2020-07-28  2020.0    7.0   \n",
       "\n",
       "     region  \n",
       "2193  South  \n",
       "1989  South  \n",
       "1785  South  \n",
       "1530  South  \n",
       "1326  South  "
      ]
     },
     "execution_count": 88,
     "metadata": {},
     "output_type": "execute_result"
    }
   ],
   "source": [
    "df_month.head()"
   ]
  },
  {
   "cell_type": "markdown",
   "id": "preliminary-edition",
   "metadata": {},
   "source": [
    "Obviously this cause an entire column to go null, as the first input does not register any increase compared to a previous month. "
   ]
  },
  {
   "cell_type": "code",
   "execution_count": 89,
   "id": "owned-yellow",
   "metadata": {
    "ExecuteTime": {
     "end_time": "2021-02-18T18:47:09.115674Z",
     "start_time": "2021-02-18T18:47:09.112436Z"
    }
   },
   "outputs": [
    {
     "data": {
      "text/plain": [
       "51"
      ]
     },
     "execution_count": 89,
     "metadata": {},
     "output_type": "execute_result"
    }
   ],
   "source": [
    "df_month['total_staff_cases'].isnull().sum()"
   ]
  },
  {
   "cell_type": "markdown",
   "id": "imposed-congo",
   "metadata": {},
   "source": [
    "Having verified this, we drop the null values."
   ]
  },
  {
   "cell_type": "code",
   "execution_count": 90,
   "id": "molecular-appendix",
   "metadata": {
    "ExecuteTime": {
     "end_time": "2021-02-18T18:47:09.120891Z",
     "start_time": "2021-02-18T18:47:09.117185Z"
    }
   },
   "outputs": [],
   "source": [
    "df_month.dropna(subset=['total_staff_cases'], inplace= True)"
   ]
  },
  {
   "cell_type": "code",
   "execution_count": 91,
   "id": "lesbian-bacteria",
   "metadata": {
    "ExecuteTime": {
     "end_time": "2021-02-18T18:47:09.125480Z",
     "start_time": "2021-02-18T18:47:09.122241Z"
    }
   },
   "outputs": [
    {
     "data": {
      "text/plain": [
       "0"
      ]
     },
     "execution_count": 91,
     "metadata": {},
     "output_type": "execute_result"
    }
   ],
   "source": [
    "df_month['total_staff_cases'].isnull().sum()"
   ]
  },
  {
   "cell_type": "markdown",
   "id": "pediatric-people",
   "metadata": {},
   "source": [
    "Verified that nulls are now zero for our values we proced with exporting the dataset."
   ]
  },
  {
   "cell_type": "markdown",
   "id": "initial-minimum",
   "metadata": {},
   "source": [
    "## Export Cleaned Data\n",
    "\n",
    "Before exporting ur dataset for further analysis, we rename `abbreviation` column with `state`, as it will come in handy in further data frame merging further on."
   ]
  },
  {
   "cell_type": "code",
   "execution_count": 92,
   "id": "cosmetic-extraction",
   "metadata": {
    "ExecuteTime": {
     "end_time": "2021-02-18T18:47:09.129576Z",
     "start_time": "2021-02-18T18:47:09.126754Z"
    }
   },
   "outputs": [],
   "source": [
    "df_month.rename(columns={'abbreviation':'state'}, inplace=True)"
   ]
  },
  {
   "cell_type": "markdown",
   "id": "tested-design",
   "metadata": {},
   "source": [
    "We finally export dataframe."
   ]
  },
  {
   "cell_type": "code",
   "execution_count": 94,
   "id": "fundamental-throat",
   "metadata": {
    "ExecuteTime": {
     "end_time": "2021-02-18T18:47:09.175223Z",
     "start_time": "2021-02-18T18:47:09.165181Z"
    }
   },
   "outputs": [],
   "source": [
    "df_month.to_csv('./data/month_prison_covid_clean.csv', index = False)"
   ]
  }
 ],
 "metadata": {
  "kernelspec": {
   "display_name": "Python 3",
   "language": "python",
   "name": "python3"
  },
  "language_info": {
   "codemirror_mode": {
    "name": "ipython",
    "version": 3
   },
   "file_extension": ".py",
   "mimetype": "text/x-python",
   "name": "python",
   "nbconvert_exporter": "python",
   "pygments_lexer": "ipython3",
   "version": "3.8.5"
  },
  "toc": {
   "base_numbering": 1,
   "nav_menu": {},
   "number_sections": true,
   "sideBar": true,
   "skip_h1_title": true,
   "title_cell": "Table of Contents",
   "title_sidebar": "Contents",
   "toc_cell": true,
   "toc_position": {},
   "toc_section_display": true,
   "toc_window_display": true
  }
 },
 "nbformat": 4,
 "nbformat_minor": 5
}
