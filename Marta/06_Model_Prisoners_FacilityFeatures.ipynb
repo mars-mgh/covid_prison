{
 "cells": [
  {
   "cell_type": "markdown",
   "id": "fitted-determination",
   "metadata": {},
   "source": [
    "# Prisoner Cases\n",
    "\n",
    "In this notebook we run regression models with the full dataframe of features to predict the number of COVID19 cases among prisoners\n",
    "by State per month."
   ]
  },
  {
   "cell_type": "markdown",
   "id": "operating-module",
   "metadata": {
    "toc": true
   },
   "source": [
    "<h1>Table of Contents<span class=\"tocSkip\"></span></h1>\n",
    "<div class=\"toc\"><ul class=\"toc-item\"><li><span><a href=\"#Features-Selection\" data-toc-modified-id=\"Features-Selection-1\"><span class=\"toc-item-num\">1&nbsp;&nbsp;</span>Features Selection</a></span><ul class=\"toc-item\"><li><span><a href=\"#Nulls\" data-toc-modified-id=\"Nulls-1.1\"><span class=\"toc-item-num\">1.1&nbsp;&nbsp;</span>Nulls</a></span></li><li><span><a href=\"#Categorical-Features\" data-toc-modified-id=\"Categorical-Features-1.2\"><span class=\"toc-item-num\">1.2&nbsp;&nbsp;</span>Categorical Features</a></span></li><li><span><a href=\"#Preprocessing\" data-toc-modified-id=\"Preprocessing-1.3\"><span class=\"toc-item-num\">1.3&nbsp;&nbsp;</span>Preprocessing</a></span><ul class=\"toc-item\"><li><span><a href=\"#Custom-Train-Split\" data-toc-modified-id=\"Custom-Train-Split-1.3.1\"><span class=\"toc-item-num\">1.3.1&nbsp;&nbsp;</span>Custom Train Split</a></span></li><li><span><a href=\"#Scale\" data-toc-modified-id=\"Scale-1.3.2\"><span class=\"toc-item-num\">1.3.2&nbsp;&nbsp;</span>Scale</a></span></li></ul></li></ul></li><li><span><a href=\"#Linear-Regression\" data-toc-modified-id=\"Linear-Regression-2\"><span class=\"toc-item-num\">2&nbsp;&nbsp;</span>Linear Regression</a></span><ul class=\"toc-item\"><li><span><a href=\"#Lasso\" data-toc-modified-id=\"Lasso-2.1\"><span class=\"toc-item-num\">2.1&nbsp;&nbsp;</span>Lasso</a></span></li><li><span><a href=\"#Ridge\" data-toc-modified-id=\"Ridge-2.2\"><span class=\"toc-item-num\">2.2&nbsp;&nbsp;</span>Ridge</a></span></li></ul></li><li><span><a href=\"#Random-Forest\" data-toc-modified-id=\"Random-Forest-3\"><span class=\"toc-item-num\">3&nbsp;&nbsp;</span>Random Forest</a></span></li><li><span><a href=\"#Bagged-Decision-Tree\" data-toc-modified-id=\"Bagged-Decision-Tree-4\"><span class=\"toc-item-num\">4&nbsp;&nbsp;</span>Bagged Decision Tree</a></span></li><li><span><a href=\"#K-Neighbors-Regressor\" data-toc-modified-id=\"K-Neighbors-Regressor-5\"><span class=\"toc-item-num\">5&nbsp;&nbsp;</span>K Neighbors Regressor</a></span></li><li><span><a href=\"#Results\" data-toc-modified-id=\"Results-6\"><span class=\"toc-item-num\">6&nbsp;&nbsp;</span>Results</a></span></li></ul></div>"
   ]
  },
  {
   "cell_type": "code",
   "execution_count": 226,
   "id": "electronic-pattern",
   "metadata": {
    "ExecuteTime": {
     "end_time": "2021-02-18T22:58:03.915784Z",
     "start_time": "2021-02-18T22:58:03.913033Z"
    }
   },
   "outputs": [],
   "source": [
    "from tensorflow.keras.models import Sequential\n",
    "from tensorflow.keras.layers import Dense\n",
    "from tensorflow.keras.utils import to_categorical\n",
    "\n",
    "import pandas as pd\n",
    "import numpy as np\n",
    "import matplotlib.pyplot as plt\n",
    "import seaborn as sns\n",
    "\n",
    "#preprocessing\n",
    "from sklearn.model_selection import train_test_split\n",
    "from sklearn.preprocessing import StandardScaler\n",
    "from sklearn.metrics import mean_squared_error"
   ]
  },
  {
   "cell_type": "markdown",
   "id": "adult-coupon",
   "metadata": {},
   "source": [
    "## Features Selection\n",
    "\n",
    "The dataset created in the previous notebook has to get trimmed and organized for different models we want to run. "
   ]
  },
  {
   "cell_type": "code",
   "execution_count": 227,
   "id": "handed-berlin",
   "metadata": {
    "ExecuteTime": {
     "end_time": "2021-02-18T22:58:03.925811Z",
     "start_time": "2021-02-18T22:58:03.917553Z"
    }
   },
   "outputs": [],
   "source": [
    "df = pd.read_csv('./data/data_clean_complete.csv')"
   ]
  },
  {
   "cell_type": "code",
   "execution_count": 228,
   "id": "bright-electric",
   "metadata": {
    "ExecuteTime": {
     "end_time": "2021-02-18T22:58:03.938588Z",
     "start_time": "2021-02-18T22:58:03.927929Z"
    }
   },
   "outputs": [
    {
     "name": "stdout",
     "output_type": "stream",
     "text": [
      "<class 'pandas.core.frame.DataFrame'>\n",
      "RangeIndex: 510 entries, 0 to 509\n",
      "Data columns (total 44 columns):\n",
      " #   Column                                              Non-Null Count  Dtype  \n",
      "---  ------                                              --------------  -----  \n",
      " 0   name                                                510 non-null    object \n",
      " 1   state                                               510 non-null    object \n",
      " 2   staff_tests                                         340 non-null    float64\n",
      " 3   total_staff_cases                                   510 non-null    float64\n",
      " 4   staff_recovered                                     500 non-null    float64\n",
      " 5   total_staff_deaths                                  510 non-null    float64\n",
      " 6   prisoner_tests                                      500 non-null    float64\n",
      " 7   total_prisoner_cases                                510 non-null    float64\n",
      " 8   prisoners_recovered                                 500 non-null    float64\n",
      " 9   total_prisoner_deaths                               510 non-null    float64\n",
      " 10  as_of_date                                          510 non-null    object \n",
      " 11  year                                                510 non-null    float64\n",
      " 12  month                                               510 non-null    float64\n",
      " 13  region                                              510 non-null    object \n",
      " 14  civ_death                                           510 non-null    int64  \n",
      " 15  civ_cases                                           510 non-null    int64  \n",
      " 16  civ_hosp                                            510 non-null    int64  \n",
      " 17  civ_tests                                           510 non-null    int64  \n",
      " 18  Design capacity 2000/a                              500 non-null    float64\n",
      " 19  Design capacity 2005/a                              500 non-null    float64\n",
      " 20  Percent of design capacity occupied 2000            500 non-null    float64\n",
      " 21  Percent of design capacity occupied 2005            500 non-null    float64\n",
      " 22  Rated capacity 2000                                 500 non-null    float64\n",
      " 23  Rated capacity 2005                                 500 non-null    float64\n",
      " 24  Percent of rated capacity occupied 2000             500 non-null    float64\n",
      " 25  Percent of rated capacity occupied 2005             500 non-null    float64\n",
      " 26  Total_18                                            500 non-null    float64\n",
      " 27  Male_18                                             500 non-null    float64\n",
      " 28  Female_18                                           500 non-null    float64\n",
      " 29  Total_19                                            500 non-null    float64\n",
      " 30  Male_19                                             500 non-null    float64\n",
      " 31  Female_19                                           500 non-null    float64\n",
      " 32  Total number of facilities                          500 non-null    float64\n",
      " 33  Facilities operating one or more work programs      500 non-null    float64\n",
      " 34  Inmates participating in one or more work programs  500 non-null    float64\n",
      " 35  Prison industries                                   500 non-null    float64\n",
      " 36  Support services                                    500 non-null    float64\n",
      " 37  Farming                                             500 non-null    float64\n",
      " 38  Public works                                        500 non-null    float64\n",
      " 39  Other work programs                                 500 non-null    float64\n",
      " 40  No work programs                                    500 non-null    float64\n",
      " 41  phone_rate_avg                                      500 non-null    float64\n",
      " 42  Latitude                                            500 non-null    float64\n",
      " 43  Longitude                                           500 non-null    float64\n",
      "dtypes: float64(36), int64(4), object(4)\n",
      "memory usage: 175.4+ KB\n"
     ]
    }
   ],
   "source": [
    "df.info()"
   ]
  },
  {
   "cell_type": "markdown",
   "id": "funky-trademark",
   "metadata": {},
   "source": [
    "As mentioned, some of features present in the dataset are not useful for the problem or might result redundant. For this reason I proceed to drop them."
   ]
  },
  {
   "cell_type": "code",
   "execution_count": 229,
   "id": "saving-crisis",
   "metadata": {
    "ExecuteTime": {
     "end_time": "2021-02-18T22:58:03.943027Z",
     "start_time": "2021-02-18T22:58:03.940301Z"
    }
   },
   "outputs": [],
   "source": [
    "df.drop(columns=['state'], inplace= True)"
   ]
  },
  {
   "cell_type": "code",
   "execution_count": 230,
   "id": "mineral-wichita",
   "metadata": {
    "ExecuteTime": {
     "end_time": "2021-02-18T22:58:03.949700Z",
     "start_time": "2021-02-18T22:58:03.944778Z"
    }
   },
   "outputs": [
    {
     "data": {
      "text/plain": [
       "name                                                    0\n",
       "staff_tests                                           170\n",
       "total_staff_cases                                       0\n",
       "staff_recovered                                        10\n",
       "total_staff_deaths                                      0\n",
       "prisoner_tests                                         10\n",
       "total_prisoner_cases                                    0\n",
       "prisoners_recovered                                    10\n",
       "total_prisoner_deaths                                   0\n",
       "as_of_date                                              0\n",
       "year                                                    0\n",
       "month                                                   0\n",
       "region                                                  0\n",
       "civ_death                                               0\n",
       "civ_cases                                               0\n",
       "civ_hosp                                                0\n",
       "civ_tests                                               0\n",
       "Design capacity 2000/a                                 10\n",
       "Design capacity 2005/a                                 10\n",
       "Percent of design capacity occupied 2000               10\n",
       "Percent of design capacity occupied 2005               10\n",
       "Rated capacity 2000                                    10\n",
       "Rated capacity 2005                                    10\n",
       "Percent of rated capacity occupied 2000                10\n",
       "Percent of rated capacity occupied 2005                10\n",
       "Total_18                                               10\n",
       "Male_18                                                10\n",
       "Female_18                                              10\n",
       "Total_19                                               10\n",
       "Male_19                                                10\n",
       "Female_19                                              10\n",
       "Total number of facilities                             10\n",
       "Facilities operating one or more work programs         10\n",
       "Inmates participating in one or more work programs     10\n",
       "Prison industries                                      10\n",
       "Support services                                       10\n",
       "Farming                                                10\n",
       "Public works                                           10\n",
       "Other work programs                                    10\n",
       "No work programs                                       10\n",
       "phone_rate_avg                                         10\n",
       "Latitude                                               10\n",
       "Longitude                                              10\n",
       "dtype: int64"
      ]
     },
     "execution_count": 230,
     "metadata": {},
     "output_type": "execute_result"
    }
   ],
   "source": [
    "df.isnull().sum()"
   ]
  },
  {
   "cell_type": "markdown",
   "id": "dietary-monthly",
   "metadata": {},
   "source": [
    "Remove the federal record, keeping only States."
   ]
  },
  {
   "cell_type": "code",
   "execution_count": 231,
   "id": "creative-jewel",
   "metadata": {
    "ExecuteTime": {
     "end_time": "2021-02-18T22:58:03.954531Z",
     "start_time": "2021-02-18T22:58:03.951111Z"
    }
   },
   "outputs": [],
   "source": [
    "df.drop(df.loc[df['name']== 'Federal'].index, inplace=True)"
   ]
  },
  {
   "cell_type": "code",
   "execution_count": 232,
   "id": "level-house",
   "metadata": {
    "ExecuteTime": {
     "end_time": "2021-02-18T22:58:03.962085Z",
     "start_time": "2021-02-18T22:58:03.956972Z"
    }
   },
   "outputs": [
    {
     "data": {
      "text/plain": [
       "name                                                    0\n",
       "staff_tests                                           160\n",
       "total_staff_cases                                       0\n",
       "staff_recovered                                        10\n",
       "total_staff_deaths                                      0\n",
       "prisoner_tests                                         10\n",
       "total_prisoner_cases                                    0\n",
       "prisoners_recovered                                    10\n",
       "total_prisoner_deaths                                   0\n",
       "as_of_date                                              0\n",
       "year                                                    0\n",
       "month                                                   0\n",
       "region                                                  0\n",
       "civ_death                                               0\n",
       "civ_cases                                               0\n",
       "civ_hosp                                                0\n",
       "civ_tests                                               0\n",
       "Design capacity 2000/a                                  0\n",
       "Design capacity 2005/a                                  0\n",
       "Percent of design capacity occupied 2000                0\n",
       "Percent of design capacity occupied 2005                0\n",
       "Rated capacity 2000                                     0\n",
       "Rated capacity 2005                                     0\n",
       "Percent of rated capacity occupied 2000                 0\n",
       "Percent of rated capacity occupied 2005                 0\n",
       "Total_18                                                0\n",
       "Male_18                                                 0\n",
       "Female_18                                               0\n",
       "Total_19                                                0\n",
       "Male_19                                                 0\n",
       "Female_19                                               0\n",
       "Total number of facilities                              0\n",
       "Facilities operating one or more work programs          0\n",
       "Inmates participating in one or more work programs      0\n",
       "Prison industries                                       0\n",
       "Support services                                        0\n",
       "Farming                                                 0\n",
       "Public works                                            0\n",
       "Other work programs                                     0\n",
       "No work programs                                        0\n",
       "phone_rate_avg                                          0\n",
       "Latitude                                                0\n",
       "Longitude                                               0\n",
       "dtype: int64"
      ]
     },
     "execution_count": 232,
     "metadata": {},
     "output_type": "execute_result"
    }
   ],
   "source": [
    "df.isnull().sum()"
   ]
  },
  {
   "cell_type": "markdown",
   "id": "separated-radiation",
   "metadata": {},
   "source": [
    "### Nulls\n",
    "Drop columns that still have nulls."
   ]
  },
  {
   "cell_type": "code",
   "execution_count": 233,
   "id": "impossible-tackle",
   "metadata": {
    "ExecuteTime": {
     "end_time": "2021-02-18T22:58:03.966776Z",
     "start_time": "2021-02-18T22:58:03.963744Z"
    }
   },
   "outputs": [],
   "source": [
    "df.drop(columns=['staff_tests', 'staff_recovered', 'prisoner_tests', 'prisoners_recovered'], inplace= True)"
   ]
  },
  {
   "cell_type": "markdown",
   "id": "rapid-chest",
   "metadata": {},
   "source": [
    "### Categorical Features\n",
    "\n",
    "State and Region are still objects and we want to transform them in binary features so that we can feed them into our regression models."
   ]
  },
  {
   "cell_type": "code",
   "execution_count": 241,
   "id": "filled-taylor",
   "metadata": {
    "ExecuteTime": {
     "end_time": "2021-02-18T23:02:16.336777Z",
     "start_time": "2021-02-18T23:02:16.329444Z"
    }
   },
   "outputs": [],
   "source": [
    "df = pd.get_dummies(data = df, columns= ['region', 'name'], drop_first=True)"
   ]
  },
  {
   "cell_type": "code",
   "execution_count": 242,
   "id": "graduate-niger",
   "metadata": {
    "ExecuteTime": {
     "end_time": "2021-02-18T23:02:19.440744Z",
     "start_time": "2021-02-18T23:02:19.436769Z"
    }
   },
   "outputs": [],
   "source": [
    "df.drop(columns=['as_of_date'], inplace= True)"
   ]
  },
  {
   "cell_type": "markdown",
   "id": "earlier-prime",
   "metadata": {},
   "source": [
    "### Preprocessing\n",
    "\n",
    "To begin modeling we realize some custom adjustment have to be made.\n",
    "\n",
    "#### Custom Train Split\n",
    "\n",
    "In particular, we decide to create our custo train and test split, using all data from March to December 2020 as a train and testing the models on January 2021 records.\n",
    "\n",
    "This is achieved by srting the dataframe and filtering it per year.\n",
    "\n",
    "*Note: this is possible because we have no overlap between months in 2020 and 2021.*"
   ]
  },
  {
   "cell_type": "code",
   "execution_count": 237,
   "id": "liquid-circumstances",
   "metadata": {
    "ExecuteTime": {
     "end_time": "2021-02-18T22:59:39.524825Z",
     "start_time": "2021-02-18T22:59:39.521375Z"
    }
   },
   "outputs": [],
   "source": [
    "df.sort_values(by= ['month'], ascending=[True], inplace= True)"
   ]
  },
  {
   "cell_type": "code",
   "execution_count": 239,
   "id": "reverse-forwarding",
   "metadata": {
    "ExecuteTime": {
     "end_time": "2021-02-18T23:00:23.085267Z",
     "start_time": "2021-02-18T23:00:23.055800Z"
    }
   },
   "outputs": [
    {
     "data": {
      "text/html": [
       "<div>\n",
       "<style scoped>\n",
       "    .dataframe tbody tr th:only-of-type {\n",
       "        vertical-align: middle;\n",
       "    }\n",
       "\n",
       "    .dataframe tbody tr th {\n",
       "        vertical-align: top;\n",
       "    }\n",
       "\n",
       "    .dataframe thead th {\n",
       "        text-align: right;\n",
       "    }\n",
       "</style>\n",
       "<table border=\"1\" class=\"dataframe\">\n",
       "  <thead>\n",
       "    <tr style=\"text-align: right;\">\n",
       "      <th></th>\n",
       "      <th>name</th>\n",
       "      <th>total_staff_cases</th>\n",
       "      <th>total_staff_deaths</th>\n",
       "      <th>total_prisoner_cases</th>\n",
       "      <th>total_prisoner_deaths</th>\n",
       "      <th>as_of_date</th>\n",
       "      <th>year</th>\n",
       "      <th>month</th>\n",
       "      <th>region</th>\n",
       "      <th>civ_death</th>\n",
       "      <th>...</th>\n",
       "      <th>Inmates participating in one or more work programs</th>\n",
       "      <th>Prison industries</th>\n",
       "      <th>Support services</th>\n",
       "      <th>Farming</th>\n",
       "      <th>Public works</th>\n",
       "      <th>Other work programs</th>\n",
       "      <th>No work programs</th>\n",
       "      <th>phone_rate_avg</th>\n",
       "      <th>Latitude</th>\n",
       "      <th>Longitude</th>\n",
       "    </tr>\n",
       "  </thead>\n",
       "  <tbody>\n",
       "    <tr>\n",
       "      <th>509</th>\n",
       "      <td>Wyoming</td>\n",
       "      <td>10.0</td>\n",
       "      <td>0.0</td>\n",
       "      <td>23.0</td>\n",
       "      <td>0.0</td>\n",
       "      <td>2021-01-19</td>\n",
       "      <td>2021.0</td>\n",
       "      <td>1.0</td>\n",
       "      <td>West</td>\n",
       "      <td>158</td>\n",
       "      <td>...</td>\n",
       "      <td>1001.0</td>\n",
       "      <td>0.0</td>\n",
       "      <td>5.0</td>\n",
       "      <td>2.0</td>\n",
       "      <td>3.0</td>\n",
       "      <td>4.0</td>\n",
       "      <td>0.0</td>\n",
       "      <td>3.20</td>\n",
       "      <td>43.00</td>\n",
       "      <td>-107.500</td>\n",
       "    </tr>\n",
       "    <tr>\n",
       "      <th>139</th>\n",
       "      <td>Illinois</td>\n",
       "      <td>498.0</td>\n",
       "      <td>0.0</td>\n",
       "      <td>2645.0</td>\n",
       "      <td>19.0</td>\n",
       "      <td>2021-01-26</td>\n",
       "      <td>2021.0</td>\n",
       "      <td>1.0</td>\n",
       "      <td>Midwest</td>\n",
       "      <td>3275</td>\n",
       "      <td>...</td>\n",
       "      <td>29544.0</td>\n",
       "      <td>5.0</td>\n",
       "      <td>43.0</td>\n",
       "      <td>0.0</td>\n",
       "      <td>10.0</td>\n",
       "      <td>8.0</td>\n",
       "      <td>1.0</td>\n",
       "      <td>3.59</td>\n",
       "      <td>40.00</td>\n",
       "      <td>-89.250</td>\n",
       "    </tr>\n",
       "    <tr>\n",
       "      <th>129</th>\n",
       "      <td>Idaho</td>\n",
       "      <td>51.0</td>\n",
       "      <td>0.0</td>\n",
       "      <td>361.0</td>\n",
       "      <td>0.0</td>\n",
       "      <td>2021-01-26</td>\n",
       "      <td>2021.0</td>\n",
       "      <td>1.0</td>\n",
       "      <td>West</td>\n",
       "      <td>322</td>\n",
       "      <td>...</td>\n",
       "      <td>2286.0</td>\n",
       "      <td>4.0</td>\n",
       "      <td>12.0</td>\n",
       "      <td>0.0</td>\n",
       "      <td>6.0</td>\n",
       "      <td>4.0</td>\n",
       "      <td>1.0</td>\n",
       "      <td>2.30</td>\n",
       "      <td>44.07</td>\n",
       "      <td>-114.542</td>\n",
       "    </tr>\n",
       "    <tr>\n",
       "      <th>119</th>\n",
       "      <td>Hawaii</td>\n",
       "      <td>19.0</td>\n",
       "      <td>0.0</td>\n",
       "      <td>162.0</td>\n",
       "      <td>1.0</td>\n",
       "      <td>2021-01-26</td>\n",
       "      <td>2021.0</td>\n",
       "      <td>1.0</td>\n",
       "      <td>West</td>\n",
       "      <td>122</td>\n",
       "      <td>...</td>\n",
       "      <td>1718.0</td>\n",
       "      <td>3.0</td>\n",
       "      <td>7.0</td>\n",
       "      <td>3.0</td>\n",
       "      <td>5.0</td>\n",
       "      <td>1.0</td>\n",
       "      <td>2.0</td>\n",
       "      <td>3.36</td>\n",
       "      <td>20.79</td>\n",
       "      <td>-156.340</td>\n",
       "    </tr>\n",
       "    <tr>\n",
       "      <th>359</th>\n",
       "      <td>Ohio</td>\n",
       "      <td>643.0</td>\n",
       "      <td>1.0</td>\n",
       "      <td>446.0</td>\n",
       "      <td>5.0</td>\n",
       "      <td>2021-01-26</td>\n",
       "      <td>2021.0</td>\n",
       "      <td>1.0</td>\n",
       "      <td>Midwest</td>\n",
       "      <td>2213</td>\n",
       "      <td>...</td>\n",
       "      <td>34510.0</td>\n",
       "      <td>17.0</td>\n",
       "      <td>36.0</td>\n",
       "      <td>9.0</td>\n",
       "      <td>22.0</td>\n",
       "      <td>18.0</td>\n",
       "      <td>10.0</td>\n",
       "      <td>2.03</td>\n",
       "      <td>40.25</td>\n",
       "      <td>-83.000</td>\n",
       "    </tr>\n",
       "  </tbody>\n",
       "</table>\n",
       "<p>5 rows × 39 columns</p>\n",
       "</div>"
      ],
      "text/plain": [
       "         name  total_staff_cases  total_staff_deaths  total_prisoner_cases  \\\n",
       "509   Wyoming               10.0                 0.0                  23.0   \n",
       "139  Illinois              498.0                 0.0                2645.0   \n",
       "129     Idaho               51.0                 0.0                 361.0   \n",
       "119    Hawaii               19.0                 0.0                 162.0   \n",
       "359      Ohio              643.0                 1.0                 446.0   \n",
       "\n",
       "     total_prisoner_deaths  as_of_date    year  month   region  civ_death  \\\n",
       "509                    0.0  2021-01-19  2021.0    1.0     West        158   \n",
       "139                   19.0  2021-01-26  2021.0    1.0  Midwest       3275   \n",
       "129                    0.0  2021-01-26  2021.0    1.0     West        322   \n",
       "119                    1.0  2021-01-26  2021.0    1.0     West        122   \n",
       "359                    5.0  2021-01-26  2021.0    1.0  Midwest       2213   \n",
       "\n",
       "     ...  Inmates participating in one or more work programs  \\\n",
       "509  ...                                             1001.0    \n",
       "139  ...                                            29544.0    \n",
       "129  ...                                             2286.0    \n",
       "119  ...                                             1718.0    \n",
       "359  ...                                            34510.0    \n",
       "\n",
       "     Prison industries  Support services  Farming   Public works  \\\n",
       "509                0.0               5.0       2.0           3.0   \n",
       "139                5.0              43.0       0.0          10.0   \n",
       "129                4.0              12.0       0.0           6.0   \n",
       "119                3.0               7.0       3.0           5.0   \n",
       "359               17.0              36.0       9.0          22.0   \n",
       "\n",
       "     Other work programs   No work programs  phone_rate_avg  Latitude  \\\n",
       "509                   4.0               0.0            3.20     43.00   \n",
       "139                   8.0               1.0            3.59     40.00   \n",
       "129                   4.0               1.0            2.30     44.07   \n",
       "119                   1.0               2.0            3.36     20.79   \n",
       "359                  18.0              10.0            2.03     40.25   \n",
       "\n",
       "     Longitude  \n",
       "509   -107.500  \n",
       "139    -89.250  \n",
       "129   -114.542  \n",
       "119   -156.340  \n",
       "359    -83.000  \n",
       "\n",
       "[5 rows x 39 columns]"
      ]
     },
     "execution_count": 239,
     "metadata": {},
     "output_type": "execute_result"
    }
   ],
   "source": [
    "df.head()"
   ]
  },
  {
   "cell_type": "code",
   "execution_count": 244,
   "id": "forced-passage",
   "metadata": {
    "ExecuteTime": {
     "end_time": "2021-02-18T23:06:14.422084Z",
     "start_time": "2021-02-18T23:06:14.417962Z"
    }
   },
   "outputs": [],
   "source": [
    "df_train = df[df[\"year\"] == 2020]\n",
    "df_test = df[df[\"year\"] == 2021]"
   ]
  },
  {
   "cell_type": "code",
   "execution_count": 246,
   "id": "fluid-royalty",
   "metadata": {
    "ExecuteTime": {
     "end_time": "2021-02-18T23:07:17.528979Z",
     "start_time": "2021-02-18T23:07:17.525159Z"
    }
   },
   "outputs": [
    {
     "data": {
      "text/plain": [
       "(450, 88)"
      ]
     },
     "execution_count": 246,
     "metadata": {},
     "output_type": "execute_result"
    }
   ],
   "source": [
    "df_train.shape"
   ]
  },
  {
   "cell_type": "code",
   "execution_count": 283,
   "id": "typical-simple",
   "metadata": {
    "ExecuteTime": {
     "end_time": "2021-02-18T23:16:26.571890Z",
     "start_time": "2021-02-18T23:16:26.567015Z"
    }
   },
   "outputs": [],
   "source": [
    "X_train = df_train.drop(columns=['total_prisoner_cases', 'total_prisoner_deaths'])\n",
    "X_test = df_test.drop(columns=['total_prisoner_cases', 'total_prisoner_deaths'])\n",
    "\n",
    "y_train = df_train['total_prisoner_cases']\n",
    "y_test = df_test['total_prisoner_cases']"
   ]
  },
  {
   "cell_type": "markdown",
   "id": "another-senegal",
   "metadata": {},
   "source": [
    "#### Scale\n",
    "\n",
    "Than we scale our Features sets."
   ]
  },
  {
   "cell_type": "code",
   "execution_count": 286,
   "id": "precious-guide",
   "metadata": {
    "ExecuteTime": {
     "end_time": "2021-02-18T23:16:30.013557Z",
     "start_time": "2021-02-18T23:16:30.010296Z"
    }
   },
   "outputs": [
    {
     "data": {
      "text/plain": [
       "((450, 86), (450,))"
      ]
     },
     "execution_count": 286,
     "metadata": {},
     "output_type": "execute_result"
    }
   ],
   "source": [
    "X_train.shape, y_train.shape"
   ]
  },
  {
   "cell_type": "code",
   "execution_count": 287,
   "id": "coastal-dispute",
   "metadata": {
    "ExecuteTime": {
     "end_time": "2021-02-18T23:16:31.933372Z",
     "start_time": "2021-02-18T23:16:31.922732Z"
    }
   },
   "outputs": [],
   "source": [
    "#Initiate standard scaler\n",
    "ss = StandardScaler()\n",
    "\n",
    "#finding the mean of standard deviation for each column\n",
    "Xs_train = ss.fit_transform(X_train)\n",
    "Xs_test = ss.transform(X_test)"
   ]
  },
  {
   "cell_type": "markdown",
   "id": "solid-monaco",
   "metadata": {},
   "source": [
    "# Predict Number of cases of COVID 19 among Prisoners"
   ]
  },
  {
   "cell_type": "markdown",
   "id": "expected-relations",
   "metadata": {},
   "source": [
    "## Linear Regression"
   ]
  },
  {
   "cell_type": "code",
   "execution_count": 288,
   "id": "placed-jewel",
   "metadata": {
    "ExecuteTime": {
     "end_time": "2021-02-18T23:16:33.633819Z",
     "start_time": "2021-02-18T23:16:33.631702Z"
    }
   },
   "outputs": [],
   "source": [
    "from sklearn.linear_model import LinearRegression\n",
    "from sklearn import metrics"
   ]
  },
  {
   "cell_type": "code",
   "execution_count": 289,
   "id": "macro-conditioning",
   "metadata": {
    "ExecuteTime": {
     "end_time": "2021-02-18T23:16:34.739046Z",
     "start_time": "2021-02-18T23:16:34.733231Z"
    }
   },
   "outputs": [
    {
     "data": {
      "text/plain": [
       "LinearRegression()"
      ]
     },
     "execution_count": 289,
     "metadata": {},
     "output_type": "execute_result"
    }
   ],
   "source": [
    "# Step 2: Instantiate the model\n",
    "lr = LinearRegression()\n",
    "\n",
    "# Step 3: Fit the model\n",
    "lr.fit(Xs_train, y_train)"
   ]
  },
  {
   "cell_type": "code",
   "execution_count": 290,
   "id": "affected-resident",
   "metadata": {
    "ExecuteTime": {
     "end_time": "2021-02-18T23:16:35.881772Z",
     "start_time": "2021-02-18T23:16:35.879534Z"
    }
   },
   "outputs": [],
   "source": [
    "y_preds = lr.predict(Xs_test)"
   ]
  },
  {
   "cell_type": "code",
   "execution_count": 291,
   "id": "medium-pickup",
   "metadata": {
    "ExecuteTime": {
     "end_time": "2021-02-18T23:16:36.717453Z",
     "start_time": "2021-02-18T23:16:36.713833Z"
    }
   },
   "outputs": [
    {
     "data": {
      "text/plain": [
       "1.0975281486062581e+30"
      ]
     },
     "execution_count": 291,
     "metadata": {},
     "output_type": "execute_result"
    }
   ],
   "source": [
    "metrics.mean_squared_error(y_test, y_preds)"
   ]
  },
  {
   "cell_type": "code",
   "execution_count": 292,
   "id": "closing-alignment",
   "metadata": {
    "ExecuteTime": {
     "end_time": "2021-02-18T23:16:38.367283Z",
     "start_time": "2021-02-18T23:16:38.241625Z"
    }
   },
   "outputs": [
    {
     "data": {
      "image/png": "[encoded data removed]",
      "text/plain": [
       "<Figure size 432x288 with 1 Axes>"
      ]
     },
     "metadata": {
      "needs_background": "light"
     },
     "output_type": "display_data"
    }
   ],
   "source": [
    "plt.plot(y_test, y_preds, color = 'blue');"
   ]
  },
  {
   "cell_type": "code",
   "execution_count": 293,
   "id": "cardiac-customer",
   "metadata": {
    "ExecuteTime": {
     "end_time": "2021-02-18T23:16:39.215924Z",
     "start_time": "2021-02-18T23:16:39.210535Z"
    }
   },
   "outputs": [
    {
     "data": {
      "text/plain": [
       "(0.818020964511634, -5.5355145420157543e+23)"
      ]
     },
     "execution_count": 293,
     "metadata": {},
     "output_type": "execute_result"
    }
   ],
   "source": [
    "lr.score(Xs_train,y_train), lr.score(Xs_test,y_test)"
   ]
  },
  {
   "cell_type": "markdown",
   "id": "immediate-loading",
   "metadata": {},
   "source": [
    "Linear regression out of the box is performing poorly on our dataset."
   ]
  },
  {
   "cell_type": "markdown",
   "id": "fabulous-relation",
   "metadata": {},
   "source": [
    "### Lasso\n",
    "\n",
    "We decide to run Lasso for its high interpretability and coefficent analysis."
   ]
  },
  {
   "cell_type": "code",
   "execution_count": 294,
   "id": "banner-ballot",
   "metadata": {
    "ExecuteTime": {
     "end_time": "2021-02-18T23:16:42.565788Z",
     "start_time": "2021-02-18T23:16:42.563918Z"
    }
   },
   "outputs": [],
   "source": [
    "from sklearn.model_selection import cross_val_score, GridSearchCV\n",
    "from sklearn.linear_model import Lasso, LassoCV"
   ]
  },
  {
   "cell_type": "code",
   "execution_count": 295,
   "id": "reported-foundation",
   "metadata": {
    "ExecuteTime": {
     "end_time": "2021-02-18T23:16:45.274842Z",
     "start_time": "2021-02-18T23:16:43.372379Z"
    }
   },
   "outputs": [
    {
     "data": {
      "text/plain": [
       "63.76600051791755"
      ]
     },
     "execution_count": 295,
     "metadata": {},
     "output_type": "execute_result"
    }
   ],
   "source": [
    "# Set up a list of Lasso alphas to check.\n",
    "l_alphas = np.logspace(0.001, 100, 500)\n",
    "\n",
    "# Cross-validate over our list of Lasso alphas.\n",
    "lasso_cv = LassoCV(alphas= l_alphas, cv = 50, max_iter= 5000)\n",
    "# Fit model using best alpha\n",
    "lasso_cv.fit(Xs_train, y_train)\n",
    "\n",
    "# Here is the optimal value of alpha\n",
    "lasso_cv.alpha_"
   ]
  },
  {
   "cell_type": "code",
   "execution_count": 296,
   "id": "canadian-shuttle",
   "metadata": {
    "ExecuteTime": {
     "end_time": "2021-02-18T23:16:46.304646Z",
     "start_time": "2021-02-18T23:16:46.299765Z"
    }
   },
   "outputs": [
    {
     "name": "stdout",
     "output_type": "stream",
     "text": [
      "0.7610732346309405\n",
      "0.6982595083790535\n"
     ]
    }
   ],
   "source": [
    "print(lasso_cv.score(Xs_train, y_train)),\n",
    "print(lasso_cv.score(Xs_test, y_test))"
   ]
  },
  {
   "cell_type": "code",
   "execution_count": 297,
   "id": "indonesian-sessions",
   "metadata": {
    "ExecuteTime": {
     "end_time": "2021-02-18T23:16:52.779335Z",
     "start_time": "2021-02-18T23:16:52.777154Z"
    }
   },
   "outputs": [],
   "source": [
    "lasso = Lasso(lasso_cv.alpha_, max_iter= 5000, tol=0.001)"
   ]
  },
  {
   "cell_type": "code",
   "execution_count": 298,
   "id": "intermediate-pepper",
   "metadata": {
    "ExecuteTime": {
     "end_time": "2021-02-18T23:16:53.506296Z",
     "start_time": "2021-02-18T23:16:53.500779Z"
    }
   },
   "outputs": [
    {
     "data": {
      "text/plain": [
       "Lasso(alpha=63.76600051791755, max_iter=5000, tol=0.001)"
      ]
     },
     "execution_count": 298,
     "metadata": {},
     "output_type": "execute_result"
    }
   ],
   "source": [
    "lasso.fit(Xs_train, y_train)"
   ]
  },
  {
   "cell_type": "code",
   "execution_count": 299,
   "id": "shared-gather",
   "metadata": {
    "ExecuteTime": {
     "end_time": "2021-02-18T23:16:54.485961Z",
     "start_time": "2021-02-18T23:16:54.465851Z"
    }
   },
   "outputs": [],
   "source": [
    "lasso_score = cross_val_score(lasso, Xs_train, y_train, cv=10)"
   ]
  },
  {
   "cell_type": "code",
   "execution_count": 300,
   "id": "generous-handbook",
   "metadata": {
    "ExecuteTime": {
     "end_time": "2021-02-18T23:16:55.707535Z",
     "start_time": "2021-02-18T23:16:55.704402Z"
    }
   },
   "outputs": [
    {
     "name": "stdout",
     "output_type": "stream",
     "text": [
      "[-1.8077575   0.36922094  0.57366335  0.84337222  0.56154981  0.80084235\n",
      "  0.34788832  0.59491115  0.47207641  0.8550235 ]\n",
      "0.3610790555527858\n"
     ]
    }
   ],
   "source": [
    "print(lasso_score)\n",
    "print(np.mean(lasso_score))"
   ]
  },
  {
   "cell_type": "code",
   "execution_count": 301,
   "id": "funny-packet",
   "metadata": {
    "ExecuteTime": {
     "end_time": "2021-02-18T23:16:56.762417Z",
     "start_time": "2021-02-18T23:16:56.760557Z"
    }
   },
   "outputs": [],
   "source": [
    "coefs = lasso.coef_"
   ]
  },
  {
   "cell_type": "code",
   "execution_count": 302,
   "id": "signal-driving",
   "metadata": {
    "ExecuteTime": {
     "end_time": "2021-02-18T23:17:18.597036Z",
     "start_time": "2021-02-18T23:17:18.589518Z"
    },
    "scrolled": false
   },
   "outputs": [
    {
     "data": {
      "text/plain": [
       "[[[(1113.4732035260283, 'total_staff_cases'),\n",
       "   (125.82586824592056, 'name_Michigan'),\n",
       "   (50.03721751236157, 'name_Arkansas'),\n",
       "   (2.2119335269411384, 'Farming '),\n",
       "   (0.0, 'year'),\n",
       "   (-0.0, 'total_staff_deaths'),\n",
       "   (0.0, 'region_West'),\n",
       "   (0.0, 'region_South'),\n",
       "   (0.0, 'phone_rate_avg'),\n",
       "   (-0.0, 'name_Wyoming'),\n",
       "   (0.0, 'name_Wisconsin'),\n",
       "   (-0.0, 'name_West Virginia'),\n",
       "   (0.0, 'name_Washington'),\n",
       "   (0.0, 'name_Virginia'),\n",
       "   (-0.0, 'name_Vermont'),\n",
       "   (0.0, 'name_Utah'),\n",
       "   (0.0, 'name_Texas'),\n",
       "   (0.0, 'name_Tennessee'),\n",
       "   (0.0, 'name_South Dakota'),\n",
       "   (-0.0, 'name_South Carolina'),\n",
       "   (-0.0, 'name_Rhode Island'),\n",
       "   (-0.0, 'name_Pennsylvania'),\n",
       "   (-0.0, 'name_Oregon'),\n",
       "   (0.0, 'name_Oklahoma'),\n",
       "   (-0.0, 'name_Ohio'),\n",
       "   (-0.0, 'name_North Dakota'),\n",
       "   (-0.0, 'name_North Carolina'),\n",
       "   (-0.0, 'name_New Mexico'),\n",
       "   (-0.0, 'name_New Jersey'),\n",
       "   (-0.0, 'name_New Hampshire'),\n",
       "   (-0.0, 'name_Nevada'),\n",
       "   (-0.0, 'name_Nebraska'),\n",
       "   (-0.0, 'name_Montana'),\n",
       "   (-0.0, 'name_Missouri'),\n",
       "   (-0.0, 'name_Mississippi'),\n",
       "   (-0.0, 'name_Minnesota'),\n",
       "   (-0.0, 'name_Massachusetts'),\n",
       "   (-0.0, 'name_Maryland'),\n",
       "   (-0.0, 'name_Maine'),\n",
       "   (-0.0, 'name_Louisiana'),\n",
       "   (0.0, 'name_Kentucky'),\n",
       "   (0.0, 'name_Kansas'),\n",
       "   (0.0, 'name_Iowa'),\n",
       "   (-0.0, 'name_Indiana'),\n",
       "   (-0.0, 'name_Illinois'),\n",
       "   (0.0, 'name_Idaho'),\n",
       "   (0.0, 'name_Hawaii'),\n",
       "   (-0.0, 'name_Georgia'),\n",
       "   (0.0, 'name_Florida'),\n",
       "   (-0.0, 'name_Delaware'),\n",
       "   (-0.0, 'name_Connecticut'),\n",
       "   (0.0, 'name_Colorado'),\n",
       "   (0.0, 'name_California'),\n",
       "   (0.0, 'name_Arizona'),\n",
       "   (0.0, 'name_Alaska'),\n",
       "   (0.0, 'month'),\n",
       "   (0.0, 'civ_tests'),\n",
       "   (-0.0, 'civ_hosp'),\n",
       "   (-0.0, 'civ_death'),\n",
       "   (-0.0, 'civ_cases'),\n",
       "   (0.0, 'Total_19'),\n",
       "   (0.0, 'Total_18'),\n",
       "   (0.0, 'Total number of facilities'),\n",
       "   (0.0, 'Support services'),\n",
       "   (0.0, 'Rated capacity 2005'),\n",
       "   (0.0, 'Rated capacity 2000'),\n",
       "   (0.0, 'Public works'),\n",
       "   (0.0, 'Prison industries'),\n",
       "   (0.0, 'Percent of rated capacity occupied 2005'),\n",
       "   (-0.0, 'Percent of rated capacity occupied 2000'),\n",
       "   (0.0, 'Percent of design capacity occupied 2005'),\n",
       "   (-0.0, 'Percent of design capacity occupied 2000'),\n",
       "   (0.0, 'Other work programs '),\n",
       "   (0.0, 'No work programs'),\n",
       "   (0.0, 'Male_19'),\n",
       "   (0.0, 'Male_18'),\n",
       "   (-0.0, 'Longitude'),\n",
       "   (-0.0, 'Latitude'),\n",
       "   (0.0, 'Inmates participating in one or more work programs'),\n",
       "   (0.0, 'Female_19'),\n",
       "   (0.0, 'Female_18'),\n",
       "   (0.0, 'Facilities operating one or more work programs'),\n",
       "   (0.0, 'Design capacity 2005/a'),\n",
       "   (0.0, 'Design capacity 2000/a'),\n",
       "   (-13.940842045610447, 'region_Northeast'),\n",
       "   (-35.07731840735231, 'name_New York')]]]"
      ]
     },
     "execution_count": 302,
     "metadata": {},
     "output_type": "execute_result"
    }
   ],
   "source": [
    "cf_list = [[list(sorted(zip(coefs, X_test.columns), reverse=True))]]\n",
    "cf_list"
   ]
  },
  {
   "cell_type": "markdown",
   "id": "suited-aaron",
   "metadata": {},
   "source": [
    "Staff cases appears to have the highest weight in predicting the number of prisoners covid19 cases. Although we notice Farming as having an incredibly high value compared to other features."
   ]
  },
  {
   "cell_type": "markdown",
   "id": "compressed-clerk",
   "metadata": {},
   "source": [
    "### Ridge\n",
    "\n",
    "Also we ran a Ridge model, cross validating it. We expect the results to be in the same range of performance as Lasso."
   ]
  },
  {
   "cell_type": "code",
   "execution_count": 306,
   "id": "limiting-stockholm",
   "metadata": {
    "ExecuteTime": {
     "end_time": "2021-02-18T23:19:09.541454Z",
     "start_time": "2021-02-18T23:19:09.539472Z"
    }
   },
   "outputs": [],
   "source": [
    "from sklearn.linear_model import Ridge, RidgeCV"
   ]
  },
  {
   "cell_type": "code",
   "execution_count": 307,
   "id": "spare-hurricane",
   "metadata": {
    "ExecuteTime": {
     "end_time": "2021-02-18T23:19:09.968772Z",
     "start_time": "2021-02-18T23:19:09.965895Z"
    }
   },
   "outputs": [],
   "source": [
    "r_alphas = np.logspace(0,5,100) #alphase from 1 to 10ˆ5\n",
    "\n",
    "# Cross-validate over our list of ridge alphas.\n",
    "ridge_cv = RidgeCV(alphas= r_alphas,\n",
    "  scoring= 'r2',\n",
    "  cv = 5)"
   ]
  },
  {
   "cell_type": "code",
   "execution_count": 308,
   "id": "circular-surrey",
   "metadata": {
    "ExecuteTime": {
     "end_time": "2021-02-18T23:19:11.536767Z",
     "start_time": "2021-02-18T23:19:10.416119Z"
    }
   },
   "outputs": [],
   "source": [
    "ridge_cv.fit(Xs_train, y_train);"
   ]
  },
  {
   "cell_type": "code",
   "execution_count": 309,
   "id": "closed-layer",
   "metadata": {
    "ExecuteTime": {
     "end_time": "2021-02-18T23:19:11.541795Z",
     "start_time": "2021-02-18T23:19:11.538816Z"
    }
   },
   "outputs": [
    {
     "data": {
      "text/plain": [
       "533.6699231206308"
      ]
     },
     "execution_count": 309,
     "metadata": {},
     "output_type": "execute_result"
    }
   ],
   "source": [
    "ridge_cv.alpha_# Here is the optimal value of alpha"
   ]
  },
  {
   "cell_type": "code",
   "execution_count": 310,
   "id": "bulgarian-proxy",
   "metadata": {
    "ExecuteTime": {
     "end_time": "2021-02-18T23:19:11.818934Z",
     "start_time": "2021-02-18T23:19:11.813305Z"
    }
   },
   "outputs": [
    {
     "data": {
      "text/plain": [
       "Ridge(alpha=533.6699231206308)"
      ]
     },
     "execution_count": 310,
     "metadata": {},
     "output_type": "execute_result"
    }
   ],
   "source": [
    "#Now adding alpha in my model\n",
    "# Instantiate.\n",
    "ridge_model = Ridge(alpha = ridge_cv.alpha_)\n",
    "# Fit.\n",
    "ridge_model.fit(Xs_train, y_train)"
   ]
  },
  {
   "cell_type": "code",
   "execution_count": 312,
   "id": "analyzed-consequence",
   "metadata": {
    "ExecuteTime": {
     "end_time": "2021-02-18T23:19:25.652003Z",
     "start_time": "2021-02-18T23:19:25.647881Z"
    }
   },
   "outputs": [
    {
     "name": "stdout",
     "output_type": "stream",
     "text": [
      "0.6353589052546409\n",
      "0.7508002032339519\n"
     ]
    }
   ],
   "source": [
    "print(ridge_model.score(Xs_train, y_train))\n",
    "print(ridge_model.score(Xs_test, y_test))"
   ]
  },
  {
   "cell_type": "markdown",
   "id": "manufactured-psychiatry",
   "metadata": {},
   "source": [
    "The model appears to perform better on test data that on train, with a pretty significant variance."
   ]
  },
  {
   "cell_type": "markdown",
   "id": "alternative-brunswick",
   "metadata": {},
   "source": [
    "## Random Forest\n",
    "\n",
    "Random forest regressor is a model we believe can work well with our dataset. Even if it tends to overfit, the fact that many features values are replicated by state could improve the model ability to create meaningful splits, resulting in better predictions."
   ]
  },
  {
   "cell_type": "code",
   "execution_count": 313,
   "id": "marine-junction",
   "metadata": {
    "ExecuteTime": {
     "end_time": "2021-02-18T23:19:26.729607Z",
     "start_time": "2021-02-18T23:19:26.727697Z"
    }
   },
   "outputs": [],
   "source": [
    "from sklearn.ensemble import RandomForestRegressor"
   ]
  },
  {
   "cell_type": "code",
   "execution_count": 314,
   "id": "regional-combine",
   "metadata": {
    "ExecuteTime": {
     "end_time": "2021-02-18T23:19:27.956271Z",
     "start_time": "2021-02-18T23:19:27.358921Z"
    }
   },
   "outputs": [
    {
     "name": "stdout",
     "output_type": "stream",
     "text": [
      "Score on training set: 0.9124165969025751\n",
      "Score on testing set: 0.7363445446706512\n"
     ]
    }
   ],
   "source": [
    "rf = RandomForestRegressor(random_state = 42)\n",
    "rf.fit(Xs_train, y_train)\n",
    "\n",
    "rf_pred = rf.predict(Xs_test) \n",
    "print(f'Score on training set: {rf.score(Xs_train, y_train)}')\n",
    "print(f'Score on testing set: {rf.score(Xs_test, y_test)}')"
   ]
  },
  {
   "cell_type": "markdown",
   "id": "dominican-northeast",
   "metadata": {},
   "source": [
    "The out of the box model scores well but it is overfit.\n",
    "\n",
    "To combat this we run a gridsearch."
   ]
  },
  {
   "cell_type": "code",
   "execution_count": 319,
   "id": "wired-treasury",
   "metadata": {
    "ExecuteTime": {
     "end_time": "2021-02-18T23:26:42.159555Z",
     "start_time": "2021-02-18T23:20:53.680798Z"
    }
   },
   "outputs": [
    {
     "name": "stdout",
     "output_type": "stream",
     "text": [
      "Fitting 5 folds for each of 108 candidates, totalling 540 fits\n",
      "0.12833310846559304\n"
     ]
    },
    {
     "data": {
      "text/plain": [
       "{'max_depth': 10,\n",
       " 'max_features': 'log2',\n",
       " 'min_samples_leaf': 2,\n",
       " 'min_samples_split': 2,\n",
       " 'n_estimators': 200}"
      ]
     },
     "execution_count": 319,
     "metadata": {},
     "output_type": "execute_result"
    }
   ],
   "source": [
    "rf_params = {\n",
    "    'n_estimators': [200, 300, 500],\n",
    "    'max_depth': [5, 7, 10],\n",
    "    'min_samples_split': [2, 3, 5],\n",
    "    'min_samples_leaf': [2, 3],\n",
    "    'max_features': ['auto', 'log2']\n",
    "}\n",
    "gs_rf = GridSearchCV(rf, param_grid=rf_params, cv=5, n_jobs = 1, verbose = True)\n",
    "gs_rf.fit(Xs_train, y_train)\n",
    "print(gs_rf.best_score_)\n",
    "gs_rf.best_params_"
   ]
  },
  {
   "cell_type": "code",
   "execution_count": 40,
   "id": "humanitarian-recorder",
   "metadata": {
    "ExecuteTime": {
     "end_time": "2021-02-18T19:09:28.933489Z",
     "start_time": "2021-02-18T19:09:28.906647Z"
    }
   },
   "outputs": [],
   "source": [
    "gs_rf_pred = gs_rf.predict(Xs_test)"
   ]
  },
  {
   "cell_type": "code",
   "execution_count": 320,
   "id": "editorial-silicon",
   "metadata": {
    "ExecuteTime": {
     "end_time": "2021-02-18T23:29:44.336762Z",
     "start_time": "2021-02-18T23:29:44.333690Z"
    }
   },
   "outputs": [],
   "source": [
    "rf_best = RandomForestRegressor(max_depth = 10,\n",
    " max_features = 'log2',\n",
    " min_samples_leaf = 2,\n",
    " min_samples_split = 2,\n",
    " n_estimators = 200, random_state= 1)"
   ]
  },
  {
   "cell_type": "code",
   "execution_count": 321,
   "id": "accepted-lexington",
   "metadata": {
    "ExecuteTime": {
     "end_time": "2021-02-18T23:29:46.359312Z",
     "start_time": "2021-02-18T23:29:46.074445Z"
    }
   },
   "outputs": [
    {
     "name": "stdout",
     "output_type": "stream",
     "text": [
      "Score on training set: 0.7184912174679712\n",
      "Score on testing set: 0.7585878168961042\n"
     ]
    }
   ],
   "source": [
    "rf_best.fit(Xs_train, y_train)\n",
    "\n",
    "rf_pred = rf_best.predict(Xs_test) \n",
    "print(f'Score on training set: {rf_best.score(Xs_train, y_train)}')\n",
    "print(f'Score on testing set: {rf_best.score(Xs_test, y_test)}')"
   ]
  },
  {
   "cell_type": "code",
   "execution_count": 360,
   "id": "labeled-authorization",
   "metadata": {
    "ExecuteTime": {
     "end_time": "2021-02-19T06:29:55.359801Z",
     "start_time": "2021-02-19T06:29:55.340183Z"
    }
   },
   "outputs": [
    {
     "data": {
      "text/plain": [
       "478648.6682709173"
      ]
     },
     "execution_count": 360,
     "metadata": {},
     "output_type": "execute_result"
    }
   ],
   "source": [
    "rmse_rf = mean_squared_error(y_test, rf_pred)\n",
    "rmse_rf"
   ]
  },
  {
   "cell_type": "markdown",
   "id": "aggressive-polls",
   "metadata": {},
   "source": [
    "With the gridsearch we have significantly reduced the variance."
   ]
  },
  {
   "cell_type": "markdown",
   "id": "internal-binding",
   "metadata": {},
   "source": [
    "## Bagged Decision Tree\n",
    "\n",
    "As per Random Forest, also bagged decision tree an perform well on our data in our expectations."
   ]
  },
  {
   "cell_type": "code",
   "execution_count": 328,
   "id": "biological-thong",
   "metadata": {
    "ExecuteTime": {
     "end_time": "2021-02-19T01:30:08.786893Z",
     "start_time": "2021-02-19T01:30:08.784782Z"
    }
   },
   "outputs": [],
   "source": [
    "from sklearn.ensemble import BaggingRegressor"
   ]
  },
  {
   "cell_type": "code",
   "execution_count": 329,
   "id": "canadian-boston",
   "metadata": {
    "ExecuteTime": {
     "end_time": "2021-02-19T01:30:09.632471Z",
     "start_time": "2021-02-19T01:30:09.551621Z"
    }
   },
   "outputs": [
    {
     "data": {
      "text/plain": [
       "BaggingRegressor()"
      ]
     },
     "execution_count": 329,
     "metadata": {},
     "output_type": "execute_result"
    }
   ],
   "source": [
    "bg = BaggingRegressor()\n",
    "bg.fit(Xs_train, y_train)"
   ]
  },
  {
   "cell_type": "code",
   "execution_count": 330,
   "id": "everyday-chair",
   "metadata": {
    "ExecuteTime": {
     "end_time": "2021-02-19T01:30:10.257764Z",
     "start_time": "2021-02-19T01:30:10.247224Z"
    }
   },
   "outputs": [
    {
     "name": "stdout",
     "output_type": "stream",
     "text": [
      "Score on training set: 0.9089241643435625\n",
      "Score on testing set: 0.4480433250212753\n"
     ]
    }
   ],
   "source": [
    "bg_pred = bg.predict(Xs_test) \n",
    "print(f'Score on training set: {bg.score(Xs_train, y_train)}')\n",
    "print(f'Score on testing set: {bg.score(Xs_test, y_test)}')"
   ]
  },
  {
   "cell_type": "markdown",
   "id": "sustainable-sauce",
   "metadata": {},
   "source": [
    "The out of the box model does great but we decide to run a gridsearch trying to combat overfit."
   ]
  },
  {
   "cell_type": "code",
   "execution_count": 331,
   "id": "baking-little",
   "metadata": {
    "ExecuteTime": {
     "end_time": "2021-02-19T01:30:39.697966Z",
     "start_time": "2021-02-19T01:30:11.623065Z"
    }
   },
   "outputs": [
    {
     "name": "stdout",
     "output_type": "stream",
     "text": [
      "Fitting 5 folds for each of 54 candidates, totalling 270 fits\n",
      "0.29001257980693185\n"
     ]
    },
    {
     "data": {
      "text/plain": [
       "{'bootstrap_features': True,\n",
       " 'max_features': 0.75,\n",
       " 'max_samples': 0.9,\n",
       " 'n_estimators': 20}"
      ]
     },
     "execution_count": 331,
     "metadata": {},
     "output_type": "execute_result"
    }
   ],
   "source": [
    "bag_params = {\n",
    "    'n_estimators': [20, 25, 50],\n",
    "    'max_samples': [0.5, 0.75, 0.9],\n",
    "    'max_features': [0.5, 0.75, 0.9],\n",
    "    'bootstrap_features': [True, False]\n",
    "}\n",
    "gs_bag = GridSearchCV(bg, param_grid=bag_params, cv=5, n_jobs = 1, verbose = True)\n",
    "gs_bag.fit(Xs_train, y_train)\n",
    "print(gs_bag.best_score_)\n",
    "gs_bag.best_params_"
   ]
  },
  {
   "cell_type": "code",
   "execution_count": 333,
   "id": "african-surge",
   "metadata": {
    "ExecuteTime": {
     "end_time": "2021-02-19T01:31:00.066092Z",
     "start_time": "2021-02-19T01:30:59.963672Z"
    }
   },
   "outputs": [],
   "source": [
    "bg_best = BaggingRegressor(bootstrap_features = True,\n",
    " max_features = 0.75,\n",
    " max_samples = 0.9,\n",
    " n_estimators = 20, random_state=1)\n",
    "\n",
    "bg_best.fit(Xs_train, y_train);"
   ]
  },
  {
   "cell_type": "code",
   "execution_count": 334,
   "id": "hired-dinner",
   "metadata": {
    "ExecuteTime": {
     "end_time": "2021-02-19T01:31:01.250414Z",
     "start_time": "2021-02-19T01:31:01.236513Z"
    }
   },
   "outputs": [
    {
     "name": "stdout",
     "output_type": "stream",
     "text": [
      "Score on training set: 0.8211512473090699\n",
      "Score on testing set: 0.6799943457561586\n"
     ]
    }
   ],
   "source": [
    "bg_best_pred = bg_best.predict(Xs_test) \n",
    "print(f'Score on training set: {bg_best.score(Xs_train, y_train)}')\n",
    "print(f'Score on testing set: {bg_best.score(Xs_test, y_test)}')"
   ]
  },
  {
   "cell_type": "markdown",
   "id": "sudden-absence",
   "metadata": {},
   "source": [
    "Good improvement but still oThe gridsearched model results having worse performances overall, but signifiantly improving the variance of 3 percentage points.verfit"
   ]
  },
  {
   "cell_type": "markdown",
   "id": "computational-release",
   "metadata": {},
   "source": [
    "## K Neighbors Regressor\n",
    "\n",
    "Considering how lustered our data might appear by state, we decide to run a KNN Regressor."
   ]
  },
  {
   "cell_type": "code",
   "execution_count": 336,
   "id": "documentary-reporter",
   "metadata": {
    "ExecuteTime": {
     "end_time": "2021-02-19T01:31:41.401237Z",
     "start_time": "2021-02-19T01:31:41.398793Z"
    }
   },
   "outputs": [],
   "source": [
    "from sklearn.neighbors import KNeighborsRegressor"
   ]
  },
  {
   "cell_type": "code",
   "execution_count": 349,
   "id": "warming-packing",
   "metadata": {
    "ExecuteTime": {
     "end_time": "2021-02-19T01:35:17.530050Z",
     "start_time": "2021-02-19T01:35:17.520457Z"
    }
   },
   "outputs": [
    {
     "name": "stdout",
     "output_type": "stream",
     "text": [
      "Score on training set: 0.5589812481019902\n",
      "Score on testing set: 0.5173902049782084\n"
     ]
    }
   ],
   "source": [
    "knn = KNeighborsRegressor()\n",
    "\n",
    "knn.fit(Xs_train, y_train)\n",
    "\n",
    "print(f'Score on training set: {knn.score(Xs_train, y_train)}')\n",
    "print(f'Score on testing set: {knn.score(Xs_test, y_test)}')"
   ]
  },
  {
   "cell_type": "markdown",
   "id": "graduate-builder",
   "metadata": {},
   "source": [
    "The results on the out of the box model are lower than other models ran so far, but the variace is very low. We believe that having more months of data this model could really give reliable results."
   ]
  },
  {
   "cell_type": "code",
   "execution_count": 346,
   "id": "consecutive-match",
   "metadata": {
    "ExecuteTime": {
     "end_time": "2021-02-19T01:34:23.890277Z",
     "start_time": "2021-02-19T01:34:23.516280Z"
    }
   },
   "outputs": [
    {
     "name": "stdout",
     "output_type": "stream",
     "text": [
      "Fitting 10 folds for each of 18 candidates, totalling 180 fits\n"
     ]
    },
    {
     "data": {
      "text/plain": [
       "{'metric': 'manhattan', 'n_neighbors': 7, 'weights': 'distance'}"
      ]
     },
     "execution_count": 346,
     "metadata": {},
     "output_type": "execute_result"
    }
   ],
   "source": [
    "knn_params = {\n",
    "    'n_neighbors': (7, 9, 12),\n",
    "    'metric': ['euclidean', 'manhattan', 'minkowski'],\n",
    "    'weights' : ['uniform', 'distance']\n",
    "}\n",
    "\n",
    "# Instantiate our GridSearchCV object.\n",
    "knn_gs = GridSearchCV(knn, \n",
    "                              knn_params, \n",
    "                              cv = 10, \n",
    "                              verbose=1)\n",
    "                              \n",
    "# Fit the GridSearchCV object to the data\n",
    "knn_gs.fit(Xs_train, y_train)\n",
    "# Print out the set of hyperparameters that achieved the best score.\n",
    "knn_gs.best_params_"
   ]
  },
  {
   "cell_type": "code",
   "execution_count": 347,
   "id": "complete-courtesy",
   "metadata": {
    "ExecuteTime": {
     "end_time": "2021-02-19T01:34:25.368401Z",
     "start_time": "2021-02-19T01:34:25.364069Z"
    }
   },
   "outputs": [
    {
     "data": {
      "text/plain": [
       "KNeighborsRegressor(metric='manhattan', n_neighbors=7, weights='distance')"
      ]
     },
     "execution_count": 347,
     "metadata": {},
     "output_type": "execute_result"
    }
   ],
   "source": [
    "knn_best = KNeighborsRegressor(metric = 'manhattan',\n",
    "                         n_neighbors = 7,\n",
    "                         weights= 'distance')\n",
    "\n",
    "knn_best.fit(Xs_train, y_train)"
   ]
  },
  {
   "cell_type": "code",
   "execution_count": 350,
   "id": "awful-stability",
   "metadata": {
    "ExecuteTime": {
     "end_time": "2021-02-19T01:35:35.821045Z",
     "start_time": "2021-02-19T01:35:35.790780Z"
    }
   },
   "outputs": [
    {
     "name": "stdout",
     "output_type": "stream",
     "text": [
      "Score on training set: 1.0\n",
      "Score on testing set: 0.6422219995285317\n"
     ]
    }
   ],
   "source": [
    "knn_pred = knn_best.predict(Xs_test) \n",
    "print(f'Score on training set: {knn_best.score(Xs_train, y_train)}')\n",
    "print(f'Score on testing set: {knn_best.score(Xs_test, y_test)}')"
   ]
  },
  {
   "cell_type": "markdown",
   "id": "virtual-junior",
   "metadata": {},
   "source": [
    "We did run a gridsearch, but it seemed to optimize the results on train decreasing heavily the performance on test data."
   ]
  },
  {
   "cell_type": "markdown",
   "id": "superior-eleven",
   "metadata": {},
   "source": [
    "## Results\n",
    "\n",
    "Below we collect all results for the models ran in this notebook."
   ]
  },
  {
   "cell_type": "code",
   "execution_count": 358,
   "id": "excellent-fraction",
   "metadata": {
    "ExecuteTime": {
     "end_time": "2021-02-19T01:42:43.912976Z",
     "start_time": "2021-02-19T01:42:43.822693Z"
    },
    "scrolled": false
   },
   "outputs": [
    {
     "name": "stdout",
     "output_type": "stream",
     "text": [
      "COVID-19 Cases Prisoners\n",
      " \n",
      "Lasso\n",
      "Score on training set:0.761\n",
      "Score on test set:0.698\n",
      " \n",
      "Ridge\n",
      "Score on training set: 0.635\n",
      "Score on testing set: 0.751\n",
      " \n",
      "Random Forest\n",
      "Score on training set: 0.718\n",
      "Score on testing set: 0.759\n",
      " \n",
      "Bagged Decision Tree\n",
      "Score on training set: 0.821\n",
      "Score on testing set: 0.68\n",
      " \n",
      "K Neighbors Regressor - Gridsearch\n",
      "Score on training set: 1.0\n",
      "Score on testing set: 0.642\n",
      " \n",
      "K Neighbors Regressor - Out of the box\n",
      "Score on training set: 0.559\n",
      "Score on testing set: 0.517\n"
     ]
    }
   ],
   "source": [
    "\n",
    "print(f'COVID-19 Cases Prisoners')\n",
    "print(f' ')\n",
    "print(f'Lasso')\n",
    "print(f'Train R2:{round(lasso_cv.score(Xs_train, y_train), 3)}'),\n",
    "print(f'Score on test set:{round(lasso_cv.score(Xs_test, y_test), 3)}')\n",
    "print(f' ')\n",
    "print(f'Ridge')\n",
    "print(f'Train R2: {round(ridge_model.score(Xs_train, y_train), 3)}')\n",
    "print(f'Score on testing set: {round(ridge_model.score(Xs_test, y_test), 3)}')\n",
    "print(f' ')\n",
    "print(f'Random Forest')\n",
    "print(f'Train R2: {round(rf_best.score(Xs_train, y_train), 3)}')\n",
    "print(f'Score on testing set: {round(rf_best.score(Xs_test, y_test), 3)}')\n",
    "print(f' ')\n",
    "print(f'Bagged Decision Tree')\n",
    "print(f'Score on training set: {round(bg_best.score(Xs_train, y_train), 3)}')\n",
    "print(f'Score on testing set: {round(bg_best.score(Xs_test, y_test), 3)}')\n",
    "print(f' ')\n",
    "print(f'K Neighbors Regressor - Gridsearch')\n",
    "print(f'Score on training set: {round(knn_best.score(Xs_train, y_train), 3)}')\n",
    "print(f'Score on testing set: {round(knn_best.score(Xs_test, y_test), 3)}')\n",
    "print(f' ')\n",
    "print(f'K Neighbors Regressor - Out of the box')\n",
    "print(f'Score on training set: {round(knn.score(Xs_train, y_train), 3)}')\n",
    "print(f'Score on testing set: {round(knn.score(Xs_test, y_test), 3)}')"
   ]
  },
  {
   "cell_type": "markdown",
   "id": "developing-input",
   "metadata": {},
   "source": [
    "Random Forest appears as the model capable of achieving the best results while also minimizing variance."
   ]
  }
 ],
 "metadata": {
  "kernelspec": {
   "display_name": "Python 3",
   "language": "python",
   "name": "python3"
  },
  "language_info": {
   "codemirror_mode": {
    "name": "ipython",
    "version": 3
   },
   "file_extension": ".py",
   "mimetype": "text/x-python",
   "name": "python",
   "nbconvert_exporter": "python",
   "pygments_lexer": "ipython3",
   "version": "3.8.5"
  },
  "toc": {
   "base_numbering": 1,
   "nav_menu": {},
   "number_sections": true,
   "sideBar": true,
   "skip_h1_title": true,
   "title_cell": "Table of Contents",
   "title_sidebar": "Contents",
   "toc_cell": true,
   "toc_position": {
    "height": "calc(100% - 180px)",
    "left": "10px",
    "top": "150px",
    "width": "192px"
   },
   "toc_section_display": true,
   "toc_window_display": true
  }
 },
 "nbformat": 4,
 "nbformat_minor": 5
}
